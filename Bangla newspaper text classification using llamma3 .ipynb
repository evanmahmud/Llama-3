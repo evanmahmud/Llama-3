{
 "cells": [
  {
   "cell_type": "code",
   "execution_count": 1,
   "id": "0870aea1",
   "metadata": {
    "_cell_guid": "b1076dfc-b9ad-4769-8c92-a6c4dae69d19",
    "_uuid": "8f2839f25d086af736a60e9eeb907d3b93b6e0e5",
    "execution": {
     "iopub.execute_input": "2024-10-01T20:21:28.587356Z",
     "iopub.status.busy": "2024-10-01T20:21:28.586939Z",
     "iopub.status.idle": "2024-10-01T20:21:29.428931Z",
     "shell.execute_reply": "2024-10-01T20:21:29.427991Z"
    },
    "papermill": {
     "duration": 0.861699,
     "end_time": "2024-10-01T20:21:29.431184",
     "exception": false,
     "start_time": "2024-10-01T20:21:28.569485",
     "status": "completed"
    },
    "tags": []
   },
   "outputs": [
    {
     "name": "stdout",
     "output_type": "stream",
     "text": [
      "/kaggle/input/llama-3.1/transformers/8b-instruct/2/model.safetensors.index.json\n",
      "/kaggle/input/llama-3.1/transformers/8b-instruct/2/model-00003-of-00004.safetensors\n",
      "/kaggle/input/llama-3.1/transformers/8b-instruct/2/config.json\n",
      "/kaggle/input/llama-3.1/transformers/8b-instruct/2/LICENSE\n",
      "/kaggle/input/llama-3.1/transformers/8b-instruct/2/model-00001-of-00004.safetensors\n",
      "/kaggle/input/llama-3.1/transformers/8b-instruct/2/README.md\n",
      "/kaggle/input/llama-3.1/transformers/8b-instruct/2/USE_POLICY.md\n",
      "/kaggle/input/llama-3.1/transformers/8b-instruct/2/tokenizer.json\n",
      "/kaggle/input/llama-3.1/transformers/8b-instruct/2/tokenizer_config.json\n",
      "/kaggle/input/llama-3.1/transformers/8b-instruct/2/model-00004-of-00004.safetensors\n",
      "/kaggle/input/llama-3.1/transformers/8b-instruct/2/special_tokens_map.json\n",
      "/kaggle/input/llama-3.1/transformers/8b-instruct/2/.gitattributes\n",
      "/kaggle/input/llama-3.1/transformers/8b-instruct/2/model-00002-of-00004.safetensors\n",
      "/kaggle/input/llama-3.1/transformers/8b-instruct/2/generation_config.json\n",
      "/kaggle/input/llama-3.1/transformers/8b-instruct/2/original/consolidated.00.pth\n",
      "/kaggle/input/llama-3.1/transformers/8b-instruct/2/original/params.json\n",
      "/kaggle/input/llama-3.1/transformers/8b-instruct/2/original/tokenizer.model\n",
      "/kaggle/input/llama-3.1/transformers/8b-instruct/1/model.safetensors.index.json\n",
      "/kaggle/input/llama-3.1/transformers/8b-instruct/1/model-00003-of-00004.safetensors\n",
      "/kaggle/input/llama-3.1/transformers/8b-instruct/1/config.json\n",
      "/kaggle/input/llama-3.1/transformers/8b-instruct/1/model-00001-of-00004.safetensors\n",
      "/kaggle/input/llama-3.1/transformers/8b-instruct/1/README.md\n",
      "/kaggle/input/llama-3.1/transformers/8b-instruct/1/USE_POLICY.md\n",
      "/kaggle/input/llama-3.1/transformers/8b-instruct/1/tokenizer.json\n",
      "/kaggle/input/llama-3.1/transformers/8b-instruct/1/tokenizer_config.json\n",
      "/kaggle/input/llama-3.1/transformers/8b-instruct/1/model-00004-of-00004.safetensors\n",
      "/kaggle/input/llama-3.1/transformers/8b-instruct/1/special_tokens_map.json\n",
      "/kaggle/input/llama-3.1/transformers/8b-instruct/1/model-00002-of-00004.safetensors\n",
      "/kaggle/input/llama-3.1/transformers/8b-instruct/1/generation_config.json\n",
      "/kaggle/input/bangla-newspaper-dataset/data_v2/data_v2.json\n",
      "/kaggle/input/bangla-newspaper-dataset/data/data.json\n",
      "/kaggle/input/llamma3/__results__.html\n",
      "/kaggle/input/llamma3/__notebook__.ipynb\n",
      "/kaggle/input/llamma3/__output__.json\n",
      "/kaggle/input/llamma3/custom.css\n",
      "/kaggle/input/llamma3/wandb/run-20240922_121518-2gh1i6cp/run-2gh1i6cp.wandb\n",
      "/kaggle/input/llamma3/wandb/run-20240922_121518-2gh1i6cp/logs/debug.log\n",
      "/kaggle/input/llamma3/wandb/run-20240922_121518-2gh1i6cp/logs/debug-internal.log\n",
      "/kaggle/input/llamma3/wandb/run-20240922_121518-2gh1i6cp/files/wandb-summary.json\n",
      "/kaggle/input/llamma3/wandb/run-20240922_121518-2gh1i6cp/files/conda-environment.yaml\n",
      "/kaggle/input/llamma3/wandb/run-20240922_121518-2gh1i6cp/files/config.yaml\n",
      "/kaggle/input/llamma3/wandb/run-20240922_121518-2gh1i6cp/files/output.log\n",
      "/kaggle/input/llamma3/wandb/run-20240922_121518-2gh1i6cp/files/requirements.txt\n",
      "/kaggle/input/llamma3/wandb/run-20240922_121518-2gh1i6cp/files/wandb-metadata.json\n",
      "/kaggle/input/llamma3/__results___files/__results___14_0.png\n",
      "/kaggle/input/llamma3/llama-3.1 8b model/adapter_model.safetensors\n",
      "/kaggle/input/llamma3/llama-3.1 8b model/training_args.bin\n",
      "/kaggle/input/llamma3/llama-3.1 8b model/adapter_config.json\n",
      "/kaggle/input/llamma3/llama-3.1 8b model/README.md\n",
      "/kaggle/input/llamma3/llama-3.1 8b model/tokenizer.json\n",
      "/kaggle/input/llamma3/llama-3.1 8b model/tokenizer_config.json\n",
      "/kaggle/input/llamma3/llama-3.1 8b model/special_tokens_map.json\n",
      "/kaggle/input/llamma3/llama-3.1 8b model/checkpoint-100/adapter_model.safetensors\n",
      "/kaggle/input/llamma3/llama-3.1 8b model/checkpoint-100/trainer_state.json\n",
      "/kaggle/input/llamma3/llama-3.1 8b model/checkpoint-100/training_args.bin\n",
      "/kaggle/input/llamma3/llama-3.1 8b model/checkpoint-100/adapter_config.json\n",
      "/kaggle/input/llamma3/llama-3.1 8b model/checkpoint-100/README.md\n",
      "/kaggle/input/llamma3/llama-3.1 8b model/checkpoint-100/tokenizer.json\n",
      "/kaggle/input/llamma3/llama-3.1 8b model/checkpoint-100/tokenizer_config.json\n",
      "/kaggle/input/llamma3/llama-3.1 8b model/checkpoint-100/scheduler.pt\n",
      "/kaggle/input/llamma3/llama-3.1 8b model/checkpoint-100/special_tokens_map.json\n",
      "/kaggle/input/llamma3/llama-3.1 8b model/checkpoint-100/optimizer.pt\n",
      "/kaggle/input/llamma3/llama-3.1 8b model/checkpoint-100/rng_state.pth\n"
     ]
    }
   ],
   "source": [
    "# This Python 3 environment comes with many helpful analytics libraries installed\n",
    "# It is defined by the kaggle/python Docker image: https://github.com/kaggle/docker-python\n",
    "# For example, here's several helpful packages to load\n",
    "\n",
    "import numpy as np # linear algebra\n",
    "import pandas as pd # data processing, CSV file I/O (e.g. pd.read_csv)\n",
    "\n",
    "# Input data files are available in the read-only \"../input/\" directory\n",
    "# For example, running this (by clicking run or pressing Shift+Enter) will list all files under the input directory\n",
    "\n",
    "import os\n",
    "for dirname, _, filenames in os.walk('/kaggle/input'):\n",
    "    for filename in filenames:\n",
    "        print(os.path.join(dirname, filename))\n",
    "\n",
    "# You can write up to 20GB to the current directory (/kaggle/working/) that gets preserved as output when you create a version using \"Save & Run All\" \n",
    "# You can also write temporary files to /kaggle/temp/, but they won't be saved outside of the current session"
   ]
  },
  {
   "cell_type": "code",
   "execution_count": 2,
   "id": "9ceff59f",
   "metadata": {
    "execution": {
     "iopub.execute_input": "2024-10-01T20:21:29.465552Z",
     "iopub.status.busy": "2024-10-01T20:21:29.464790Z",
     "iopub.status.idle": "2024-10-01T20:22:47.841452Z",
     "shell.execute_reply": "2024-10-01T20:22:47.840304Z"
    },
    "papermill": {
     "duration": 78.395546,
     "end_time": "2024-10-01T20:22:47.844016",
     "exception": false,
     "start_time": "2024-10-01T20:21:29.448470",
     "status": "completed"
    },
    "tags": []
   },
   "outputs": [],
   "source": [
    "%%capture\n",
    "%pip install -U bitsandbytes\n",
    "%pip install -U transformers\n",
    "%pip install -U accelerate\n",
    "%pip install -U peft\n",
    "%pip install -U trl"
   ]
  },
  {
   "cell_type": "code",
   "execution_count": 3,
   "id": "971215b6",
   "metadata": {
    "execution": {
     "iopub.execute_input": "2024-10-01T20:22:47.876134Z",
     "iopub.status.busy": "2024-10-01T20:22:47.875777Z",
     "iopub.status.idle": "2024-10-01T20:22:59.483158Z",
     "shell.execute_reply": "2024-10-01T20:22:59.482041Z"
    },
    "papermill": {
     "duration": 11.625862,
     "end_time": "2024-10-01T20:22:59.485420",
     "exception": false,
     "start_time": "2024-10-01T20:22:47.859558",
     "status": "completed"
    },
    "tags": []
   },
   "outputs": [
    {
     "name": "stdout",
     "output_type": "stream",
     "text": [
      "Requirement already satisfied: wandb in /opt/conda/lib/python3.10/site-packages (0.18.1)\r\n",
      "Requirement already satisfied: click!=8.0.0,>=7.1 in /opt/conda/lib/python3.10/site-packages (from wandb) (8.1.7)\r\n",
      "Requirement already satisfied: docker-pycreds>=0.4.0 in /opt/conda/lib/python3.10/site-packages (from wandb) (0.4.0)\r\n",
      "Requirement already satisfied: gitpython!=3.1.29,>=1.0.0 in /opt/conda/lib/python3.10/site-packages (from wandb) (3.1.43)\r\n",
      "Requirement already satisfied: platformdirs in /opt/conda/lib/python3.10/site-packages (from wandb) (3.11.0)\r\n",
      "Requirement already satisfied: protobuf!=4.21.0,!=5.28.0,<6,>=3.19.0 in /opt/conda/lib/python3.10/site-packages (from wandb) (3.20.3)\r\n",
      "Requirement already satisfied: psutil>=5.0.0 in /opt/conda/lib/python3.10/site-packages (from wandb) (5.9.3)\r\n",
      "Requirement already satisfied: pyyaml in /opt/conda/lib/python3.10/site-packages (from wandb) (6.0.2)\r\n",
      "Requirement already satisfied: requests<3,>=2.0.0 in /opt/conda/lib/python3.10/site-packages (from wandb) (2.32.3)\r\n",
      "Requirement already satisfied: sentry-sdk>=1.0.0 in /opt/conda/lib/python3.10/site-packages (from wandb) (2.14.0)\r\n",
      "Requirement already satisfied: setproctitle in /opt/conda/lib/python3.10/site-packages (from wandb) (1.3.3)\r\n",
      "Requirement already satisfied: setuptools in /opt/conda/lib/python3.10/site-packages (from wandb) (70.0.0)\r\n",
      "Requirement already satisfied: six>=1.4.0 in /opt/conda/lib/python3.10/site-packages (from docker-pycreds>=0.4.0->wandb) (1.16.0)\r\n",
      "Requirement already satisfied: gitdb<5,>=4.0.1 in /opt/conda/lib/python3.10/site-packages (from gitpython!=3.1.29,>=1.0.0->wandb) (4.0.11)\r\n",
      "Requirement already satisfied: charset-normalizer<4,>=2 in /opt/conda/lib/python3.10/site-packages (from requests<3,>=2.0.0->wandb) (3.3.2)\r\n",
      "Requirement already satisfied: idna<4,>=2.5 in /opt/conda/lib/python3.10/site-packages (from requests<3,>=2.0.0->wandb) (3.7)\r\n",
      "Requirement already satisfied: urllib3<3,>=1.21.1 in /opt/conda/lib/python3.10/site-packages (from requests<3,>=2.0.0->wandb) (1.26.18)\r\n",
      "Requirement already satisfied: certifi>=2017.4.17 in /opt/conda/lib/python3.10/site-packages (from requests<3,>=2.0.0->wandb) (2024.8.30)\r\n",
      "Requirement already satisfied: smmap<6,>=3.0.1 in /opt/conda/lib/python3.10/site-packages (from gitdb<5,>=4.0.1->gitpython!=3.1.29,>=1.0.0->wandb) (5.0.1)\r\n"
     ]
    }
   ],
   "source": [
    "!pip install wandb\n",
    "#!wandb login"
   ]
  },
  {
   "cell_type": "code",
   "execution_count": 4,
   "id": "69dadc50",
   "metadata": {
    "execution": {
     "iopub.execute_input": "2024-10-01T20:22:59.518483Z",
     "iopub.status.busy": "2024-10-01T20:22:59.518112Z",
     "iopub.status.idle": "2024-10-01T20:23:03.218921Z",
     "shell.execute_reply": "2024-10-01T20:23:03.218154Z"
    },
    "papermill": {
     "duration": 3.719726,
     "end_time": "2024-10-01T20:23:03.221167",
     "exception": false,
     "start_time": "2024-10-01T20:22:59.501441",
     "status": "completed"
    },
    "tags": []
   },
   "outputs": [
    {
     "name": "stderr",
     "output_type": "stream",
     "text": [
      "\u001b[34m\u001b[1mwandb\u001b[0m: Using wandb-core as the SDK backend. Please refer to https://wandb.me/wandb-core for more information.\n",
      "\u001b[34m\u001b[1mwandb\u001b[0m: W&B API key is configured. Use \u001b[1m`wandb login --relogin`\u001b[0m to force relogin\n",
      "\u001b[34m\u001b[1mwandb\u001b[0m: \u001b[33mWARNING\u001b[0m If you're specifying your api key in code, ensure this code is not shared publicly.\n",
      "\u001b[34m\u001b[1mwandb\u001b[0m: \u001b[33mWARNING\u001b[0m Consider setting the WANDB_API_KEY environment variable, or running `wandb login` from the command line.\n",
      "\u001b[34m\u001b[1mwandb\u001b[0m: Appending key for api.wandb.ai to your netrc file: /root/.netrc\n",
      "\u001b[34m\u001b[1mwandb\u001b[0m: Currently logged in as: \u001b[33mcse-mahmud-evan\u001b[0m (\u001b[33mcse-mahmud-evan-ccn-university-of-science-and-technology\u001b[0m). Use \u001b[1m`wandb login --relogin`\u001b[0m to force relogin\n",
      "\u001b[34m\u001b[1mwandb\u001b[0m: Tracking run with wandb version 0.18.1\n",
      "\u001b[34m\u001b[1mwandb\u001b[0m: Run data is saved locally in \u001b[35m\u001b[1m/kaggle/working/wandb/run-20241001_202301-p67ynr8x\u001b[0m\n",
      "\u001b[34m\u001b[1mwandb\u001b[0m: Run \u001b[1m`wandb offline`\u001b[0m to turn off syncing.\n",
      "\u001b[34m\u001b[1mwandb\u001b[0m: Syncing run \u001b[33mdashing-deluge-3\u001b[0m\n",
      "\u001b[34m\u001b[1mwandb\u001b[0m: ⭐️ View project at \u001b[34m\u001b[4mhttps://wandb.ai/cse-mahmud-evan-ccn-university-of-science-and-technology/Fine-tune%20llama-3.1-8b-it%20on%20Newspaper%20Dataset\u001b[0m\n",
      "\u001b[34m\u001b[1mwandb\u001b[0m: 🚀 View run at \u001b[34m\u001b[4mhttps://wandb.ai/cse-mahmud-evan-ccn-university-of-science-and-technology/Fine-tune%20llama-3.1-8b-it%20on%20Newspaper%20Dataset/runs/p67ynr8x\u001b[0m\n"
     ]
    }
   ],
   "source": [
    "import wandb\n",
    "\n",
    "from kaggle_secrets import UserSecretsClient\n",
    "user_secrets = UserSecretsClient()\n",
    "wb_token = user_secrets.get_secret(\"wandb\")\n",
    "\n",
    "wandb.login(key=wb_token)\n",
    "run = wandb.init(\n",
    "    project='Fine-tune llama-3.1-8b-it on Newspaper Dataset', \n",
    "    job_type=\"training\", \n",
    "    anonymous=\"allow\"\n",
    ")"
   ]
  },
  {
   "cell_type": "code",
   "execution_count": 5,
   "id": "f71deaec",
   "metadata": {
    "execution": {
     "iopub.execute_input": "2024-10-01T20:23:03.255708Z",
     "iopub.status.busy": "2024-10-01T20:23:03.255385Z",
     "iopub.status.idle": "2024-10-01T20:23:24.012570Z",
     "shell.execute_reply": "2024-10-01T20:23:24.011518Z"
    },
    "papermill": {
     "duration": 20.776937,
     "end_time": "2024-10-01T20:23:24.014830",
     "exception": false,
     "start_time": "2024-10-01T20:23:03.237893",
     "status": "completed"
    },
    "tags": []
   },
   "outputs": [],
   "source": [
    "import numpy as np\n",
    "import pandas as pd\n",
    "import os\n",
    "from tqdm import tqdm\n",
    "import bitsandbytes as bnb\n",
    "import torch\n",
    "import torch.nn as nn\n",
    "import transformers\n",
    "from peft import LoraConfig, PeftConfig\n",
    "from trl import SFTTrainer\n",
    "from trl import setup_chat_format\n",
    "from transformers import (\n",
    "    AutoModelForCausalLM,\n",
    "    AutoTokenizer,\n",
    "    BitsAndBytesConfig,\n",
    "    TrainingArguments,\n",
    "    pipeline,\n",
    "    logging\n",
    ")\n",
    "from sklearn.metrics import (\n",
    "\n",
    "    accuracy_score,\n",
    "    classification_report,\n",
    "    confusion_matrix   \n",
    ")\n",
    "from sklearn.model_selection import train_test_split"
   ]
  },
  {
   "cell_type": "code",
   "execution_count": 6,
   "id": "0694e8ab",
   "metadata": {
    "execution": {
     "iopub.execute_input": "2024-10-01T20:23:24.050001Z",
     "iopub.status.busy": "2024-10-01T20:23:24.049349Z",
     "iopub.status.idle": "2024-10-01T20:24:15.895855Z",
     "shell.execute_reply": "2024-10-01T20:24:15.894807Z"
    },
    "papermill": {
     "duration": 51.882588,
     "end_time": "2024-10-01T20:24:15.914379",
     "exception": false,
     "start_time": "2024-10-01T20:23:24.031791",
     "status": "completed"
    },
    "tags": []
   },
   "outputs": [
    {
     "data": {
      "text/html": [
       "<div>\n",
       "<style scoped>\n",
       "    .dataframe tbody tr th:only-of-type {\n",
       "        vertical-align: middle;\n",
       "    }\n",
       "\n",
       "    .dataframe tbody tr th {\n",
       "        vertical-align: top;\n",
       "    }\n",
       "\n",
       "    .dataframe thead th {\n",
       "        text-align: right;\n",
       "    }\n",
       "</style>\n",
       "<table border=\"1\" class=\"dataframe\">\n",
       "  <thead>\n",
       "    <tr style=\"text-align: right;\">\n",
       "      <th></th>\n",
       "      <th>author</th>\n",
       "      <th>category</th>\n",
       "      <th>category_bn</th>\n",
       "      <th>published_date</th>\n",
       "      <th>modification_date</th>\n",
       "      <th>tag</th>\n",
       "      <th>comment_count</th>\n",
       "      <th>title</th>\n",
       "      <th>url</th>\n",
       "      <th>content</th>\n",
       "    </tr>\n",
       "  </thead>\n",
       "  <tbody>\n",
       "    <tr>\n",
       "      <th>0</th>\n",
       "      <td>গাজীপুর প্রতিনিধি</td>\n",
       "      <td>bangladesh</td>\n",
       "      <td>বাংলাদেশ</td>\n",
       "      <td>০৪ জুলাই ২০১৩, ২৩:২৬</td>\n",
       "      <td>০৪ জুলাই ২০১৩, ২৩:২৭</td>\n",
       "      <td>[গাজীপুর]</td>\n",
       "      <td>0</td>\n",
       "      <td>কালিয়াকৈরে টিফিন খেয়ে ৫০০ শ্রমিক অসুস্থ, বিক...</td>\n",
       "      <td>http://www.prothom-alo.com/bangladesh/article/...</td>\n",
       "      <td>গাজীপুরের কালিয়াকৈর উপজেলার তেলিরচালা এলাকায়...</td>\n",
       "    </tr>\n",
       "    <tr>\n",
       "      <th>1</th>\n",
       "      <td>অনলাইন ডেস্ক</td>\n",
       "      <td>sports</td>\n",
       "      <td>খেলা</td>\n",
       "      <td>০৪ জুলাই ২০১৩, ২৩:০৯</td>\n",
       "      <td>০৪ জুলাই ২০১৩, ২৩:১১</td>\n",
       "      <td>[টেনিস]</td>\n",
       "      <td>0</td>\n",
       "      <td>সেমিফাইনাল বাধাও পেরিয়ে গেলেন লিসিকি</td>\n",
       "      <td>http://www.prothom-alo.com/sports/article/19028</td>\n",
       "      <td>এবারের উইম্বলডনটা স্মরণীয় করে রাখার মিশনেই যে...</td>\n",
       "    </tr>\n",
       "    <tr>\n",
       "      <th>2</th>\n",
       "      <td>নিজস্ব প্রতিবেদক</td>\n",
       "      <td>bangladesh</td>\n",
       "      <td>বাংলাদেশ</td>\n",
       "      <td>০৪ জুলাই ২০১৩, ২২:২৫</td>\n",
       "      <td>০৪ জুলাই ২০১৩, ২৩:১২</td>\n",
       "      <td>[রাজনীতি]</td>\n",
       "      <td>0</td>\n",
       "      <td>সংসদে খালেদার অভিযোগের জবাব দিয়েছে ভারত</td>\n",
       "      <td>http://www.prothom-alo.com/bangladesh/article/...</td>\n",
       "      <td>জাতীয় সংসদে বিএনপি চেয়ারপারসন ও বিরোধীদলীয় ...</td>\n",
       "    </tr>\n",
       "    <tr>\n",
       "      <th>3</th>\n",
       "      <td>অনলাইন ডেস্ক</td>\n",
       "      <td>technology</td>\n",
       "      <td>বিজ্ঞান ও প্রযুক্তি</td>\n",
       "      <td>০৪ জুলাই ২০১৩, ২১:৩৭</td>\n",
       "      <td>০৪ জুলাই ২০১৩, ২১:৪৫</td>\n",
       "      <td>[গবেষণা]</td>\n",
       "      <td>0</td>\n",
       "      <td>পাসওয়ার্ড ভুলে যান!</td>\n",
       "      <td>http://www.prothom-alo.com/technology/article/...</td>\n",
       "      <td>সহজ পাসওয়ার্ডের কারণে অনলাইন অ্যাকাউন্ট সহজেই...</td>\n",
       "    </tr>\n",
       "    <tr>\n",
       "      <th>4</th>\n",
       "      <td>অনলাইন ডেস্ক</td>\n",
       "      <td>technology</td>\n",
       "      <td>বিজ্ঞান ও প্রযুক্তি</td>\n",
       "      <td>০৪ জুলাই ২০১৩, ২১:৩৫</td>\n",
       "      <td>০৪ জুলাই ২০১৩, ২১:৩৭</td>\n",
       "      <td>[কম্পিউটার]</td>\n",
       "      <td>0</td>\n",
       "      <td>চলে গেলেন মাউস উদ্ভাবক</td>\n",
       "      <td>http://www.prothom-alo.com/technology/article/...</td>\n",
       "      <td>কম্পিউটার মাউসের উদ্ভাবক ডগলাস অ্যাঙ্গেলবার্ট ...</td>\n",
       "    </tr>\n",
       "  </tbody>\n",
       "</table>\n",
       "</div>"
      ],
      "text/plain": [
       "              author    category          category_bn        published_date  \\\n",
       "0  গাজীপুর প্রতিনিধি  bangladesh             বাংলাদেশ  ০৪ জুলাই ২০১৩, ২৩:২৬   \n",
       "1       অনলাইন ডেস্ক      sports                 খেলা  ০৪ জুলাই ২০১৩, ২৩:০৯   \n",
       "2   নিজস্ব প্রতিবেদক  bangladesh             বাংলাদেশ  ০৪ জুলাই ২০১৩, ২২:২৫   \n",
       "3       অনলাইন ডেস্ক  technology  বিজ্ঞান ও প্রযুক্তি  ০৪ জুলাই ২০১৩, ২১:৩৭   \n",
       "4       অনলাইন ডেস্ক  technology  বিজ্ঞান ও প্রযুক্তি  ০৪ জুলাই ২০১৩, ২১:৩৫   \n",
       "\n",
       "      modification_date          tag comment_count  \\\n",
       "0  ০৪ জুলাই ২০১৩, ২৩:২৭    [গাজীপুর]             0   \n",
       "1  ০৪ জুলাই ২০১৩, ২৩:১১      [টেনিস]             0   \n",
       "2  ০৪ জুলাই ২০১৩, ২৩:১২    [রাজনীতি]             0   \n",
       "3  ০৪ জুলাই ২০১৩, ২১:৪৫     [গবেষণা]             0   \n",
       "4  ০৪ জুলাই ২০১৩, ২১:৩৭  [কম্পিউটার]             0   \n",
       "\n",
       "                                               title  \\\n",
       "0  কালিয়াকৈরে টিফিন খেয়ে ৫০০ শ্রমিক অসুস্থ, বিক...   \n",
       "1              সেমিফাইনাল বাধাও পেরিয়ে গেলেন লিসিকি   \n",
       "2           সংসদে খালেদার অভিযোগের জবাব দিয়েছে ভারত   \n",
       "3                               পাসওয়ার্ড ভুলে যান!   \n",
       "4                             চলে গেলেন মাউস উদ্ভাবক   \n",
       "\n",
       "                                                 url  \\\n",
       "0  http://www.prothom-alo.com/bangladesh/article/...   \n",
       "1    http://www.prothom-alo.com/sports/article/19028   \n",
       "2  http://www.prothom-alo.com/bangladesh/article/...   \n",
       "3  http://www.prothom-alo.com/technology/article/...   \n",
       "4  http://www.prothom-alo.com/technology/article/...   \n",
       "\n",
       "                                             content  \n",
       "0  গাজীপুরের কালিয়াকৈর উপজেলার তেলিরচালা এলাকায়...  \n",
       "1  এবারের উইম্বলডনটা স্মরণীয় করে রাখার মিশনেই যে...  \n",
       "2  জাতীয় সংসদে বিএনপি চেয়ারপারসন ও বিরোধীদলীয় ...  \n",
       "3  সহজ পাসওয়ার্ডের কারণে অনলাইন অ্যাকাউন্ট সহজেই...  \n",
       "4  কম্পিউটার মাউসের উদ্ভাবক ডগলাস অ্যাঙ্গেলবার্ট ...  "
      ]
     },
     "execution_count": 6,
     "metadata": {},
     "output_type": "execute_result"
    }
   ],
   "source": [
    "import numpy as np\n",
    "import pandas as pd\n",
    "\n",
    "data = pd.read_json('/kaggle/input/bangla-newspaper-dataset/data_v2/data_v2.json')\n",
    "data.head()"
   ]
  },
  {
   "cell_type": "code",
   "execution_count": 7,
   "id": "8055cd4e",
   "metadata": {
    "execution": {
     "iopub.execute_input": "2024-10-01T20:24:15.948701Z",
     "iopub.status.busy": "2024-10-01T20:24:15.948373Z",
     "iopub.status.idle": "2024-10-01T20:24:15.953918Z",
     "shell.execute_reply": "2024-10-01T20:24:15.953059Z"
    },
    "papermill": {
     "duration": 0.024862,
     "end_time": "2024-10-01T20:24:15.955839",
     "exception": false,
     "start_time": "2024-10-01T20:24:15.930977",
     "status": "completed"
    },
    "tags": []
   },
   "outputs": [
    {
     "data": {
      "text/plain": [
       "10"
      ]
     },
     "execution_count": 7,
     "metadata": {},
     "output_type": "execute_result"
    }
   ],
   "source": [
    "len(data.columns)"
   ]
  },
  {
   "cell_type": "code",
   "execution_count": 8,
   "id": "b3cfb8a9",
   "metadata": {
    "execution": {
     "iopub.execute_input": "2024-10-01T20:24:15.990738Z",
     "iopub.status.busy": "2024-10-01T20:24:15.990442Z",
     "iopub.status.idle": "2024-10-01T20:24:16.020270Z",
     "shell.execute_reply": "2024-10-01T20:24:16.019543Z"
    },
    "papermill": {
     "duration": 0.049811,
     "end_time": "2024-10-01T20:24:16.022357",
     "exception": false,
     "start_time": "2024-10-01T20:24:15.972546",
     "status": "completed"
    },
    "tags": []
   },
   "outputs": [],
   "source": [
    "ndf = data[['content','category']]"
   ]
  },
  {
   "cell_type": "code",
   "execution_count": 9,
   "id": "90a65fbc",
   "metadata": {
    "execution": {
     "iopub.execute_input": "2024-10-01T20:24:16.057379Z",
     "iopub.status.busy": "2024-10-01T20:24:16.057009Z",
     "iopub.status.idle": "2024-10-01T20:24:16.062723Z",
     "shell.execute_reply": "2024-10-01T20:24:16.061861Z"
    },
    "papermill": {
     "duration": 0.025166,
     "end_time": "2024-10-01T20:24:16.064614",
     "exception": false,
     "start_time": "2024-10-01T20:24:16.039448",
     "status": "completed"
    },
    "tags": []
   },
   "outputs": [
    {
     "data": {
      "text/plain": [
       "(408471, 2)"
      ]
     },
     "execution_count": 9,
     "metadata": {},
     "output_type": "execute_result"
    }
   ],
   "source": [
    "ndf.shape"
   ]
  },
  {
   "cell_type": "code",
   "execution_count": 10,
   "id": "2ad2024e",
   "metadata": {
    "execution": {
     "iopub.execute_input": "2024-10-01T20:24:16.099476Z",
     "iopub.status.busy": "2024-10-01T20:24:16.098877Z",
     "iopub.status.idle": "2024-10-01T20:24:24.313927Z",
     "shell.execute_reply": "2024-10-01T20:24:24.312834Z"
    },
    "papermill": {
     "duration": 8.234748,
     "end_time": "2024-10-01T20:24:24.316082",
     "exception": false,
     "start_time": "2024-10-01T20:24:16.081334",
     "status": "completed"
    },
    "tags": []
   },
   "outputs": [
    {
     "data": {
      "text/plain": [
       "1567"
      ]
     },
     "execution_count": 10,
     "metadata": {},
     "output_type": "execute_result"
    }
   ],
   "source": [
    "ndf.duplicated().sum()"
   ]
  },
  {
   "cell_type": "code",
   "execution_count": 11,
   "id": "57b9a1f9",
   "metadata": {
    "execution": {
     "iopub.execute_input": "2024-10-01T20:24:24.357107Z",
     "iopub.status.busy": "2024-10-01T20:24:24.356199Z",
     "iopub.status.idle": "2024-10-01T20:24:28.439194Z",
     "shell.execute_reply": "2024-10-01T20:24:28.438228Z"
    },
    "papermill": {
     "duration": 4.105404,
     "end_time": "2024-10-01T20:24:28.441459",
     "exception": false,
     "start_time": "2024-10-01T20:24:24.336055",
     "status": "completed"
    },
    "tags": []
   },
   "outputs": [
    {
     "name": "stderr",
     "output_type": "stream",
     "text": [
      "/tmp/ipykernel_24/3272145479.py:1: SettingWithCopyWarning: \n",
      "A value is trying to be set on a copy of a slice from a DataFrame\n",
      "\n",
      "See the caveats in the documentation: https://pandas.pydata.org/pandas-docs/stable/user_guide/indexing.html#returning-a-view-versus-a-copy\n",
      "  ndf.drop_duplicates(inplace= True)\n"
     ]
    }
   ],
   "source": [
    "ndf.drop_duplicates(inplace= True)"
   ]
  },
  {
   "cell_type": "code",
   "execution_count": 12,
   "id": "bed01922",
   "metadata": {
    "execution": {
     "iopub.execute_input": "2024-10-01T20:24:28.478055Z",
     "iopub.status.busy": "2024-10-01T20:24:28.477693Z",
     "iopub.status.idle": "2024-10-01T20:24:28.483701Z",
     "shell.execute_reply": "2024-10-01T20:24:28.482804Z"
    },
    "papermill": {
     "duration": 0.026374,
     "end_time": "2024-10-01T20:24:28.485611",
     "exception": false,
     "start_time": "2024-10-01T20:24:28.459237",
     "status": "completed"
    },
    "tags": []
   },
   "outputs": [
    {
     "data": {
      "text/plain": [
       "(406904, 2)"
      ]
     },
     "execution_count": 12,
     "metadata": {},
     "output_type": "execute_result"
    }
   ],
   "source": [
    "ndf.shape"
   ]
  },
  {
   "cell_type": "code",
   "execution_count": 13,
   "id": "74f6c8fc",
   "metadata": {
    "execution": {
     "iopub.execute_input": "2024-10-01T20:24:28.522383Z",
     "iopub.status.busy": "2024-10-01T20:24:28.522072Z",
     "iopub.status.idle": "2024-10-01T20:24:28.602283Z",
     "shell.execute_reply": "2024-10-01T20:24:28.601392Z"
    },
    "papermill": {
     "duration": 0.100774,
     "end_time": "2024-10-01T20:24:28.604275",
     "exception": false,
     "start_time": "2024-10-01T20:24:28.503501",
     "status": "completed"
    },
    "tags": []
   },
   "outputs": [
    {
     "data": {
      "text/plain": [
       "array(['bangladesh', 'sports', 'technology', 'entertainment',\n",
       "       'international', 'economy', 'life-style', 'opinion', 'education'],\n",
       "      dtype=object)"
      ]
     },
     "execution_count": 13,
     "metadata": {},
     "output_type": "execute_result"
    }
   ],
   "source": [
    "ndf.category.unique()"
   ]
  },
  {
   "cell_type": "code",
   "execution_count": 14,
   "id": "3d99ab04",
   "metadata": {
    "execution": {
     "iopub.execute_input": "2024-10-01T20:24:28.640760Z",
     "iopub.status.busy": "2024-10-01T20:24:28.640442Z",
     "iopub.status.idle": "2024-10-01T20:24:29.413714Z",
     "shell.execute_reply": "2024-10-01T20:24:29.412712Z"
    },
    "papermill": {
     "duration": 0.794153,
     "end_time": "2024-10-01T20:24:29.416029",
     "exception": false,
     "start_time": "2024-10-01T20:24:28.621876",
     "status": "completed"
    },
    "tags": []
   },
   "outputs": [
    {
     "data": {
      "image/png": "[encoded data removed]",
      "text/plain": [
       "<Figure size 640x480 with 1 Axes>"
      ]
     },
     "metadata": {},
     "output_type": "display_data"
    }
   ],
   "source": [
    "import matplotlib as mpl\n",
    "import seaborn as sns\n",
    "import matplotlib.pyplot as plt\n",
    "\n",
    "\n",
    "color_palette = ['maroon', 'red', 'green', 'orange', 'purple', 'violet','teal','gray','magenta']\n",
    "\n",
    "labels = ndf['category'].value_counts().index\n",
    "values = ndf['category'].value_counts().values\n",
    "\n",
    "plt.bar(labels,values, color = color_palette)\n",
    "plt.title(\"Imbalance Categorical distribution\")\n",
    "plt.xticks(rotation=90)\n",
    "plt.xlabel('News Category')\n",
    "plt.ylabel('Number of Class')\n",
    "\n",
    "\n",
    "\n",
    "plt.show()"
   ]
  },
  {
   "cell_type": "code",
   "execution_count": 15,
   "id": "9a1af15e",
   "metadata": {
    "execution": {
     "iopub.execute_input": "2024-10-01T20:24:29.455356Z",
     "iopub.status.busy": "2024-10-01T20:24:29.454415Z",
     "iopub.status.idle": "2024-10-01T20:24:29.460666Z",
     "shell.execute_reply": "2024-10-01T20:24:29.459804Z"
    },
    "papermill": {
     "duration": 0.027523,
     "end_time": "2024-10-01T20:24:29.462646",
     "exception": false,
     "start_time": "2024-10-01T20:24:29.435123",
     "status": "completed"
    },
    "tags": []
   },
   "outputs": [
    {
     "data": {
      "text/plain": [
       "\"from sklearn.preprocessing import LabelEncoder\\nlbl = LabelEncoder()\\nndf['category'] = lbl.fit_transform(ndf['category'])\""
      ]
     },
     "execution_count": 15,
     "metadata": {},
     "output_type": "execute_result"
    }
   ],
   "source": [
    "'''from sklearn.preprocessing import LabelEncoder\n",
    "lbl = LabelEncoder()\n",
    "ndf['category'] = lbl.fit_transform(ndf['category'])'''"
   ]
  },
  {
   "cell_type": "code",
   "execution_count": 16,
   "id": "41260b13",
   "metadata": {
    "execution": {
     "iopub.execute_input": "2024-10-01T20:24:29.500149Z",
     "iopub.status.busy": "2024-10-01T20:24:29.499610Z",
     "iopub.status.idle": "2024-10-01T20:24:29.509101Z",
     "shell.execute_reply": "2024-10-01T20:24:29.508251Z"
    },
    "papermill": {
     "duration": 0.030308,
     "end_time": "2024-10-01T20:24:29.511079",
     "exception": false,
     "start_time": "2024-10-01T20:24:29.480771",
     "status": "completed"
    },
    "tags": []
   },
   "outputs": [
    {
     "data": {
      "text/html": [
       "<div>\n",
       "<style scoped>\n",
       "    .dataframe tbody tr th:only-of-type {\n",
       "        vertical-align: middle;\n",
       "    }\n",
       "\n",
       "    .dataframe tbody tr th {\n",
       "        vertical-align: top;\n",
       "    }\n",
       "\n",
       "    .dataframe thead th {\n",
       "        text-align: right;\n",
       "    }\n",
       "</style>\n",
       "<table border=\"1\" class=\"dataframe\">\n",
       "  <thead>\n",
       "    <tr style=\"text-align: right;\">\n",
       "      <th></th>\n",
       "      <th>content</th>\n",
       "      <th>category</th>\n",
       "    </tr>\n",
       "  </thead>\n",
       "  <tbody>\n",
       "    <tr>\n",
       "      <th>0</th>\n",
       "      <td>গাজীপুরের কালিয়াকৈর উপজেলার তেলিরচালা এলাকায়...</td>\n",
       "      <td>bangladesh</td>\n",
       "    </tr>\n",
       "    <tr>\n",
       "      <th>1</th>\n",
       "      <td>এবারের উইম্বলডনটা স্মরণীয় করে রাখার মিশনেই যে...</td>\n",
       "      <td>sports</td>\n",
       "    </tr>\n",
       "    <tr>\n",
       "      <th>2</th>\n",
       "      <td>জাতীয় সংসদে বিএনপি চেয়ারপারসন ও বিরোধীদলীয় ...</td>\n",
       "      <td>bangladesh</td>\n",
       "    </tr>\n",
       "    <tr>\n",
       "      <th>3</th>\n",
       "      <td>সহজ পাসওয়ার্ডের কারণে অনলাইন অ্যাকাউন্ট সহজেই...</td>\n",
       "      <td>technology</td>\n",
       "    </tr>\n",
       "    <tr>\n",
       "      <th>4</th>\n",
       "      <td>কম্পিউটার মাউসের উদ্ভাবক ডগলাস অ্যাঙ্গেলবার্ট ...</td>\n",
       "      <td>technology</td>\n",
       "    </tr>\n",
       "  </tbody>\n",
       "</table>\n",
       "</div>"
      ],
      "text/plain": [
       "                                             content    category\n",
       "0  গাজীপুরের কালিয়াকৈর উপজেলার তেলিরচালা এলাকায়...  bangladesh\n",
       "1  এবারের উইম্বলডনটা স্মরণীয় করে রাখার মিশনেই যে...      sports\n",
       "2  জাতীয় সংসদে বিএনপি চেয়ারপারসন ও বিরোধীদলীয় ...  bangladesh\n",
       "3  সহজ পাসওয়ার্ডের কারণে অনলাইন অ্যাকাউন্ট সহজেই...  technology\n",
       "4  কম্পিউটার মাউসের উদ্ভাবক ডগলাস অ্যাঙ্গেলবার্ট ...  technology"
      ]
     },
     "execution_count": 16,
     "metadata": {},
     "output_type": "execute_result"
    }
   ],
   "source": [
    "ndf.head()"
   ]
  },
  {
   "cell_type": "code",
   "execution_count": 17,
   "id": "b793ac09",
   "metadata": {
    "execution": {
     "iopub.execute_input": "2024-10-01T20:24:29.549002Z",
     "iopub.status.busy": "2024-10-01T20:24:29.548712Z",
     "iopub.status.idle": "2024-10-01T20:24:41.800569Z",
     "shell.execute_reply": "2024-10-01T20:24:41.799458Z"
    },
    "papermill": {
     "duration": 12.273361,
     "end_time": "2024-10-01T20:24:41.802919",
     "exception": false,
     "start_time": "2024-10-01T20:24:29.529558",
     "status": "completed"
    },
    "tags": []
   },
   "outputs": [
    {
     "name": "stderr",
     "output_type": "stream",
     "text": [
      "/opt/conda/lib/python3.10/pty.py:89: RuntimeWarning: os.fork() was called. os.fork() is incompatible with multithreaded code, and JAX is multithreaded, so this will likely lead to a deadlock.\n",
      "  pid, fd = os.forkpty()\n"
     ]
    },
    {
     "name": "stdout",
     "output_type": "stream",
     "text": [
      "Collecting imblearn\r\n",
      "  Downloading imblearn-0.0-py2.py3-none-any.whl.metadata (355 bytes)\r\n",
      "Requirement already satisfied: imbalanced-learn in /opt/conda/lib/python3.10/site-packages (from imblearn) (0.12.3)\r\n",
      "Requirement already satisfied: numpy>=1.17.3 in /opt/conda/lib/python3.10/site-packages (from imbalanced-learn->imblearn) (1.26.4)\r\n",
      "Requirement already satisfied: scipy>=1.5.0 in /opt/conda/lib/python3.10/site-packages (from imbalanced-learn->imblearn) (1.14.1)\r\n",
      "Requirement already satisfied: scikit-learn>=1.0.2 in /opt/conda/lib/python3.10/site-packages (from imbalanced-learn->imblearn) (1.2.2)\r\n",
      "Requirement already satisfied: joblib>=1.1.1 in /opt/conda/lib/python3.10/site-packages (from imbalanced-learn->imblearn) (1.4.2)\r\n",
      "Requirement already satisfied: threadpoolctl>=2.0.0 in /opt/conda/lib/python3.10/site-packages (from imbalanced-learn->imblearn) (3.5.0)\r\n",
      "Downloading imblearn-0.0-py2.py3-none-any.whl (1.9 kB)\r\n",
      "Installing collected packages: imblearn\r\n",
      "Successfully installed imblearn-0.0\r\n"
     ]
    }
   ],
   "source": [
    "!pip install imblearn"
   ]
  },
  {
   "cell_type": "code",
   "execution_count": 18,
   "id": "7e32883c",
   "metadata": {
    "execution": {
     "iopub.execute_input": "2024-10-01T20:24:41.843136Z",
     "iopub.status.busy": "2024-10-01T20:24:41.842478Z",
     "iopub.status.idle": "2024-10-01T20:24:47.418188Z",
     "shell.execute_reply": "2024-10-01T20:24:47.417370Z"
    },
    "papermill": {
     "duration": 5.598396,
     "end_time": "2024-10-01T20:24:47.420626",
     "exception": false,
     "start_time": "2024-10-01T20:24:41.822230",
     "status": "completed"
    },
    "tags": []
   },
   "outputs": [],
   "source": [
    "\n",
    "from imblearn.under_sampling import RandomUnderSampler\n",
    "\n",
    "A = ndf.drop('category',axis = 1)\n",
    "b = ndf['category']\n",
    "\n",
    "rus = RandomUnderSampler()\n",
    "\n",
    "A_resampled, b_resampled = rus.fit_resample(A,b)\n",
    "\n",
    "resampled_df = pd.DataFrame(A_resampled,columns = A.columns)\n",
    "resampled_df['category'] = b_resampled\n",
    "\n",
    "resampled_df = resampled_df.sample(frac = 1, random_state = 85).reset_index (drop=True)"
   ]
  },
  {
   "cell_type": "code",
   "execution_count": 19,
   "id": "d299e5e0",
   "metadata": {
    "execution": {
     "iopub.execute_input": "2024-10-01T20:24:47.461696Z",
     "iopub.status.busy": "2024-10-01T20:24:47.461025Z",
     "iopub.status.idle": "2024-10-01T20:24:47.471442Z",
     "shell.execute_reply": "2024-10-01T20:24:47.470494Z"
    },
    "papermill": {
     "duration": 0.0335,
     "end_time": "2024-10-01T20:24:47.473261",
     "exception": false,
     "start_time": "2024-10-01T20:24:47.439761",
     "status": "completed"
    },
    "tags": []
   },
   "outputs": [
    {
     "data": {
      "text/html": [
       "<div>\n",
       "<style scoped>\n",
       "    .dataframe tbody tr th:only-of-type {\n",
       "        vertical-align: middle;\n",
       "    }\n",
       "\n",
       "    .dataframe tbody tr th {\n",
       "        vertical-align: top;\n",
       "    }\n",
       "\n",
       "    .dataframe thead th {\n",
       "        text-align: right;\n",
       "    }\n",
       "</style>\n",
       "<table border=\"1\" class=\"dataframe\">\n",
       "  <thead>\n",
       "    <tr style=\"text-align: right;\">\n",
       "      <th></th>\n",
       "      <th>content</th>\n",
       "      <th>category</th>\n",
       "    </tr>\n",
       "  </thead>\n",
       "  <tbody>\n",
       "    <tr>\n",
       "      <th>0</th>\n",
       "      <td>গ্যালাক্সি এস৯ নিয়ে আলোচনা ফুরাতে না ফুরাতেই এ...</td>\n",
       "      <td>technology</td>\n",
       "    </tr>\n",
       "    <tr>\n",
       "      <th>1</th>\n",
       "      <td>পুঁজিবাজারে তালিকাভুক্ত বিমা খাতের কোম্পানি নর...</td>\n",
       "      <td>economy</td>\n",
       "    </tr>\n",
       "    <tr>\n",
       "      <th>2</th>\n",
       "      <td>ক্যানসার প্রথম দিকে ধরা পড়লে বেঁচে থাকার সম্ভা...</td>\n",
       "      <td>life-style</td>\n",
       "    </tr>\n",
       "    <tr>\n",
       "      <th>3</th>\n",
       "      <td>সরকারি ও স্বায়ত্তশাসিত প্রতিষ্ঠানগুলো জনবল নি...</td>\n",
       "      <td>opinion</td>\n",
       "    </tr>\n",
       "    <tr>\n",
       "      <th>4</th>\n",
       "      <td>অধ্যায়-৩ প্রিয় শিক্ষার্থী, আজ প্রাথমিক বিজ্ঞা...</td>\n",
       "      <td>education</td>\n",
       "    </tr>\n",
       "  </tbody>\n",
       "</table>\n",
       "</div>"
      ],
      "text/plain": [
       "                                             content    category\n",
       "0  গ্যালাক্সি এস৯ নিয়ে আলোচনা ফুরাতে না ফুরাতেই এ...  technology\n",
       "1  পুঁজিবাজারে তালিকাভুক্ত বিমা খাতের কোম্পানি নর...     economy\n",
       "2  ক্যানসার প্রথম দিকে ধরা পড়লে বেঁচে থাকার সম্ভা...  life-style\n",
       "3  সরকারি ও স্বায়ত্তশাসিত প্রতিষ্ঠানগুলো জনবল নি...     opinion\n",
       "4  অধ্যায়-৩ প্রিয় শিক্ষার্থী, আজ প্রাথমিক বিজ্ঞা...   education"
      ]
     },
     "execution_count": 19,
     "metadata": {},
     "output_type": "execute_result"
    }
   ],
   "source": [
    "resampled_df.head()"
   ]
  },
  {
   "cell_type": "code",
   "execution_count": 20,
   "id": "d59716dd",
   "metadata": {
    "execution": {
     "iopub.execute_input": "2024-10-01T20:24:47.513301Z",
     "iopub.status.busy": "2024-10-01T20:24:47.512983Z",
     "iopub.status.idle": "2024-10-01T20:24:47.518679Z",
     "shell.execute_reply": "2024-10-01T20:24:47.517730Z"
    },
    "papermill": {
     "duration": 0.028218,
     "end_time": "2024-10-01T20:24:47.520704",
     "exception": false,
     "start_time": "2024-10-01T20:24:47.492486",
     "status": "completed"
    },
    "tags": []
   },
   "outputs": [
    {
     "data": {
      "text/plain": [
       "(86868, 2)"
      ]
     },
     "execution_count": 20,
     "metadata": {},
     "output_type": "execute_result"
    }
   ],
   "source": [
    "resampled_df.shape"
   ]
  },
  {
   "cell_type": "code",
   "execution_count": 21,
   "id": "4f87bc89",
   "metadata": {
    "execution": {
     "iopub.execute_input": "2024-10-01T20:24:47.561731Z",
     "iopub.status.busy": "2024-10-01T20:24:47.561418Z",
     "iopub.status.idle": "2024-10-01T20:24:47.888587Z",
     "shell.execute_reply": "2024-10-01T20:24:47.887691Z"
    },
    "papermill": {
     "duration": 0.350466,
     "end_time": "2024-10-01T20:24:47.890904",
     "exception": false,
     "start_time": "2024-10-01T20:24:47.540438",
     "status": "completed"
    },
    "tags": []
   },
   "outputs": [
    {
     "data": {
      "image/png": "[encoded data removed]",
      "text/plain": [
       "<Figure size 640x480 with 1 Axes>"
      ]
     },
     "metadata": {},
     "output_type": "display_data"
    }
   ],
   "source": [
    "#category distribution\n",
    "labels = resampled_df['category'].value_counts().index\n",
    "values = resampled_df['category'].value_counts().values\n",
    "\n",
    "color_palette = ['maroon', 'red', 'green', 'orange', 'purple', 'violet','teal','gray','magenta']\n",
    "\n",
    "#plot bar chart\n",
    "plt.bar(labels,values, color = color_palette)\n",
    "plt.title('Imbalance Categorical distribution')\n",
    "plt.xticks(rotation=90)\n",
    "plt.xlabel('News Category')\n",
    "plt.ylabel('Number of class')\n",
    "plt.show()"
   ]
  },
  {
   "cell_type": "code",
   "execution_count": 22,
   "id": "e498f97b",
   "metadata": {
    "execution": {
     "iopub.execute_input": "2024-10-01T20:24:47.932590Z",
     "iopub.status.busy": "2024-10-01T20:24:47.932201Z",
     "iopub.status.idle": "2024-10-01T20:24:47.963708Z",
     "shell.execute_reply": "2024-10-01T20:24:47.962839Z"
    },
    "papermill": {
     "duration": 0.054348,
     "end_time": "2024-10-01T20:24:47.965680",
     "exception": false,
     "start_time": "2024-10-01T20:24:47.911332",
     "status": "completed"
    },
    "tags": []
   },
   "outputs": [
    {
     "data": {
      "text/plain": [
       "category\n",
       "technology       9652\n",
       "economy          9652\n",
       "life-style       9652\n",
       "opinion          9652\n",
       "education        9652\n",
       "sports           9652\n",
       "international    9652\n",
       "entertainment    9652\n",
       "bangladesh       9652\n",
       "Name: count, dtype: int64"
      ]
     },
     "execution_count": 22,
     "metadata": {},
     "output_type": "execute_result"
    }
   ],
   "source": [
    "resampled_df['category'].value_counts()"
   ]
  },
  {
   "cell_type": "code",
   "execution_count": 23,
   "id": "ab0ad306",
   "metadata": {
    "execution": {
     "iopub.execute_input": "2024-10-01T20:24:48.008112Z",
     "iopub.status.busy": "2024-10-01T20:24:48.007481Z",
     "iopub.status.idle": "2024-10-01T20:24:48.042093Z",
     "shell.execute_reply": "2024-10-01T20:24:48.041130Z"
    },
    "papermill": {
     "duration": 0.057971,
     "end_time": "2024-10-01T20:24:48.044232",
     "exception": false,
     "start_time": "2024-10-01T20:24:47.986261",
     "status": "completed"
    },
    "tags": []
   },
   "outputs": [
    {
     "data": {
      "text/html": [
       "<div>\n",
       "<style scoped>\n",
       "    .dataframe tbody tr th:only-of-type {\n",
       "        vertical-align: middle;\n",
       "    }\n",
       "\n",
       "    .dataframe tbody tr th {\n",
       "        vertical-align: top;\n",
       "    }\n",
       "\n",
       "    .dataframe thead th {\n",
       "        text-align: right;\n",
       "    }\n",
       "</style>\n",
       "<table border=\"1\" class=\"dataframe\">\n",
       "  <thead>\n",
       "    <tr style=\"text-align: right;\">\n",
       "      <th></th>\n",
       "      <th>content</th>\n",
       "      <th>category</th>\n",
       "    </tr>\n",
       "  </thead>\n",
       "  <tbody>\n",
       "    <tr>\n",
       "      <th>0</th>\n",
       "      <td>পাকিস্তানের প্রধানমন্ত্রী নওয়াজ শরিফের পদত্যা...</td>\n",
       "      <td>international</td>\n",
       "    </tr>\n",
       "    <tr>\n",
       "      <th>1</th>\n",
       "      <td>নিল লেনন তো ভীষণ খ্যাপা। এ রকম ফাউল নাকি হতেই ...</td>\n",
       "      <td>sports</td>\n",
       "    </tr>\n",
       "    <tr>\n",
       "      <th>2</th>\n",
       "      <td>প্রতিদ্বন্দ্বী অ্যাপল ও মাইক্রোসফটে হুঁশিয়ার ...</td>\n",
       "      <td>technology</td>\n",
       "    </tr>\n",
       "    <tr>\n",
       "      <th>3</th>\n",
       "      <td>ইউক্রেনের পূর্বাঞ্চলীয় শহর স্লাভিয়ানস্কে গত শন...</td>\n",
       "      <td>international</td>\n",
       "    </tr>\n",
       "    <tr>\n",
       "      <th>4</th>\n",
       "      <td>কদিন আগে এশিয়া কাপ জিতে ইতিহাস গড়েছেন বাংলাদেশ...</td>\n",
       "      <td>sports</td>\n",
       "    </tr>\n",
       "  </tbody>\n",
       "</table>\n",
       "</div>"
      ],
      "text/plain": [
       "                                             content       category\n",
       "0  পাকিস্তানের প্রধানমন্ত্রী নওয়াজ শরিফের পদত্যা...  international\n",
       "1  নিল লেনন তো ভীষণ খ্যাপা। এ রকম ফাউল নাকি হতেই ...         sports\n",
       "2  প্রতিদ্বন্দ্বী অ্যাপল ও মাইক্রোসফটে হুঁশিয়ার ...     technology\n",
       "3  ইউক্রেনের পূর্বাঞ্চলীয় শহর স্লাভিয়ানস্কে গত শন...  international\n",
       "4  কদিন আগে এশিয়া কাপ জিতে ইতিহাস গড়েছেন বাংলাদেশ...         sports"
      ]
     },
     "execution_count": 23,
     "metadata": {},
     "output_type": "execute_result"
    }
   ],
   "source": [
    "ndf = resampled_df.sample(frac= 1, random_state = 48).reset_index(drop=True).head(1000)\n",
    "ndf.head()"
   ]
  },
  {
   "cell_type": "code",
   "execution_count": 24,
   "id": "803a0b15",
   "metadata": {
    "execution": {
     "iopub.execute_input": "2024-10-01T20:24:48.087453Z",
     "iopub.status.busy": "2024-10-01T20:24:48.087076Z",
     "iopub.status.idle": "2024-10-01T20:24:48.091733Z",
     "shell.execute_reply": "2024-10-01T20:24:48.090885Z"
    },
    "papermill": {
     "duration": 0.027927,
     "end_time": "2024-10-01T20:24:48.093517",
     "exception": false,
     "start_time": "2024-10-01T20:24:48.065590",
     "status": "completed"
    },
    "tags": []
   },
   "outputs": [],
   "source": [
    "train_size = 0.8\n",
    "val_size = 0.1\n",
    "\n",
    "train_end = int(train_size * len(ndf)) \n",
    "val_end = train_end + int(val_size * len(ndf))\n"
   ]
  },
  {
   "cell_type": "code",
   "execution_count": 25,
   "id": "bb816d70",
   "metadata": {
    "execution": {
     "iopub.execute_input": "2024-10-01T20:24:48.135703Z",
     "iopub.status.busy": "2024-10-01T20:24:48.135353Z",
     "iopub.status.idle": "2024-10-01T20:24:48.142026Z",
     "shell.execute_reply": "2024-10-01T20:24:48.141153Z"
    },
    "papermill": {
     "duration": 0.030172,
     "end_time": "2024-10-01T20:24:48.144292",
     "exception": false,
     "start_time": "2024-10-01T20:24:48.114120",
     "status": "completed"
    },
    "tags": []
   },
   "outputs": [
    {
     "name": "stdout",
     "output_type": "stream",
     "text": [
      "(800, 2)\n",
      "(100, 2)\n",
      "(100, 2)\n"
     ]
    }
   ],
   "source": [
    "X_train = ndf[:train_end]\n",
    "X_val = ndf[train_end:val_end]\n",
    "X_test = ndf[val_end:]\n",
    "\n",
    "print(X_train.shape)\n",
    "print(X_val.shape)\n",
    "print(X_test.shape)"
   ]
  },
  {
   "cell_type": "code",
   "execution_count": 26,
   "id": "19191457",
   "metadata": {
    "execution": {
     "iopub.execute_input": "2024-10-01T20:24:48.188353Z",
     "iopub.status.busy": "2024-10-01T20:24:48.187525Z",
     "iopub.status.idle": "2024-10-01T20:24:48.193380Z",
     "shell.execute_reply": "2024-10-01T20:24:48.192437Z"
    },
    "papermill": {
     "duration": 0.029905,
     "end_time": "2024-10-01T20:24:48.195283",
     "exception": false,
     "start_time": "2024-10-01T20:24:48.165378",
     "status": "completed"
    },
    "tags": []
   },
   "outputs": [],
   "source": [
    "# Define the prompt generation functions\n",
    "def generate_prompt(data_point):\n",
    "    return f\"\"\"\n",
    "            Classify the text into bangladesh, sports, technology, entertainment,international, economy, life-style, opinion, education and return the answer as the corresponding newpapers news category.\n",
    "text: {data_point[\"content\"]}\n",
    "label: {data_point[\"category\"]}\"\"\".strip()\n",
    "\n",
    "def generate_test_prompt(data_point):\n",
    "    return f\"\"\"\n",
    "            Classify the text into bangladesh, sports, technology, entertainment,international, economy, life-style, opinion, education and return the answer as the corresponding newpapers news category.\n",
    "text: {data_point[\"content\"]}\n",
    "label: \"\"\".strip()"
   ]
  },
  {
   "cell_type": "code",
   "execution_count": 27,
   "id": "e9ff493f",
   "metadata": {
    "execution": {
     "iopub.execute_input": "2024-10-01T20:24:48.238744Z",
     "iopub.status.busy": "2024-10-01T20:24:48.238431Z",
     "iopub.status.idle": "2024-10-01T20:24:48.265683Z",
     "shell.execute_reply": "2024-10-01T20:24:48.264603Z"
    },
    "papermill": {
     "duration": 0.051375,
     "end_time": "2024-10-01T20:24:48.267786",
     "exception": false,
     "start_time": "2024-10-01T20:24:48.216411",
     "status": "completed"
    },
    "tags": []
   },
   "outputs": [
    {
     "name": "stderr",
     "output_type": "stream",
     "text": [
      "/tmp/ipykernel_24/605730108.py:1: SettingWithCopyWarning: \n",
      "A value is trying to be set on a copy of a slice from a DataFrame.\n",
      "Try using .loc[row_indexer,col_indexer] = value instead\n",
      "\n",
      "See the caveats in the documentation: https://pandas.pydata.org/pandas-docs/stable/user_guide/indexing.html#returning-a-view-versus-a-copy\n",
      "  X_train.loc[:,'text'] = X_train.apply(generate_prompt,axis = 1)\n"
     ]
    },
    {
     "data": {
      "text/html": [
       "<div>\n",
       "<style scoped>\n",
       "    .dataframe tbody tr th:only-of-type {\n",
       "        vertical-align: middle;\n",
       "    }\n",
       "\n",
       "    .dataframe tbody tr th {\n",
       "        vertical-align: top;\n",
       "    }\n",
       "\n",
       "    .dataframe thead th {\n",
       "        text-align: right;\n",
       "    }\n",
       "</style>\n",
       "<table border=\"1\" class=\"dataframe\">\n",
       "  <thead>\n",
       "    <tr style=\"text-align: right;\">\n",
       "      <th></th>\n",
       "      <th>content</th>\n",
       "      <th>category</th>\n",
       "      <th>text</th>\n",
       "    </tr>\n",
       "  </thead>\n",
       "  <tbody>\n",
       "    <tr>\n",
       "      <th>0</th>\n",
       "      <td>পাকিস্তানের প্রধানমন্ত্রী নওয়াজ শরিফের পদত্যা...</td>\n",
       "      <td>international</td>\n",
       "      <td>Classify the text into bangladesh, sports, tec...</td>\n",
       "    </tr>\n",
       "    <tr>\n",
       "      <th>1</th>\n",
       "      <td>নিল লেনন তো ভীষণ খ্যাপা। এ রকম ফাউল নাকি হতেই ...</td>\n",
       "      <td>sports</td>\n",
       "      <td>Classify the text into bangladesh, sports, tec...</td>\n",
       "    </tr>\n",
       "    <tr>\n",
       "      <th>2</th>\n",
       "      <td>প্রতিদ্বন্দ্বী অ্যাপল ও মাইক্রোসফটে হুঁশিয়ার ...</td>\n",
       "      <td>technology</td>\n",
       "      <td>Classify the text into bangladesh, sports, tec...</td>\n",
       "    </tr>\n",
       "    <tr>\n",
       "      <th>3</th>\n",
       "      <td>ইউক্রেনের পূর্বাঞ্চলীয় শহর স্লাভিয়ানস্কে গত শন...</td>\n",
       "      <td>international</td>\n",
       "      <td>Classify the text into bangladesh, sports, tec...</td>\n",
       "    </tr>\n",
       "    <tr>\n",
       "      <th>4</th>\n",
       "      <td>কদিন আগে এশিয়া কাপ জিতে ইতিহাস গড়েছেন বাংলাদেশ...</td>\n",
       "      <td>sports</td>\n",
       "      <td>Classify the text into bangladesh, sports, tec...</td>\n",
       "    </tr>\n",
       "  </tbody>\n",
       "</table>\n",
       "</div>"
      ],
      "text/plain": [
       "                                             content       category  \\\n",
       "0  পাকিস্তানের প্রধানমন্ত্রী নওয়াজ শরিফের পদত্যা...  international   \n",
       "1  নিল লেনন তো ভীষণ খ্যাপা। এ রকম ফাউল নাকি হতেই ...         sports   \n",
       "2  প্রতিদ্বন্দ্বী অ্যাপল ও মাইক্রোসফটে হুঁশিয়ার ...     technology   \n",
       "3  ইউক্রেনের পূর্বাঞ্চলীয় শহর স্লাভিয়ানস্কে গত শন...  international   \n",
       "4  কদিন আগে এশিয়া কাপ জিতে ইতিহাস গড়েছেন বাংলাদেশ...         sports   \n",
       "\n",
       "                                                text  \n",
       "0  Classify the text into bangladesh, sports, tec...  \n",
       "1  Classify the text into bangladesh, sports, tec...  \n",
       "2  Classify the text into bangladesh, sports, tec...  \n",
       "3  Classify the text into bangladesh, sports, tec...  \n",
       "4  Classify the text into bangladesh, sports, tec...  "
      ]
     },
     "execution_count": 27,
     "metadata": {},
     "output_type": "execute_result"
    }
   ],
   "source": [
    "X_train.loc[:,'text'] = X_train.apply(generate_prompt,axis = 1)\n",
    "X_train.head()"
   ]
  },
  {
   "cell_type": "code",
   "execution_count": 28,
   "id": "0cdde0e5",
   "metadata": {
    "execution": {
     "iopub.execute_input": "2024-10-01T20:24:48.310377Z",
     "iopub.status.busy": "2024-10-01T20:24:48.309959Z",
     "iopub.status.idle": "2024-10-01T20:24:48.325231Z",
     "shell.execute_reply": "2024-10-01T20:24:48.324242Z"
    },
    "papermill": {
     "duration": 0.038852,
     "end_time": "2024-10-01T20:24:48.327365",
     "exception": false,
     "start_time": "2024-10-01T20:24:48.288513",
     "status": "completed"
    },
    "tags": []
   },
   "outputs": [
    {
     "name": "stderr",
     "output_type": "stream",
     "text": [
      "/tmp/ipykernel_24/1181508762.py:1: SettingWithCopyWarning: \n",
      "A value is trying to be set on a copy of a slice from a DataFrame.\n",
      "Try using .loc[row_indexer,col_indexer] = value instead\n",
      "\n",
      "See the caveats in the documentation: https://pandas.pydata.org/pandas-docs/stable/user_guide/indexing.html#returning-a-view-versus-a-copy\n",
      "  X_val.loc[:,'text'] = X_val.apply(generate_prompt, axis=1)\n"
     ]
    },
    {
     "data": {
      "text/html": [
       "<div>\n",
       "<style scoped>\n",
       "    .dataframe tbody tr th:only-of-type {\n",
       "        vertical-align: middle;\n",
       "    }\n",
       "\n",
       "    .dataframe tbody tr th {\n",
       "        vertical-align: top;\n",
       "    }\n",
       "\n",
       "    .dataframe thead th {\n",
       "        text-align: right;\n",
       "    }\n",
       "</style>\n",
       "<table border=\"1\" class=\"dataframe\">\n",
       "  <thead>\n",
       "    <tr style=\"text-align: right;\">\n",
       "      <th></th>\n",
       "      <th>content</th>\n",
       "      <th>category</th>\n",
       "      <th>text</th>\n",
       "    </tr>\n",
       "  </thead>\n",
       "  <tbody>\n",
       "    <tr>\n",
       "      <th>800</th>\n",
       "      <td>আজ যুক্তরাষ্ট্রের লাস ভেগাস থেকে যুক্তরাজ্যের ...</td>\n",
       "      <td>international</td>\n",
       "      <td>Classify the text into bangladesh, sports, tec...</td>\n",
       "    </tr>\n",
       "    <tr>\n",
       "      <th>801</th>\n",
       "      <td>শেষরাত ও ভোররাতে তাপমাত্রা কমে যায়। দুপুর থেকে...</td>\n",
       "      <td>life-style</td>\n",
       "      <td>Classify the text into bangladesh, sports, tec...</td>\n",
       "    </tr>\n",
       "    <tr>\n",
       "      <th>802</th>\n",
       "      <td>মিয়ানমারের সেনা কর্মকর্তা মং মং সো-এর ওপর নিষে...</td>\n",
       "      <td>international</td>\n",
       "      <td>Classify the text into bangladesh, sports, tec...</td>\n",
       "    </tr>\n",
       "    <tr>\n",
       "      <th>803</th>\n",
       "      <td>একটা অলিম্পিক পদক, একটা স্বপ্নও। কিন্তু পেটের ...</td>\n",
       "      <td>sports</td>\n",
       "      <td>Classify the text into bangladesh, sports, tec...</td>\n",
       "    </tr>\n",
       "    <tr>\n",
       "      <th>804</th>\n",
       "      <td>জাতিসংঘ প্যানেলের প্রকাশ করা তদন্তের ফল বাস্তব...</td>\n",
       "      <td>international</td>\n",
       "      <td>Classify the text into bangladesh, sports, tec...</td>\n",
       "    </tr>\n",
       "  </tbody>\n",
       "</table>\n",
       "</div>"
      ],
      "text/plain": [
       "                                               content       category  \\\n",
       "800  আজ যুক্তরাষ্ট্রের লাস ভেগাস থেকে যুক্তরাজ্যের ...  international   \n",
       "801  শেষরাত ও ভোররাতে তাপমাত্রা কমে যায়। দুপুর থেকে...     life-style   \n",
       "802  মিয়ানমারের সেনা কর্মকর্তা মং মং সো-এর ওপর নিষে...  international   \n",
       "803  একটা অলিম্পিক পদক, একটা স্বপ্নও। কিন্তু পেটের ...         sports   \n",
       "804  জাতিসংঘ প্যানেলের প্রকাশ করা তদন্তের ফল বাস্তব...  international   \n",
       "\n",
       "                                                  text  \n",
       "800  Classify the text into bangladesh, sports, tec...  \n",
       "801  Classify the text into bangladesh, sports, tec...  \n",
       "802  Classify the text into bangladesh, sports, tec...  \n",
       "803  Classify the text into bangladesh, sports, tec...  \n",
       "804  Classify the text into bangladesh, sports, tec...  "
      ]
     },
     "execution_count": 28,
     "metadata": {},
     "output_type": "execute_result"
    }
   ],
   "source": [
    "X_val.loc[:,'text'] = X_val.apply(generate_prompt, axis=1)\n",
    "X_val.head()"
   ]
  },
  {
   "cell_type": "code",
   "execution_count": 29,
   "id": "9fa9bf03",
   "metadata": {
    "execution": {
     "iopub.execute_input": "2024-10-01T20:24:48.371297Z",
     "iopub.status.busy": "2024-10-01T20:24:48.370963Z",
     "iopub.status.idle": "2024-10-01T20:24:48.380002Z",
     "shell.execute_reply": "2024-10-01T20:24:48.379095Z"
    },
    "papermill": {
     "duration": 0.033169,
     "end_time": "2024-10-01T20:24:48.382168",
     "exception": false,
     "start_time": "2024-10-01T20:24:48.348999",
     "status": "completed"
    },
    "tags": []
   },
   "outputs": [
    {
     "data": {
      "text/html": [
       "<div>\n",
       "<style scoped>\n",
       "    .dataframe tbody tr th:only-of-type {\n",
       "        vertical-align: middle;\n",
       "    }\n",
       "\n",
       "    .dataframe tbody tr th {\n",
       "        vertical-align: top;\n",
       "    }\n",
       "\n",
       "    .dataframe thead th {\n",
       "        text-align: right;\n",
       "    }\n",
       "</style>\n",
       "<table border=\"1\" class=\"dataframe\">\n",
       "  <thead>\n",
       "    <tr style=\"text-align: right;\">\n",
       "      <th></th>\n",
       "      <th>content</th>\n",
       "      <th>category</th>\n",
       "    </tr>\n",
       "  </thead>\n",
       "  <tbody>\n",
       "    <tr>\n",
       "      <th>900</th>\n",
       "      <td>পৌষের পড়ন্ত বেলার শেষে বিদায়ী সন্ধ্যা। শীতের...</td>\n",
       "      <td>entertainment</td>\n",
       "    </tr>\n",
       "    <tr>\n",
       "      <th>901</th>\n",
       "      <td>ঈদের সময় অনেকেই মাংস সংরক্ষণ করে রাখেন বেশ কিছ...</td>\n",
       "      <td>life-style</td>\n",
       "    </tr>\n",
       "    <tr>\n",
       "      <th>902</th>\n",
       "      <td>ডা. প্রণব কুমার চৌধুরীহাঁ করলে গলার ভেতরে ডান ...</td>\n",
       "      <td>life-style</td>\n",
       "    </tr>\n",
       "    <tr>\n",
       "      <th>903</th>\n",
       "      <td>সম্পর্ক পুনস্থাপনের নমুনা হিসেবে যুক্তরাষ্ট্র ...</td>\n",
       "      <td>international</td>\n",
       "    </tr>\n",
       "    <tr>\n",
       "      <th>904</th>\n",
       "      <td>আসামের বিজেপির নেতাদের বিরুদ্ধে অভিযোগ উঠেছে, ...</td>\n",
       "      <td>international</td>\n",
       "    </tr>\n",
       "  </tbody>\n",
       "</table>\n",
       "</div>"
      ],
      "text/plain": [
       "                                               content       category\n",
       "900  পৌষের পড়ন্ত বেলার শেষে বিদায়ী সন্ধ্যা। শীতের...  entertainment\n",
       "901  ঈদের সময় অনেকেই মাংস সংরক্ষণ করে রাখেন বেশ কিছ...     life-style\n",
       "902  ডা. প্রণব কুমার চৌধুরীহাঁ করলে গলার ভেতরে ডান ...     life-style\n",
       "903  সম্পর্ক পুনস্থাপনের নমুনা হিসেবে যুক্তরাষ্ট্র ...  international\n",
       "904  আসামের বিজেপির নেতাদের বিরুদ্ধে অভিযোগ উঠেছে, ...  international"
      ]
     },
     "execution_count": 29,
     "metadata": {},
     "output_type": "execute_result"
    }
   ],
   "source": [
    "X_test.head()"
   ]
  },
  {
   "cell_type": "code",
   "execution_count": 30,
   "id": "a43f75e5",
   "metadata": {
    "execution": {
     "iopub.execute_input": "2024-10-01T20:24:48.426465Z",
     "iopub.status.busy": "2024-10-01T20:24:48.426139Z",
     "iopub.status.idle": "2024-10-01T20:24:48.432889Z",
     "shell.execute_reply": "2024-10-01T20:24:48.431994Z"
    },
    "papermill": {
     "duration": 0.030584,
     "end_time": "2024-10-01T20:24:48.434846",
     "exception": false,
     "start_time": "2024-10-01T20:24:48.404262",
     "status": "completed"
    },
    "tags": []
   },
   "outputs": [],
   "source": [
    "y_true = X_test.loc[:,'category']\n",
    "X_test = pd.DataFrame(X_test.apply(generate_test_prompt, axis = 1), columns = ['text'])"
   ]
  },
  {
   "cell_type": "code",
   "execution_count": 31,
   "id": "cdfab98d",
   "metadata": {
    "execution": {
     "iopub.execute_input": "2024-10-01T20:24:48.479026Z",
     "iopub.status.busy": "2024-10-01T20:24:48.478438Z",
     "iopub.status.idle": "2024-10-01T20:24:48.486460Z",
     "shell.execute_reply": "2024-10-01T20:24:48.485522Z"
    },
    "papermill": {
     "duration": 0.03165,
     "end_time": "2024-10-01T20:24:48.488309",
     "exception": false,
     "start_time": "2024-10-01T20:24:48.456659",
     "status": "completed"
    },
    "tags": []
   },
   "outputs": [
    {
     "data": {
      "text/html": [
       "<div>\n",
       "<style scoped>\n",
       "    .dataframe tbody tr th:only-of-type {\n",
       "        vertical-align: middle;\n",
       "    }\n",
       "\n",
       "    .dataframe tbody tr th {\n",
       "        vertical-align: top;\n",
       "    }\n",
       "\n",
       "    .dataframe thead th {\n",
       "        text-align: right;\n",
       "    }\n",
       "</style>\n",
       "<table border=\"1\" class=\"dataframe\">\n",
       "  <thead>\n",
       "    <tr style=\"text-align: right;\">\n",
       "      <th></th>\n",
       "      <th>text</th>\n",
       "    </tr>\n",
       "  </thead>\n",
       "  <tbody>\n",
       "    <tr>\n",
       "      <th>900</th>\n",
       "      <td>Classify the text into bangladesh, sports, tec...</td>\n",
       "    </tr>\n",
       "    <tr>\n",
       "      <th>901</th>\n",
       "      <td>Classify the text into bangladesh, sports, tec...</td>\n",
       "    </tr>\n",
       "    <tr>\n",
       "      <th>902</th>\n",
       "      <td>Classify the text into bangladesh, sports, tec...</td>\n",
       "    </tr>\n",
       "    <tr>\n",
       "      <th>903</th>\n",
       "      <td>Classify the text into bangladesh, sports, tec...</td>\n",
       "    </tr>\n",
       "    <tr>\n",
       "      <th>904</th>\n",
       "      <td>Classify the text into bangladesh, sports, tec...</td>\n",
       "    </tr>\n",
       "  </tbody>\n",
       "</table>\n",
       "</div>"
      ],
      "text/plain": [
       "                                                  text\n",
       "900  Classify the text into bangladesh, sports, tec...\n",
       "901  Classify the text into bangladesh, sports, tec...\n",
       "902  Classify the text into bangladesh, sports, tec...\n",
       "903  Classify the text into bangladesh, sports, tec...\n",
       "904  Classify the text into bangladesh, sports, tec..."
      ]
     },
     "execution_count": 31,
     "metadata": {},
     "output_type": "execute_result"
    }
   ],
   "source": [
    "X_test.head()"
   ]
  },
  {
   "cell_type": "code",
   "execution_count": 32,
   "id": "f7b4bfa0",
   "metadata": {
    "execution": {
     "iopub.execute_input": "2024-10-01T20:24:48.532698Z",
     "iopub.status.busy": "2024-10-01T20:24:48.532420Z",
     "iopub.status.idle": "2024-10-01T20:24:48.537929Z",
     "shell.execute_reply": "2024-10-01T20:24:48.537103Z"
    },
    "papermill": {
     "duration": 0.030278,
     "end_time": "2024-10-01T20:24:48.539971",
     "exception": false,
     "start_time": "2024-10-01T20:24:48.509693",
     "status": "completed"
    },
    "tags": []
   },
   "outputs": [
    {
     "data": {
      "text/plain": [
       "(100, 3)"
      ]
     },
     "execution_count": 32,
     "metadata": {},
     "output_type": "execute_result"
    }
   ],
   "source": [
    "X_val.shape"
   ]
  },
  {
   "cell_type": "code",
   "execution_count": 33,
   "id": "04de3067",
   "metadata": {
    "execution": {
     "iopub.execute_input": "2024-10-01T20:24:48.583816Z",
     "iopub.status.busy": "2024-10-01T20:24:48.583547Z",
     "iopub.status.idle": "2024-10-01T20:24:48.590342Z",
     "shell.execute_reply": "2024-10-01T20:24:48.589327Z"
    },
    "papermill": {
     "duration": 0.030918,
     "end_time": "2024-10-01T20:24:48.592277",
     "exception": false,
     "start_time": "2024-10-01T20:24:48.561359",
     "status": "completed"
    },
    "tags": []
   },
   "outputs": [
    {
     "data": {
      "text/plain": [
       "900    entertainment\n",
       "901       life-style\n",
       "902       life-style\n",
       "903    international\n",
       "904    international\n",
       "Name: category, dtype: object"
      ]
     },
     "execution_count": 33,
     "metadata": {},
     "output_type": "execute_result"
    }
   ],
   "source": [
    "y_true.head()"
   ]
  },
  {
   "cell_type": "code",
   "execution_count": 34,
   "id": "7a632914",
   "metadata": {
    "execution": {
     "iopub.execute_input": "2024-10-01T20:24:48.637376Z",
     "iopub.status.busy": "2024-10-01T20:24:48.636767Z",
     "iopub.status.idle": "2024-10-01T20:24:48.644788Z",
     "shell.execute_reply": "2024-10-01T20:24:48.643878Z"
    },
    "papermill": {
     "duration": 0.032911,
     "end_time": "2024-10-01T20:24:48.647055",
     "exception": false,
     "start_time": "2024-10-01T20:24:48.614144",
     "status": "completed"
    },
    "tags": []
   },
   "outputs": [
    {
     "data": {
      "text/html": [
       "<div>\n",
       "<style scoped>\n",
       "    .dataframe tbody tr th:only-of-type {\n",
       "        vertical-align: middle;\n",
       "    }\n",
       "\n",
       "    .dataframe tbody tr th {\n",
       "        vertical-align: top;\n",
       "    }\n",
       "\n",
       "    .dataframe thead th {\n",
       "        text-align: right;\n",
       "    }\n",
       "</style>\n",
       "<table border=\"1\" class=\"dataframe\">\n",
       "  <thead>\n",
       "    <tr style=\"text-align: right;\">\n",
       "      <th></th>\n",
       "      <th>text</th>\n",
       "    </tr>\n",
       "  </thead>\n",
       "  <tbody>\n",
       "    <tr>\n",
       "      <th>900</th>\n",
       "      <td>Classify the text into bangladesh, sports, tec...</td>\n",
       "    </tr>\n",
       "    <tr>\n",
       "      <th>901</th>\n",
       "      <td>Classify the text into bangladesh, sports, tec...</td>\n",
       "    </tr>\n",
       "    <tr>\n",
       "      <th>902</th>\n",
       "      <td>Classify the text into bangladesh, sports, tec...</td>\n",
       "    </tr>\n",
       "    <tr>\n",
       "      <th>903</th>\n",
       "      <td>Classify the text into bangladesh, sports, tec...</td>\n",
       "    </tr>\n",
       "    <tr>\n",
       "      <th>904</th>\n",
       "      <td>Classify the text into bangladesh, sports, tec...</td>\n",
       "    </tr>\n",
       "  </tbody>\n",
       "</table>\n",
       "</div>"
      ],
      "text/plain": [
       "                                                  text\n",
       "900  Classify the text into bangladesh, sports, tec...\n",
       "901  Classify the text into bangladesh, sports, tec...\n",
       "902  Classify the text into bangladesh, sports, tec...\n",
       "903  Classify the text into bangladesh, sports, tec...\n",
       "904  Classify the text into bangladesh, sports, tec..."
      ]
     },
     "execution_count": 34,
     "metadata": {},
     "output_type": "execute_result"
    }
   ],
   "source": [
    "X_test.head()"
   ]
  },
  {
   "cell_type": "code",
   "execution_count": 35,
   "id": "1fccb248",
   "metadata": {
    "execution": {
     "iopub.execute_input": "2024-10-01T20:24:48.692278Z",
     "iopub.status.busy": "2024-10-01T20:24:48.691753Z",
     "iopub.status.idle": "2024-10-01T20:24:48.699220Z",
     "shell.execute_reply": "2024-10-01T20:24:48.698382Z"
    },
    "papermill": {
     "duration": 0.031988,
     "end_time": "2024-10-01T20:24:48.701273",
     "exception": false,
     "start_time": "2024-10-01T20:24:48.669285",
     "status": "completed"
    },
    "tags": []
   },
   "outputs": [
    {
     "data": {
      "text/plain": [
       "category\n",
       "life-style       102\n",
       "opinion           96\n",
       "education         95\n",
       "sports            91\n",
       "economy           88\n",
       "international     85\n",
       "technology        84\n",
       "bangladesh        82\n",
       "entertainment     77\n",
       "Name: count, dtype: int64"
      ]
     },
     "execution_count": 35,
     "metadata": {},
     "output_type": "execute_result"
    }
   ],
   "source": [
    "X_train.category.value_counts()"
   ]
  },
  {
   "cell_type": "code",
   "execution_count": 36,
   "id": "ca7751cc",
   "metadata": {
    "execution": {
     "iopub.execute_input": "2024-10-01T20:24:48.746384Z",
     "iopub.status.busy": "2024-10-01T20:24:48.746079Z",
     "iopub.status.idle": "2024-10-01T20:24:48.753002Z",
     "shell.execute_reply": "2024-10-01T20:24:48.752123Z"
    },
    "papermill": {
     "duration": 0.032012,
     "end_time": "2024-10-01T20:24:48.754951",
     "exception": false,
     "start_time": "2024-10-01T20:24:48.722939",
     "status": "completed"
    },
    "tags": []
   },
   "outputs": [
    {
     "data": {
      "text/plain": [
       "category\n",
       "life-style       18\n",
       "bangladesh       15\n",
       "education        13\n",
       "opinion          12\n",
       "entertainment    10\n",
       "sports           10\n",
       "international    10\n",
       "economy           7\n",
       "technology        5\n",
       "Name: count, dtype: int64"
      ]
     },
     "execution_count": 36,
     "metadata": {},
     "output_type": "execute_result"
    }
   ],
   "source": [
    "y_true.value_counts()"
   ]
  },
  {
   "cell_type": "code",
   "execution_count": 37,
   "id": "8d108ce1",
   "metadata": {
    "execution": {
     "iopub.execute_input": "2024-10-01T20:24:48.800636Z",
     "iopub.status.busy": "2024-10-01T20:24:48.800125Z",
     "iopub.status.idle": "2024-10-01T20:24:48.873152Z",
     "shell.execute_reply": "2024-10-01T20:24:48.872368Z"
    },
    "papermill": {
     "duration": 0.09785,
     "end_time": "2024-10-01T20:24:48.875457",
     "exception": false,
     "start_time": "2024-10-01T20:24:48.777607",
     "status": "completed"
    },
    "tags": []
   },
   "outputs": [],
   "source": [
    "from datasets import Dataset\n",
    "# Convert to datasets\n",
    "train_data = Dataset.from_pandas(X_train[[\"text\"]])\n",
    "val_data = Dataset.from_pandas(X_val[[\"text\"]])"
   ]
  },
  {
   "cell_type": "code",
   "execution_count": 38,
   "id": "7968088a",
   "metadata": {
    "execution": {
     "iopub.execute_input": "2024-10-01T20:24:48.922061Z",
     "iopub.status.busy": "2024-10-01T20:24:48.921279Z",
     "iopub.status.idle": "2024-10-01T20:24:48.926816Z",
     "shell.execute_reply": "2024-10-01T20:24:48.925924Z"
    },
    "papermill": {
     "duration": 0.030602,
     "end_time": "2024-10-01T20:24:48.929031",
     "exception": false,
     "start_time": "2024-10-01T20:24:48.898429",
     "status": "completed"
    },
    "tags": []
   },
   "outputs": [
    {
     "name": "stdout",
     "output_type": "stream",
     "text": [
      "Dataset({\n",
      "    features: ['text'],\n",
      "    num_rows: 800\n",
      "})\n",
      "Dataset({\n",
      "    features: ['text'],\n",
      "    num_rows: 100\n",
      "})\n"
     ]
    }
   ],
   "source": [
    "print(train_data)\n",
    "print(val_data)"
   ]
  },
  {
   "cell_type": "code",
   "execution_count": 39,
   "id": "48f430a3",
   "metadata": {
    "execution": {
     "iopub.execute_input": "2024-10-01T20:24:48.975300Z",
     "iopub.status.busy": "2024-10-01T20:24:48.974613Z",
     "iopub.status.idle": "2024-10-01T20:24:48.994163Z",
     "shell.execute_reply": "2024-10-01T20:24:48.993015Z"
    },
    "papermill": {
     "duration": 0.044588,
     "end_time": "2024-10-01T20:24:48.996232",
     "exception": false,
     "start_time": "2024-10-01T20:24:48.951644",
     "status": "completed"
    },
    "tags": []
   },
   "outputs": [
    {
     "data": {
      "text/plain": [
       "'Classify the text into bangladesh, sports, technology, entertainment,international, economy, life-style, opinion, education and return the answer as the corresponding newpapers news category.\\ntext: ইউক্রেনের পূর্বাঞ্চলীয় শহর স্লাভিয়ানস্কে গত শনিবার রাতে আবার বন্দুকযুদ্ধ হয়েছে। এতে অন্তত চারজন নিহত হয়েছে। এ ঘটনার পর রুশপন্থী বিচ্ছিন্নতাবাদীরা ইউক্রেনের পূর্বাঞ্চলে সেনা পাঠাতে মস্কোর প্রতি আহ্বান জানিয়েছে। নতুন করে হতাহতের ঘটনায় রাশিয়াও ক্ষুব্ধ প্রতিক্রিয়া জানিয়েছে।স্লাভিয়ানস্ক শহরটি প্রায় এক সপ্তাহ ধরে রুশপন্থী অস্ত্রধারীদের নিয়ন্ত্রণে রয়েছে। অস্ত্রধারীদের নেতা ভাতসিস্লাভ পনোমারেভ জানান, বন্দুকযুদ্ধে এক হামলাকারীসহ চারজন নিহত হয়েছে।সপ্তাহ খানেক আগে রুশপন্থী অস্ত্রধারীরা স্লাভিয়ানস্কসহ ইউক্রেনের পূর্বাঞ্চলের কয়েকটি শহরের গুরুত্বপূর্ণ স্থাপনা দখলে নেয়। তাদের হটাতে অভিযান শুরু করে ইউক্রেনের নিরাপত্তা বাহিনী। তবে ইস্টার সানডে উপলক্ষে কয়েক দিনের জন্য অভিযানের বিরতি ঘোষণা করে ইউক্রেন কর্তৃপক্ষ। আজ সোমবার ওই বিরতির সময়সীমা শেষ হওয়ার কথা। এর আগে শনিবার রাতে বন্দুকযুদ্ধের ওই ঘটনা ঘটে।বন্দুকযুদ্ধের ঘটনাকে ‘উসকানিমূলক’ হিসেবে অভিহিত করেছে রাশিয়া। রুশ পররাষ্ট্র মন্ত্রণালয়ের বিবৃতিতে জেনেভা চুক্তি অনুযায়ী সহিংসতা থেকে বিরত থাকতে ইউক্রেন কর্তৃপক্ষের প্রতি আহ্বান জানানো হয়। এএফপি।\\nlabel: international'"
      ]
     },
     "execution_count": 39,
     "metadata": {},
     "output_type": "execute_result"
    }
   ],
   "source": [
    "train_data['text'][3]"
   ]
  },
  {
   "cell_type": "code",
   "execution_count": 40,
   "id": "8f2c231f",
   "metadata": {
    "execution": {
     "iopub.execute_input": "2024-10-01T20:24:49.042535Z",
     "iopub.status.busy": "2024-10-01T20:24:49.042128Z",
     "iopub.status.idle": "2024-10-01T20:26:04.227779Z",
     "shell.execute_reply": "2024-10-01T20:26:04.226741Z"
    },
    "papermill": {
     "duration": 75.211318,
     "end_time": "2024-10-01T20:26:04.230064",
     "exception": false,
     "start_time": "2024-10-01T20:24:49.018746",
     "status": "completed"
    },
    "tags": []
   },
   "outputs": [
    {
     "data": {
      "application/vnd.jupyter.widget-view+json": {
       "model_id": "da1837336d6f41c89273386177ea81d9",
       "version_major": 2,
       "version_minor": 0
      },
      "text/plain": [
       "Loading checkpoint shards:   0%|          | 0/4 [00:00<?, ?it/s]"
      ]
     },
     "metadata": {},
     "output_type": "display_data"
    }
   ],
   "source": [
    "base_model_name = '/kaggle/input/llama-3.1/transformers/8b-instruct/2'\n",
    "\n",
    "bnb_config = BitsAndBytesConfig(\n",
    "    load_in_4bit = True,\n",
    "    bnb_4bit_use_double_quant = False,\n",
    "    bnb_4bit_quant_type = 'nf4',\n",
    "    llm_int8_enable_fp32_cpu_offload=True,\n",
    "    bnb_4bit_compute_dtype = 'float16')\n",
    "\n",
    "\n",
    "model = AutoModelForCausalLM.from_pretrained(\n",
    "    base_model_name,\n",
    "    device_map=\"auto\",\n",
    "    torch_dtype=torch.float16,\n",
    "    quantization_config=bnb_config, \n",
    ")\n",
    "\n",
    "model.config._use_cache = False\n",
    "model.config.pretaining_tp = 1"
   ]
  },
  {
   "cell_type": "code",
   "execution_count": 41,
   "id": "c0b00997",
   "metadata": {
    "execution": {
     "iopub.execute_input": "2024-10-01T20:26:04.277448Z",
     "iopub.status.busy": "2024-10-01T20:26:04.276734Z",
     "iopub.status.idle": "2024-10-01T20:26:04.986262Z",
     "shell.execute_reply": "2024-10-01T20:26:04.985467Z"
    },
    "papermill": {
     "duration": 0.735528,
     "end_time": "2024-10-01T20:26:04.988595",
     "exception": false,
     "start_time": "2024-10-01T20:26:04.253067",
     "status": "completed"
    },
    "tags": []
   },
   "outputs": [],
   "source": [
    "tokenizer = AutoTokenizer.from_pretrained(base_model_name)\n",
    "tokenizer.pad_token_id  = tokenizer.eos_token_id"
   ]
  },
  {
   "cell_type": "code",
   "execution_count": 42,
   "id": "e051f682",
   "metadata": {
    "execution": {
     "iopub.execute_input": "2024-10-01T20:26:05.035609Z",
     "iopub.status.busy": "2024-10-01T20:26:05.035218Z",
     "iopub.status.idle": "2024-10-01T20:26:05.043070Z",
     "shell.execute_reply": "2024-10-01T20:26:05.042150Z"
    },
    "papermill": {
     "duration": 0.033518,
     "end_time": "2024-10-01T20:26:05.044970",
     "exception": false,
     "start_time": "2024-10-01T20:26:05.011452",
     "status": "completed"
    },
    "tags": []
   },
   "outputs": [],
   "source": [
    "def predict(test,model,tokenizer):\n",
    "    y_pred = []\n",
    "    categories = ['bangladesh', 'sports', 'technology', 'entertainment',\n",
    "       'international', 'economy', 'life-style', 'opinion', 'education']\n",
    "\n",
    "\n",
    "    \n",
    "    for i in tqdm(range(len(test))):\n",
    "        prompt = test.iloc[i][\"text\"]\n",
    "        pipe = pipeline(task=\"text-generation\", \n",
    "                        model=model, \n",
    "                        tokenizer=tokenizer, \n",
    "                        max_new_tokens=2, \n",
    "                        temperature=0.1,\n",
    "                        torch_dtype=torch.float16)\n",
    "        \n",
    "        result = pipe(prompt)\n",
    "        answer = result[0]['generated_text'].split(\"label:\")[-1].strip()\n",
    "        \n",
    "        # Determine the predicted category\n",
    "        for category in categories:\n",
    "            if category.lower() in answer.lower():\n",
    "                y_pred.append(category)\n",
    "                break\n",
    "        else:\n",
    "            y_pred.append(\"none\")\n",
    "    \n",
    "    return y_pred"
   ]
  },
  {
   "cell_type": "code",
   "execution_count": 43,
   "id": "a3170f61",
   "metadata": {
    "execution": {
     "iopub.execute_input": "2024-10-01T20:26:05.090927Z",
     "iopub.status.busy": "2024-10-01T20:26:05.090579Z",
     "iopub.status.idle": "2024-10-01T20:35:19.514764Z",
     "shell.execute_reply": "2024-10-01T20:35:19.513746Z"
    },
    "papermill": {
     "duration": 554.449476,
     "end_time": "2024-10-01T20:35:19.516933",
     "exception": false,
     "start_time": "2024-10-01T20:26:05.067457",
     "status": "completed"
    },
    "tags": []
   },
   "outputs": [
    {
     "name": "stderr",
     "output_type": "stream",
     "text": [
      "  0%|          | 0/100 [00:00<?, ?it/s]Starting from v4.46, the `logits` model output will have the same type as the model (except at train time, where it will always be FP32)\n",
      "100%|██████████| 100/100 [09:14<00:00,  5.54s/it]\n"
     ]
    }
   ],
   "source": [
    "y_pred = predict(X_test, model, tokenizer)"
   ]
  },
  {
   "cell_type": "code",
   "execution_count": 44,
   "id": "d52057e0",
   "metadata": {
    "execution": {
     "iopub.execute_input": "2024-10-01T20:35:19.580203Z",
     "iopub.status.busy": "2024-10-01T20:35:19.579370Z",
     "iopub.status.idle": "2024-10-01T20:35:19.589460Z",
     "shell.execute_reply": "2024-10-01T20:35:19.588582Z"
    },
    "papermill": {
     "duration": 0.043683,
     "end_time": "2024-10-01T20:35:19.591520",
     "exception": false,
     "start_time": "2024-10-01T20:35:19.547837",
     "status": "completed"
    },
    "tags": []
   },
   "outputs": [],
   "source": [
    "def evaluate(y_true, y_pred):\n",
    "    labels = ['bangladesh', 'sports', 'technology', 'entertainment',\n",
    "       'international', 'economy', 'life-style', 'opinion', 'education']\n",
    "    mapping = {label: idx for idx, label in enumerate(labels)}\n",
    "    \n",
    "    def map_func(x):\n",
    "        return mapping.get(x, -1)  # Map to -1 if not found, but should not occur with correct data\n",
    "    \n",
    "    y_true_mapped = np.vectorize(map_func)(y_true)\n",
    "    y_pred_mapped = np.vectorize(map_func)(y_pred)\n",
    "    \n",
    "    # Calculate accuracy\n",
    "    accuracy = accuracy_score(y_true=y_true_mapped, y_pred=y_pred_mapped)\n",
    "    print(f'Accuracy: {accuracy:.3f}')\n",
    "    \n",
    "    # Generate accuracy report\n",
    "    unique_labels = set(y_true_mapped)  # Get unique labels\n",
    "    \n",
    "    for label in unique_labels:\n",
    "        label_indices = [i for i in range(len(y_true_mapped)) if y_true_mapped[i] == label]\n",
    "        label_y_true = [y_true_mapped[i] for i in label_indices]\n",
    "        label_y_pred = [y_pred_mapped[i] for i in label_indices]\n",
    "        label_accuracy = accuracy_score(label_y_true, label_y_pred)\n",
    "        print(f'Accuracy for label {labels[label]}: {label_accuracy:.3f}')\n",
    "        \n",
    "    # Generate classification report\n",
    "    class_report = classification_report(y_true=y_true_mapped, y_pred=y_pred_mapped, target_names=labels, labels=list(range(len(labels))))\n",
    "    print('\\nClassification Report:')\n",
    "    print(class_report)\n",
    "    \n",
    "    # Generate confusion matrix\n",
    "    conf_matrix = confusion_matrix(y_true=y_true_mapped, y_pred=y_pred_mapped, labels=list(range(len(labels))))\n",
    "    print('\\nConfusion Matrix:')\n",
    "    print(conf_matrix)"
   ]
  },
  {
   "cell_type": "code",
   "execution_count": 45,
   "id": "43a1f2cf",
   "metadata": {
    "execution": {
     "iopub.execute_input": "2024-10-01T20:35:19.653069Z",
     "iopub.status.busy": "2024-10-01T20:35:19.652406Z",
     "iopub.status.idle": "2024-10-01T20:35:19.680403Z",
     "shell.execute_reply": "2024-10-01T20:35:19.678952Z"
    },
    "papermill": {
     "duration": 0.060701,
     "end_time": "2024-10-01T20:35:19.682556",
     "exception": false,
     "start_time": "2024-10-01T20:35:19.621855",
     "status": "completed"
    },
    "tags": []
   },
   "outputs": [
    {
     "name": "stdout",
     "output_type": "stream",
     "text": [
      "Accuracy: 0.510\n",
      "Accuracy for label bangladesh: 0.800\n",
      "Accuracy for label sports: 0.600\n",
      "Accuracy for label technology: 0.000\n",
      "Accuracy for label entertainment: 0.200\n",
      "Accuracy for label international: 0.200\n",
      "Accuracy for label economy: 0.429\n",
      "Accuracy for label life-style: 0.944\n",
      "Accuracy for label opinion: 0.167\n",
      "Accuracy for label education: 0.538\n",
      "\n",
      "Classification Report:\n",
      "               precision    recall  f1-score   support\n",
      "\n",
      "   bangladesh       0.28      0.80      0.41        15\n",
      "       sports       1.00      0.60      0.75        10\n",
      "   technology       0.00      0.00      0.00         5\n",
      "entertainment       1.00      0.20      0.33        10\n",
      "international       0.67      0.20      0.31        10\n",
      "      economy       1.00      0.43      0.60         7\n",
      "   life-style       0.68      0.94      0.79        18\n",
      "      opinion       0.40      0.17      0.24        12\n",
      "    education       0.88      0.54      0.67        13\n",
      "\n",
      "    micro avg       0.54      0.51      0.52       100\n",
      "    macro avg       0.66      0.43      0.46       100\n",
      " weighted avg       0.66      0.51      0.50       100\n",
      "\n",
      "\n",
      "Confusion Matrix:\n",
      "[[12  0  0  0  0  0  1  1  0]\n",
      " [ 4  6  0  0  0  0  0  0  0]\n",
      " [ 3  0  0  0  0  0  2  0  0]\n",
      " [ 5  0  0  2  0  0  2  0  0]\n",
      " [ 4  0  0  0  2  0  1  1  0]\n",
      " [ 2  0  0  0  0  3  0  1  1]\n",
      " [ 1  0  0  0  0  0 17  0  0]\n",
      " [ 6  0  0  0  1  0  2  2  0]\n",
      " [ 6  0  0  0  0  0  0  0  7]]\n"
     ]
    },
    {
     "name": "stderr",
     "output_type": "stream",
     "text": [
      "/opt/conda/lib/python3.10/site-packages/sklearn/metrics/_classification.py:1344: UndefinedMetricWarning: Precision and F-score are ill-defined and being set to 0.0 in labels with no predicted samples. Use `zero_division` parameter to control this behavior.\n",
      "  _warn_prf(average, modifier, msg_start, len(result))\n",
      "/opt/conda/lib/python3.10/site-packages/sklearn/metrics/_classification.py:1344: UndefinedMetricWarning: Precision and F-score are ill-defined and being set to 0.0 in labels with no predicted samples. Use `zero_division` parameter to control this behavior.\n",
      "  _warn_prf(average, modifier, msg_start, len(result))\n",
      "/opt/conda/lib/python3.10/site-packages/sklearn/metrics/_classification.py:1344: UndefinedMetricWarning: Precision and F-score are ill-defined and being set to 0.0 in labels with no predicted samples. Use `zero_division` parameter to control this behavior.\n",
      "  _warn_prf(average, modifier, msg_start, len(result))\n"
     ]
    }
   ],
   "source": [
    "evaluate(y_true, y_pred)"
   ]
  },
  {
   "cell_type": "code",
   "execution_count": 46,
   "id": "937c374c",
   "metadata": {
    "execution": {
     "iopub.execute_input": "2024-10-01T20:35:19.746011Z",
     "iopub.status.busy": "2024-10-01T20:35:19.745675Z",
     "iopub.status.idle": "2024-10-01T20:35:19.752673Z",
     "shell.execute_reply": "2024-10-01T20:35:19.751972Z"
    },
    "papermill": {
     "duration": 0.041416,
     "end_time": "2024-10-01T20:35:19.754599",
     "exception": false,
     "start_time": "2024-10-01T20:35:19.713183",
     "status": "completed"
    },
    "tags": []
   },
   "outputs": [],
   "source": [
    "import bitsandbytes as bnb\n",
    "\n",
    "def find_all_linear_names(model):\n",
    "    cls = bnb.nn.Linear4bit\n",
    "    lora_module_names = set()\n",
    "    for name, module in model.named_modules():\n",
    "        if isinstance(module, cls):\n",
    "            names = name.split('.')\n",
    "            lora_module_names.add(names[0] if len(names) == 1 else names[-1])\n",
    "    if 'lm_head' in lora_module_names:  # needed for 16 bit\n",
    "        lora_module_names.remove('lm_head')\n",
    "    return list(lora_module_names)"
   ]
  },
  {
   "cell_type": "code",
   "execution_count": 47,
   "id": "a4feeddb",
   "metadata": {
    "execution": {
     "iopub.execute_input": "2024-10-01T20:35:19.817710Z",
     "iopub.status.busy": "2024-10-01T20:35:19.816688Z",
     "iopub.status.idle": "2024-10-01T20:35:19.825202Z",
     "shell.execute_reply": "2024-10-01T20:35:19.824381Z"
    },
    "papermill": {
     "duration": 0.042021,
     "end_time": "2024-10-01T20:35:19.827115",
     "exception": false,
     "start_time": "2024-10-01T20:35:19.785094",
     "status": "completed"
    },
    "tags": []
   },
   "outputs": [
    {
     "data": {
      "text/plain": [
       "['v_proj', 'down_proj', 'k_proj', 'gate_proj', 'q_proj', 'up_proj', 'o_proj']"
      ]
     },
     "execution_count": 47,
     "metadata": {},
     "output_type": "execute_result"
    }
   ],
   "source": [
    "modules = find_all_linear_names(model)\n",
    "modules"
   ]
  },
  {
   "cell_type": "code",
   "execution_count": 48,
   "id": "4cba01f9",
   "metadata": {
    "execution": {
     "iopub.execute_input": "2024-10-01T20:35:19.890451Z",
     "iopub.status.busy": "2024-10-01T20:35:19.889812Z",
     "iopub.status.idle": "2024-10-01T20:35:22.883703Z",
     "shell.execute_reply": "2024-10-01T20:35:22.882805Z"
    },
    "papermill": {
     "duration": 3.027353,
     "end_time": "2024-10-01T20:35:22.885875",
     "exception": false,
     "start_time": "2024-10-01T20:35:19.858522",
     "status": "completed"
    },
    "tags": []
   },
   "outputs": [
    {
     "name": "stderr",
     "output_type": "stream",
     "text": [
      "/opt/conda/lib/python3.10/site-packages/huggingface_hub/utils/_deprecation.py:100: FutureWarning: Deprecated argument(s) used in '__init__': dataset_text_field, max_seq_length, dataset_kwargs. Will not be supported from version '1.0.0'.\n",
      "\n",
      "Deprecated positional argument(s) used in SFTTrainer, please use the SFTConfig to set these arguments instead.\n",
      "  warnings.warn(message, FutureWarning)\n",
      "/opt/conda/lib/python3.10/site-packages/trl/trainer/sft_trainer.py:283: UserWarning: You passed a `max_seq_length` argument to the SFTTrainer, the value you passed will override the one in the `SFTConfig`.\n",
      "  warnings.warn(\n",
      "/opt/conda/lib/python3.10/site-packages/trl/trainer/sft_trainer.py:321: UserWarning: You passed a `dataset_text_field` argument to the SFTTrainer, the value you passed will override the one in the `SFTConfig`.\n",
      "  warnings.warn(\n",
      "/opt/conda/lib/python3.10/site-packages/trl/trainer/sft_trainer.py:327: UserWarning: You passed a `dataset_kwargs` argument to the SFTTrainer, the value you passed will override the one in the `SFTConfig`.\n",
      "  warnings.warn(\n"
     ]
    },
    {
     "data": {
      "application/vnd.jupyter.widget-view+json": {
       "model_id": "b003e583c4664f33a4cc14009d38d91a",
       "version_major": 2,
       "version_minor": 0
      },
      "text/plain": [
       "Map:   0%|          | 0/800 [00:00<?, ? examples/s]"
      ]
     },
     "metadata": {},
     "output_type": "display_data"
    },
    {
     "data": {
      "application/vnd.jupyter.widget-view+json": {
       "model_id": "dfb561eaf2304d8c84caa4dd58464c73",
       "version_major": 2,
       "version_minor": 0
      },
      "text/plain": [
       "Map:   0%|          | 0/100 [00:00<?, ? examples/s]"
      ]
     },
     "metadata": {},
     "output_type": "display_data"
    },
    {
     "name": "stderr",
     "output_type": "stream",
     "text": [
      "/opt/conda/lib/python3.10/site-packages/accelerate/accelerator.py:494: FutureWarning: `torch.cuda.amp.GradScaler(args...)` is deprecated. Please use `torch.amp.GradScaler('cuda', args...)` instead.\n",
      "  self.scaler = torch.cuda.amp.GradScaler(**kwargs)\n"
     ]
    }
   ],
   "source": [
    "output_dir=\"llama-3.1 8b model\"\n",
    "\n",
    "peft_config = LoraConfig(\n",
    "    lora_alpha=16,\n",
    "    lora_dropout=0,\n",
    "    r=16,\n",
    "    bias=\"none\",\n",
    "    task_type=\"CAUSAL_LM\",\n",
    "    target_modules=modules,\n",
    ")\n",
    "\n",
    "training_arguments = TrainingArguments(\n",
    "    output_dir=output_dir,                    # directory to save and repository id\n",
    "    num_train_epochs=1,                       # number of training epochs\n",
    "    per_device_train_batch_size=1,            # batch size per device during training\n",
    "    gradient_accumulation_steps=8,            # number of steps before performing a backward/update pass\n",
    "    gradient_checkpointing=True,              # use gradient checkpointing to save memory\n",
    "    optim=\"paged_adamw_32bit\",\n",
    "    logging_steps=1,                         \n",
    "    learning_rate=2e-4,                       # learning rate, based on QLoRA paper\n",
    "    weight_decay=0.001,\n",
    "    fp16=True,\n",
    "    bf16=False,\n",
    "    max_grad_norm=0.3,                        # max gradient norm based on QLoRA paper\n",
    "    max_steps=-1,\n",
    "    warmup_ratio=0.03,                        # warmup ratio based on QLoRA paper\n",
    "    group_by_length=False,\n",
    "    lr_scheduler_type=\"cosine\",               # use cosine learning rate scheduler\n",
    "    report_to=\"wandb\",                  # report metrics to w&b\n",
    "    eval_strategy=\"steps\",              # save checkpoint every epoch\n",
    "    eval_steps = 0.2\n",
    ")\n",
    "\n",
    "trainer = SFTTrainer(\n",
    "    model=model,\n",
    "    args=training_arguments,\n",
    "    train_dataset=train_data,\n",
    "    eval_dataset=val_data,\n",
    "    peft_config=peft_config,\n",
    "    dataset_text_field=\"text\",\n",
    "    tokenizer=tokenizer,\n",
    "    max_seq_length=256,\n",
    "    packing=False,\n",
    "    dataset_kwargs={\n",
    "    \"add_special_tokens\": False,\n",
    "    \"append_concat_token\": False,\n",
    "    }\n",
    ")"
   ]
  },
  {
   "cell_type": "code",
   "execution_count": 49,
   "id": "bdf47cdd",
   "metadata": {
    "execution": {
     "iopub.execute_input": "2024-10-01T20:35:22.950245Z",
     "iopub.status.busy": "2024-10-01T20:35:22.949858Z",
     "iopub.status.idle": "2024-10-01T21:12:30.767876Z",
     "shell.execute_reply": "2024-10-01T21:12:30.766953Z"
    },
    "papermill": {
     "duration": 2227.852575,
     "end_time": "2024-10-01T21:12:30.769863",
     "exception": false,
     "start_time": "2024-10-01T20:35:22.917288",
     "status": "completed"
    },
    "tags": []
   },
   "outputs": [
    {
     "name": "stderr",
     "output_type": "stream",
     "text": [
      "\u001b[34m\u001b[1mwandb\u001b[0m: \u001b[33mWARNING\u001b[0m The `run_name` is currently set to the same value as `TrainingArguments.output_dir`. If this was not intended, please specify a different run name by setting the `TrainingArguments.run_name` parameter.\n",
      "`use_cache=True` is incompatible with gradient checkpointing. Setting `use_cache=False`.\n",
      "/opt/conda/lib/python3.10/site-packages/torch/_dynamo/eval_frame.py:600: UserWarning: torch.utils.checkpoint: the use_reentrant parameter should be passed explicitly. In version 2.4 we will raise an exception if use_reentrant is not passed. use_reentrant=False is recommended, but if you need to preserve the current default behavior, you can pass use_reentrant=True. Refer to docs for more details on the differences between the two variants.\n",
      "  return fn(*args, **kwargs)\n",
      "/opt/conda/lib/python3.10/site-packages/torch/utils/checkpoint.py:295: FutureWarning: `torch.cpu.amp.autocast(args...)` is deprecated. Please use `torch.amp.autocast('cpu', args...)` instead.\n",
      "  with torch.enable_grad(), device_autocast_ctx, torch.cpu.amp.autocast(**ctx.cpu_autocast_kwargs):  # type: ignore[attr-defined]\n"
     ]
    },
    {
     "data": {
      "text/html": [
       "\n",
       "    <div>\n",
       "      \n",
       "      <progress value='100' max='100' style='width:300px; height:20px; vertical-align: middle;'></progress>\n",
       "      [100/100 36:46, Epoch 1/1]\n",
       "    </div>\n",
       "    <table border=\"1\" class=\"dataframe\">\n",
       "  <thead>\n",
       " <tr style=\"text-align: left;\">\n",
       "      <th>Step</th>\n",
       "      <th>Training Loss</th>\n",
       "      <th>Validation Loss</th>\n",
       "    </tr>\n",
       "  </thead>\n",
       "  <tbody>\n",
       "    <tr>\n",
       "      <td>20</td>\n",
       "      <td>0.673300</td>\n",
       "      <td>0.740136</td>\n",
       "    </tr>\n",
       "    <tr>\n",
       "      <td>40</td>\n",
       "      <td>0.746000</td>\n",
       "      <td>0.725200</td>\n",
       "    </tr>\n",
       "    <tr>\n",
       "      <td>60</td>\n",
       "      <td>0.755900</td>\n",
       "      <td>0.715354</td>\n",
       "    </tr>\n",
       "    <tr>\n",
       "      <td>80</td>\n",
       "      <td>0.639000</td>\n",
       "      <td>0.707867</td>\n",
       "    </tr>\n",
       "    <tr>\n",
       "      <td>100</td>\n",
       "      <td>0.649700</td>\n",
       "      <td>0.706240</td>\n",
       "    </tr>\n",
       "  </tbody>\n",
       "</table><p>"
      ],
      "text/plain": [
       "<IPython.core.display.HTML object>"
      ]
     },
     "metadata": {},
     "output_type": "display_data"
    },
    {
     "data": {
      "text/plain": [
       "TrainOutput(global_step=100, training_loss=0.7469635611772537, metrics={'train_runtime': 2226.7837, 'train_samples_per_second': 0.359, 'train_steps_per_second': 0.045, 'total_flos': 9272323170729984.0, 'train_loss': 0.7469635611772537, 'epoch': 1.0})"
      ]
     },
     "execution_count": 49,
     "metadata": {},
     "output_type": "execute_result"
    }
   ],
   "source": [
    "# Train model\n",
    "trainer.train()"
   ]
  },
  {
   "cell_type": "code",
   "execution_count": 50,
   "id": "4389ac4f",
   "metadata": {
    "execution": {
     "iopub.execute_input": "2024-10-01T21:12:30.842428Z",
     "iopub.status.busy": "2024-10-01T21:12:30.841738Z",
     "iopub.status.idle": "2024-10-01T21:12:38.191523Z",
     "shell.execute_reply": "2024-10-01T21:12:38.190504Z"
    },
    "papermill": {
     "duration": 7.391686,
     "end_time": "2024-10-01T21:12:38.193861",
     "exception": false,
     "start_time": "2024-10-01T21:12:30.802175",
     "status": "completed"
    },
    "tags": []
   },
   "outputs": [
    {
     "name": "stderr",
     "output_type": "stream",
     "text": [
      "\u001b[34m\u001b[1mwandb\u001b[0m:                                                                                \n",
      "\u001b[34m\u001b[1mwandb\u001b[0m: \n",
      "\u001b[34m\u001b[1mwandb\u001b[0m: Run history:\n",
      "\u001b[34m\u001b[1mwandb\u001b[0m:               eval/loss █▅▃▁▁\n",
      "\u001b[34m\u001b[1mwandb\u001b[0m:            eval/runtime ▄▂█▁▄\n",
      "\u001b[34m\u001b[1mwandb\u001b[0m: eval/samples_per_second ▁▁▁▁▁\n",
      "\u001b[34m\u001b[1mwandb\u001b[0m:   eval/steps_per_second ██▁██\n",
      "\u001b[34m\u001b[1mwandb\u001b[0m:             train/epoch ▁▁▁▂▂▂▂▂▃▃▃▃▃▃▄▄▄▄▄▄▄▅▅▅▅▅▅▆▆▆▆▇▇▇▇▇████\n",
      "\u001b[34m\u001b[1mwandb\u001b[0m:       train/global_step ▁▁▂▂▂▂▂▂▂▂▃▃▃▃▃▃▄▄▄▄▄▄▅▅▅▅▆▆▆▆▇▇▇▇▇▇████\n",
      "\u001b[34m\u001b[1mwandb\u001b[0m:         train/grad_norm ▂▃▄█▂▁▁▂▂▂▂▁▂▁▁▁▂▁▂▁▁▁▁▂▂▂▂▂▁▁▁▁▂▁▁▁▂▁▁▂\n",
      "\u001b[34m\u001b[1mwandb\u001b[0m:     train/learning_rate ▃▆███████▇▇▇▇▆▆▆▅▅▅▅▄▄▄▄▃▃▃▃▂▂▂▂▁▁▁▁▁▁▁▁\n",
      "\u001b[34m\u001b[1mwandb\u001b[0m:              train/loss ▇█▇▇▃▂▂▃▂▂▂▂▂▂▂▂▂▂▃▂▂▃▃▂▂▃▂▁▁▂▂▂▂▂▁▂▃▁▂▂\n",
      "\u001b[34m\u001b[1mwandb\u001b[0m: \n",
      "\u001b[34m\u001b[1mwandb\u001b[0m: Run summary:\n",
      "\u001b[34m\u001b[1mwandb\u001b[0m:                eval/loss 0.70624\n",
      "\u001b[34m\u001b[1mwandb\u001b[0m:             eval/runtime 54.9665\n",
      "\u001b[34m\u001b[1mwandb\u001b[0m:  eval/samples_per_second 1.819\n",
      "\u001b[34m\u001b[1mwandb\u001b[0m:    eval/steps_per_second 0.237\n",
      "\u001b[34m\u001b[1mwandb\u001b[0m:               total_flos 9272323170729984.0\n",
      "\u001b[34m\u001b[1mwandb\u001b[0m:              train/epoch 1\n",
      "\u001b[34m\u001b[1mwandb\u001b[0m:        train/global_step 100\n",
      "\u001b[34m\u001b[1mwandb\u001b[0m:          train/grad_norm 0.55769\n",
      "\u001b[34m\u001b[1mwandb\u001b[0m:      train/learning_rate 0\n",
      "\u001b[34m\u001b[1mwandb\u001b[0m:               train/loss 0.6497\n",
      "\u001b[34m\u001b[1mwandb\u001b[0m:               train_loss 0.74696\n",
      "\u001b[34m\u001b[1mwandb\u001b[0m:            train_runtime 2226.7837\n",
      "\u001b[34m\u001b[1mwandb\u001b[0m: train_samples_per_second 0.359\n",
      "\u001b[34m\u001b[1mwandb\u001b[0m:   train_steps_per_second 0.045\n",
      "\u001b[34m\u001b[1mwandb\u001b[0m: \n",
      "\u001b[34m\u001b[1mwandb\u001b[0m: 🚀 View run \u001b[33mdashing-deluge-3\u001b[0m at: \u001b[34m\u001b[4mhttps://wandb.ai/cse-mahmud-evan-ccn-university-of-science-and-technology/Fine-tune%20llama-3.1-8b-it%20on%20Newspaper%20Dataset/runs/p67ynr8x\u001b[0m\n",
      "\u001b[34m\u001b[1mwandb\u001b[0m: ⭐️ View project at: \u001b[34m\u001b[4mhttps://wandb.ai/cse-mahmud-evan-ccn-university-of-science-and-technology/Fine-tune%20llama-3.1-8b-it%20on%20Newspaper%20Dataset\u001b[0m\n",
      "\u001b[34m\u001b[1mwandb\u001b[0m: Synced 5 W&B file(s), 0 media file(s), 0 artifact file(s) and 0 other file(s)\n",
      "\u001b[34m\u001b[1mwandb\u001b[0m: Find logs at: \u001b[35m\u001b[1m./wandb/run-20241001_202301-p67ynr8x/logs\u001b[0m\n"
     ]
    }
   ],
   "source": [
    "wandb.finish()\n",
    "model.config.use_cache = True"
   ]
  },
  {
   "cell_type": "code",
   "execution_count": 51,
   "id": "6b48cd4e",
   "metadata": {
    "execution": {
     "iopub.execute_input": "2024-10-01T21:12:38.262162Z",
     "iopub.status.busy": "2024-10-01T21:12:38.261263Z",
     "iopub.status.idle": "2024-10-01T21:12:39.199882Z",
     "shell.execute_reply": "2024-10-01T21:12:39.198901Z"
    },
    "papermill": {
     "duration": 0.975637,
     "end_time": "2024-10-01T21:12:39.203090",
     "exception": false,
     "start_time": "2024-10-01T21:12:38.227453",
     "status": "completed"
    },
    "tags": []
   },
   "outputs": [
    {
     "data": {
      "text/plain": [
       "('llama-3.1 8b model/tokenizer_config.json',\n",
       " 'llama-3.1 8b model/special_tokens_map.json',\n",
       " 'llama-3.1 8b model/tokenizer.json')"
      ]
     },
     "execution_count": 51,
     "metadata": {},
     "output_type": "execute_result"
    }
   ],
   "source": [
    "#Save Train Model and Tokenizer\n",
    "trainer.save_model(output_dir)\n",
    "tokenizer.save_pretrained(output_dir)"
   ]
  },
  {
   "cell_type": "code",
   "execution_count": 52,
   "id": "4a98f18d",
   "metadata": {
    "execution": {
     "iopub.execute_input": "2024-10-01T21:12:39.272354Z",
     "iopub.status.busy": "2024-10-01T21:12:39.271539Z",
     "iopub.status.idle": "2024-10-01T21:22:30.299499Z",
     "shell.execute_reply": "2024-10-01T21:22:30.298493Z"
    },
    "papermill": {
     "duration": 591.064415,
     "end_time": "2024-10-01T21:22:30.302155",
     "exception": false,
     "start_time": "2024-10-01T21:12:39.237740",
     "status": "completed"
    },
    "tags": []
   },
   "outputs": [
    {
     "name": "stderr",
     "output_type": "stream",
     "text": [
      "100%|██████████| 100/100 [09:51<00:00,  5.91s/it]\n"
     ]
    }
   ],
   "source": [
    "y_pred = predict(X_test, model, tokenizer)"
   ]
  },
  {
   "cell_type": "code",
   "execution_count": 53,
   "id": "2a918808",
   "metadata": {
    "execution": {
     "iopub.execute_input": "2024-10-01T21:22:30.385047Z",
     "iopub.status.busy": "2024-10-01T21:22:30.384684Z",
     "iopub.status.idle": "2024-10-01T21:22:30.404876Z",
     "shell.execute_reply": "2024-10-01T21:22:30.403548Z"
    },
    "papermill": {
     "duration": 0.064324,
     "end_time": "2024-10-01T21:22:30.407069",
     "exception": false,
     "start_time": "2024-10-01T21:22:30.342745",
     "status": "completed"
    },
    "tags": []
   },
   "outputs": [
    {
     "name": "stdout",
     "output_type": "stream",
     "text": [
      "Accuracy: 0.400\n",
      "Accuracy for label bangladesh: 0.000\n",
      "Accuracy for label sports: 0.800\n",
      "Accuracy for label technology: 0.800\n",
      "Accuracy for label entertainment: 0.500\n",
      "Accuracy for label international: 0.000\n",
      "Accuracy for label economy: 0.857\n",
      "Accuracy for label life-style: 0.278\n",
      "Accuracy for label opinion: 0.917\n",
      "Accuracy for label education: 0.077\n",
      "\n",
      "Classification Report:\n",
      "               precision    recall  f1-score   support\n",
      "\n",
      "   bangladesh       0.00      0.00      0.00        15\n",
      "       sports       0.73      0.80      0.76        10\n",
      "   technology       0.50      0.80      0.62         5\n",
      "entertainment       0.71      0.50      0.59        10\n",
      "international       0.00      0.00      0.00        10\n",
      "      economy       0.55      0.86      0.67         7\n",
      "   life-style       0.71      0.28      0.40        18\n",
      "      opinion       0.22      0.92      0.35        12\n",
      "    education       1.00      0.08      0.14        13\n",
      "\n",
      "    micro avg       0.40      0.40      0.40       100\n",
      "    macro avg       0.49      0.47      0.39       100\n",
      " weighted avg       0.49      0.40      0.35       100\n",
      "\n",
      "\n",
      "Confusion Matrix:\n",
      "[[ 0  0  0  0  0  3  1 11  0]\n",
      " [ 0  8  0  0  0  0  0  2  0]\n",
      " [ 0  0  4  0  0  0  0  1  0]\n",
      " [ 1  0  0  5  0  0  1  3  0]\n",
      " [ 0  2  2  1  0  1  0  4  0]\n",
      " [ 0  0  0  0  0  6  0  1  0]\n",
      " [ 0  0  1  1  0  0  5 11  0]\n",
      " [ 0  0  0  0  0  1  0 11  0]\n",
      " [ 3  1  1  0  0  0  0  6  1]]\n"
     ]
    },
    {
     "name": "stderr",
     "output_type": "stream",
     "text": [
      "/opt/conda/lib/python3.10/site-packages/sklearn/metrics/_classification.py:1344: UndefinedMetricWarning: Precision and F-score are ill-defined and being set to 0.0 in labels with no predicted samples. Use `zero_division` parameter to control this behavior.\n",
      "  _warn_prf(average, modifier, msg_start, len(result))\n",
      "/opt/conda/lib/python3.10/site-packages/sklearn/metrics/_classification.py:1344: UndefinedMetricWarning: Precision and F-score are ill-defined and being set to 0.0 in labels with no predicted samples. Use `zero_division` parameter to control this behavior.\n",
      "  _warn_prf(average, modifier, msg_start, len(result))\n",
      "/opt/conda/lib/python3.10/site-packages/sklearn/metrics/_classification.py:1344: UndefinedMetricWarning: Precision and F-score are ill-defined and being set to 0.0 in labels with no predicted samples. Use `zero_division` parameter to control this behavior.\n",
      "  _warn_prf(average, modifier, msg_start, len(result))\n"
     ]
    }
   ],
   "source": [
    "evaluate(y_true, y_pred)"
   ]
  },
  {
   "cell_type": "code",
   "execution_count": 54,
   "id": "401e23ea",
   "metadata": {
    "execution": {
     "iopub.execute_input": "2024-10-01T21:22:30.489790Z",
     "iopub.status.busy": "2024-10-01T21:22:30.489454Z",
     "iopub.status.idle": "2024-10-01T21:22:30.493280Z",
     "shell.execute_reply": "2024-10-01T21:22:30.492544Z"
    },
    "papermill": {
     "duration": 0.047077,
     "end_time": "2024-10-01T21:22:30.495088",
     "exception": false,
     "start_time": "2024-10-01T21:22:30.448011",
     "status": "completed"
    },
    "tags": []
   },
   "outputs": [],
   "source": [
    "#X_val.head()"
   ]
  },
  {
   "cell_type": "code",
   "execution_count": 55,
   "id": "ed782805",
   "metadata": {
    "execution": {
     "iopub.execute_input": "2024-10-01T21:22:30.584983Z",
     "iopub.status.busy": "2024-10-01T21:22:30.584560Z",
     "iopub.status.idle": "2024-10-01T21:22:30.588905Z",
     "shell.execute_reply": "2024-10-01T21:22:30.587978Z"
    },
    "papermill": {
     "duration": 0.054239,
     "end_time": "2024-10-01T21:22:30.590970",
     "exception": false,
     "start_time": "2024-10-01T21:22:30.536731",
     "status": "completed"
    },
    "tags": []
   },
   "outputs": [],
   "source": [
    "#vali = X_val.drop('category',axis = 1)"
   ]
  },
  {
   "cell_type": "code",
   "execution_count": 56,
   "id": "5c5e0c9f",
   "metadata": {
    "execution": {
     "iopub.execute_input": "2024-10-01T21:22:30.676351Z",
     "iopub.status.busy": "2024-10-01T21:22:30.675408Z",
     "iopub.status.idle": "2024-10-01T21:22:30.679848Z",
     "shell.execute_reply": "2024-10-01T21:22:30.678895Z"
    },
    "papermill": {
     "duration": 0.048986,
     "end_time": "2024-10-01T21:22:30.681811",
     "exception": false,
     "start_time": "2024-10-01T21:22:30.632825",
     "status": "completed"
    },
    "tags": []
   },
   "outputs": [],
   "source": [
    "#vali.head(2)"
   ]
  },
  {
   "cell_type": "code",
   "execution_count": 57,
   "id": "4fdc2db3",
   "metadata": {
    "execution": {
     "iopub.execute_input": "2024-10-01T21:22:30.766362Z",
     "iopub.status.busy": "2024-10-01T21:22:30.765952Z",
     "iopub.status.idle": "2024-10-01T21:22:30.773100Z",
     "shell.execute_reply": "2024-10-01T21:22:30.772230Z"
    },
    "papermill": {
     "duration": 0.051837,
     "end_time": "2024-10-01T21:22:30.775124",
     "exception": false,
     "start_time": "2024-10-01T21:22:30.723287",
     "status": "completed"
    },
    "tags": []
   },
   "outputs": [
    {
     "data": {
      "text/plain": [
       "\"import pandas as pd\\nimport torch\\nimport numpy as np\\n\\n\\n# Function to convert text to a byte representation\\ndef text_to_bytes(text):\\n    return [float(byte) for byte in text.encode('utf-8')]\\n\\n# Apply to each column\\nX_test['content_bytes'] = vali['content'].apply(text_to_bytes)\\nX_test['text_bytes'] = vali['text'].apply(text_to_bytes)\\n\\n# Find the maximum length of the sequences\\nmax_len_content = max(vali['content_bytes'].apply(len))\\nmax_len_text = max(vali['text_bytes'].apply(len))\\n\\n# Function to pad sequences\\ndef pad_sequence(seq, max_len):\\n    return seq + [0.0] * (max_len - len(seq))\\n\\n# Pad sequences\\nvali['content_bytes_padded'] = vali['content_bytes'].apply(lambda x: pad_sequence(x, max_len_content))\\nvali['text_bytes_padded'] = vali['text_bytes'].apply(lambda x: pad_sequence(x, max_len_text))\\n\\n# Convert the padded lists of bytes to PyTorch tensors\\ncontent_tensor = torch.tensor(vali['content_bytes_padded'].tolist(), dtype=torch.float32)\\ntext_tensor = torch.tensor(vali['text_bytes_padded'].tolist(), dtype=torch.float32)\\n\\n# Convert to bfloat16\\ncontent_bfloat16 = content_tensor.to(torch.bfloat16)\\ntext_bfloat16 = text_tensor.to(torch.bfloat16)\\n\\n\""
      ]
     },
     "execution_count": 57,
     "metadata": {},
     "output_type": "execute_result"
    }
   ],
   "source": [
    "'''import pandas as pd\n",
    "import torch\n",
    "import numpy as np\n",
    "\n",
    "\n",
    "# Function to convert text to a byte representation\n",
    "def text_to_bytes(text):\n",
    "    return [float(byte) for byte in text.encode('utf-8')]\n",
    "\n",
    "# Apply to each column\n",
    "X_test['content_bytes'] = vali['content'].apply(text_to_bytes)\n",
    "X_test['text_bytes'] = vali['text'].apply(text_to_bytes)\n",
    "\n",
    "# Find the maximum length of the sequences\n",
    "max_len_content = max(vali['content_bytes'].apply(len))\n",
    "max_len_text = max(vali['text_bytes'].apply(len))\n",
    "\n",
    "# Function to pad sequences\n",
    "def pad_sequence(seq, max_len):\n",
    "    return seq + [0.0] * (max_len - len(seq))\n",
    "\n",
    "# Pad sequences\n",
    "vali['content_bytes_padded'] = vali['content_bytes'].apply(lambda x: pad_sequence(x, max_len_content))\n",
    "vali['text_bytes_padded'] = vali['text_bytes'].apply(lambda x: pad_sequence(x, max_len_text))\n",
    "\n",
    "# Convert the padded lists of bytes to PyTorch tensors\n",
    "content_tensor = torch.tensor(vali['content_bytes_padded'].tolist(), dtype=torch.float32)\n",
    "text_tensor = torch.tensor(vali['text_bytes_padded'].tolist(), dtype=torch.float32)\n",
    "\n",
    "# Convert to bfloat16\n",
    "content_bfloat16 = content_tensor.to(torch.bfloat16)\n",
    "text_bfloat16 = text_tensor.to(torch.bfloat16)\n",
    "\n",
    "'''"
   ]
  },
  {
   "cell_type": "code",
   "execution_count": 58,
   "id": "171497cd",
   "metadata": {
    "execution": {
     "iopub.execute_input": "2024-10-01T21:22:30.860381Z",
     "iopub.status.busy": "2024-10-01T21:22:30.859993Z",
     "iopub.status.idle": "2024-10-01T21:22:30.864094Z",
     "shell.execute_reply": "2024-10-01T21:22:30.863271Z"
    },
    "papermill": {
     "duration": 0.049074,
     "end_time": "2024-10-01T21:22:30.866046",
     "exception": false,
     "start_time": "2024-10-01T21:22:30.816972",
     "status": "completed"
    },
    "tags": []
   },
   "outputs": [],
   "source": [
    "#vali.drop()"
   ]
  },
  {
   "cell_type": "code",
   "execution_count": 59,
   "id": "05e9b367",
   "metadata": {
    "execution": {
     "iopub.execute_input": "2024-10-01T21:22:30.950650Z",
     "iopub.status.busy": "2024-10-01T21:22:30.950264Z",
     "iopub.status.idle": "2024-10-01T21:22:30.956198Z",
     "shell.execute_reply": "2024-10-01T21:22:30.955209Z"
    },
    "papermill": {
     "duration": 0.050034,
     "end_time": "2024-10-01T21:22:30.958107",
     "exception": false,
     "start_time": "2024-10-01T21:22:30.908073",
     "status": "completed"
    },
    "tags": []
   },
   "outputs": [
    {
     "data": {
      "text/plain": [
       "'print(content_bfloat16)\\nprint(text_bfloat16)'"
      ]
     },
     "execution_count": 59,
     "metadata": {},
     "output_type": "execute_result"
    }
   ],
   "source": [
    "'''print(content_bfloat16)\n",
    "print(text_bfloat16)'''"
   ]
  },
  {
   "cell_type": "code",
   "execution_count": null,
   "id": "fb35fdeb",
   "metadata": {
    "papermill": {
     "duration": 0.041133,
     "end_time": "2024-10-01T21:22:31.040350",
     "exception": false,
     "start_time": "2024-10-01T21:22:30.999217",
     "status": "completed"
    },
    "tags": []
   },
   "outputs": [],
   "source": []
  }
 ],
 "metadata": {
  "kaggle": {
   "accelerator": "gpu",
   "dataSources": [
    {
     "datasetId": 258862,
     "sourceId": 1576225,
     "sourceType": "datasetVersion"
    },
    {
     "sourceId": 197781920,
     "sourceType": "kernelVersion"
    },
    {
     "modelId": 91102,
     "modelInstanceId": 68809,
     "sourceId": 81881,
     "sourceType": "modelInstanceVersion"
    },
    {
     "modelId": 91102,
     "modelInstanceId": 68809,
     "sourceId": 104449,
     "sourceType": "modelInstanceVersion"
    }
   ],
   "isGpuEnabled": true,
   "isInternetEnabled": true,
   "language": "python",
   "sourceType": "notebook"
  },
  "kernelspec": {
   "display_name": "Python 3",
   "language": "python",
   "name": "python3"
  },
  "language_info": {
   "codemirror_mode": {
    "name": "ipython",
    "version": 3
   },
   "file_extension": ".py",
   "mimetype": "text/x-python",
   "name": "python",
   "nbconvert_exporter": "python",
   "pygments_lexer": "ipython3",
   "version": "3.10.14"
  },
  "papermill": {
   "default_parameters": {},
   "duration": 3669.270791,
   "end_time": "2024-10-01T21:22:35.019457",
   "environment_variables": {},
   "exception": null,
   "input_path": "__notebook__.ipynb",
   "output_path": "__notebook__.ipynb",
   "parameters": {},
   "start_time": "2024-10-01T20:21:25.748666",
   "version": "2.6.0"
  },
  "widgets": {
   "application/vnd.jupyter.widget-state+json": {
    "state": {
     "08899b801bb14d58bb7c34e0b280498d": {
      "model_module": "@jupyter-widgets/base",
      "model_module_version": "1.2.0",
      "model_name": "LayoutModel",
      "state": {
       "_model_module": "@jupyter-widgets/base",
       "_model_module_version": "1.2.0",
       "_model_name": "LayoutModel",
       "_view_count": null,
       "_view_module": "@jupyter-widgets/base",
       "_view_module_version": "1.2.0",
       "_view_name": "LayoutView",
       "align_content": null,
       "align_items": null,
       "align_self": null,
       "border": null,
       "bottom": null,
       "display": null,
       "flex": null,
       "flex_flow": null,
       "grid_area": null,
       "grid_auto_columns": null,
       "grid_auto_flow": null,
       "grid_auto_rows": null,
       "grid_column": null,
       "grid_gap": null,
       "grid_row": null,
       "grid_template_areas": null,
       "grid_template_columns": null,
       "grid_template_rows": null,
       "height": null,
       "justify_content": null,
       "justify_items": null,
       "left": null,
       "margin": null,
       "max_height": null,
       "max_width": null,
       "min_height": null,
       "min_width": null,
       "object_fit": null,
       "object_position": null,
       "order": null,
       "overflow": null,
       "overflow_x": null,
       "overflow_y": null,
       "padding": null,
       "right": null,
       "top": null,
       "visibility": null,
       "width": null
      }
     },
     "0bc0de63563d4df4a5bfc17a4d50ca55": {
      "model_module": "@jupyter-widgets/controls",
      "model_module_version": "1.5.0",
      "model_name": "HTMLModel",
      "state": {
       "_dom_classes": [],
       "_model_module": "@jupyter-widgets/controls",
       "_model_module_version": "1.5.0",
       "_model_name": "HTMLModel",
       "_view_count": null,
       "_view_module": "@jupyter-widgets/controls",
       "_view_module_version": "1.5.0",
       "_view_name": "HTMLView",
       "description": "",
       "description_tooltip": null,
       "layout": "IPY_MODEL_bb4e24013d2647b0aa0c5cb041bbf8a3",
       "placeholder": "​",
       "style": "IPY_MODEL_91e5058f7d47423a960885a63a156fbc",
       "value": "Map: 100%"
      }
     },
     "0f9cb86d171d4d558dff6b02704d32ff": {
      "model_module": "@jupyter-widgets/base",
      "model_module_version": "1.2.0",
      "model_name": "LayoutModel",
      "state": {
       "_model_module": "@jupyter-widgets/base",
       "_model_module_version": "1.2.0",
       "_model_name": "LayoutModel",
       "_view_count": null,
       "_view_module": "@jupyter-widgets/base",
       "_view_module_version": "1.2.0",
       "_view_name": "LayoutView",
       "align_content": null,
       "align_items": null,
       "align_self": null,
       "border": null,
       "bottom": null,
       "display": null,
       "flex": null,
       "flex_flow": null,
       "grid_area": null,
       "grid_auto_columns": null,
       "grid_auto_flow": null,
       "grid_auto_rows": null,
       "grid_column": null,
       "grid_gap": null,
       "grid_row": null,
       "grid_template_areas": null,
       "grid_template_columns": null,
       "grid_template_rows": null,
       "height": null,
       "justify_content": null,
       "justify_items": null,
       "left": null,
       "margin": null,
       "max_height": null,
       "max_width": null,
       "min_height": null,
       "min_width": null,
       "object_fit": null,
       "object_position": null,
       "order": null,
       "overflow": null,
       "overflow_x": null,
       "overflow_y": null,
       "padding": null,
       "right": null,
       "top": null,
       "visibility": null,
       "width": null
      }
     },
     "10d5b43f3e66434faff3a5e435538902": {
      "model_module": "@jupyter-widgets/base",
      "model_module_version": "1.2.0",
      "model_name": "LayoutModel",
      "state": {
       "_model_module": "@jupyter-widgets/base",
       "_model_module_version": "1.2.0",
       "_model_name": "LayoutModel",
       "_view_count": null,
       "_view_module": "@jupyter-widgets/base",
       "_view_module_version": "1.2.0",
       "_view_name": "LayoutView",
       "align_content": null,
       "align_items": null,
       "align_self": null,
       "border": null,
       "bottom": null,
       "display": null,
       "flex": null,
       "flex_flow": null,
       "grid_area": null,
       "grid_auto_columns": null,
       "grid_auto_flow": null,
       "grid_auto_rows": null,
       "grid_column": null,
       "grid_gap": null,
       "grid_row": null,
       "grid_template_areas": null,
       "grid_template_columns": null,
       "grid_template_rows": null,
       "height": null,
       "justify_content": null,
       "justify_items": null,
       "left": null,
       "margin": null,
       "max_height": null,
       "max_width": null,
       "min_height": null,
       "min_width": null,
       "object_fit": null,
       "object_position": null,
       "order": null,
       "overflow": null,
       "overflow_x": null,
       "overflow_y": null,
       "padding": null,
       "right": null,
       "top": null,
       "visibility": null,
       "width": null
      }
     },
     "1c3eadbc2b6b405485300992e445f971": {
      "model_module": "@jupyter-widgets/controls",
      "model_module_version": "1.5.0",
      "model_name": "DescriptionStyleModel",
      "state": {
       "_model_module": "@jupyter-widgets/controls",
       "_model_module_version": "1.5.0",
       "_model_name": "DescriptionStyleModel",
       "_view_count": null,
       "_view_module": "@jupyter-widgets/base",
       "_view_module_version": "1.2.0",
       "_view_name": "StyleView",
       "description_width": ""
      }
     },
     "21cc0129dd27484fb992b8c29cb80be8": {
      "model_module": "@jupyter-widgets/controls",
      "model_module_version": "1.5.0",
      "model_name": "HTMLModel",
      "state": {
       "_dom_classes": [],
       "_model_module": "@jupyter-widgets/controls",
       "_model_module_version": "1.5.0",
       "_model_name": "HTMLModel",
       "_view_count": null,
       "_view_module": "@jupyter-widgets/controls",
       "_view_module_version": "1.5.0",
       "_view_name": "HTMLView",
       "description": "",
       "description_tooltip": null,
       "layout": "IPY_MODEL_10d5b43f3e66434faff3a5e435538902",
       "placeholder": "​",
       "style": "IPY_MODEL_33fba73ac2ac4ddda379b6dff3d3a15b",
       "value": "Loading checkpoint shards: 100%"
      }
     },
     "33fba73ac2ac4ddda379b6dff3d3a15b": {
      "model_module": "@jupyter-widgets/controls",
      "model_module_version": "1.5.0",
      "model_name": "DescriptionStyleModel",
      "state": {
       "_model_module": "@jupyter-widgets/controls",
       "_model_module_version": "1.5.0",
       "_model_name": "DescriptionStyleModel",
       "_view_count": null,
       "_view_module": "@jupyter-widgets/base",
       "_view_module_version": "1.2.0",
       "_view_name": "StyleView",
       "description_width": ""
      }
     },
     "37ff2cb76d0f42d08197e608313c31bc": {
      "model_module": "@jupyter-widgets/base",
      "model_module_version": "1.2.0",
      "model_name": "LayoutModel",
      "state": {
       "_model_module": "@jupyter-widgets/base",
       "_model_module_version": "1.2.0",
       "_model_name": "LayoutModel",
       "_view_count": null,
       "_view_module": "@jupyter-widgets/base",
       "_view_module_version": "1.2.0",
       "_view_name": "LayoutView",
       "align_content": null,
       "align_items": null,
       "align_self": null,
       "border": null,
       "bottom": null,
       "display": null,
       "flex": null,
       "flex_flow": null,
       "grid_area": null,
       "grid_auto_columns": null,
       "grid_auto_flow": null,
       "grid_auto_rows": null,
       "grid_column": null,
       "grid_gap": null,
       "grid_row": null,
       "grid_template_areas": null,
       "grid_template_columns": null,
       "grid_template_rows": null,
       "height": null,
       "justify_content": null,
       "justify_items": null,
       "left": null,
       "margin": null,
       "max_height": null,
       "max_width": null,
       "min_height": null,
       "min_width": null,
       "object_fit": null,
       "object_position": null,
       "order": null,
       "overflow": null,
       "overflow_x": null,
       "overflow_y": null,
       "padding": null,
       "right": null,
       "top": null,
       "visibility": null,
       "width": null
      }
     },
     "3dd648f6e1554e8cbf3b0453815689d8": {
      "model_module": "@jupyter-widgets/controls",
      "model_module_version": "1.5.0",
      "model_name": "ProgressStyleModel",
      "state": {
       "_model_module": "@jupyter-widgets/controls",
       "_model_module_version": "1.5.0",
       "_model_name": "ProgressStyleModel",
       "_view_count": null,
       "_view_module": "@jupyter-widgets/base",
       "_view_module_version": "1.2.0",
       "_view_name": "StyleView",
       "bar_color": null,
       "description_width": ""
      }
     },
     "42751ab047a44e9b82831860215626bf": {
      "model_module": "@jupyter-widgets/controls",
      "model_module_version": "1.5.0",
      "model_name": "HTMLModel",
      "state": {
       "_dom_classes": [],
       "_model_module": "@jupyter-widgets/controls",
       "_model_module_version": "1.5.0",
       "_model_name": "HTMLModel",
       "_view_count": null,
       "_view_module": "@jupyter-widgets/controls",
       "_view_module_version": "1.5.0",
       "_view_name": "HTMLView",
       "description": "",
       "description_tooltip": null,
       "layout": "IPY_MODEL_37ff2cb76d0f42d08197e608313c31bc",
       "placeholder": "​",
       "style": "IPY_MODEL_1c3eadbc2b6b405485300992e445f971",
       "value": " 4/4 [01:14&lt;00:00, 15.96s/it]"
      }
     },
     "4aa07bf0ba3b4291af3ca11139e61b4c": {
      "model_module": "@jupyter-widgets/controls",
      "model_module_version": "1.5.0",
      "model_name": "HTMLModel",
      "state": {
       "_dom_classes": [],
       "_model_module": "@jupyter-widgets/controls",
       "_model_module_version": "1.5.0",
       "_model_name": "HTMLModel",
       "_view_count": null,
       "_view_module": "@jupyter-widgets/controls",
       "_view_module_version": "1.5.0",
       "_view_name": "HTMLView",
       "description": "",
       "description_tooltip": null,
       "layout": "IPY_MODEL_93e9cc03588c49e78dde871586d0c152",
       "placeholder": "​",
       "style": "IPY_MODEL_a7e424b8b412405385bc6ecedd21f217",
       "value": "Map: 100%"
      }
     },
     "5d5474da00bd4eb092ddbe9976e12a74": {
      "model_module": "@jupyter-widgets/controls",
      "model_module_version": "1.5.0",
      "model_name": "ProgressStyleModel",
      "state": {
       "_model_module": "@jupyter-widgets/controls",
       "_model_module_version": "1.5.0",
       "_model_name": "ProgressStyleModel",
       "_view_count": null,
       "_view_module": "@jupyter-widgets/base",
       "_view_module_version": "1.2.0",
       "_view_name": "StyleView",
       "bar_color": null,
       "description_width": ""
      }
     },
     "676518c3977d4c96bf259d0c652f5fd2": {
      "model_module": "@jupyter-widgets/base",
      "model_module_version": "1.2.0",
      "model_name": "LayoutModel",
      "state": {
       "_model_module": "@jupyter-widgets/base",
       "_model_module_version": "1.2.0",
       "_model_name": "LayoutModel",
       "_view_count": null,
       "_view_module": "@jupyter-widgets/base",
       "_view_module_version": "1.2.0",
       "_view_name": "LayoutView",
       "align_content": null,
       "align_items": null,
       "align_self": null,
       "border": null,
       "bottom": null,
       "display": null,
       "flex": null,
       "flex_flow": null,
       "grid_area": null,
       "grid_auto_columns": null,
       "grid_auto_flow": null,
       "grid_auto_rows": null,
       "grid_column": null,
       "grid_gap": null,
       "grid_row": null,
       "grid_template_areas": null,
       "grid_template_columns": null,
       "grid_template_rows": null,
       "height": null,
       "justify_content": null,
       "justify_items": null,
       "left": null,
       "margin": null,
       "max_height": null,
       "max_width": null,
       "min_height": null,
       "min_width": null,
       "object_fit": null,
       "object_position": null,
       "order": null,
       "overflow": null,
       "overflow_x": null,
       "overflow_y": null,
       "padding": null,
       "right": null,
       "top": null,
       "visibility": null,
       "width": null
      }
     },
     "6c887393bc054f4fb7f323c24c3b0e62": {
      "model_module": "@jupyter-widgets/controls",
      "model_module_version": "1.5.0",
      "model_name": "HTMLModel",
      "state": {
       "_dom_classes": [],
       "_model_module": "@jupyter-widgets/controls",
       "_model_module_version": "1.5.0",
       "_model_name": "HTMLModel",
       "_view_count": null,
       "_view_module": "@jupyter-widgets/controls",
       "_view_module_version": "1.5.0",
       "_view_name": "HTMLView",
       "description": "",
       "description_tooltip": null,
       "layout": "IPY_MODEL_0f9cb86d171d4d558dff6b02704d32ff",
       "placeholder": "​",
       "style": "IPY_MODEL_f9f43402cf6c495aba068b4434435d02",
       "value": " 100/100 [00:00&lt;00:00, 480.86 examples/s]"
      }
     },
     "71d50f8bd63b4dddb3159851572cc3fe": {
      "model_module": "@jupyter-widgets/controls",
      "model_module_version": "1.5.0",
      "model_name": "FloatProgressModel",
      "state": {
       "_dom_classes": [],
       "_model_module": "@jupyter-widgets/controls",
       "_model_module_version": "1.5.0",
       "_model_name": "FloatProgressModel",
       "_view_count": null,
       "_view_module": "@jupyter-widgets/controls",
       "_view_module_version": "1.5.0",
       "_view_name": "ProgressView",
       "bar_style": "success",
       "description": "",
       "description_tooltip": null,
       "layout": "IPY_MODEL_920b2b9524874539821ef43c3d2b5ad8",
       "max": 800.0,
       "min": 0.0,
       "orientation": "horizontal",
       "style": "IPY_MODEL_5d5474da00bd4eb092ddbe9976e12a74",
       "value": 800.0
      }
     },
     "8397505db6bc4d5a9923361a11086481": {
      "model_module": "@jupyter-widgets/controls",
      "model_module_version": "1.5.0",
      "model_name": "HTMLModel",
      "state": {
       "_dom_classes": [],
       "_model_module": "@jupyter-widgets/controls",
       "_model_module_version": "1.5.0",
       "_model_name": "HTMLModel",
       "_view_count": null,
       "_view_module": "@jupyter-widgets/controls",
       "_view_module_version": "1.5.0",
       "_view_name": "HTMLView",
       "description": "",
       "description_tooltip": null,
       "layout": "IPY_MODEL_a212610bcd6d400fbd5da1d0fd7fd165",
       "placeholder": "​",
       "style": "IPY_MODEL_b3f24cf1810d49a8a117bc261c082b5b",
       "value": " 800/800 [00:01&lt;00:00, 532.86 examples/s]"
      }
     },
     "8ea3ce1e370a4115980f8b6570af1ebc": {
      "model_module": "@jupyter-widgets/base",
      "model_module_version": "1.2.0",
      "model_name": "LayoutModel",
      "state": {
       "_model_module": "@jupyter-widgets/base",
       "_model_module_version": "1.2.0",
       "_model_name": "LayoutModel",
       "_view_count": null,
       "_view_module": "@jupyter-widgets/base",
       "_view_module_version": "1.2.0",
       "_view_name": "LayoutView",
       "align_content": null,
       "align_items": null,
       "align_self": null,
       "border": null,
       "bottom": null,
       "display": null,
       "flex": null,
       "flex_flow": null,
       "grid_area": null,
       "grid_auto_columns": null,
       "grid_auto_flow": null,
       "grid_auto_rows": null,
       "grid_column": null,
       "grid_gap": null,
       "grid_row": null,
       "grid_template_areas": null,
       "grid_template_columns": null,
       "grid_template_rows": null,
       "height": null,
       "justify_content": null,
       "justify_items": null,
       "left": null,
       "margin": null,
       "max_height": null,
       "max_width": null,
       "min_height": null,
       "min_width": null,
       "object_fit": null,
       "object_position": null,
       "order": null,
       "overflow": null,
       "overflow_x": null,
       "overflow_y": null,
       "padding": null,
       "right": null,
       "top": null,
       "visibility": null,
       "width": null
      }
     },
     "8f508c66865f479eb1c0472d9826056d": {
      "model_module": "@jupyter-widgets/base",
      "model_module_version": "1.2.0",
      "model_name": "LayoutModel",
      "state": {
       "_model_module": "@jupyter-widgets/base",
       "_model_module_version": "1.2.0",
       "_model_name": "LayoutModel",
       "_view_count": null,
       "_view_module": "@jupyter-widgets/base",
       "_view_module_version": "1.2.0",
       "_view_name": "LayoutView",
       "align_content": null,
       "align_items": null,
       "align_self": null,
       "border": null,
       "bottom": null,
       "display": null,
       "flex": null,
       "flex_flow": null,
       "grid_area": null,
       "grid_auto_columns": null,
       "grid_auto_flow": null,
       "grid_auto_rows": null,
       "grid_column": null,
       "grid_gap": null,
       "grid_row": null,
       "grid_template_areas": null,
       "grid_template_columns": null,
       "grid_template_rows": null,
       "height": null,
       "justify_content": null,
       "justify_items": null,
       "left": null,
       "margin": null,
       "max_height": null,
       "max_width": null,
       "min_height": null,
       "min_width": null,
       "object_fit": null,
       "object_position": null,
       "order": null,
       "overflow": null,
       "overflow_x": null,
       "overflow_y": null,
       "padding": null,
       "right": null,
       "top": null,
       "visibility": null,
       "width": null
      }
     },
     "91e5058f7d47423a960885a63a156fbc": {
      "model_module": "@jupyter-widgets/controls",
      "model_module_version": "1.5.0",
      "model_name": "DescriptionStyleModel",
      "state": {
       "_model_module": "@jupyter-widgets/controls",
       "_model_module_version": "1.5.0",
       "_model_name": "DescriptionStyleModel",
       "_view_count": null,
       "_view_module": "@jupyter-widgets/base",
       "_view_module_version": "1.2.0",
       "_view_name": "StyleView",
       "description_width": ""
      }
     },
     "920b2b9524874539821ef43c3d2b5ad8": {
      "model_module": "@jupyter-widgets/base",
      "model_module_version": "1.2.0",
      "model_name": "LayoutModel",
      "state": {
       "_model_module": "@jupyter-widgets/base",
       "_model_module_version": "1.2.0",
       "_model_name": "LayoutModel",
       "_view_count": null,
       "_view_module": "@jupyter-widgets/base",
       "_view_module_version": "1.2.0",
       "_view_name": "LayoutView",
       "align_content": null,
       "align_items": null,
       "align_self": null,
       "border": null,
       "bottom": null,
       "display": null,
       "flex": null,
       "flex_flow": null,
       "grid_area": null,
       "grid_auto_columns": null,
       "grid_auto_flow": null,
       "grid_auto_rows": null,
       "grid_column": null,
       "grid_gap": null,
       "grid_row": null,
       "grid_template_areas": null,
       "grid_template_columns": null,
       "grid_template_rows": null,
       "height": null,
       "justify_content": null,
       "justify_items": null,
       "left": null,
       "margin": null,
       "max_height": null,
       "max_width": null,
       "min_height": null,
       "min_width": null,
       "object_fit": null,
       "object_position": null,
       "order": null,
       "overflow": null,
       "overflow_x": null,
       "overflow_y": null,
       "padding": null,
       "right": null,
       "top": null,
       "visibility": null,
       "width": null
      }
     },
     "93e9cc03588c49e78dde871586d0c152": {
      "model_module": "@jupyter-widgets/base",
      "model_module_version": "1.2.0",
      "model_name": "LayoutModel",
      "state": {
       "_model_module": "@jupyter-widgets/base",
       "_model_module_version": "1.2.0",
       "_model_name": "LayoutModel",
       "_view_count": null,
       "_view_module": "@jupyter-widgets/base",
       "_view_module_version": "1.2.0",
       "_view_name": "LayoutView",
       "align_content": null,
       "align_items": null,
       "align_self": null,
       "border": null,
       "bottom": null,
       "display": null,
       "flex": null,
       "flex_flow": null,
       "grid_area": null,
       "grid_auto_columns": null,
       "grid_auto_flow": null,
       "grid_auto_rows": null,
       "grid_column": null,
       "grid_gap": null,
       "grid_row": null,
       "grid_template_areas": null,
       "grid_template_columns": null,
       "grid_template_rows": null,
       "height": null,
       "justify_content": null,
       "justify_items": null,
       "left": null,
       "margin": null,
       "max_height": null,
       "max_width": null,
       "min_height": null,
       "min_width": null,
       "object_fit": null,
       "object_position": null,
       "order": null,
       "overflow": null,
       "overflow_x": null,
       "overflow_y": null,
       "padding": null,
       "right": null,
       "top": null,
       "visibility": null,
       "width": null
      }
     },
     "a156732c9ef14d06b9eca1a211e76f4f": {
      "model_module": "@jupyter-widgets/base",
      "model_module_version": "1.2.0",
      "model_name": "LayoutModel",
      "state": {
       "_model_module": "@jupyter-widgets/base",
       "_model_module_version": "1.2.0",
       "_model_name": "LayoutModel",
       "_view_count": null,
       "_view_module": "@jupyter-widgets/base",
       "_view_module_version": "1.2.0",
       "_view_name": "LayoutView",
       "align_content": null,
       "align_items": null,
       "align_self": null,
       "border": null,
       "bottom": null,
       "display": null,
       "flex": null,
       "flex_flow": null,
       "grid_area": null,
       "grid_auto_columns": null,
       "grid_auto_flow": null,
       "grid_auto_rows": null,
       "grid_column": null,
       "grid_gap": null,
       "grid_row": null,
       "grid_template_areas": null,
       "grid_template_columns": null,
       "grid_template_rows": null,
       "height": null,
       "justify_content": null,
       "justify_items": null,
       "left": null,
       "margin": null,
       "max_height": null,
       "max_width": null,
       "min_height": null,
       "min_width": null,
       "object_fit": null,
       "object_position": null,
       "order": null,
       "overflow": null,
       "overflow_x": null,
       "overflow_y": null,
       "padding": null,
       "right": null,
       "top": null,
       "visibility": null,
       "width": null
      }
     },
     "a212610bcd6d400fbd5da1d0fd7fd165": {
      "model_module": "@jupyter-widgets/base",
      "model_module_version": "1.2.0",
      "model_name": "LayoutModel",
      "state": {
       "_model_module": "@jupyter-widgets/base",
       "_model_module_version": "1.2.0",
       "_model_name": "LayoutModel",
       "_view_count": null,
       "_view_module": "@jupyter-widgets/base",
       "_view_module_version": "1.2.0",
       "_view_name": "LayoutView",
       "align_content": null,
       "align_items": null,
       "align_self": null,
       "border": null,
       "bottom": null,
       "display": null,
       "flex": null,
       "flex_flow": null,
       "grid_area": null,
       "grid_auto_columns": null,
       "grid_auto_flow": null,
       "grid_auto_rows": null,
       "grid_column": null,
       "grid_gap": null,
       "grid_row": null,
       "grid_template_areas": null,
       "grid_template_columns": null,
       "grid_template_rows": null,
       "height": null,
       "justify_content": null,
       "justify_items": null,
       "left": null,
       "margin": null,
       "max_height": null,
       "max_width": null,
       "min_height": null,
       "min_width": null,
       "object_fit": null,
       "object_position": null,
       "order": null,
       "overflow": null,
       "overflow_x": null,
       "overflow_y": null,
       "padding": null,
       "right": null,
       "top": null,
       "visibility": null,
       "width": null
      }
     },
     "a6607bfdcbf74b0aa29e08b6da5f30db": {
      "model_module": "@jupyter-widgets/controls",
      "model_module_version": "1.5.0",
      "model_name": "FloatProgressModel",
      "state": {
       "_dom_classes": [],
       "_model_module": "@jupyter-widgets/controls",
       "_model_module_version": "1.5.0",
       "_model_name": "FloatProgressModel",
       "_view_count": null,
       "_view_module": "@jupyter-widgets/controls",
       "_view_module_version": "1.5.0",
       "_view_name": "ProgressView",
       "bar_style": "success",
       "description": "",
       "description_tooltip": null,
       "layout": "IPY_MODEL_8ea3ce1e370a4115980f8b6570af1ebc",
       "max": 4.0,
       "min": 0.0,
       "orientation": "horizontal",
       "style": "IPY_MODEL_3dd648f6e1554e8cbf3b0453815689d8",
       "value": 4.0
      }
     },
     "a7e424b8b412405385bc6ecedd21f217": {
      "model_module": "@jupyter-widgets/controls",
      "model_module_version": "1.5.0",
      "model_name": "DescriptionStyleModel",
      "state": {
       "_model_module": "@jupyter-widgets/controls",
       "_model_module_version": "1.5.0",
       "_model_name": "DescriptionStyleModel",
       "_view_count": null,
       "_view_module": "@jupyter-widgets/base",
       "_view_module_version": "1.2.0",
       "_view_name": "StyleView",
       "description_width": ""
      }
     },
     "b003e583c4664f33a4cc14009d38d91a": {
      "model_module": "@jupyter-widgets/controls",
      "model_module_version": "1.5.0",
      "model_name": "HBoxModel",
      "state": {
       "_dom_classes": [],
       "_model_module": "@jupyter-widgets/controls",
       "_model_module_version": "1.5.0",
       "_model_name": "HBoxModel",
       "_view_count": null,
       "_view_module": "@jupyter-widgets/controls",
       "_view_module_version": "1.5.0",
       "_view_name": "HBoxView",
       "box_style": "",
       "children": [
        "IPY_MODEL_0bc0de63563d4df4a5bfc17a4d50ca55",
        "IPY_MODEL_71d50f8bd63b4dddb3159851572cc3fe",
        "IPY_MODEL_8397505db6bc4d5a9923361a11086481"
       ],
       "layout": "IPY_MODEL_a156732c9ef14d06b9eca1a211e76f4f"
      }
     },
     "b3f24cf1810d49a8a117bc261c082b5b": {
      "model_module": "@jupyter-widgets/controls",
      "model_module_version": "1.5.0",
      "model_name": "DescriptionStyleModel",
      "state": {
       "_model_module": "@jupyter-widgets/controls",
       "_model_module_version": "1.5.0",
       "_model_name": "DescriptionStyleModel",
       "_view_count": null,
       "_view_module": "@jupyter-widgets/base",
       "_view_module_version": "1.2.0",
       "_view_name": "StyleView",
       "description_width": ""
      }
     },
     "b888b6d6e2d4474cbeb73e47fe91cb12": {
      "model_module": "@jupyter-widgets/controls",
      "model_module_version": "1.5.0",
      "model_name": "ProgressStyleModel",
      "state": {
       "_model_module": "@jupyter-widgets/controls",
       "_model_module_version": "1.5.0",
       "_model_name": "ProgressStyleModel",
       "_view_count": null,
       "_view_module": "@jupyter-widgets/base",
       "_view_module_version": "1.2.0",
       "_view_name": "StyleView",
       "bar_color": null,
       "description_width": ""
      }
     },
     "bb4e24013d2647b0aa0c5cb041bbf8a3": {
      "model_module": "@jupyter-widgets/base",
      "model_module_version": "1.2.0",
      "model_name": "LayoutModel",
      "state": {
       "_model_module": "@jupyter-widgets/base",
       "_model_module_version": "1.2.0",
       "_model_name": "LayoutModel",
       "_view_count": null,
       "_view_module": "@jupyter-widgets/base",
       "_view_module_version": "1.2.0",
       "_view_name": "LayoutView",
       "align_content": null,
       "align_items": null,
       "align_self": null,
       "border": null,
       "bottom": null,
       "display": null,
       "flex": null,
       "flex_flow": null,
       "grid_area": null,
       "grid_auto_columns": null,
       "grid_auto_flow": null,
       "grid_auto_rows": null,
       "grid_column": null,
       "grid_gap": null,
       "grid_row": null,
       "grid_template_areas": null,
       "grid_template_columns": null,
       "grid_template_rows": null,
       "height": null,
       "justify_content": null,
       "justify_items": null,
       "left": null,
       "margin": null,
       "max_height": null,
       "max_width": null,
       "min_height": null,
       "min_width": null,
       "object_fit": null,
       "object_position": null,
       "order": null,
       "overflow": null,
       "overflow_x": null,
       "overflow_y": null,
       "padding": null,
       "right": null,
       "top": null,
       "visibility": null,
       "width": null
      }
     },
     "da1837336d6f41c89273386177ea81d9": {
      "model_module": "@jupyter-widgets/controls",
      "model_module_version": "1.5.0",
      "model_name": "HBoxModel",
      "state": {
       "_dom_classes": [],
       "_model_module": "@jupyter-widgets/controls",
       "_model_module_version": "1.5.0",
       "_model_name": "HBoxModel",
       "_view_count": null,
       "_view_module": "@jupyter-widgets/controls",
       "_view_module_version": "1.5.0",
       "_view_name": "HBoxView",
       "box_style": "",
       "children": [
        "IPY_MODEL_21cc0129dd27484fb992b8c29cb80be8",
        "IPY_MODEL_a6607bfdcbf74b0aa29e08b6da5f30db",
        "IPY_MODEL_42751ab047a44e9b82831860215626bf"
       ],
       "layout": "IPY_MODEL_08899b801bb14d58bb7c34e0b280498d"
      }
     },
     "dfb561eaf2304d8c84caa4dd58464c73": {
      "model_module": "@jupyter-widgets/controls",
      "model_module_version": "1.5.0",
      "model_name": "HBoxModel",
      "state": {
       "_dom_classes": [],
       "_model_module": "@jupyter-widgets/controls",
       "_model_module_version": "1.5.0",
       "_model_name": "HBoxModel",
       "_view_count": null,
       "_view_module": "@jupyter-widgets/controls",
       "_view_module_version": "1.5.0",
       "_view_name": "HBoxView",
       "box_style": "",
       "children": [
        "IPY_MODEL_4aa07bf0ba3b4291af3ca11139e61b4c",
        "IPY_MODEL_ef8bad1bf61f4fbaa19aa0a4aeb30cdc",
        "IPY_MODEL_6c887393bc054f4fb7f323c24c3b0e62"
       ],
       "layout": "IPY_MODEL_8f508c66865f479eb1c0472d9826056d"
      }
     },
     "ef8bad1bf61f4fbaa19aa0a4aeb30cdc": {
      "model_module": "@jupyter-widgets/controls",
      "model_module_version": "1.5.0",
      "model_name": "FloatProgressModel",
      "state": {
       "_dom_classes": [],
       "_model_module": "@jupyter-widgets/controls",
       "_model_module_version": "1.5.0",
       "_model_name": "FloatProgressModel",
       "_view_count": null,
       "_view_module": "@jupyter-widgets/controls",
       "_view_module_version": "1.5.0",
       "_view_name": "ProgressView",
       "bar_style": "success",
       "description": "",
       "description_tooltip": null,
       "layout": "IPY_MODEL_676518c3977d4c96bf259d0c652f5fd2",
       "max": 100.0,
       "min": 0.0,
       "orientation": "horizontal",
       "style": "IPY_MODEL_b888b6d6e2d4474cbeb73e47fe91cb12",
       "value": 100.0
      }
     },
     "f9f43402cf6c495aba068b4434435d02": {
      "model_module": "@jupyter-widgets/controls",
      "model_module_version": "1.5.0",
      "model_name": "DescriptionStyleModel",
      "state": {
       "_model_module": "@jupyter-widgets/controls",
       "_model_module_version": "1.5.0",
       "_model_name": "DescriptionStyleModel",
       "_view_count": null,
       "_view_module": "@jupyter-widgets/base",
       "_view_module_version": "1.2.0",
       "_view_name": "StyleView",
       "description_width": ""
      }
     }
    },
    "version_major": 2,
    "version_minor": 0
   }
  }
 },
 "nbformat": 4,
 "nbformat_minor": 5
}
