{
 "cells": [
  {
   "cell_type": "code",
   "execution_count": 1,
   "id": "ddfbfd38",
   "metadata": {
    "_cell_guid": "b1076dfc-b9ad-4769-8c92-a6c4dae69d19",
    "_uuid": "8f2839f25d086af736a60e9eeb907d3b93b6e0e5",
    "execution": {
     "iopub.execute_input": "2024-10-05T17:18:19.037604Z",
     "iopub.status.busy": "2024-10-05T17:18:19.037261Z",
     "iopub.status.idle": "2024-10-05T17:18:19.803173Z",
     "shell.execute_reply": "2024-10-05T17:18:19.802254Z"
    },
    "papermill": {
     "duration": 0.785655,
     "end_time": "2024-10-05T17:18:19.805389",
     "exception": false,
     "start_time": "2024-10-05T17:18:19.019734",
     "status": "completed"
    },
    "tags": []
   },
   "outputs": [
    {
     "name": "stdout",
     "output_type": "stream",
     "text": [
      "/kaggle/input/bangla-newspaper-dataset/data_v2/data_v2.json\n",
      "/kaggle/input/bangla-newspaper-dataset/data/data.json\n",
      "/kaggle/input/llama-3.2/transformers/3b-instruct/1/model.safetensors.index.json\n",
      "/kaggle/input/llama-3.2/transformers/3b-instruct/1/config.json\n",
      "/kaggle/input/llama-3.2/transformers/3b-instruct/1/model-00001-of-00002.safetensors\n",
      "/kaggle/input/llama-3.2/transformers/3b-instruct/1/model-00002-of-00002.safetensors\n",
      "/kaggle/input/llama-3.2/transformers/3b-instruct/1/README.md\n",
      "/kaggle/input/llama-3.2/transformers/3b-instruct/1/USE_POLICY.md\n",
      "/kaggle/input/llama-3.2/transformers/3b-instruct/1/tokenizer.json\n",
      "/kaggle/input/llama-3.2/transformers/3b-instruct/1/tokenizer_config.json\n",
      "/kaggle/input/llama-3.2/transformers/3b-instruct/1/LICENSE.txt\n",
      "/kaggle/input/llama-3.2/transformers/3b-instruct/1/special_tokens_map.json\n",
      "/kaggle/input/llama-3.2/transformers/3b-instruct/1/.gitattributes\n",
      "/kaggle/input/llama-3.2/transformers/3b-instruct/1/generation_config.json\n"
     ]
    }
   ],
   "source": [
    "# This Python 3 environment comes with many helpful analytics libraries installed\n",
    "# It is defined by the kaggle/python Docker image: https://github.com/kaggle/docker-python\n",
    "# For example, here's several helpful packages to load\n",
    "\n",
    "import numpy as np # linear algebra\n",
    "import pandas as pd # data processing, CSV file I/O (e.g. pd.read_csv)\n",
    "\n",
    "# Input data files are available in the read-only \"../input/\" directory\n",
    "# For example, running this (by clicking run or pressing Shift+Enter) will list all files under the input directory\n",
    "\n",
    "import os\n",
    "for dirname, _, filenames in os.walk('/kaggle/input'):\n",
    "    for filename in filenames:\n",
    "        print(os.path.join(dirname, filename))\n",
    "\n",
    "# You can write up to 20GB to the current directory (/kaggle/working/) that gets preserved as output when you create a version using \"Save & Run All\" \n",
    "# You can also write temporary files to /kaggle/temp/, but they won't be saved outside of the current session"
   ]
  },
  {
   "cell_type": "code",
   "execution_count": 2,
   "id": "e40ee52a",
   "metadata": {
    "execution": {
     "iopub.execute_input": "2024-10-05T17:18:19.836505Z",
     "iopub.status.busy": "2024-10-05T17:18:19.836084Z",
     "iopub.status.idle": "2024-10-05T17:18:36.655988Z",
     "shell.execute_reply": "2024-10-05T17:18:36.654808Z"
    },
    "papermill": {
     "duration": 16.83764,
     "end_time": "2024-10-05T17:18:36.658257",
     "exception": false,
     "start_time": "2024-10-05T17:18:19.820617",
     "status": "completed"
    },
    "tags": []
   },
   "outputs": [
    {
     "name": "stdout",
     "output_type": "stream",
     "text": [
      "Collecting llama-stack\r\n",
      "  Downloading llama_stack-0.0.40-py3-none-any.whl.metadata (6.0 kB)\r\n",
      "Collecting blobfile (from llama-stack)\r\n",
      "  Downloading blobfile-3.0.0-py3-none-any.whl.metadata (15 kB)\r\n",
      "Collecting fire (from llama-stack)\r\n",
      "  Downloading fire-0.7.0.tar.gz (87 kB)\r\n",
      "\u001b[2K     \u001b[90m━━━━━━━━━━━━━━━━━━━━━━━━━━━━━━━━━━━━━━━━\u001b[0m \u001b[32m87.2/87.2 kB\u001b[0m \u001b[31m3.6 MB/s\u001b[0m eta \u001b[36m0:00:00\u001b[0m\r\n",
      "\u001b[?25h  Preparing metadata (setup.py) ... \u001b[?25l-\b \b\\\b \bdone\r\n",
      "\u001b[?25hRequirement already satisfied: httpx in /opt/conda/lib/python3.10/site-packages (from llama-stack) (0.27.0)\r\n",
      "Requirement already satisfied: huggingface-hub in /opt/conda/lib/python3.10/site-packages (from llama-stack) (0.25.1)\r\n",
      "Collecting llama-models>=0.0.40 (from llama-stack)\r\n",
      "  Downloading llama_models-0.0.40-py3-none-any.whl.metadata (8.2 kB)\r\n",
      "Requirement already satisfied: prompt-toolkit in /opt/conda/lib/python3.10/site-packages (from llama-stack) (3.0.47)\r\n",
      "Requirement already satisfied: python-dotenv in /opt/conda/lib/python3.10/site-packages (from llama-stack) (1.0.1)\r\n",
      "Requirement already satisfied: pydantic>=2 in /opt/conda/lib/python3.10/site-packages (from llama-stack) (2.9.2)\r\n",
      "Requirement already satisfied: requests in /opt/conda/lib/python3.10/site-packages (from llama-stack) (2.32.3)\r\n",
      "Requirement already satisfied: rich in /opt/conda/lib/python3.10/site-packages (from llama-stack) (13.7.1)\r\n",
      "Requirement already satisfied: setuptools in /opt/conda/lib/python3.10/site-packages (from llama-stack) (70.0.0)\r\n",
      "Requirement already satisfied: termcolor in /opt/conda/lib/python3.10/site-packages (from llama-stack) (2.4.0)\r\n",
      "Requirement already satisfied: PyYAML in /opt/conda/lib/python3.10/site-packages (from llama-models>=0.0.40->llama-stack) (6.0.2)\r\n",
      "Requirement already satisfied: jinja2 in /opt/conda/lib/python3.10/site-packages (from llama-models>=0.0.40->llama-stack) (3.1.4)\r\n",
      "Collecting tiktoken (from llama-models>=0.0.40->llama-stack)\r\n",
      "  Downloading tiktoken-0.8.0-cp310-cp310-manylinux_2_17_x86_64.manylinux2014_x86_64.whl.metadata (6.6 kB)\r\n",
      "Requirement already satisfied: Pillow in /opt/conda/lib/python3.10/site-packages (from llama-models>=0.0.40->llama-stack) (10.3.0)\r\n",
      "Requirement already satisfied: annotated-types>=0.6.0 in /opt/conda/lib/python3.10/site-packages (from pydantic>=2->llama-stack) (0.7.0)\r\n",
      "Requirement already satisfied: pydantic-core==2.23.4 in /opt/conda/lib/python3.10/site-packages (from pydantic>=2->llama-stack) (2.23.4)\r\n",
      "Requirement already satisfied: typing-extensions>=4.6.1 in /opt/conda/lib/python3.10/site-packages (from pydantic>=2->llama-stack) (4.12.2)\r\n",
      "Collecting pycryptodomex>=3.8 (from blobfile->llama-stack)\r\n",
      "  Downloading pycryptodomex-3.21.0-cp36-abi3-manylinux_2_17_x86_64.manylinux2014_x86_64.whl.metadata (3.4 kB)\r\n",
      "Requirement already satisfied: urllib3<3,>=1.25.3 in /opt/conda/lib/python3.10/site-packages (from blobfile->llama-stack) (1.26.18)\r\n",
      "Requirement already satisfied: lxml>=4.9 in /opt/conda/lib/python3.10/site-packages (from blobfile->llama-stack) (5.3.0)\r\n",
      "Requirement already satisfied: filelock>=3.0 in /opt/conda/lib/python3.10/site-packages (from blobfile->llama-stack) (3.15.1)\r\n",
      "Requirement already satisfied: anyio in /opt/conda/lib/python3.10/site-packages (from httpx->llama-stack) (4.4.0)\r\n",
      "Requirement already satisfied: certifi in /opt/conda/lib/python3.10/site-packages (from httpx->llama-stack) (2024.8.30)\r\n",
      "Requirement already satisfied: httpcore==1.* in /opt/conda/lib/python3.10/site-packages (from httpx->llama-stack) (1.0.5)\r\n",
      "Requirement already satisfied: idna in /opt/conda/lib/python3.10/site-packages (from httpx->llama-stack) (3.7)\r\n",
      "Requirement already satisfied: sniffio in /opt/conda/lib/python3.10/site-packages (from httpx->llama-stack) (1.3.1)\r\n",
      "Requirement already satisfied: h11<0.15,>=0.13 in /opt/conda/lib/python3.10/site-packages (from httpcore==1.*->httpx->llama-stack) (0.14.0)\r\n",
      "Requirement already satisfied: fsspec>=2023.5.0 in /opt/conda/lib/python3.10/site-packages (from huggingface-hub->llama-stack) (2024.6.1)\r\n",
      "Requirement already satisfied: packaging>=20.9 in /opt/conda/lib/python3.10/site-packages (from huggingface-hub->llama-stack) (21.3)\r\n",
      "Requirement already satisfied: tqdm>=4.42.1 in /opt/conda/lib/python3.10/site-packages (from huggingface-hub->llama-stack) (4.66.4)\r\n",
      "Requirement already satisfied: wcwidth in /opt/conda/lib/python3.10/site-packages (from prompt-toolkit->llama-stack) (0.2.13)\r\n",
      "Requirement already satisfied: charset-normalizer<4,>=2 in /opt/conda/lib/python3.10/site-packages (from requests->llama-stack) (3.3.2)\r\n",
      "Requirement already satisfied: markdown-it-py>=2.2.0 in /opt/conda/lib/python3.10/site-packages (from rich->llama-stack) (3.0.0)\r\n",
      "Requirement already satisfied: pygments<3.0.0,>=2.13.0 in /opt/conda/lib/python3.10/site-packages (from rich->llama-stack) (2.18.0)\r\n",
      "Requirement already satisfied: mdurl~=0.1 in /opt/conda/lib/python3.10/site-packages (from markdown-it-py>=2.2.0->rich->llama-stack) (0.1.2)\r\n",
      "Requirement already satisfied: pyparsing!=3.0.5,>=2.0.2 in /opt/conda/lib/python3.10/site-packages (from packaging>=20.9->huggingface-hub->llama-stack) (3.1.2)\r\n",
      "Requirement already satisfied: exceptiongroup>=1.0.2 in /opt/conda/lib/python3.10/site-packages (from anyio->httpx->llama-stack) (1.2.0)\r\n",
      "Requirement already satisfied: MarkupSafe>=2.0 in /opt/conda/lib/python3.10/site-packages (from jinja2->llama-models>=0.0.40->llama-stack) (2.1.5)\r\n",
      "Requirement already satisfied: regex>=2022.1.18 in /opt/conda/lib/python3.10/site-packages (from tiktoken->llama-models>=0.0.40->llama-stack) (2024.5.15)\r\n",
      "Downloading llama_stack-0.0.40-py3-none-any.whl (232 kB)\r\n",
      "\u001b[2K   \u001b[90m━━━━━━━━━━━━━━━━━━━━━━━━━━━━━━━━━━━━━━━━\u001b[0m \u001b[32m232.2/232.2 kB\u001b[0m \u001b[31m11.0 MB/s\u001b[0m eta \u001b[36m0:00:00\u001b[0m\r\n",
      "\u001b[?25hDownloading llama_models-0.0.40-py3-none-any.whl (1.6 MB)\r\n",
      "\u001b[2K   \u001b[90m━━━━━━━━━━━━━━━━━━━━━━━━━━━━━━━━━━━━━━━━\u001b[0m \u001b[32m1.6/1.6 MB\u001b[0m \u001b[31m38.8 MB/s\u001b[0m eta \u001b[36m0:00:00\u001b[0m\r\n",
      "\u001b[?25hDownloading blobfile-3.0.0-py3-none-any.whl (75 kB)\r\n",
      "\u001b[2K   \u001b[90m━━━━━━━━━━━━━━━━━━━━━━━━━━━━━━━━━━━━━━━━\u001b[0m \u001b[32m75.4/75.4 kB\u001b[0m \u001b[31m5.2 MB/s\u001b[0m eta \u001b[36m0:00:00\u001b[0m\r\n",
      "\u001b[?25hDownloading pycryptodomex-3.21.0-cp36-abi3-manylinux_2_17_x86_64.manylinux2014_x86_64.whl (2.3 MB)\r\n",
      "\u001b[2K   \u001b[90m━━━━━━━━━━━━━━━━━━━━━━━━━━━━━━━━━━━━━━━━\u001b[0m \u001b[32m2.3/2.3 MB\u001b[0m \u001b[31m61.1 MB/s\u001b[0m eta \u001b[36m0:00:00\u001b[0m\r\n",
      "\u001b[?25hDownloading tiktoken-0.8.0-cp310-cp310-manylinux_2_17_x86_64.manylinux2014_x86_64.whl (1.2 MB)\r\n",
      "\u001b[2K   \u001b[90m━━━━━━━━━━━━━━━━━━━━━━━━━━━━━━━━━━━━━━━━\u001b[0m \u001b[32m1.2/1.2 MB\u001b[0m \u001b[31m51.7 MB/s\u001b[0m eta \u001b[36m0:00:00\u001b[0m\r\n",
      "\u001b[?25hBuilding wheels for collected packages: fire\r\n",
      "  Building wheel for fire (setup.py) ... \u001b[?25l-\b \b\\\b \b|\b \bdone\r\n",
      "\u001b[?25h  Created wheel for fire: filename=fire-0.7.0-py3-none-any.whl size=114248 sha256=43602df2b297b4ed38066ee2ee120ae116afd6cba982746395ce3080ae95e0e4\r\n",
      "  Stored in directory: /root/.cache/pip/wheels/19/39/2f/2d3cadc408a8804103f1c34ddd4b9f6a93497b11fa96fe738e\r\n",
      "Successfully built fire\r\n",
      "Installing collected packages: pycryptodomex, fire, tiktoken, blobfile, llama-models, llama-stack\r\n",
      "Successfully installed blobfile-3.0.0 fire-0.7.0 llama-models-0.0.40 llama-stack-0.0.40 pycryptodomex-3.21.0 tiktoken-0.8.0\r\n",
      "Note: you may need to restart the kernel to use updated packages.\n"
     ]
    }
   ],
   "source": [
    "%pip install llama-stack"
   ]
  },
  {
   "cell_type": "code",
   "execution_count": 3,
   "id": "6583686b",
   "metadata": {
    "execution": {
     "iopub.execute_input": "2024-10-05T17:18:36.695244Z",
     "iopub.status.busy": "2024-10-05T17:18:36.694424Z",
     "iopub.status.idle": "2024-10-05T17:19:41.323175Z",
     "shell.execute_reply": "2024-10-05T17:19:41.322086Z"
    },
    "papermill": {
     "duration": 64.650004,
     "end_time": "2024-10-05T17:19:41.325828",
     "exception": false,
     "start_time": "2024-10-05T17:18:36.675824",
     "status": "completed"
    },
    "tags": []
   },
   "outputs": [],
   "source": [
    "%%capture\n",
    "%pip install -U bitsandbytes\n",
    "%pip install -U transformers\n",
    "%pip install -U accelerate\n",
    "%pip install -U peft\n",
    "%pip install -U trl"
   ]
  },
  {
   "cell_type": "code",
   "execution_count": 4,
   "id": "523b7f5a",
   "metadata": {
    "execution": {
     "iopub.execute_input": "2024-10-05T17:19:41.362111Z",
     "iopub.status.busy": "2024-10-05T17:19:41.361773Z",
     "iopub.status.idle": "2024-10-05T17:19:52.948789Z",
     "shell.execute_reply": "2024-10-05T17:19:52.947650Z"
    },
    "papermill": {
     "duration": 11.6078,
     "end_time": "2024-10-05T17:19:52.951380",
     "exception": false,
     "start_time": "2024-10-05T17:19:41.343580",
     "status": "completed"
    },
    "tags": []
   },
   "outputs": [
    {
     "name": "stdout",
     "output_type": "stream",
     "text": [
      "Requirement already satisfied: wandb in /opt/conda/lib/python3.10/site-packages (0.18.3)\r\n",
      "Requirement already satisfied: click!=8.0.0,>=7.1 in /opt/conda/lib/python3.10/site-packages (from wandb) (8.1.7)\r\n",
      "Requirement already satisfied: docker-pycreds>=0.4.0 in /opt/conda/lib/python3.10/site-packages (from wandb) (0.4.0)\r\n",
      "Requirement already satisfied: gitpython!=3.1.29,>=1.0.0 in /opt/conda/lib/python3.10/site-packages (from wandb) (3.1.43)\r\n",
      "Requirement already satisfied: platformdirs in /opt/conda/lib/python3.10/site-packages (from wandb) (3.11.0)\r\n",
      "Requirement already satisfied: protobuf!=4.21.0,!=5.28.0,<6,>=3.19.0 in /opt/conda/lib/python3.10/site-packages (from wandb) (3.20.3)\r\n",
      "Requirement already satisfied: psutil>=5.0.0 in /opt/conda/lib/python3.10/site-packages (from wandb) (5.9.3)\r\n",
      "Requirement already satisfied: pyyaml in /opt/conda/lib/python3.10/site-packages (from wandb) (6.0.2)\r\n",
      "Requirement already satisfied: requests<3,>=2.0.0 in /opt/conda/lib/python3.10/site-packages (from wandb) (2.32.3)\r\n",
      "Requirement already satisfied: sentry-sdk>=1.0.0 in /opt/conda/lib/python3.10/site-packages (from wandb) (2.15.0)\r\n",
      "Requirement already satisfied: setproctitle in /opt/conda/lib/python3.10/site-packages (from wandb) (1.3.3)\r\n",
      "Requirement already satisfied: setuptools in /opt/conda/lib/python3.10/site-packages (from wandb) (70.0.0)\r\n",
      "Requirement already satisfied: six>=1.4.0 in /opt/conda/lib/python3.10/site-packages (from docker-pycreds>=0.4.0->wandb) (1.16.0)\r\n",
      "Requirement already satisfied: gitdb<5,>=4.0.1 in /opt/conda/lib/python3.10/site-packages (from gitpython!=3.1.29,>=1.0.0->wandb) (4.0.11)\r\n",
      "Requirement already satisfied: charset-normalizer<4,>=2 in /opt/conda/lib/python3.10/site-packages (from requests<3,>=2.0.0->wandb) (3.3.2)\r\n",
      "Requirement already satisfied: idna<4,>=2.5 in /opt/conda/lib/python3.10/site-packages (from requests<3,>=2.0.0->wandb) (3.7)\r\n",
      "Requirement already satisfied: urllib3<3,>=1.21.1 in /opt/conda/lib/python3.10/site-packages (from requests<3,>=2.0.0->wandb) (1.26.18)\r\n",
      "Requirement already satisfied: certifi>=2017.4.17 in /opt/conda/lib/python3.10/site-packages (from requests<3,>=2.0.0->wandb) (2024.8.30)\r\n",
      "Requirement already satisfied: smmap<6,>=3.0.1 in /opt/conda/lib/python3.10/site-packages (from gitdb<5,>=4.0.1->gitpython!=3.1.29,>=1.0.0->wandb) (5.0.1)\r\n"
     ]
    }
   ],
   "source": [
    "!pip install wandb\n",
    "#!wandb login"
   ]
  },
  {
   "cell_type": "code",
   "execution_count": 5,
   "id": "241280c5",
   "metadata": {
    "execution": {
     "iopub.execute_input": "2024-10-05T17:19:52.988952Z",
     "iopub.status.busy": "2024-10-05T17:19:52.988148Z",
     "iopub.status.idle": "2024-10-05T17:19:57.829146Z",
     "shell.execute_reply": "2024-10-05T17:19:57.828277Z"
    },
    "papermill": {
     "duration": 4.862479,
     "end_time": "2024-10-05T17:19:57.831600",
     "exception": false,
     "start_time": "2024-10-05T17:19:52.969121",
     "status": "completed"
    },
    "tags": []
   },
   "outputs": [
    {
     "name": "stderr",
     "output_type": "stream",
     "text": [
      "\u001b[34m\u001b[1mwandb\u001b[0m: Using wandb-core as the SDK backend. Please refer to https://wandb.me/wandb-core for more information.\n",
      "\u001b[34m\u001b[1mwandb\u001b[0m: W&B API key is configured. Use \u001b[1m`wandb login --relogin`\u001b[0m to force relogin\n",
      "\u001b[34m\u001b[1mwandb\u001b[0m: \u001b[33mWARNING\u001b[0m If you're specifying your api key in code, ensure this code is not shared publicly.\n",
      "\u001b[34m\u001b[1mwandb\u001b[0m: \u001b[33mWARNING\u001b[0m Consider setting the WANDB_API_KEY environment variable, or running `wandb login` from the command line.\n",
      "\u001b[34m\u001b[1mwandb\u001b[0m: Appending key for api.wandb.ai to your netrc file: /root/.netrc\n",
      "\u001b[34m\u001b[1mwandb\u001b[0m: Currently logged in as: \u001b[33mcse-mahmud-evan\u001b[0m (\u001b[33mcse-mahmud-evan-ccn-university-of-science-and-technology\u001b[0m). Use \u001b[1m`wandb login --relogin`\u001b[0m to force relogin\n",
      "\u001b[34m\u001b[1mwandb\u001b[0m: Tracking run with wandb version 0.18.3\n",
      "\u001b[34m\u001b[1mwandb\u001b[0m: Run data is saved locally in \u001b[35m\u001b[1m/kaggle/working/wandb/run-20241005_171954-blq572vw\u001b[0m\n",
      "\u001b[34m\u001b[1mwandb\u001b[0m: Run \u001b[1m`wandb offline`\u001b[0m to turn off syncing.\n",
      "\u001b[34m\u001b[1mwandb\u001b[0m: Syncing run \u001b[33msage-pine-2\u001b[0m\n",
      "\u001b[34m\u001b[1mwandb\u001b[0m: ⭐️ View project at \u001b[34m\u001b[4mhttps://wandb.ai/cse-mahmud-evan-ccn-university-of-science-and-technology/Fine-tune%20llama-3.2-3b-it%20on%20Newspaper%20Dataset\u001b[0m\n",
      "\u001b[34m\u001b[1mwandb\u001b[0m: 🚀 View run at \u001b[34m\u001b[4mhttps://wandb.ai/cse-mahmud-evan-ccn-university-of-science-and-technology/Fine-tune%20llama-3.2-3b-it%20on%20Newspaper%20Dataset/runs/blq572vw\u001b[0m\n"
     ]
    }
   ],
   "source": [
    "import wandb\n",
    "\n",
    "from kaggle_secrets import UserSecretsClient\n",
    "user_secrets = UserSecretsClient()\n",
    "wb_token = user_secrets.get_secret(\"wandb\")\n",
    "\n",
    "wandb.login(key=wb_token)\n",
    "run = wandb.init(\n",
    "    project='Fine-tune llama-3.2-3b-it on Newspaper Dataset', \n",
    "    job_type=\"training\", \n",
    "    anonymous=\"allow\"\n",
    ")"
   ]
  },
  {
   "cell_type": "code",
   "execution_count": 6,
   "id": "7f23da20",
   "metadata": {
    "execution": {
     "iopub.execute_input": "2024-10-05T17:19:57.870652Z",
     "iopub.status.busy": "2024-10-05T17:19:57.870307Z",
     "iopub.status.idle": "2024-10-05T17:20:18.759679Z",
     "shell.execute_reply": "2024-10-05T17:20:18.758786Z"
    },
    "papermill": {
     "duration": 20.911482,
     "end_time": "2024-10-05T17:20:18.761987",
     "exception": false,
     "start_time": "2024-10-05T17:19:57.850505",
     "status": "completed"
    },
    "tags": []
   },
   "outputs": [],
   "source": [
    "import numpy as np\n",
    "import pandas as pd\n",
    "import os\n",
    "from tqdm import tqdm\n",
    "import bitsandbytes as bnb\n",
    "import torch\n",
    "import torch.nn as nn\n",
    "import transformers\n",
    "from peft import LoraConfig, PeftConfig\n",
    "from trl import SFTTrainer\n",
    "from trl import setup_chat_format\n",
    "from transformers import (\n",
    "    AutoModelForCausalLM,\n",
    "    AutoTokenizer,\n",
    "    BitsAndBytesConfig,\n",
    "    TrainingArguments,\n",
    "    pipeline,\n",
    "    logging\n",
    ")\n",
    "from sklearn.metrics import (\n",
    "\n",
    "    accuracy_score,\n",
    "    classification_report,\n",
    "    confusion_matrix   \n",
    ")\n",
    "from sklearn.model_selection import train_test_split"
   ]
  },
  {
   "cell_type": "code",
   "execution_count": 7,
   "id": "6df1de0c",
   "metadata": {
    "execution": {
     "iopub.execute_input": "2024-10-05T17:20:18.801252Z",
     "iopub.status.busy": "2024-10-05T17:20:18.800604Z",
     "iopub.status.idle": "2024-10-05T17:21:15.732900Z",
     "shell.execute_reply": "2024-10-05T17:21:15.731769Z"
    },
    "papermill": {
     "duration": 56.974118,
     "end_time": "2024-10-05T17:21:15.755021",
     "exception": false,
     "start_time": "2024-10-05T17:20:18.780903",
     "status": "completed"
    },
    "tags": []
   },
   "outputs": [
    {
     "data": {
      "text/html": [
       "<div>\n",
       "<style scoped>\n",
       "    .dataframe tbody tr th:only-of-type {\n",
       "        vertical-align: middle;\n",
       "    }\n",
       "\n",
       "    .dataframe tbody tr th {\n",
       "        vertical-align: top;\n",
       "    }\n",
       "\n",
       "    .dataframe thead th {\n",
       "        text-align: right;\n",
       "    }\n",
       "</style>\n",
       "<table border=\"1\" class=\"dataframe\">\n",
       "  <thead>\n",
       "    <tr style=\"text-align: right;\">\n",
       "      <th></th>\n",
       "      <th>author</th>\n",
       "      <th>category</th>\n",
       "      <th>category_bn</th>\n",
       "      <th>published_date</th>\n",
       "      <th>modification_date</th>\n",
       "      <th>tag</th>\n",
       "      <th>comment_count</th>\n",
       "      <th>title</th>\n",
       "      <th>url</th>\n",
       "      <th>content</th>\n",
       "    </tr>\n",
       "  </thead>\n",
       "  <tbody>\n",
       "    <tr>\n",
       "      <th>0</th>\n",
       "      <td>গাজীপুর প্রতিনিধি</td>\n",
       "      <td>bangladesh</td>\n",
       "      <td>বাংলাদেশ</td>\n",
       "      <td>০৪ জুলাই ২০১৩, ২৩:২৬</td>\n",
       "      <td>০৪ জুলাই ২০১৩, ২৩:২৭</td>\n",
       "      <td>[গাজীপুর]</td>\n",
       "      <td>0</td>\n",
       "      <td>কালিয়াকৈরে টিফিন খেয়ে ৫০০ শ্রমিক অসুস্থ, বিক...</td>\n",
       "      <td>http://www.prothom-alo.com/bangladesh/article/...</td>\n",
       "      <td>গাজীপুরের কালিয়াকৈর উপজেলার তেলিরচালা এলাকায়...</td>\n",
       "    </tr>\n",
       "    <tr>\n",
       "      <th>1</th>\n",
       "      <td>অনলাইন ডেস্ক</td>\n",
       "      <td>sports</td>\n",
       "      <td>খেলা</td>\n",
       "      <td>০৪ জুলাই ২০১৩, ২৩:০৯</td>\n",
       "      <td>০৪ জুলাই ২০১৩, ২৩:১১</td>\n",
       "      <td>[টেনিস]</td>\n",
       "      <td>0</td>\n",
       "      <td>সেমিফাইনাল বাধাও পেরিয়ে গেলেন লিসিকি</td>\n",
       "      <td>http://www.prothom-alo.com/sports/article/19028</td>\n",
       "      <td>এবারের উইম্বলডনটা স্মরণীয় করে রাখার মিশনেই যে...</td>\n",
       "    </tr>\n",
       "    <tr>\n",
       "      <th>2</th>\n",
       "      <td>নিজস্ব প্রতিবেদক</td>\n",
       "      <td>bangladesh</td>\n",
       "      <td>বাংলাদেশ</td>\n",
       "      <td>০৪ জুলাই ২০১৩, ২২:২৫</td>\n",
       "      <td>০৪ জুলাই ২০১৩, ২৩:১২</td>\n",
       "      <td>[রাজনীতি]</td>\n",
       "      <td>0</td>\n",
       "      <td>সংসদে খালেদার অভিযোগের জবাব দিয়েছে ভারত</td>\n",
       "      <td>http://www.prothom-alo.com/bangladesh/article/...</td>\n",
       "      <td>জাতীয় সংসদে বিএনপি চেয়ারপারসন ও বিরোধীদলীয় ...</td>\n",
       "    </tr>\n",
       "    <tr>\n",
       "      <th>3</th>\n",
       "      <td>অনলাইন ডেস্ক</td>\n",
       "      <td>technology</td>\n",
       "      <td>বিজ্ঞান ও প্রযুক্তি</td>\n",
       "      <td>০৪ জুলাই ২০১৩, ২১:৩৭</td>\n",
       "      <td>০৪ জুলাই ২০১৩, ২১:৪৫</td>\n",
       "      <td>[গবেষণা]</td>\n",
       "      <td>0</td>\n",
       "      <td>পাসওয়ার্ড ভুলে যান!</td>\n",
       "      <td>http://www.prothom-alo.com/technology/article/...</td>\n",
       "      <td>সহজ পাসওয়ার্ডের কারণে অনলাইন অ্যাকাউন্ট সহজেই...</td>\n",
       "    </tr>\n",
       "    <tr>\n",
       "      <th>4</th>\n",
       "      <td>অনলাইন ডেস্ক</td>\n",
       "      <td>technology</td>\n",
       "      <td>বিজ্ঞান ও প্রযুক্তি</td>\n",
       "      <td>০৪ জুলাই ২০১৩, ২১:৩৫</td>\n",
       "      <td>০৪ জুলাই ২০১৩, ২১:৩৭</td>\n",
       "      <td>[কম্পিউটার]</td>\n",
       "      <td>0</td>\n",
       "      <td>চলে গেলেন মাউস উদ্ভাবক</td>\n",
       "      <td>http://www.prothom-alo.com/technology/article/...</td>\n",
       "      <td>কম্পিউটার মাউসের উদ্ভাবক ডগলাস অ্যাঙ্গেলবার্ট ...</td>\n",
       "    </tr>\n",
       "  </tbody>\n",
       "</table>\n",
       "</div>"
      ],
      "text/plain": [
       "              author    category          category_bn        published_date  \\\n",
       "0  গাজীপুর প্রতিনিধি  bangladesh             বাংলাদেশ  ০৪ জুলাই ২০১৩, ২৩:২৬   \n",
       "1       অনলাইন ডেস্ক      sports                 খেলা  ০৪ জুলাই ২০১৩, ২৩:০৯   \n",
       "2   নিজস্ব প্রতিবেদক  bangladesh             বাংলাদেশ  ০৪ জুলাই ২০১৩, ২২:২৫   \n",
       "3       অনলাইন ডেস্ক  technology  বিজ্ঞান ও প্রযুক্তি  ০৪ জুলাই ২০১৩, ২১:৩৭   \n",
       "4       অনলাইন ডেস্ক  technology  বিজ্ঞান ও প্রযুক্তি  ০৪ জুলাই ২০১৩, ২১:৩৫   \n",
       "\n",
       "      modification_date          tag comment_count  \\\n",
       "0  ০৪ জুলাই ২০১৩, ২৩:২৭    [গাজীপুর]             0   \n",
       "1  ০৪ জুলাই ২০১৩, ২৩:১১      [টেনিস]             0   \n",
       "2  ০৪ জুলাই ২০১৩, ২৩:১২    [রাজনীতি]             0   \n",
       "3  ০৪ জুলাই ২০১৩, ২১:৪৫     [গবেষণা]             0   \n",
       "4  ০৪ জুলাই ২০১৩, ২১:৩৭  [কম্পিউটার]             0   \n",
       "\n",
       "                                               title  \\\n",
       "0  কালিয়াকৈরে টিফিন খেয়ে ৫০০ শ্রমিক অসুস্থ, বিক...   \n",
       "1              সেমিফাইনাল বাধাও পেরিয়ে গেলেন লিসিকি   \n",
       "2           সংসদে খালেদার অভিযোগের জবাব দিয়েছে ভারত   \n",
       "3                               পাসওয়ার্ড ভুলে যান!   \n",
       "4                             চলে গেলেন মাউস উদ্ভাবক   \n",
       "\n",
       "                                                 url  \\\n",
       "0  http://www.prothom-alo.com/bangladesh/article/...   \n",
       "1    http://www.prothom-alo.com/sports/article/19028   \n",
       "2  http://www.prothom-alo.com/bangladesh/article/...   \n",
       "3  http://www.prothom-alo.com/technology/article/...   \n",
       "4  http://www.prothom-alo.com/technology/article/...   \n",
       "\n",
       "                                             content  \n",
       "0  গাজীপুরের কালিয়াকৈর উপজেলার তেলিরচালা এলাকায়...  \n",
       "1  এবারের উইম্বলডনটা স্মরণীয় করে রাখার মিশনেই যে...  \n",
       "2  জাতীয় সংসদে বিএনপি চেয়ারপারসন ও বিরোধীদলীয় ...  \n",
       "3  সহজ পাসওয়ার্ডের কারণে অনলাইন অ্যাকাউন্ট সহজেই...  \n",
       "4  কম্পিউটার মাউসের উদ্ভাবক ডগলাস অ্যাঙ্গেলবার্ট ...  "
      ]
     },
     "execution_count": 7,
     "metadata": {},
     "output_type": "execute_result"
    }
   ],
   "source": [
    "import numpy as np\n",
    "import pandas as pd\n",
    "\n",
    "data = pd.read_json('/kaggle/input/bangla-newspaper-dataset/data_v2/data_v2.json')\n",
    "data.head()"
   ]
  },
  {
   "cell_type": "code",
   "execution_count": 8,
   "id": "18141642",
   "metadata": {
    "execution": {
     "iopub.execute_input": "2024-10-05T17:21:15.795479Z",
     "iopub.status.busy": "2024-10-05T17:21:15.795084Z",
     "iopub.status.idle": "2024-10-05T17:21:15.801065Z",
     "shell.execute_reply": "2024-10-05T17:21:15.800255Z"
    },
    "papermill": {
     "duration": 0.028333,
     "end_time": "2024-10-05T17:21:15.802905",
     "exception": false,
     "start_time": "2024-10-05T17:21:15.774572",
     "status": "completed"
    },
    "tags": []
   },
   "outputs": [
    {
     "data": {
      "text/plain": [
       "10"
      ]
     },
     "execution_count": 8,
     "metadata": {},
     "output_type": "execute_result"
    }
   ],
   "source": [
    "len(data.columns)"
   ]
  },
  {
   "cell_type": "code",
   "execution_count": 9,
   "id": "32764544",
   "metadata": {
    "execution": {
     "iopub.execute_input": "2024-10-05T17:21:15.843081Z",
     "iopub.status.busy": "2024-10-05T17:21:15.842759Z",
     "iopub.status.idle": "2024-10-05T17:21:15.872881Z",
     "shell.execute_reply": "2024-10-05T17:21:15.872162Z"
    },
    "papermill": {
     "duration": 0.05234,
     "end_time": "2024-10-05T17:21:15.874801",
     "exception": false,
     "start_time": "2024-10-05T17:21:15.822461",
     "status": "completed"
    },
    "tags": []
   },
   "outputs": [],
   "source": [
    "ndf = data[['content','category']]"
   ]
  },
  {
   "cell_type": "code",
   "execution_count": 10,
   "id": "77a13168",
   "metadata": {
    "execution": {
     "iopub.execute_input": "2024-10-05T17:21:15.913679Z",
     "iopub.status.busy": "2024-10-05T17:21:15.913345Z",
     "iopub.status.idle": "2024-10-05T17:21:15.919155Z",
     "shell.execute_reply": "2024-10-05T17:21:15.918283Z"
    },
    "papermill": {
     "duration": 0.027214,
     "end_time": "2024-10-05T17:21:15.921036",
     "exception": false,
     "start_time": "2024-10-05T17:21:15.893822",
     "status": "completed"
    },
    "tags": []
   },
   "outputs": [
    {
     "data": {
      "text/plain": [
       "(408471, 2)"
      ]
     },
     "execution_count": 10,
     "metadata": {},
     "output_type": "execute_result"
    }
   ],
   "source": [
    "ndf.shape"
   ]
  },
  {
   "cell_type": "code",
   "execution_count": 11,
   "id": "946e6fbb",
   "metadata": {
    "execution": {
     "iopub.execute_input": "2024-10-05T17:21:15.960569Z",
     "iopub.status.busy": "2024-10-05T17:21:15.960245Z",
     "iopub.status.idle": "2024-10-05T17:21:24.151376Z",
     "shell.execute_reply": "2024-10-05T17:21:24.150408Z"
    },
    "papermill": {
     "duration": 8.21324,
     "end_time": "2024-10-05T17:21:24.153460",
     "exception": false,
     "start_time": "2024-10-05T17:21:15.940220",
     "status": "completed"
    },
    "tags": []
   },
   "outputs": [
    {
     "data": {
      "text/plain": [
       "1567"
      ]
     },
     "execution_count": 11,
     "metadata": {},
     "output_type": "execute_result"
    }
   ],
   "source": [
    "ndf.duplicated().sum()"
   ]
  },
  {
   "cell_type": "code",
   "execution_count": 12,
   "id": "bf76bd0a",
   "metadata": {
    "execution": {
     "iopub.execute_input": "2024-10-05T17:21:24.193800Z",
     "iopub.status.busy": "2024-10-05T17:21:24.193421Z",
     "iopub.status.idle": "2024-10-05T17:21:28.269043Z",
     "shell.execute_reply": "2024-10-05T17:21:28.268091Z"
    },
    "papermill": {
     "duration": 4.098213,
     "end_time": "2024-10-05T17:21:28.271263",
     "exception": false,
     "start_time": "2024-10-05T17:21:24.173050",
     "status": "completed"
    },
    "tags": []
   },
   "outputs": [
    {
     "name": "stderr",
     "output_type": "stream",
     "text": [
      "/tmp/ipykernel_23/3272145479.py:1: SettingWithCopyWarning: \n",
      "A value is trying to be set on a copy of a slice from a DataFrame\n",
      "\n",
      "See the caveats in the documentation: https://pandas.pydata.org/pandas-docs/stable/user_guide/indexing.html#returning-a-view-versus-a-copy\n",
      "  ndf.drop_duplicates(inplace= True)\n"
     ]
    }
   ],
   "source": [
    "ndf.drop_duplicates(inplace= True)"
   ]
  },
  {
   "cell_type": "code",
   "execution_count": 13,
   "id": "ce89f67b",
   "metadata": {
    "execution": {
     "iopub.execute_input": "2024-10-05T17:21:28.312730Z",
     "iopub.status.busy": "2024-10-05T17:21:28.312365Z",
     "iopub.status.idle": "2024-10-05T17:21:28.318282Z",
     "shell.execute_reply": "2024-10-05T17:21:28.317363Z"
    },
    "papermill": {
     "duration": 0.029046,
     "end_time": "2024-10-05T17:21:28.320223",
     "exception": false,
     "start_time": "2024-10-05T17:21:28.291177",
     "status": "completed"
    },
    "tags": []
   },
   "outputs": [
    {
     "data": {
      "text/plain": [
       "(406904, 2)"
      ]
     },
     "execution_count": 13,
     "metadata": {},
     "output_type": "execute_result"
    }
   ],
   "source": [
    "ndf.shape"
   ]
  },
  {
   "cell_type": "code",
   "execution_count": 14,
   "id": "7e04721a",
   "metadata": {
    "execution": {
     "iopub.execute_input": "2024-10-05T17:21:28.360583Z",
     "iopub.status.busy": "2024-10-05T17:21:28.360243Z",
     "iopub.status.idle": "2024-10-05T17:21:28.440772Z",
     "shell.execute_reply": "2024-10-05T17:21:28.439879Z"
    },
    "papermill": {
     "duration": 0.102751,
     "end_time": "2024-10-05T17:21:28.442794",
     "exception": false,
     "start_time": "2024-10-05T17:21:28.340043",
     "status": "completed"
    },
    "tags": []
   },
   "outputs": [
    {
     "data": {
      "text/plain": [
       "array(['bangladesh', 'sports', 'technology', 'entertainment',\n",
       "       'international', 'economy', 'life-style', 'opinion', 'education'],\n",
       "      dtype=object)"
      ]
     },
     "execution_count": 14,
     "metadata": {},
     "output_type": "execute_result"
    }
   ],
   "source": [
    "ndf.category.unique()"
   ]
  },
  {
   "cell_type": "code",
   "execution_count": 15,
   "id": "a0a85ece",
   "metadata": {
    "execution": {
     "iopub.execute_input": "2024-10-05T17:21:28.482987Z",
     "iopub.status.busy": "2024-10-05T17:21:28.482690Z",
     "iopub.status.idle": "2024-10-05T17:21:29.265033Z",
     "shell.execute_reply": "2024-10-05T17:21:29.264087Z"
    },
    "papermill": {
     "duration": 0.804935,
     "end_time": "2024-10-05T17:21:29.267431",
     "exception": false,
     "start_time": "2024-10-05T17:21:28.462496",
     "status": "completed"
    },
    "tags": []
   },
   "outputs": [
    {
     "data": {
      "image/png": "[encoded data removed]",
      "text/plain": [
       "<Figure size 640x480 with 1 Axes>"
      ]
     },
     "metadata": {},
     "output_type": "display_data"
    }
   ],
   "source": [
    "import matplotlib as mpl\n",
    "import seaborn as sns\n",
    "import matplotlib.pyplot as plt\n",
    "\n",
    "\n",
    "color_palette = ['maroon', 'red', 'green', 'orange', 'purple', 'violet','teal','gray','magenta']\n",
    "\n",
    "labels = ndf['category'].value_counts().index\n",
    "values = ndf['category'].value_counts().values\n",
    "\n",
    "plt.bar(labels,values, color = color_palette)\n",
    "plt.title(\"Imbalance Categorical distribution\")\n",
    "plt.xticks(rotation=90)\n",
    "plt.xlabel('News Category')\n",
    "plt.ylabel('Number of Class')\n",
    "\n",
    "\n",
    "\n",
    "plt.show()"
   ]
  },
  {
   "cell_type": "code",
   "execution_count": 16,
   "id": "abd21549",
   "metadata": {
    "execution": {
     "iopub.execute_input": "2024-10-05T17:21:29.310736Z",
     "iopub.status.busy": "2024-10-05T17:21:29.309476Z",
     "iopub.status.idle": "2024-10-05T17:21:29.319672Z",
     "shell.execute_reply": "2024-10-05T17:21:29.318667Z"
    },
    "papermill": {
     "duration": 0.03317,
     "end_time": "2024-10-05T17:21:29.321564",
     "exception": false,
     "start_time": "2024-10-05T17:21:29.288394",
     "status": "completed"
    },
    "tags": []
   },
   "outputs": [
    {
     "data": {
      "text/html": [
       "<div>\n",
       "<style scoped>\n",
       "    .dataframe tbody tr th:only-of-type {\n",
       "        vertical-align: middle;\n",
       "    }\n",
       "\n",
       "    .dataframe tbody tr th {\n",
       "        vertical-align: top;\n",
       "    }\n",
       "\n",
       "    .dataframe thead th {\n",
       "        text-align: right;\n",
       "    }\n",
       "</style>\n",
       "<table border=\"1\" class=\"dataframe\">\n",
       "  <thead>\n",
       "    <tr style=\"text-align: right;\">\n",
       "      <th></th>\n",
       "      <th>content</th>\n",
       "      <th>category</th>\n",
       "    </tr>\n",
       "  </thead>\n",
       "  <tbody>\n",
       "    <tr>\n",
       "      <th>0</th>\n",
       "      <td>গাজীপুরের কালিয়াকৈর উপজেলার তেলিরচালা এলাকায়...</td>\n",
       "      <td>bangladesh</td>\n",
       "    </tr>\n",
       "    <tr>\n",
       "      <th>1</th>\n",
       "      <td>এবারের উইম্বলডনটা স্মরণীয় করে রাখার মিশনেই যে...</td>\n",
       "      <td>sports</td>\n",
       "    </tr>\n",
       "    <tr>\n",
       "      <th>2</th>\n",
       "      <td>জাতীয় সংসদে বিএনপি চেয়ারপারসন ও বিরোধীদলীয় ...</td>\n",
       "      <td>bangladesh</td>\n",
       "    </tr>\n",
       "    <tr>\n",
       "      <th>3</th>\n",
       "      <td>সহজ পাসওয়ার্ডের কারণে অনলাইন অ্যাকাউন্ট সহজেই...</td>\n",
       "      <td>technology</td>\n",
       "    </tr>\n",
       "    <tr>\n",
       "      <th>4</th>\n",
       "      <td>কম্পিউটার মাউসের উদ্ভাবক ডগলাস অ্যাঙ্গেলবার্ট ...</td>\n",
       "      <td>technology</td>\n",
       "    </tr>\n",
       "  </tbody>\n",
       "</table>\n",
       "</div>"
      ],
      "text/plain": [
       "                                             content    category\n",
       "0  গাজীপুরের কালিয়াকৈর উপজেলার তেলিরচালা এলাকায়...  bangladesh\n",
       "1  এবারের উইম্বলডনটা স্মরণীয় করে রাখার মিশনেই যে...      sports\n",
       "2  জাতীয় সংসদে বিএনপি চেয়ারপারসন ও বিরোধীদলীয় ...  bangladesh\n",
       "3  সহজ পাসওয়ার্ডের কারণে অনলাইন অ্যাকাউন্ট সহজেই...  technology\n",
       "4  কম্পিউটার মাউসের উদ্ভাবক ডগলাস অ্যাঙ্গেলবার্ট ...  technology"
      ]
     },
     "execution_count": 16,
     "metadata": {},
     "output_type": "execute_result"
    }
   ],
   "source": [
    "ndf.head()"
   ]
  },
  {
   "cell_type": "code",
   "execution_count": 17,
   "id": "a583e6e2",
   "metadata": {
    "execution": {
     "iopub.execute_input": "2024-10-05T17:21:29.363724Z",
     "iopub.status.busy": "2024-10-05T17:21:29.363012Z",
     "iopub.status.idle": "2024-10-05T17:21:41.368073Z",
     "shell.execute_reply": "2024-10-05T17:21:41.366860Z"
    },
    "papermill": {
     "duration": 12.02875,
     "end_time": "2024-10-05T17:21:41.370499",
     "exception": false,
     "start_time": "2024-10-05T17:21:29.341749",
     "status": "completed"
    },
    "tags": []
   },
   "outputs": [
    {
     "name": "stderr",
     "output_type": "stream",
     "text": [
      "/opt/conda/lib/python3.10/pty.py:89: RuntimeWarning: os.fork() was called. os.fork() is incompatible with multithreaded code, and JAX is multithreaded, so this will likely lead to a deadlock.\n",
      "  pid, fd = os.forkpty()\n"
     ]
    },
    {
     "name": "stdout",
     "output_type": "stream",
     "text": [
      "Collecting imblearn\r\n",
      "  Downloading imblearn-0.0-py2.py3-none-any.whl.metadata (355 bytes)\r\n",
      "Requirement already satisfied: imbalanced-learn in /opt/conda/lib/python3.10/site-packages (from imblearn) (0.12.3)\r\n",
      "Requirement already satisfied: numpy>=1.17.3 in /opt/conda/lib/python3.10/site-packages (from imbalanced-learn->imblearn) (1.26.4)\r\n",
      "Requirement already satisfied: scipy>=1.5.0 in /opt/conda/lib/python3.10/site-packages (from imbalanced-learn->imblearn) (1.14.1)\r\n",
      "Requirement already satisfied: scikit-learn>=1.0.2 in /opt/conda/lib/python3.10/site-packages (from imbalanced-learn->imblearn) (1.2.2)\r\n",
      "Requirement already satisfied: joblib>=1.1.1 in /opt/conda/lib/python3.10/site-packages (from imbalanced-learn->imblearn) (1.4.2)\r\n",
      "Requirement already satisfied: threadpoolctl>=2.0.0 in /opt/conda/lib/python3.10/site-packages (from imbalanced-learn->imblearn) (3.5.0)\r\n",
      "Downloading imblearn-0.0-py2.py3-none-any.whl (1.9 kB)\r\n",
      "Installing collected packages: imblearn\r\n",
      "Successfully installed imblearn-0.0\r\n"
     ]
    }
   ],
   "source": [
    "!pip install imblearn"
   ]
  },
  {
   "cell_type": "code",
   "execution_count": 18,
   "id": "fdeb794d",
   "metadata": {
    "execution": {
     "iopub.execute_input": "2024-10-05T17:21:41.414288Z",
     "iopub.status.busy": "2024-10-05T17:21:41.413907Z",
     "iopub.status.idle": "2024-10-05T17:21:46.965015Z",
     "shell.execute_reply": "2024-10-05T17:21:46.963933Z"
    },
    "papermill": {
     "duration": 5.575573,
     "end_time": "2024-10-05T17:21:46.967474",
     "exception": false,
     "start_time": "2024-10-05T17:21:41.391901",
     "status": "completed"
    },
    "tags": []
   },
   "outputs": [],
   "source": [
    "\n",
    "from imblearn.under_sampling import RandomUnderSampler\n",
    "\n",
    "A = ndf.drop('category',axis = 1)\n",
    "b = ndf['category']\n",
    "\n",
    "rus = RandomUnderSampler()\n",
    "\n",
    "A_resampled, b_resampled = rus.fit_resample(A,b)\n",
    "\n",
    "resampled_df = pd.DataFrame(A_resampled,columns = A.columns)\n",
    "resampled_df['category'] = b_resampled\n",
    "\n",
    "resampled_df = resampled_df.sample(frac = 1, random_state = 85).reset_index (drop=True)"
   ]
  },
  {
   "cell_type": "code",
   "execution_count": 19,
   "id": "d24ffd07",
   "metadata": {
    "execution": {
     "iopub.execute_input": "2024-10-05T17:21:47.011245Z",
     "iopub.status.busy": "2024-10-05T17:21:47.010570Z",
     "iopub.status.idle": "2024-10-05T17:21:47.020371Z",
     "shell.execute_reply": "2024-10-05T17:21:47.019544Z"
    },
    "papermill": {
     "duration": 0.0336,
     "end_time": "2024-10-05T17:21:47.022443",
     "exception": false,
     "start_time": "2024-10-05T17:21:46.988843",
     "status": "completed"
    },
    "tags": []
   },
   "outputs": [
    {
     "data": {
      "text/html": [
       "<div>\n",
       "<style scoped>\n",
       "    .dataframe tbody tr th:only-of-type {\n",
       "        vertical-align: middle;\n",
       "    }\n",
       "\n",
       "    .dataframe tbody tr th {\n",
       "        vertical-align: top;\n",
       "    }\n",
       "\n",
       "    .dataframe thead th {\n",
       "        text-align: right;\n",
       "    }\n",
       "</style>\n",
       "<table border=\"1\" class=\"dataframe\">\n",
       "  <thead>\n",
       "    <tr style=\"text-align: right;\">\n",
       "      <th></th>\n",
       "      <th>content</th>\n",
       "      <th>category</th>\n",
       "    </tr>\n",
       "  </thead>\n",
       "  <tbody>\n",
       "    <tr>\n",
       "      <th>0</th>\n",
       "      <td>২ টাকা থেকে ৫০০ টাকার নোট স্ক্যান করে স্বাধীনত...</td>\n",
       "      <td>technology</td>\n",
       "    </tr>\n",
       "    <tr>\n",
       "      <th>1</th>\n",
       "      <td>গত অর্থবছরে (২০১৬-১৭) মোট দেশজ উৎপাদনের প্রবৃদ...</td>\n",
       "      <td>economy</td>\n",
       "    </tr>\n",
       "    <tr>\n",
       "      <th>2</th>\n",
       "      <td>মেষ ২১ মার্চ-২০ এপ্রিল। ভর # ৬পথ চলাতে আপনার য...</td>\n",
       "      <td>life-style</td>\n",
       "    </tr>\n",
       "    <tr>\n",
       "      <th>3</th>\n",
       "      <td>অনেক জল্পনাকল্পনা এবং আশঙ্কার মধ্য দিয়ে শেষ হ...</td>\n",
       "      <td>opinion</td>\n",
       "    </tr>\n",
       "    <tr>\n",
       "      <th>4</th>\n",
       "      <td>অধ্যায়-৩ প্রিয় শিক্ষার্থী, আজ প্রাথমিক বিজ্ঞা...</td>\n",
       "      <td>education</td>\n",
       "    </tr>\n",
       "  </tbody>\n",
       "</table>\n",
       "</div>"
      ],
      "text/plain": [
       "                                             content    category\n",
       "0  ২ টাকা থেকে ৫০০ টাকার নোট স্ক্যান করে স্বাধীনত...  technology\n",
       "1  গত অর্থবছরে (২০১৬-১৭) মোট দেশজ উৎপাদনের প্রবৃদ...     economy\n",
       "2  মেষ ২১ মার্চ-২০ এপ্রিল। ভর # ৬পথ চলাতে আপনার য...  life-style\n",
       "3  অনেক জল্পনাকল্পনা এবং আশঙ্কার মধ্য দিয়ে শেষ হ...     opinion\n",
       "4  অধ্যায়-৩ প্রিয় শিক্ষার্থী, আজ প্রাথমিক বিজ্ঞা...   education"
      ]
     },
     "execution_count": 19,
     "metadata": {},
     "output_type": "execute_result"
    }
   ],
   "source": [
    "resampled_df.head()"
   ]
  },
  {
   "cell_type": "code",
   "execution_count": 20,
   "id": "689131de",
   "metadata": {
    "execution": {
     "iopub.execute_input": "2024-10-05T17:21:47.065830Z",
     "iopub.status.busy": "2024-10-05T17:21:47.065392Z",
     "iopub.status.idle": "2024-10-05T17:21:47.071001Z",
     "shell.execute_reply": "2024-10-05T17:21:47.070067Z"
    },
    "papermill": {
     "duration": 0.02967,
     "end_time": "2024-10-05T17:21:47.073068",
     "exception": false,
     "start_time": "2024-10-05T17:21:47.043398",
     "status": "completed"
    },
    "tags": []
   },
   "outputs": [
    {
     "data": {
      "text/plain": [
       "(86868, 2)"
      ]
     },
     "execution_count": 20,
     "metadata": {},
     "output_type": "execute_result"
    }
   ],
   "source": [
    "resampled_df.shape"
   ]
  },
  {
   "cell_type": "code",
   "execution_count": 21,
   "id": "9f87b2df",
   "metadata": {
    "execution": {
     "iopub.execute_input": "2024-10-05T17:21:47.116641Z",
     "iopub.status.busy": "2024-10-05T17:21:47.116277Z",
     "iopub.status.idle": "2024-10-05T17:21:47.442684Z",
     "shell.execute_reply": "2024-10-05T17:21:47.441741Z"
    },
    "papermill": {
     "duration": 0.350579,
     "end_time": "2024-10-05T17:21:47.444639",
     "exception": false,
     "start_time": "2024-10-05T17:21:47.094060",
     "status": "completed"
    },
    "tags": []
   },
   "outputs": [
    {
     "data": {
      "image/png": "[encoded data removed]",
      "text/plain": [
       "<Figure size 640x480 with 1 Axes>"
      ]
     },
     "metadata": {},
     "output_type": "display_data"
    }
   ],
   "source": [
    "#category distribution\n",
    "labels = resampled_df['category'].value_counts().index\n",
    "values = resampled_df['category'].value_counts().values\n",
    "\n",
    "color_palette = ['maroon', 'red', 'green', 'orange', 'purple', 'violet','teal','gray','magenta']\n",
    "\n",
    "#plot bar chart\n",
    "plt.bar(labels,values, color = color_palette)\n",
    "plt.title('Imbalance Categorical distribution')\n",
    "plt.xticks(rotation=90)\n",
    "plt.xlabel('News Category')\n",
    "plt.ylabel('Number of class')\n",
    "plt.show()"
   ]
  },
  {
   "cell_type": "code",
   "execution_count": 22,
   "id": "7c4c896b",
   "metadata": {
    "execution": {
     "iopub.execute_input": "2024-10-05T17:21:47.490373Z",
     "iopub.status.busy": "2024-10-05T17:21:47.489619Z",
     "iopub.status.idle": "2024-10-05T17:21:47.520748Z",
     "shell.execute_reply": "2024-10-05T17:21:47.519865Z"
    },
    "papermill": {
     "duration": 0.055693,
     "end_time": "2024-10-05T17:21:47.522666",
     "exception": false,
     "start_time": "2024-10-05T17:21:47.466973",
     "status": "completed"
    },
    "tags": []
   },
   "outputs": [
    {
     "data": {
      "text/plain": [
       "category\n",
       "technology       9652\n",
       "economy          9652\n",
       "life-style       9652\n",
       "opinion          9652\n",
       "education        9652\n",
       "sports           9652\n",
       "international    9652\n",
       "entertainment    9652\n",
       "bangladesh       9652\n",
       "Name: count, dtype: int64"
      ]
     },
     "execution_count": 22,
     "metadata": {},
     "output_type": "execute_result"
    }
   ],
   "source": [
    "resampled_df['category'].value_counts()"
   ]
  },
  {
   "cell_type": "code",
   "execution_count": 23,
   "id": "346f8ea1",
   "metadata": {
    "execution": {
     "iopub.execute_input": "2024-10-05T17:21:47.567438Z",
     "iopub.status.busy": "2024-10-05T17:21:47.567126Z",
     "iopub.status.idle": "2024-10-05T17:21:47.599392Z",
     "shell.execute_reply": "2024-10-05T17:21:47.598559Z"
    },
    "papermill": {
     "duration": 0.056892,
     "end_time": "2024-10-05T17:21:47.601281",
     "exception": false,
     "start_time": "2024-10-05T17:21:47.544389",
     "status": "completed"
    },
    "tags": []
   },
   "outputs": [
    {
     "data": {
      "text/html": [
       "<div>\n",
       "<style scoped>\n",
       "    .dataframe tbody tr th:only-of-type {\n",
       "        vertical-align: middle;\n",
       "    }\n",
       "\n",
       "    .dataframe tbody tr th {\n",
       "        vertical-align: top;\n",
       "    }\n",
       "\n",
       "    .dataframe thead th {\n",
       "        text-align: right;\n",
       "    }\n",
       "</style>\n",
       "<table border=\"1\" class=\"dataframe\">\n",
       "  <thead>\n",
       "    <tr style=\"text-align: right;\">\n",
       "      <th></th>\n",
       "      <th>content</th>\n",
       "      <th>category</th>\n",
       "    </tr>\n",
       "  </thead>\n",
       "  <tbody>\n",
       "    <tr>\n",
       "      <th>0</th>\n",
       "      <td>যুক্তরাষ্ট্রের আগামী প্রেসিডেন্ট নির্বাচনে ডেম...</td>\n",
       "      <td>international</td>\n",
       "    </tr>\n",
       "    <tr>\n",
       "      <th>1</th>\n",
       "      <td>ফিরছেন ইশান্ত শর্মা। মশাবাহিত চিকুনগুনিয়া জ্বর...</td>\n",
       "      <td>sports</td>\n",
       "    </tr>\n",
       "    <tr>\n",
       "      <th>2</th>\n",
       "      <td>পৃথিবীর প্রথম স্মার্টকোট তৈরি করা হচ্ছে যুক্তর...</td>\n",
       "      <td>technology</td>\n",
       "    </tr>\n",
       "    <tr>\n",
       "      <th>3</th>\n",
       "      <td>চীনের পূর্বাঞ্চলে গতকাল শনিবার বিকেলে স্মরণকাল...</td>\n",
       "      <td>international</td>\n",
       "    </tr>\n",
       "    <tr>\n",
       "      <th>4</th>\n",
       "      <td>ভয়াবহ এক শুরুর পর ইনিংসের শেষটা অবশ্যই তৃপ্তি ...</td>\n",
       "      <td>sports</td>\n",
       "    </tr>\n",
       "  </tbody>\n",
       "</table>\n",
       "</div>"
      ],
      "text/plain": [
       "                                             content       category\n",
       "0  যুক্তরাষ্ট্রের আগামী প্রেসিডেন্ট নির্বাচনে ডেম...  international\n",
       "1  ফিরছেন ইশান্ত শর্মা। মশাবাহিত চিকুনগুনিয়া জ্বর...         sports\n",
       "2  পৃথিবীর প্রথম স্মার্টকোট তৈরি করা হচ্ছে যুক্তর...     technology\n",
       "3  চীনের পূর্বাঞ্চলে গতকাল শনিবার বিকেলে স্মরণকাল...  international\n",
       "4  ভয়াবহ এক শুরুর পর ইনিংসের শেষটা অবশ্যই তৃপ্তি ...         sports"
      ]
     },
     "execution_count": 23,
     "metadata": {},
     "output_type": "execute_result"
    }
   ],
   "source": [
    "ndf = resampled_df.sample(frac= 1, random_state = 48).reset_index(drop=True).head(5000)\n",
    "ndf.head()"
   ]
  },
  {
   "cell_type": "code",
   "execution_count": 24,
   "id": "5ccc91d6",
   "metadata": {
    "execution": {
     "iopub.execute_input": "2024-10-05T17:21:47.647334Z",
     "iopub.status.busy": "2024-10-05T17:21:47.646972Z",
     "iopub.status.idle": "2024-10-05T17:21:47.651778Z",
     "shell.execute_reply": "2024-10-05T17:21:47.650834Z"
    },
    "papermill": {
     "duration": 0.029942,
     "end_time": "2024-10-05T17:21:47.653781",
     "exception": false,
     "start_time": "2024-10-05T17:21:47.623839",
     "status": "completed"
    },
    "tags": []
   },
   "outputs": [],
   "source": [
    "train_size = 0.8\n",
    "val_size = 0.1\n",
    "\n",
    "train_end = int(train_size * len(ndf)) \n",
    "val_end = train_end + int(val_size * len(ndf))"
   ]
  },
  {
   "cell_type": "code",
   "execution_count": 25,
   "id": "608d73d0",
   "metadata": {
    "execution": {
     "iopub.execute_input": "2024-10-05T17:21:47.698983Z",
     "iopub.status.busy": "2024-10-05T17:21:47.698706Z",
     "iopub.status.idle": "2024-10-05T17:21:47.705247Z",
     "shell.execute_reply": "2024-10-05T17:21:47.704432Z"
    },
    "papermill": {
     "duration": 0.031542,
     "end_time": "2024-10-05T17:21:47.707419",
     "exception": false,
     "start_time": "2024-10-05T17:21:47.675877",
     "status": "completed"
    },
    "tags": []
   },
   "outputs": [
    {
     "name": "stdout",
     "output_type": "stream",
     "text": [
      "(4000, 2)\n",
      "(500, 2)\n",
      "(500, 2)\n"
     ]
    }
   ],
   "source": [
    "X_train = ndf[:train_end]\n",
    "X_val = ndf[train_end:val_end]\n",
    "X_test = ndf[val_end:]\n",
    "\n",
    "print(X_train.shape)\n",
    "print(X_val.shape)\n",
    "print(X_test.shape)"
   ]
  },
  {
   "cell_type": "code",
   "execution_count": 26,
   "id": "79ee0e49",
   "metadata": {
    "execution": {
     "iopub.execute_input": "2024-10-05T17:21:47.752890Z",
     "iopub.status.busy": "2024-10-05T17:21:47.752576Z",
     "iopub.status.idle": "2024-10-05T17:21:47.757618Z",
     "shell.execute_reply": "2024-10-05T17:21:47.756789Z"
    },
    "papermill": {
     "duration": 0.029876,
     "end_time": "2024-10-05T17:21:47.759438",
     "exception": false,
     "start_time": "2024-10-05T17:21:47.729562",
     "status": "completed"
    },
    "tags": []
   },
   "outputs": [],
   "source": [
    "# Define the prompt generation functions\n",
    "def generate_prompt(data_point):\n",
    "    return f\"\"\"\n",
    "            Classify the text into bangladesh, sports, technology, entertainment,international, economy, life-style, opinion, education and return the answer as the corresponding newpapers news category.\n",
    "text: {data_point[\"content\"]}\n",
    "label: {data_point[\"category\"]}\"\"\".strip()\n",
    "\n",
    "def generate_test_prompt(data_point):\n",
    "    return f\"\"\"\n",
    "            Classify the text into bangladesh, sports, technology, entertainment,international, economy, life-style, opinion, education and return the answer as the corresponding newpapers news category.\n",
    "text: {data_point[\"content\"]}\n",
    "label: \"\"\".strip()"
   ]
  },
  {
   "cell_type": "code",
   "execution_count": 27,
   "id": "40254c94",
   "metadata": {
    "execution": {
     "iopub.execute_input": "2024-10-05T17:21:47.804823Z",
     "iopub.status.busy": "2024-10-05T17:21:47.804501Z",
     "iopub.status.idle": "2024-10-05T17:21:47.888262Z",
     "shell.execute_reply": "2024-10-05T17:21:47.887335Z"
    },
    "papermill": {
     "duration": 0.108611,
     "end_time": "2024-10-05T17:21:47.890413",
     "exception": false,
     "start_time": "2024-10-05T17:21:47.781802",
     "status": "completed"
    },
    "tags": []
   },
   "outputs": [
    {
     "name": "stderr",
     "output_type": "stream",
     "text": [
      "/tmp/ipykernel_23/605730108.py:1: SettingWithCopyWarning: \n",
      "A value is trying to be set on a copy of a slice from a DataFrame.\n",
      "Try using .loc[row_indexer,col_indexer] = value instead\n",
      "\n",
      "See the caveats in the documentation: https://pandas.pydata.org/pandas-docs/stable/user_guide/indexing.html#returning-a-view-versus-a-copy\n",
      "  X_train.loc[:,'text'] = X_train.apply(generate_prompt,axis = 1)\n"
     ]
    },
    {
     "data": {
      "text/html": [
       "<div>\n",
       "<style scoped>\n",
       "    .dataframe tbody tr th:only-of-type {\n",
       "        vertical-align: middle;\n",
       "    }\n",
       "\n",
       "    .dataframe tbody tr th {\n",
       "        vertical-align: top;\n",
       "    }\n",
       "\n",
       "    .dataframe thead th {\n",
       "        text-align: right;\n",
       "    }\n",
       "</style>\n",
       "<table border=\"1\" class=\"dataframe\">\n",
       "  <thead>\n",
       "    <tr style=\"text-align: right;\">\n",
       "      <th></th>\n",
       "      <th>content</th>\n",
       "      <th>category</th>\n",
       "      <th>text</th>\n",
       "    </tr>\n",
       "  </thead>\n",
       "  <tbody>\n",
       "    <tr>\n",
       "      <th>0</th>\n",
       "      <td>যুক্তরাষ্ট্রের আগামী প্রেসিডেন্ট নির্বাচনে ডেম...</td>\n",
       "      <td>international</td>\n",
       "      <td>Classify the text into bangladesh, sports, tec...</td>\n",
       "    </tr>\n",
       "    <tr>\n",
       "      <th>1</th>\n",
       "      <td>ফিরছেন ইশান্ত শর্মা। মশাবাহিত চিকুনগুনিয়া জ্বর...</td>\n",
       "      <td>sports</td>\n",
       "      <td>Classify the text into bangladesh, sports, tec...</td>\n",
       "    </tr>\n",
       "    <tr>\n",
       "      <th>2</th>\n",
       "      <td>পৃথিবীর প্রথম স্মার্টকোট তৈরি করা হচ্ছে যুক্তর...</td>\n",
       "      <td>technology</td>\n",
       "      <td>Classify the text into bangladesh, sports, tec...</td>\n",
       "    </tr>\n",
       "    <tr>\n",
       "      <th>3</th>\n",
       "      <td>চীনের পূর্বাঞ্চলে গতকাল শনিবার বিকেলে স্মরণকাল...</td>\n",
       "      <td>international</td>\n",
       "      <td>Classify the text into bangladesh, sports, tec...</td>\n",
       "    </tr>\n",
       "    <tr>\n",
       "      <th>4</th>\n",
       "      <td>ভয়াবহ এক শুরুর পর ইনিংসের শেষটা অবশ্যই তৃপ্তি ...</td>\n",
       "      <td>sports</td>\n",
       "      <td>Classify the text into bangladesh, sports, tec...</td>\n",
       "    </tr>\n",
       "  </tbody>\n",
       "</table>\n",
       "</div>"
      ],
      "text/plain": [
       "                                             content       category  \\\n",
       "0  যুক্তরাষ্ট্রের আগামী প্রেসিডেন্ট নির্বাচনে ডেম...  international   \n",
       "1  ফিরছেন ইশান্ত শর্মা। মশাবাহিত চিকুনগুনিয়া জ্বর...         sports   \n",
       "2  পৃথিবীর প্রথম স্মার্টকোট তৈরি করা হচ্ছে যুক্তর...     technology   \n",
       "3  চীনের পূর্বাঞ্চলে গতকাল শনিবার বিকেলে স্মরণকাল...  international   \n",
       "4  ভয়াবহ এক শুরুর পর ইনিংসের শেষটা অবশ্যই তৃপ্তি ...         sports   \n",
       "\n",
       "                                                text  \n",
       "0  Classify the text into bangladesh, sports, tec...  \n",
       "1  Classify the text into bangladesh, sports, tec...  \n",
       "2  Classify the text into bangladesh, sports, tec...  \n",
       "3  Classify the text into bangladesh, sports, tec...  \n",
       "4  Classify the text into bangladesh, sports, tec...  "
      ]
     },
     "execution_count": 27,
     "metadata": {},
     "output_type": "execute_result"
    }
   ],
   "source": [
    "X_train.loc[:,'text'] = X_train.apply(generate_prompt,axis = 1)\n",
    "X_train.head()"
   ]
  },
  {
   "cell_type": "code",
   "execution_count": 28,
   "id": "aa2c7dd0",
   "metadata": {
    "execution": {
     "iopub.execute_input": "2024-10-05T17:21:47.938484Z",
     "iopub.status.busy": "2024-10-05T17:21:47.938131Z",
     "iopub.status.idle": "2024-10-05T17:21:47.961276Z",
     "shell.execute_reply": "2024-10-05T17:21:47.960337Z"
    },
    "papermill": {
     "duration": 0.050539,
     "end_time": "2024-10-05T17:21:47.963562",
     "exception": false,
     "start_time": "2024-10-05T17:21:47.913023",
     "status": "completed"
    },
    "tags": []
   },
   "outputs": [
    {
     "name": "stderr",
     "output_type": "stream",
     "text": [
      "/tmp/ipykernel_23/1181508762.py:1: SettingWithCopyWarning: \n",
      "A value is trying to be set on a copy of a slice from a DataFrame.\n",
      "Try using .loc[row_indexer,col_indexer] = value instead\n",
      "\n",
      "See the caveats in the documentation: https://pandas.pydata.org/pandas-docs/stable/user_guide/indexing.html#returning-a-view-versus-a-copy\n",
      "  X_val.loc[:,'text'] = X_val.apply(generate_prompt, axis=1)\n"
     ]
    },
    {
     "data": {
      "text/html": [
       "<div>\n",
       "<style scoped>\n",
       "    .dataframe tbody tr th:only-of-type {\n",
       "        vertical-align: middle;\n",
       "    }\n",
       "\n",
       "    .dataframe tbody tr th {\n",
       "        vertical-align: top;\n",
       "    }\n",
       "\n",
       "    .dataframe thead th {\n",
       "        text-align: right;\n",
       "    }\n",
       "</style>\n",
       "<table border=\"1\" class=\"dataframe\">\n",
       "  <thead>\n",
       "    <tr style=\"text-align: right;\">\n",
       "      <th></th>\n",
       "      <th>content</th>\n",
       "      <th>category</th>\n",
       "      <th>text</th>\n",
       "    </tr>\n",
       "  </thead>\n",
       "  <tbody>\n",
       "    <tr>\n",
       "      <th>4000</th>\n",
       "      <td>নির্বাচনকালীন সরকারের তথ্যমন্ত্রী হাসানুল হক ই...</td>\n",
       "      <td>bangladesh</td>\n",
       "      <td>Classify the text into bangladesh, sports, tec...</td>\n",
       "    </tr>\n",
       "    <tr>\n",
       "      <th>4001</th>\n",
       "      <td>আগামী ফেব্রুয়ারি থেকে মাধ্যমিক পরীক্ষা দেবেন অ...</td>\n",
       "      <td>entertainment</td>\n",
       "      <td>Classify the text into bangladesh, sports, tec...</td>\n",
       "    </tr>\n",
       "    <tr>\n",
       "      <th>4002</th>\n",
       "      <td>বয়সে ম্যাটস হামেলসের চেয়ে দুই বছরের বড় ডেভিড ল...</td>\n",
       "      <td>sports</td>\n",
       "      <td>Classify the text into bangladesh, sports, tec...</td>\n",
       "    </tr>\n",
       "    <tr>\n",
       "      <th>4003</th>\n",
       "      <td>মহাকাশের বিভিন্ন গ্রহ-উপগ্রহ, তারকা নিয়ে যাঁদে...</td>\n",
       "      <td>education</td>\n",
       "      <td>Classify the text into bangladesh, sports, tec...</td>\n",
       "    </tr>\n",
       "    <tr>\n",
       "      <th>4004</th>\n",
       "      <td>ফতুল্লায় একদিনের প্রস্তুতি ম্যাচে টসে জিতে প্...</td>\n",
       "      <td>sports</td>\n",
       "      <td>Classify the text into bangladesh, sports, tec...</td>\n",
       "    </tr>\n",
       "  </tbody>\n",
       "</table>\n",
       "</div>"
      ],
      "text/plain": [
       "                                                content       category  \\\n",
       "4000  নির্বাচনকালীন সরকারের তথ্যমন্ত্রী হাসানুল হক ই...     bangladesh   \n",
       "4001  আগামী ফেব্রুয়ারি থেকে মাধ্যমিক পরীক্ষা দেবেন অ...  entertainment   \n",
       "4002  বয়সে ম্যাটস হামেলসের চেয়ে দুই বছরের বড় ডেভিড ল...         sports   \n",
       "4003  মহাকাশের বিভিন্ন গ্রহ-উপগ্রহ, তারকা নিয়ে যাঁদে...      education   \n",
       "4004  ফতুল্লায় একদিনের প্রস্তুতি ম্যাচে টসে জিতে প্...         sports   \n",
       "\n",
       "                                                   text  \n",
       "4000  Classify the text into bangladesh, sports, tec...  \n",
       "4001  Classify the text into bangladesh, sports, tec...  \n",
       "4002  Classify the text into bangladesh, sports, tec...  \n",
       "4003  Classify the text into bangladesh, sports, tec...  \n",
       "4004  Classify the text into bangladesh, sports, tec...  "
      ]
     },
     "execution_count": 28,
     "metadata": {},
     "output_type": "execute_result"
    }
   ],
   "source": [
    "X_val.loc[:,'text'] = X_val.apply(generate_prompt, axis=1)\n",
    "X_val.head()"
   ]
  },
  {
   "cell_type": "code",
   "execution_count": 29,
   "id": "edb4c651",
   "metadata": {
    "execution": {
     "iopub.execute_input": "2024-10-05T17:21:48.010572Z",
     "iopub.status.busy": "2024-10-05T17:21:48.010227Z",
     "iopub.status.idle": "2024-10-05T17:21:48.019356Z",
     "shell.execute_reply": "2024-10-05T17:21:48.018229Z"
    },
    "papermill": {
     "duration": 0.034737,
     "end_time": "2024-10-05T17:21:48.021380",
     "exception": false,
     "start_time": "2024-10-05T17:21:47.986643",
     "status": "completed"
    },
    "tags": []
   },
   "outputs": [
    {
     "data": {
      "text/html": [
       "<div>\n",
       "<style scoped>\n",
       "    .dataframe tbody tr th:only-of-type {\n",
       "        vertical-align: middle;\n",
       "    }\n",
       "\n",
       "    .dataframe tbody tr th {\n",
       "        vertical-align: top;\n",
       "    }\n",
       "\n",
       "    .dataframe thead th {\n",
       "        text-align: right;\n",
       "    }\n",
       "</style>\n",
       "<table border=\"1\" class=\"dataframe\">\n",
       "  <thead>\n",
       "    <tr style=\"text-align: right;\">\n",
       "      <th></th>\n",
       "      <th>content</th>\n",
       "      <th>category</th>\n",
       "    </tr>\n",
       "  </thead>\n",
       "  <tbody>\n",
       "    <tr>\n",
       "      <th>4500</th>\n",
       "      <td>চিকিৎসক কম্পিউটারেই লিখতে পারবেন রোগীর ব্যবস্থ...</td>\n",
       "      <td>technology</td>\n",
       "    </tr>\n",
       "    <tr>\n",
       "      <th>4501</th>\n",
       "      <td>যুক্তরাষ্ট্রের ওয়াশিংটন ডিসিতে আজ অনুষ্ঠিত হবে...</td>\n",
       "      <td>bangladesh</td>\n",
       "    </tr>\n",
       "    <tr>\n",
       "      <th>4502</th>\n",
       "      <td>আজ সকালে যখন দিল্লির বিমানে উড়াল দিয়েছেন মাশরা...</td>\n",
       "      <td>sports</td>\n",
       "    </tr>\n",
       "    <tr>\n",
       "      <th>4503</th>\n",
       "      <td>প্রেমের সম্পর্ক ভেঙে যাওয়ায় রাশিয়ায় এক ব্য...</td>\n",
       "      <td>international</td>\n",
       "    </tr>\n",
       "    <tr>\n",
       "      <th>4504</th>\n",
       "      <td>একটি লাড্ডুর আকার বা ওজন আর কতই বা হতে পারে। ক...</td>\n",
       "      <td>international</td>\n",
       "    </tr>\n",
       "  </tbody>\n",
       "</table>\n",
       "</div>"
      ],
      "text/plain": [
       "                                                content       category\n",
       "4500  চিকিৎসক কম্পিউটারেই লিখতে পারবেন রোগীর ব্যবস্থ...     technology\n",
       "4501  যুক্তরাষ্ট্রের ওয়াশিংটন ডিসিতে আজ অনুষ্ঠিত হবে...     bangladesh\n",
       "4502  আজ সকালে যখন দিল্লির বিমানে উড়াল দিয়েছেন মাশরা...         sports\n",
       "4503  প্রেমের সম্পর্ক ভেঙে যাওয়ায় রাশিয়ায় এক ব্য...  international\n",
       "4504  একটি লাড্ডুর আকার বা ওজন আর কতই বা হতে পারে। ক...  international"
      ]
     },
     "execution_count": 29,
     "metadata": {},
     "output_type": "execute_result"
    }
   ],
   "source": [
    "X_test.head()"
   ]
  },
  {
   "cell_type": "code",
   "execution_count": 30,
   "id": "418ba675",
   "metadata": {
    "execution": {
     "iopub.execute_input": "2024-10-05T17:21:48.070742Z",
     "iopub.status.busy": "2024-10-05T17:21:48.070420Z",
     "iopub.status.idle": "2024-10-05T17:21:48.083309Z",
     "shell.execute_reply": "2024-10-05T17:21:48.082573Z"
    },
    "papermill": {
     "duration": 0.039135,
     "end_time": "2024-10-05T17:21:48.085083",
     "exception": false,
     "start_time": "2024-10-05T17:21:48.045948",
     "status": "completed"
    },
    "tags": []
   },
   "outputs": [],
   "source": [
    "y_true = X_test.loc[:,'category']\n",
    "X_test = pd.DataFrame(X_test.apply(generate_test_prompt, axis = 1), columns = ['text'])"
   ]
  },
  {
   "cell_type": "code",
   "execution_count": 31,
   "id": "7ff39d58",
   "metadata": {
    "execution": {
     "iopub.execute_input": "2024-10-05T17:21:48.133048Z",
     "iopub.status.busy": "2024-10-05T17:21:48.132494Z",
     "iopub.status.idle": "2024-10-05T17:21:48.141926Z",
     "shell.execute_reply": "2024-10-05T17:21:48.140927Z"
    },
    "papermill": {
     "duration": 0.035755,
     "end_time": "2024-10-05T17:21:48.143767",
     "exception": false,
     "start_time": "2024-10-05T17:21:48.108012",
     "status": "completed"
    },
    "tags": []
   },
   "outputs": [
    {
     "data": {
      "text/html": [
       "<div>\n",
       "<style scoped>\n",
       "    .dataframe tbody tr th:only-of-type {\n",
       "        vertical-align: middle;\n",
       "    }\n",
       "\n",
       "    .dataframe tbody tr th {\n",
       "        vertical-align: top;\n",
       "    }\n",
       "\n",
       "    .dataframe thead th {\n",
       "        text-align: right;\n",
       "    }\n",
       "</style>\n",
       "<table border=\"1\" class=\"dataframe\">\n",
       "  <thead>\n",
       "    <tr style=\"text-align: right;\">\n",
       "      <th></th>\n",
       "      <th>text</th>\n",
       "    </tr>\n",
       "  </thead>\n",
       "  <tbody>\n",
       "    <tr>\n",
       "      <th>4500</th>\n",
       "      <td>Classify the text into bangladesh, sports, tec...</td>\n",
       "    </tr>\n",
       "    <tr>\n",
       "      <th>4501</th>\n",
       "      <td>Classify the text into bangladesh, sports, tec...</td>\n",
       "    </tr>\n",
       "    <tr>\n",
       "      <th>4502</th>\n",
       "      <td>Classify the text into bangladesh, sports, tec...</td>\n",
       "    </tr>\n",
       "    <tr>\n",
       "      <th>4503</th>\n",
       "      <td>Classify the text into bangladesh, sports, tec...</td>\n",
       "    </tr>\n",
       "    <tr>\n",
       "      <th>4504</th>\n",
       "      <td>Classify the text into bangladesh, sports, tec...</td>\n",
       "    </tr>\n",
       "  </tbody>\n",
       "</table>\n",
       "</div>"
      ],
      "text/plain": [
       "                                                   text\n",
       "4500  Classify the text into bangladesh, sports, tec...\n",
       "4501  Classify the text into bangladesh, sports, tec...\n",
       "4502  Classify the text into bangladesh, sports, tec...\n",
       "4503  Classify the text into bangladesh, sports, tec...\n",
       "4504  Classify the text into bangladesh, sports, tec..."
      ]
     },
     "execution_count": 31,
     "metadata": {},
     "output_type": "execute_result"
    }
   ],
   "source": [
    "X_test.head()"
   ]
  },
  {
   "cell_type": "code",
   "execution_count": 32,
   "id": "41d085df",
   "metadata": {
    "execution": {
     "iopub.execute_input": "2024-10-05T17:21:48.192708Z",
     "iopub.status.busy": "2024-10-05T17:21:48.192316Z",
     "iopub.status.idle": "2024-10-05T17:21:48.198268Z",
     "shell.execute_reply": "2024-10-05T17:21:48.197415Z"
    },
    "papermill": {
     "duration": 0.032712,
     "end_time": "2024-10-05T17:21:48.200132",
     "exception": false,
     "start_time": "2024-10-05T17:21:48.167420",
     "status": "completed"
    },
    "tags": []
   },
   "outputs": [
    {
     "data": {
      "text/plain": [
       "(500, 3)"
      ]
     },
     "execution_count": 32,
     "metadata": {},
     "output_type": "execute_result"
    }
   ],
   "source": [
    "X_val.shape"
   ]
  },
  {
   "cell_type": "code",
   "execution_count": 33,
   "id": "b3fcdb65",
   "metadata": {
    "execution": {
     "iopub.execute_input": "2024-10-05T17:21:48.249023Z",
     "iopub.status.busy": "2024-10-05T17:21:48.248672Z",
     "iopub.status.idle": "2024-10-05T17:21:48.255711Z",
     "shell.execute_reply": "2024-10-05T17:21:48.254800Z"
    },
    "papermill": {
     "duration": 0.033916,
     "end_time": "2024-10-05T17:21:48.257762",
     "exception": false,
     "start_time": "2024-10-05T17:21:48.223846",
     "status": "completed"
    },
    "tags": []
   },
   "outputs": [
    {
     "data": {
      "text/plain": [
       "4500       technology\n",
       "4501       bangladesh\n",
       "4502           sports\n",
       "4503    international\n",
       "4504    international\n",
       "Name: category, dtype: object"
      ]
     },
     "execution_count": 33,
     "metadata": {},
     "output_type": "execute_result"
    }
   ],
   "source": [
    "y_true.head()"
   ]
  },
  {
   "cell_type": "code",
   "execution_count": 34,
   "id": "64733b58",
   "metadata": {
    "execution": {
     "iopub.execute_input": "2024-10-05T17:21:48.307201Z",
     "iopub.status.busy": "2024-10-05T17:21:48.306396Z",
     "iopub.status.idle": "2024-10-05T17:21:48.315893Z",
     "shell.execute_reply": "2024-10-05T17:21:48.314995Z"
    },
    "papermill": {
     "duration": 0.036546,
     "end_time": "2024-10-05T17:21:48.318055",
     "exception": false,
     "start_time": "2024-10-05T17:21:48.281509",
     "status": "completed"
    },
    "tags": []
   },
   "outputs": [
    {
     "data": {
      "text/html": [
       "<div>\n",
       "<style scoped>\n",
       "    .dataframe tbody tr th:only-of-type {\n",
       "        vertical-align: middle;\n",
       "    }\n",
       "\n",
       "    .dataframe tbody tr th {\n",
       "        vertical-align: top;\n",
       "    }\n",
       "\n",
       "    .dataframe thead th {\n",
       "        text-align: right;\n",
       "    }\n",
       "</style>\n",
       "<table border=\"1\" class=\"dataframe\">\n",
       "  <thead>\n",
       "    <tr style=\"text-align: right;\">\n",
       "      <th></th>\n",
       "      <th>text</th>\n",
       "    </tr>\n",
       "  </thead>\n",
       "  <tbody>\n",
       "    <tr>\n",
       "      <th>4500</th>\n",
       "      <td>Classify the text into bangladesh, sports, tec...</td>\n",
       "    </tr>\n",
       "    <tr>\n",
       "      <th>4501</th>\n",
       "      <td>Classify the text into bangladesh, sports, tec...</td>\n",
       "    </tr>\n",
       "    <tr>\n",
       "      <th>4502</th>\n",
       "      <td>Classify the text into bangladesh, sports, tec...</td>\n",
       "    </tr>\n",
       "    <tr>\n",
       "      <th>4503</th>\n",
       "      <td>Classify the text into bangladesh, sports, tec...</td>\n",
       "    </tr>\n",
       "    <tr>\n",
       "      <th>4504</th>\n",
       "      <td>Classify the text into bangladesh, sports, tec...</td>\n",
       "    </tr>\n",
       "  </tbody>\n",
       "</table>\n",
       "</div>"
      ],
      "text/plain": [
       "                                                   text\n",
       "4500  Classify the text into bangladesh, sports, tec...\n",
       "4501  Classify the text into bangladesh, sports, tec...\n",
       "4502  Classify the text into bangladesh, sports, tec...\n",
       "4503  Classify the text into bangladesh, sports, tec...\n",
       "4504  Classify the text into bangladesh, sports, tec..."
      ]
     },
     "execution_count": 34,
     "metadata": {},
     "output_type": "execute_result"
    }
   ],
   "source": [
    "X_test.head()"
   ]
  },
  {
   "cell_type": "code",
   "execution_count": 35,
   "id": "b81526f7",
   "metadata": {
    "execution": {
     "iopub.execute_input": "2024-10-05T17:21:48.367655Z",
     "iopub.status.busy": "2024-10-05T17:21:48.367343Z",
     "iopub.status.idle": "2024-10-05T17:21:48.376444Z",
     "shell.execute_reply": "2024-10-05T17:21:48.375506Z"
    },
    "papermill": {
     "duration": 0.035892,
     "end_time": "2024-10-05T17:21:48.378376",
     "exception": false,
     "start_time": "2024-10-05T17:21:48.342484",
     "status": "completed"
    },
    "tags": []
   },
   "outputs": [
    {
     "data": {
      "text/plain": [
       "category\n",
       "international    485\n",
       "education        464\n",
       "opinion          454\n",
       "entertainment    446\n",
       "life-style       444\n",
       "bangladesh       430\n",
       "sports           427\n",
       "technology       426\n",
       "economy          424\n",
       "Name: count, dtype: int64"
      ]
     },
     "execution_count": 35,
     "metadata": {},
     "output_type": "execute_result"
    }
   ],
   "source": [
    "X_train.category.value_counts()"
   ]
  },
  {
   "cell_type": "code",
   "execution_count": 36,
   "id": "e9b9894d",
   "metadata": {
    "execution": {
     "iopub.execute_input": "2024-10-05T17:21:48.426582Z",
     "iopub.status.busy": "2024-10-05T17:21:48.426284Z",
     "iopub.status.idle": "2024-10-05T17:21:48.433694Z",
     "shell.execute_reply": "2024-10-05T17:21:48.432748Z"
    },
    "papermill": {
     "duration": 0.033694,
     "end_time": "2024-10-05T17:21:48.435746",
     "exception": false,
     "start_time": "2024-10-05T17:21:48.402052",
     "status": "completed"
    },
    "tags": []
   },
   "outputs": [
    {
     "data": {
      "text/plain": [
       "category\n",
       "education        70\n",
       "life-style       60\n",
       "sports           59\n",
       "entertainment    56\n",
       "bangladesh       56\n",
       "international    51\n",
       "economy          50\n",
       "opinion          50\n",
       "technology       48\n",
       "Name: count, dtype: int64"
      ]
     },
     "execution_count": 36,
     "metadata": {},
     "output_type": "execute_result"
    }
   ],
   "source": [
    "y_true.value_counts()"
   ]
  },
  {
   "cell_type": "code",
   "execution_count": 37,
   "id": "ffa927e7",
   "metadata": {
    "execution": {
     "iopub.execute_input": "2024-10-05T17:21:48.487272Z",
     "iopub.status.busy": "2024-10-05T17:21:48.486971Z",
     "iopub.status.idle": "2024-10-05T17:21:48.792919Z",
     "shell.execute_reply": "2024-10-05T17:21:48.791842Z"
    },
    "papermill": {
     "duration": 0.332948,
     "end_time": "2024-10-05T17:21:48.795379",
     "exception": false,
     "start_time": "2024-10-05T17:21:48.462431",
     "status": "completed"
    },
    "tags": []
   },
   "outputs": [],
   "source": [
    "from datasets import Dataset\n",
    "# Convert to datasets\n",
    "train_data = Dataset.from_pandas(X_train[[\"text\"]])\n",
    "val_data = Dataset.from_pandas(X_val[[\"text\"]])"
   ]
  },
  {
   "cell_type": "code",
   "execution_count": 38,
   "id": "2b633462",
   "metadata": {
    "execution": {
     "iopub.execute_input": "2024-10-05T17:21:48.845861Z",
     "iopub.status.busy": "2024-10-05T17:21:48.845088Z",
     "iopub.status.idle": "2024-10-05T17:21:48.850816Z",
     "shell.execute_reply": "2024-10-05T17:21:48.849876Z"
    },
    "papermill": {
     "duration": 0.032887,
     "end_time": "2024-10-05T17:21:48.852996",
     "exception": false,
     "start_time": "2024-10-05T17:21:48.820109",
     "status": "completed"
    },
    "tags": []
   },
   "outputs": [
    {
     "name": "stdout",
     "output_type": "stream",
     "text": [
      "Dataset({\n",
      "    features: ['text'],\n",
      "    num_rows: 4000\n",
      "})\n",
      "Dataset({\n",
      "    features: ['text'],\n",
      "    num_rows: 500\n",
      "})\n"
     ]
    }
   ],
   "source": [
    "print(train_data)\n",
    "print(val_data)"
   ]
  },
  {
   "cell_type": "code",
   "execution_count": 39,
   "id": "5cb05509",
   "metadata": {
    "execution": {
     "iopub.execute_input": "2024-10-05T17:21:48.902311Z",
     "iopub.status.busy": "2024-10-05T17:21:48.902035Z",
     "iopub.status.idle": "2024-10-05T17:21:48.961582Z",
     "shell.execute_reply": "2024-10-05T17:21:48.960684Z"
    },
    "papermill": {
     "duration": 0.086225,
     "end_time": "2024-10-05T17:21:48.963426",
     "exception": false,
     "start_time": "2024-10-05T17:21:48.877201",
     "status": "completed"
    },
    "tags": []
   },
   "outputs": [
    {
     "data": {
      "text/plain": [
       "'Classify the text into bangladesh, sports, technology, entertainment,international, economy, life-style, opinion, education and return the answer as the corresponding newpapers news category.\\ntext: চীনের পূর্বাঞ্চলে গতকাল শনিবার বিকেলে স্মরণকালের মধ্যে শক্তিশালী টাইফুন ‘চান-হাম’ আঘাত হানায় আকাশ, রেল ও সমুদ্রপথে যোগাযোগ ব্যাহত হচ্ছে। দুটি প্রদেশ থেকে প্রায় ১০ লাখ মানুষকে নিরাপদ আশ্রয়ে সরিয়ে নেওয়া হয়েছে। তবে এ ঘটনায় হতাহতের কোনো খবর পাওয়া যায়নি।\\nlabel: international'"
      ]
     },
     "execution_count": 39,
     "metadata": {},
     "output_type": "execute_result"
    }
   ],
   "source": [
    "train_data['text'][3]"
   ]
  },
  {
   "cell_type": "code",
   "execution_count": 40,
   "id": "f405365d",
   "metadata": {
    "execution": {
     "iopub.execute_input": "2024-10-05T17:21:49.013240Z",
     "iopub.status.busy": "2024-10-05T17:21:49.012543Z",
     "iopub.status.idle": "2024-10-05T17:21:49.043023Z",
     "shell.execute_reply": "2024-10-05T17:21:49.042242Z"
    },
    "papermill": {
     "duration": 0.057357,
     "end_time": "2024-10-05T17:21:49.045026",
     "exception": false,
     "start_time": "2024-10-05T17:21:48.987669",
     "status": "completed"
    },
    "tags": []
   },
   "outputs": [],
   "source": [
    "test_data = Dataset.from_pandas(X_test[[\"text\"]])"
   ]
  },
  {
   "cell_type": "code",
   "execution_count": 41,
   "id": "85b307b9",
   "metadata": {
    "execution": {
     "iopub.execute_input": "2024-10-05T17:21:49.095629Z",
     "iopub.status.busy": "2024-10-05T17:21:49.095269Z",
     "iopub.status.idle": "2024-10-05T17:21:49.107860Z",
     "shell.execute_reply": "2024-10-05T17:21:49.107020Z"
    },
    "papermill": {
     "duration": 0.039784,
     "end_time": "2024-10-05T17:21:49.109706",
     "exception": false,
     "start_time": "2024-10-05T17:21:49.069922",
     "status": "completed"
    },
    "tags": []
   },
   "outputs": [
    {
     "data": {
      "text/plain": [
       "'Classify the text into bangladesh, sports, technology, entertainment,international, economy, life-style, opinion, education and return the answer as the corresponding newpapers news category.\\ntext: যুক্তরাষ্ট্রের ওয়াশিংটন ডিসিতে আজ অনুষ্ঠিত হবে বাংলাদেশ ও যুক্তরাষ্ট্রের মধ্যকার চতুর্থ নিরাপত্তা সংলাপ। সন্ত্রাসবাদ মোকাবিলায় সহযোগিতাসহ আঞ্চলিক সহযোগিতা এবং প্রথাগত ও অ-প্রথাগত নিরাপত্তা ইস্যুতে আলোচনা করবে এ দুই দেশ। খবর ইউএনবির।বাংলাদেশের পররাষ্ট্র দপ্তর বলছে, সাইবার নিরাপত্তা, দুর্যোগ ব্যবস্থাপনা, সামরিক সহযোগিতা ও জাতিসংঘের শান্তিরক্ষা কার্যক্রমের মতো ইস্যুতে সংলাপে আলোচনা হবে। এর মধ্য দিয়ে দুই দেশের সম্পর্ক জোরদার হবে বলে আশা করছে বাংলাদেশ।সংলাপে অংশ নিতে এরই মধ্যে যুক্তরাষ্ট্রে গেছেন ঢাকায় নিযুক্ত মার্কিন রাষ্ট্রদূত মার্শা বার্নিকাট এবং বাংলাদেশের স্বরাষ্ট্র, পররাষ্ট্র ও প্রতিরক্ষা মন্ত্রণালয় এবং সশস্ত্র বাহিনী বিভাগের প্রতিনিধিদের সমন্বয়ে গঠিত প্রতিনিধিদল। পররাষ্ট্র মন্ত্রণালয়ের একজন কর্মকর্তা জানান, সংলাপে বাংলাদেশের ছয় সদস্যের প্রতিনিধিদলের নেতৃত্ব দেবেন পররাষ্ট্রসচিব (দ্বিপক্ষীয় ও কনস্যুলার) মিজানুর রহমান।বাংলাদেশ ও যুক্তরাষ্ট্রের মধ্যে প্রথম নিরাপত্তা সংলাপ অনুষ্ঠিত হয়েছিল ২০১২ সালের ১৯ এপ্রিল ওয়াশিংটনে। সেখানেই ২০১৩ সালে অনুষ্ঠিত হয় দ্বিতীয় সংলাপ। তৃতীয়টি হয় গত বছর ২২ এপ্রিল ঢাকাতে।\\nlabel:'"
      ]
     },
     "execution_count": 41,
     "metadata": {},
     "output_type": "execute_result"
    }
   ],
   "source": [
    "test_data['text'][1]"
   ]
  },
  {
   "cell_type": "code",
   "execution_count": 42,
   "id": "594c1751",
   "metadata": {
    "execution": {
     "iopub.execute_input": "2024-10-05T17:21:49.161831Z",
     "iopub.status.busy": "2024-10-05T17:21:49.161130Z",
     "iopub.status.idle": "2024-10-05T17:22:21.524712Z",
     "shell.execute_reply": "2024-10-05T17:22:21.523863Z"
    },
    "papermill": {
     "duration": 32.392189,
     "end_time": "2024-10-05T17:22:21.526877",
     "exception": false,
     "start_time": "2024-10-05T17:21:49.134688",
     "status": "completed"
    },
    "tags": []
   },
   "outputs": [
    {
     "data": {
      "application/vnd.jupyter.widget-view+json": {
       "model_id": "dc417092630e47c9afced270663fa552",
       "version_major": 2,
       "version_minor": 0
      },
      "text/plain": [
       "Loading checkpoint shards:   0%|          | 0/2 [00:00<?, ?it/s]"
      ]
     },
     "metadata": {},
     "output_type": "display_data"
    }
   ],
   "source": [
    "base_model_name = '/kaggle/input/llama-3.2/transformers/3b-instruct/1'\n",
    "\n",
    "bnb_config = BitsAndBytesConfig(\n",
    "    load_in_4bit = True,\n",
    "    bnb_4bit_use_double_quant = False,\n",
    "    bnb_4bit_quant_type = 'nf4',\n",
    "    llm_int8_enable_fp32_cpu_offload=True,\n",
    "    bnb_4bit_compute_dtype = 'float16')\n",
    "\n",
    "\n",
    "model = AutoModelForCausalLM.from_pretrained(\n",
    "    base_model_name,\n",
    "    device_map=\"auto\",\n",
    "    torch_dtype=torch.float16,\n",
    "    quantization_config=bnb_config, \n",
    ")\n",
    "\n",
    "model.config._use_cache = False\n",
    "model.config.pretaining_tp = 1"
   ]
  },
  {
   "cell_type": "code",
   "execution_count": 43,
   "id": "b23a7bce",
   "metadata": {
    "execution": {
     "iopub.execute_input": "2024-10-05T17:22:21.578012Z",
     "iopub.status.busy": "2024-10-05T17:22:21.577149Z",
     "iopub.status.idle": "2024-10-05T17:22:22.315008Z",
     "shell.execute_reply": "2024-10-05T17:22:22.313934Z"
    },
    "papermill": {
     "duration": 0.765587,
     "end_time": "2024-10-05T17:22:22.317369",
     "exception": false,
     "start_time": "2024-10-05T17:22:21.551782",
     "status": "completed"
    },
    "tags": []
   },
   "outputs": [],
   "source": [
    "tokenizer = AutoTokenizer.from_pretrained(base_model_name)\n",
    "tokenizer.pad_token_id  = tokenizer.eos_token_id"
   ]
  },
  {
   "cell_type": "code",
   "execution_count": 44,
   "id": "936fbbf2",
   "metadata": {
    "execution": {
     "iopub.execute_input": "2024-10-05T17:22:22.368806Z",
     "iopub.status.busy": "2024-10-05T17:22:22.367994Z",
     "iopub.status.idle": "2024-10-05T17:22:22.375679Z",
     "shell.execute_reply": "2024-10-05T17:22:22.374823Z"
    },
    "papermill": {
     "duration": 0.035169,
     "end_time": "2024-10-05T17:22:22.377420",
     "exception": false,
     "start_time": "2024-10-05T17:22:22.342251",
     "status": "completed"
    },
    "tags": []
   },
   "outputs": [],
   "source": [
    "def predict(test,model,tokenizer):\n",
    "    y_pred = []\n",
    "    categories = ['bangladesh', 'sports', 'technology', 'entertainment',\n",
    "       'international', 'economy', 'life-style', 'opinion', 'education']\n",
    "\n",
    "\n",
    "    \n",
    "    for i in tqdm(range(len(test))):\n",
    "        prompt = test.iloc[i][\"text\"]\n",
    "        pipe = pipeline(task=\"text-generation\", \n",
    "                        model=model, \n",
    "                        tokenizer=tokenizer, \n",
    "                        max_new_tokens=2, \n",
    "                        temperature=0.1,\n",
    "                        torch_dtype=torch.float16)\n",
    "        \n",
    "        result = pipe(prompt)\n",
    "        answer = result[0]['generated_text'].split(\"label:\")[-1].strip()\n",
    "        \n",
    "        # Determine the predicted category\n",
    "        for category in categories:\n",
    "            if category.lower() in answer.lower():\n",
    "                y_pred.append(category)\n",
    "                break\n",
    "        else:\n",
    "            y_pred.append(\"none\")\n",
    "    \n",
    "    return y_pred"
   ]
  },
  {
   "cell_type": "code",
   "execution_count": 45,
   "id": "952a2d94",
   "metadata": {
    "execution": {
     "iopub.execute_input": "2024-10-05T17:22:22.427124Z",
     "iopub.status.busy": "2024-10-05T17:22:22.426435Z",
     "iopub.status.idle": "2024-10-05T17:42:59.069795Z",
     "shell.execute_reply": "2024-10-05T17:42:59.068855Z"
    },
    "papermill": {
     "duration": 1236.670807,
     "end_time": "2024-10-05T17:42:59.072286",
     "exception": false,
     "start_time": "2024-10-05T17:22:22.401479",
     "status": "completed"
    },
    "tags": []
   },
   "outputs": [
    {
     "name": "stderr",
     "output_type": "stream",
     "text": [
      "  0%|          | 0/500 [00:00<?, ?it/s]Starting from v4.46, the `logits` model output will have the same type as the model (except at train time, where it will always be FP32)\n",
      "100%|██████████| 500/500 [20:36<00:00,  2.47s/it]\n"
     ]
    }
   ],
   "source": [
    "y_pred = predict(X_test, model, tokenizer)"
   ]
  },
  {
   "cell_type": "code",
   "execution_count": 46,
   "id": "9f218326",
   "metadata": {
    "execution": {
     "iopub.execute_input": "2024-10-05T17:42:59.201908Z",
     "iopub.status.busy": "2024-10-05T17:42:59.201211Z",
     "iopub.status.idle": "2024-10-05T17:42:59.211206Z",
     "shell.execute_reply": "2024-10-05T17:42:59.210293Z"
    },
    "papermill": {
     "duration": 0.076839,
     "end_time": "2024-10-05T17:42:59.213106",
     "exception": false,
     "start_time": "2024-10-05T17:42:59.136267",
     "status": "completed"
    },
    "tags": []
   },
   "outputs": [],
   "source": [
    "def evaluate(y_true, y_pred):\n",
    "    labels = ['bangladesh', 'sports', 'technology', 'entertainment',\n",
    "       'international', 'economy', 'life-style', 'opinion', 'education']\n",
    "    mapping = {label: idx for idx, label in enumerate(labels)}\n",
    "    \n",
    "    def map_func(x):\n",
    "        return mapping.get(x, -1)  # Map to -1 if not found, but should not occur with correct data\n",
    "    \n",
    "    y_true_mapped = np.vectorize(map_func)(y_true)\n",
    "    y_pred_mapped = np.vectorize(map_func)(y_pred)\n",
    "    \n",
    "    # Calculate accuracy\n",
    "    accuracy = accuracy_score(y_true=y_true_mapped, y_pred=y_pred_mapped)\n",
    "    print(f'Accuracy: {accuracy:.3f}')\n",
    "    \n",
    "    # Generate accuracy report\n",
    "    unique_labels = set(y_true_mapped)  # Get unique labels\n",
    "    \n",
    "    for label in unique_labels:\n",
    "        label_indices = [i for i in range(len(y_true_mapped)) if y_true_mapped[i] == label]\n",
    "        label_y_true = [y_true_mapped[i] for i in label_indices]\n",
    "        label_y_pred = [y_pred_mapped[i] for i in label_indices]\n",
    "        label_accuracy = accuracy_score(label_y_true, label_y_pred)\n",
    "        print(f'Accuracy for label {labels[label]}: {label_accuracy:.3f}')\n",
    "        \n",
    "    # Generate classification report\n",
    "    class_report = classification_report(y_true=y_true_mapped, y_pred=y_pred_mapped, target_names=labels, labels=list(range(len(labels))))\n",
    "    print('\\nClassification Report:')\n",
    "    print(class_report)\n",
    "    \n",
    "    # Generate confusion matrix\n",
    "    conf_matrix = confusion_matrix(y_true=y_true_mapped, y_pred=y_pred_mapped, labels=list(range(len(labels))))\n",
    "    print('\\nConfusion Matrix:')\n",
    "    print(conf_matrix)"
   ]
  },
  {
   "cell_type": "code",
   "execution_count": 47,
   "id": "00049376",
   "metadata": {
    "execution": {
     "iopub.execute_input": "2024-10-05T17:42:59.340228Z",
     "iopub.status.busy": "2024-10-05T17:42:59.339891Z",
     "iopub.status.idle": "2024-10-05T17:42:59.372047Z",
     "shell.execute_reply": "2024-10-05T17:42:59.371038Z"
    },
    "papermill": {
     "duration": 0.098236,
     "end_time": "2024-10-05T17:42:59.374252",
     "exception": false,
     "start_time": "2024-10-05T17:42:59.276016",
     "status": "completed"
    },
    "tags": []
   },
   "outputs": [
    {
     "name": "stdout",
     "output_type": "stream",
     "text": [
      "Accuracy: 0.152\n",
      "Accuracy for label bangladesh: 0.036\n",
      "Accuracy for label sports: 0.576\n",
      "Accuracy for label technology: 0.208\n",
      "Accuracy for label entertainment: 0.268\n",
      "Accuracy for label international: 0.078\n",
      "Accuracy for label economy: 0.180\n",
      "Accuracy for label life-style: 0.000\n",
      "Accuracy for label opinion: 0.040\n",
      "Accuracy for label education: 0.000\n",
      "\n",
      "Classification Report:\n",
      "               precision    recall  f1-score   support\n",
      "\n",
      "   bangladesh       0.12      0.04      0.06        56\n",
      "       sports       0.63      0.58      0.60        59\n",
      "   technology       0.83      0.21      0.33        48\n",
      "entertainment       0.83      0.27      0.41        56\n",
      "international       0.57      0.08      0.14        51\n",
      "      economy       0.47      0.18      0.26        50\n",
      "   life-style       0.00      0.00      0.00        60\n",
      "      opinion       1.00      0.04      0.08        50\n",
      "    education       0.00      0.00      0.00        70\n",
      "\n",
      "    micro avg       0.59      0.15      0.24       500\n",
      "    macro avg       0.50      0.15      0.21       500\n",
      " weighted avg       0.47      0.15      0.20       500\n",
      "\n",
      "\n",
      "Confusion Matrix:\n",
      "[[ 2  4  0  0  0  0  0  0  0]\n",
      " [ 0 34  0  0  0  0  0  0  0]\n",
      " [ 4  1 10  0  0  2  0  0  1]\n",
      " [ 0  4  0 15  1  0  0  0  0]\n",
      " [ 2  3  1  1  4  3  0  0  0]\n",
      " [ 0  0  1  0  0  9  0  0  0]\n",
      " [ 1  5  0  2  0  1  0  0  0]\n",
      " [ 5  1  0  0  2  4  0  2  0]\n",
      " [ 2  2  0  0  0  0  0  0  0]]\n"
     ]
    },
    {
     "name": "stderr",
     "output_type": "stream",
     "text": [
      "/opt/conda/lib/python3.10/site-packages/sklearn/metrics/_classification.py:1344: UndefinedMetricWarning: Precision and F-score are ill-defined and being set to 0.0 in labels with no predicted samples. Use `zero_division` parameter to control this behavior.\n",
      "  _warn_prf(average, modifier, msg_start, len(result))\n",
      "/opt/conda/lib/python3.10/site-packages/sklearn/metrics/_classification.py:1344: UndefinedMetricWarning: Precision and F-score are ill-defined and being set to 0.0 in labels with no predicted samples. Use `zero_division` parameter to control this behavior.\n",
      "  _warn_prf(average, modifier, msg_start, len(result))\n",
      "/opt/conda/lib/python3.10/site-packages/sklearn/metrics/_classification.py:1344: UndefinedMetricWarning: Precision and F-score are ill-defined and being set to 0.0 in labels with no predicted samples. Use `zero_division` parameter to control this behavior.\n",
      "  _warn_prf(average, modifier, msg_start, len(result))\n"
     ]
    }
   ],
   "source": [
    "evaluate(y_true, y_pred)"
   ]
  },
  {
   "cell_type": "code",
   "execution_count": 48,
   "id": "a13c6434",
   "metadata": {
    "execution": {
     "iopub.execute_input": "2024-10-05T17:42:59.501563Z",
     "iopub.status.busy": "2024-10-05T17:42:59.500911Z",
     "iopub.status.idle": "2024-10-05T17:43:00.017919Z",
     "shell.execute_reply": "2024-10-05T17:43:00.016927Z"
    },
    "papermill": {
     "duration": 0.582669,
     "end_time": "2024-10-05T17:43:00.019910",
     "exception": false,
     "start_time": "2024-10-05T17:42:59.437241",
     "status": "completed"
    },
    "tags": []
   },
   "outputs": [
    {
     "data": {
      "image/png": "[encoded data removed]",
      "text/plain": [
       "<Figure size 800x600 with 2 Axes>"
      ]
     },
     "metadata": {},
     "output_type": "display_data"
    }
   ],
   "source": [
    "from sklearn.metrics import classification_report, confusion_matrix\n",
    "import matplotlib.pyplot as plt\n",
    "import seaborn as sns\n",
    "\n",
    "cm = confusion_matrix(y_true, y_pred)\n",
    "\n",
    "# Plot confusion matrix\n",
    "plt.figure(figsize=(8, 6))\n",
    "sns.heatmap(cm, annot=True, fmt='d', cmap='Blues')\n",
    "plt.xlabel('Predicted')\n",
    "plt.ylabel('True')\n",
    "plt.title('Confusion Matrix')\n",
    "plt.show()"
   ]
  },
  {
   "cell_type": "code",
   "execution_count": 49,
   "id": "6c40e266",
   "metadata": {
    "execution": {
     "iopub.execute_input": "2024-10-05T17:43:00.152904Z",
     "iopub.status.busy": "2024-10-05T17:43:00.152067Z",
     "iopub.status.idle": "2024-10-05T17:43:00.158429Z",
     "shell.execute_reply": "2024-10-05T17:43:00.157592Z"
    },
    "papermill": {
     "duration": 0.075042,
     "end_time": "2024-10-05T17:43:00.160445",
     "exception": false,
     "start_time": "2024-10-05T17:43:00.085403",
     "status": "completed"
    },
    "tags": []
   },
   "outputs": [],
   "source": [
    "import bitsandbytes as bnb\n",
    "\n",
    "def find_all_linear_names(model):\n",
    "    cls = bnb.nn.Linear4bit\n",
    "    lora_module_names = set()\n",
    "    for name, module in model.named_modules():\n",
    "        if isinstance(module, cls):\n",
    "            names = name.split('.')\n",
    "            lora_module_names.add(names[0] if len(names) == 1 else names[-1])\n",
    "    if 'lm_head' in lora_module_names:  # needed for 16 bit\n",
    "        lora_module_names.remove('lm_head')\n",
    "    return list(lora_module_names)"
   ]
  },
  {
   "cell_type": "code",
   "execution_count": 50,
   "id": "c9c0dd97",
   "metadata": {
    "execution": {
     "iopub.execute_input": "2024-10-05T17:43:00.292712Z",
     "iopub.status.busy": "2024-10-05T17:43:00.292355Z",
     "iopub.status.idle": "2024-10-05T17:43:00.299752Z",
     "shell.execute_reply": "2024-10-05T17:43:00.298898Z"
    },
    "papermill": {
     "duration": 0.076231,
     "end_time": "2024-10-05T17:43:00.301871",
     "exception": false,
     "start_time": "2024-10-05T17:43:00.225640",
     "status": "completed"
    },
    "tags": []
   },
   "outputs": [
    {
     "data": {
      "text/plain": [
       "['gate_proj', 'down_proj', 'up_proj', 'q_proj', 'k_proj', 'o_proj', 'v_proj']"
      ]
     },
     "execution_count": 50,
     "metadata": {},
     "output_type": "execute_result"
    }
   ],
   "source": [
    "modules = find_all_linear_names(model)\n",
    "modules"
   ]
  },
  {
   "cell_type": "code",
   "execution_count": 51,
   "id": "e5d7756f",
   "metadata": {
    "execution": {
     "iopub.execute_input": "2024-10-05T17:43:00.434493Z",
     "iopub.status.busy": "2024-10-05T17:43:00.433801Z",
     "iopub.status.idle": "2024-10-05T17:43:10.255548Z",
     "shell.execute_reply": "2024-10-05T17:43:10.254336Z"
    },
    "papermill": {
     "duration": 9.88995,
     "end_time": "2024-10-05T17:43:10.257415",
     "exception": false,
     "start_time": "2024-10-05T17:43:00.367465",
     "status": "completed"
    },
    "tags": []
   },
   "outputs": [
    {
     "name": "stderr",
     "output_type": "stream",
     "text": [
      "/opt/conda/lib/python3.10/site-packages/huggingface_hub/utils/_deprecation.py:100: FutureWarning: Deprecated argument(s) used in '__init__': dataset_text_field, max_seq_length, dataset_kwargs. Will not be supported from version '1.0.0'.\n",
      "\n",
      "Deprecated positional argument(s) used in SFTTrainer, please use the SFTConfig to set these arguments instead.\n",
      "  warnings.warn(message, FutureWarning)\n",
      "/opt/conda/lib/python3.10/site-packages/trl/trainer/sft_trainer.py:283: UserWarning: You passed a `max_seq_length` argument to the SFTTrainer, the value you passed will override the one in the `SFTConfig`.\n",
      "  warnings.warn(\n",
      "/opt/conda/lib/python3.10/site-packages/trl/trainer/sft_trainer.py:321: UserWarning: You passed a `dataset_text_field` argument to the SFTTrainer, the value you passed will override the one in the `SFTConfig`.\n",
      "  warnings.warn(\n",
      "/opt/conda/lib/python3.10/site-packages/trl/trainer/sft_trainer.py:327: UserWarning: You passed a `dataset_kwargs` argument to the SFTTrainer, the value you passed will override the one in the `SFTConfig`.\n",
      "  warnings.warn(\n"
     ]
    },
    {
     "data": {
      "application/vnd.jupyter.widget-view+json": {
       "model_id": "c05d4683823342178bb36995374e6094",
       "version_major": 2,
       "version_minor": 0
      },
      "text/plain": [
       "Map:   0%|          | 0/4000 [00:00<?, ? examples/s]"
      ]
     },
     "metadata": {},
     "output_type": "display_data"
    },
    {
     "data": {
      "application/vnd.jupyter.widget-view+json": {
       "model_id": "6655564604a5465ba82ffe99b1932e53",
       "version_major": 2,
       "version_minor": 0
      },
      "text/plain": [
       "Map:   0%|          | 0/500 [00:00<?, ? examples/s]"
      ]
     },
     "metadata": {},
     "output_type": "display_data"
    },
    {
     "name": "stderr",
     "output_type": "stream",
     "text": [
      "/opt/conda/lib/python3.10/site-packages/accelerate/accelerator.py:494: FutureWarning: `torch.cuda.amp.GradScaler(args...)` is deprecated. Please use `torch.amp.GradScaler('cuda', args...)` instead.\n",
      "  self.scaler = torch.cuda.amp.GradScaler(**kwargs)\n"
     ]
    }
   ],
   "source": [
    "output_dir=\"llama-3.2 3b model\"\n",
    "\n",
    "peft_config = LoraConfig(\n",
    "    lora_alpha=16,\n",
    "    lora_dropout=0,\n",
    "    r=16,\n",
    "    bias=\"none\",\n",
    "    task_type=\"CAUSAL_LM\",\n",
    "    target_modules=modules,\n",
    ")\n",
    "\n",
    "training_arguments = TrainingArguments(\n",
    "    output_dir=output_dir,                    # directory to save and repository id\n",
    "    num_train_epochs=1,                       # number of training epochs\n",
    "    per_device_train_batch_size=1,            # batch size per device during training\n",
    "    gradient_accumulation_steps=8,            # number of steps before performing a backward/update pass\n",
    "    gradient_checkpointing=True,              # use gradient checkpointing to save memory\n",
    "    optim=\"paged_adamw_32bit\",\n",
    "    logging_steps=1,                         \n",
    "    learning_rate=2e-4,                       # learning rate, based on QLoRA paper\n",
    "    weight_decay=0.001,\n",
    "    fp16=True,\n",
    "    bf16=False,\n",
    "    max_grad_norm=0.3,                        # max gradient norm based on QLoRA paper\n",
    "    max_steps=-1,\n",
    "    warmup_ratio=0.03,                        # warmup ratio based on QLoRA paper\n",
    "    group_by_length=False,\n",
    "    lr_scheduler_type=\"cosine\",               # use cosine learning rate scheduler\n",
    "    report_to=\"wandb\",                  # report metrics to w&b\n",
    "    eval_strategy=\"steps\",              # save checkpoint every epoch\n",
    "    eval_steps = 0.2\n",
    ")\n",
    "\n",
    "trainer = SFTTrainer(\n",
    "    model=model,\n",
    "    args=training_arguments,\n",
    "    train_dataset=train_data,\n",
    "    eval_dataset=val_data,\n",
    "    peft_config=peft_config,\n",
    "    dataset_text_field=\"text\",\n",
    "    tokenizer=tokenizer,\n",
    "    max_seq_length=256,\n",
    "    packing=False,\n",
    "    dataset_kwargs={\n",
    "    \"add_special_tokens\": False,\n",
    "    \"append_concat_token\": False,\n",
    "    }\n",
    ")"
   ]
  },
  {
   "cell_type": "code",
   "execution_count": 52,
   "id": "6446ada6",
   "metadata": {
    "execution": {
     "iopub.execute_input": "2024-10-05T17:43:10.392715Z",
     "iopub.status.busy": "2024-10-05T17:43:10.392348Z",
     "iopub.status.idle": "2024-10-05T19:10:47.472043Z",
     "shell.execute_reply": "2024-10-05T19:10:47.471077Z"
    },
    "papermill": {
     "duration": 5257.150117,
     "end_time": "2024-10-05T19:10:47.474843",
     "exception": false,
     "start_time": "2024-10-05T17:43:10.324726",
     "status": "completed"
    },
    "tags": []
   },
   "outputs": [
    {
     "name": "stderr",
     "output_type": "stream",
     "text": [
      "\u001b[34m\u001b[1mwandb\u001b[0m: \u001b[33mWARNING\u001b[0m The `run_name` is currently set to the same value as `TrainingArguments.output_dir`. If this was not intended, please specify a different run name by setting the `TrainingArguments.run_name` parameter.\n",
      "`use_cache=True` is incompatible with gradient checkpointing. Setting `use_cache=False`.\n",
      "/opt/conda/lib/python3.10/site-packages/torch/_dynamo/eval_frame.py:600: UserWarning: torch.utils.checkpoint: the use_reentrant parameter should be passed explicitly. In version 2.4 we will raise an exception if use_reentrant is not passed. use_reentrant=False is recommended, but if you need to preserve the current default behavior, you can pass use_reentrant=True. Refer to docs for more details on the differences between the two variants.\n",
      "  return fn(*args, **kwargs)\n",
      "/opt/conda/lib/python3.10/site-packages/torch/utils/checkpoint.py:295: FutureWarning: `torch.cpu.amp.autocast(args...)` is deprecated. Please use `torch.amp.autocast('cpu', args...)` instead.\n",
      "  with torch.enable_grad(), device_autocast_ctx, torch.cpu.amp.autocast(**ctx.cpu_autocast_kwargs):  # type: ignore[attr-defined]\n"
     ]
    },
    {
     "data": {
      "text/html": [
       "\n",
       "    <div>\n",
       "      \n",
       "      <progress value='500' max='500' style='width:300px; height:20px; vertical-align: middle;'></progress>\n",
       "      [500/500 1:27:26, Epoch 1/1]\n",
       "    </div>\n",
       "    <table border=\"1\" class=\"dataframe\">\n",
       "  <thead>\n",
       " <tr style=\"text-align: left;\">\n",
       "      <th>Step</th>\n",
       "      <th>Training Loss</th>\n",
       "      <th>Validation Loss</th>\n",
       "    </tr>\n",
       "  </thead>\n",
       "  <tbody>\n",
       "    <tr>\n",
       "      <td>100</td>\n",
       "      <td>0.837300</td>\n",
       "      <td>0.806590</td>\n",
       "    </tr>\n",
       "    <tr>\n",
       "      <td>200</td>\n",
       "      <td>0.867600</td>\n",
       "      <td>0.774609</td>\n",
       "    </tr>\n",
       "    <tr>\n",
       "      <td>300</td>\n",
       "      <td>0.773400</td>\n",
       "      <td>0.755247</td>\n",
       "    </tr>\n",
       "    <tr>\n",
       "      <td>400</td>\n",
       "      <td>0.809400</td>\n",
       "      <td>0.744412</td>\n",
       "    </tr>\n",
       "    <tr>\n",
       "      <td>500</td>\n",
       "      <td>0.677500</td>\n",
       "      <td>0.742694</td>\n",
       "    </tr>\n",
       "  </tbody>\n",
       "</table><p>"
      ],
      "text/plain": [
       "<IPython.core.display.HTML object>"
      ]
     },
     "metadata": {},
     "output_type": "display_data"
    },
    {
     "data": {
      "text/plain": [
       "TrainOutput(global_step=500, training_loss=0.7900933918952942, metrics={'train_runtime': 5256.086, 'train_samples_per_second': 0.761, 'train_steps_per_second': 0.095, 'total_flos': 1.7450505239814144e+16, 'train_loss': 0.7900933918952942, 'epoch': 1.0})"
      ]
     },
     "execution_count": 52,
     "metadata": {},
     "output_type": "execute_result"
    }
   ],
   "source": [
    "# Train model\n",
    "trainer.train()"
   ]
  },
  {
   "cell_type": "code",
   "execution_count": 53,
   "id": "f3c79dda",
   "metadata": {
    "execution": {
     "iopub.execute_input": "2024-10-05T19:10:47.608929Z",
     "iopub.status.busy": "2024-10-05T19:10:47.608567Z",
     "iopub.status.idle": "2024-10-05T19:10:49.153208Z",
     "shell.execute_reply": "2024-10-05T19:10:49.152377Z"
    },
    "papermill": {
     "duration": 1.613854,
     "end_time": "2024-10-05T19:10:49.155580",
     "exception": false,
     "start_time": "2024-10-05T19:10:47.541726",
     "status": "completed"
    },
    "tags": []
   },
   "outputs": [
    {
     "name": "stderr",
     "output_type": "stream",
     "text": [
      "\u001b[34m\u001b[1mwandb\u001b[0m:                                                                                \n",
      "\u001b[34m\u001b[1mwandb\u001b[0m: \n",
      "\u001b[34m\u001b[1mwandb\u001b[0m: Run history:\n",
      "\u001b[34m\u001b[1mwandb\u001b[0m:               eval/loss █▄▂▁▁\n",
      "\u001b[34m\u001b[1mwandb\u001b[0m:            eval/runtime ▅█▄▁▃\n",
      "\u001b[34m\u001b[1mwandb\u001b[0m: eval/samples_per_second ▄▁▄██\n",
      "\u001b[34m\u001b[1mwandb\u001b[0m:   eval/steps_per_second ▁▁▁▁▁\n",
      "\u001b[34m\u001b[1mwandb\u001b[0m:             train/epoch ▁▁▂▂▂▂▂▂▂▂▂▂▃▃▃▃▄▄▄▄▄▄▄▅▅▅▆▆▆▆▆▆▆▇▇▇▇▇██\n",
      "\u001b[34m\u001b[1mwandb\u001b[0m:       train/global_step ▁▁▁▂▂▂▂▂▂▃▃▃▃▃▄▄▄▄▄▄▅▅▅▅▅▆▆▆▆▇▇▇▇▇▇▇▇███\n",
      "\u001b[34m\u001b[1mwandb\u001b[0m:         train/grad_norm ▃█▆▂▁▁▁▁▁▁▁▁▁▁▁▁▂▂▂▁▁▂▁▁▁▁▁▁▁▂▁▁▂▁▂▁▁▁▁▁\n",
      "\u001b[34m\u001b[1mwandb\u001b[0m:     train/learning_rate ▃▇████████▇▇▇▇▇▆▆▅▅▅▄▄▄▃▃▃▂▂▂▂▂▂▂▁▁▁▁▁▁▁\n",
      "\u001b[34m\u001b[1mwandb\u001b[0m:              train/loss █▄▄▄▄▄▂▄▄▄▃▃▃▄▃▃▂▃▂▂▂▃▃▃▁▂▂▃▃▃▂▂▃▁▂▁▃▃▃▃\n",
      "\u001b[34m\u001b[1mwandb\u001b[0m: \n",
      "\u001b[34m\u001b[1mwandb\u001b[0m: Run summary:\n",
      "\u001b[34m\u001b[1mwandb\u001b[0m:                eval/loss 0.74269\n",
      "\u001b[34m\u001b[1mwandb\u001b[0m:             eval/runtime 139.2514\n",
      "\u001b[34m\u001b[1mwandb\u001b[0m:  eval/samples_per_second 3.591\n",
      "\u001b[34m\u001b[1mwandb\u001b[0m:    eval/steps_per_second 0.452\n",
      "\u001b[34m\u001b[1mwandb\u001b[0m:               total_flos 1.7450505239814144e+16\n",
      "\u001b[34m\u001b[1mwandb\u001b[0m:              train/epoch 1\n",
      "\u001b[34m\u001b[1mwandb\u001b[0m:        train/global_step 500\n",
      "\u001b[34m\u001b[1mwandb\u001b[0m:          train/grad_norm 0.39168\n",
      "\u001b[34m\u001b[1mwandb\u001b[0m:      train/learning_rate 0\n",
      "\u001b[34m\u001b[1mwandb\u001b[0m:               train/loss 0.6775\n",
      "\u001b[34m\u001b[1mwandb\u001b[0m:               train_loss 0.79009\n",
      "\u001b[34m\u001b[1mwandb\u001b[0m:            train_runtime 5256.086\n",
      "\u001b[34m\u001b[1mwandb\u001b[0m: train_samples_per_second 0.761\n",
      "\u001b[34m\u001b[1mwandb\u001b[0m:   train_steps_per_second 0.095\n",
      "\u001b[34m\u001b[1mwandb\u001b[0m: \n",
      "\u001b[34m\u001b[1mwandb\u001b[0m: 🚀 View run \u001b[33msage-pine-2\u001b[0m at: \u001b[34m\u001b[4mhttps://wandb.ai/cse-mahmud-evan-ccn-university-of-science-and-technology/Fine-tune%20llama-3.2-3b-it%20on%20Newspaper%20Dataset/runs/blq572vw\u001b[0m\n",
      "\u001b[34m\u001b[1mwandb\u001b[0m: ⭐️ View project at: \u001b[34m\u001b[4mhttps://wandb.ai/cse-mahmud-evan-ccn-university-of-science-and-technology/Fine-tune%20llama-3.2-3b-it%20on%20Newspaper%20Dataset\u001b[0m\n",
      "\u001b[34m\u001b[1mwandb\u001b[0m: Synced 5 W&B file(s), 0 media file(s), 0 artifact file(s) and 0 other file(s)\n",
      "\u001b[34m\u001b[1mwandb\u001b[0m: Find logs at: \u001b[35m\u001b[1m./wandb/run-20241005_171954-blq572vw/logs\u001b[0m\n"
     ]
    }
   ],
   "source": [
    "wandb.finish()\n",
    "model.config.use_cache = True"
   ]
  },
  {
   "cell_type": "code",
   "execution_count": 54,
   "id": "c688e58a",
   "metadata": {
    "execution": {
     "iopub.execute_input": "2024-10-05T19:10:49.292694Z",
     "iopub.status.busy": "2024-10-05T19:10:49.291847Z",
     "iopub.status.idle": "2024-10-05T19:10:50.046062Z",
     "shell.execute_reply": "2024-10-05T19:10:50.045111Z"
    },
    "papermill": {
     "duration": 0.825245,
     "end_time": "2024-10-05T19:10:50.049288",
     "exception": false,
     "start_time": "2024-10-05T19:10:49.224043",
     "status": "completed"
    },
    "tags": []
   },
   "outputs": [
    {
     "data": {
      "text/plain": [
       "('llama-3.2 3b model/tokenizer_config.json',\n",
       " 'llama-3.2 3b model/special_tokens_map.json',\n",
       " 'llama-3.2 3b model/tokenizer.json')"
      ]
     },
     "execution_count": 54,
     "metadata": {},
     "output_type": "execute_result"
    }
   ],
   "source": [
    "#Save Train Model and Tokenizer\n",
    "trainer.save_model(output_dir)\n",
    "tokenizer.save_pretrained(output_dir)"
   ]
  },
  {
   "cell_type": "code",
   "execution_count": 55,
   "id": "8b8643e8",
   "metadata": {
    "execution": {
     "iopub.execute_input": "2024-10-05T19:10:50.185614Z",
     "iopub.status.busy": "2024-10-05T19:10:50.184946Z",
     "iopub.status.idle": "2024-10-05T19:33:17.652385Z",
     "shell.execute_reply": "2024-10-05T19:33:17.651407Z"
    },
    "papermill": {
     "duration": 1347.538117,
     "end_time": "2024-10-05T19:33:17.655459",
     "exception": false,
     "start_time": "2024-10-05T19:10:50.117342",
     "status": "completed"
    },
    "tags": []
   },
   "outputs": [
    {
     "name": "stderr",
     "output_type": "stream",
     "text": [
      "100%|██████████| 500/500 [22:27<00:00,  2.69s/it]\n"
     ]
    }
   ],
   "source": [
    "y_pred = predict(X_test, model, tokenizer)"
   ]
  },
  {
   "cell_type": "code",
   "execution_count": 56,
   "id": "966235e7",
   "metadata": {
    "execution": {
     "iopub.execute_input": "2024-10-05T19:33:17.908022Z",
     "iopub.status.busy": "2024-10-05T19:33:17.907296Z",
     "iopub.status.idle": "2024-10-05T19:33:17.929610Z",
     "shell.execute_reply": "2024-10-05T19:33:17.928472Z"
    },
    "papermill": {
     "duration": 0.129718,
     "end_time": "2024-10-05T19:33:17.932044",
     "exception": false,
     "start_time": "2024-10-05T19:33:17.802326",
     "status": "completed"
    },
    "tags": []
   },
   "outputs": [
    {
     "name": "stdout",
     "output_type": "stream",
     "text": [
      "Accuracy: 0.528\n",
      "Accuracy for label bangladesh: 0.000\n",
      "Accuracy for label sports: 0.983\n",
      "Accuracy for label technology: 0.854\n",
      "Accuracy for label entertainment: 1.000\n",
      "Accuracy for label international: 0.059\n",
      "Accuracy for label economy: 0.840\n",
      "Accuracy for label life-style: 0.233\n",
      "Accuracy for label opinion: 0.140\n",
      "Accuracy for label education: 0.614\n",
      "\n",
      "Classification Report:\n",
      "               precision    recall  f1-score   support\n",
      "\n",
      "   bangladesh       0.00      0.00      0.00        56\n",
      "       sports       0.79      0.98      0.88        59\n",
      "   technology       0.89      0.85      0.87        48\n",
      "entertainment       0.39      1.00      0.56        56\n",
      "international       0.75      0.06      0.11        51\n",
      "      economy       0.46      0.84      0.60        50\n",
      "   life-style       0.74      0.23      0.35        60\n",
      "      opinion       1.00      0.14      0.25        50\n",
      "    education       0.61      0.61      0.61        70\n",
      "\n",
      "    micro avg       0.58      0.53      0.55       500\n",
      "    macro avg       0.63      0.52      0.47       500\n",
      " weighted avg       0.62      0.53      0.47       500\n",
      "\n",
      "\n",
      "Confusion Matrix:\n",
      "[[ 0  2  0 26  1 12  0  0  9]\n",
      " [ 0 58  0  1  0  0  0  0  0]\n",
      " [ 0  0 41  3  0  2  0  0  2]\n",
      " [ 0  0  0 56  0  0  0  0  0]\n",
      " [ 0 10  2 17  3 14  0  0  0]\n",
      " [ 0  0  1  6  0 42  0  0  1]\n",
      " [ 0  3  1 25  0  3 14  0  7]\n",
      " [ 0  0  0  6  0 17  5  7  8]\n",
      " [ 0  0  1  5  0  1  0  0 43]]\n"
     ]
    },
    {
     "name": "stderr",
     "output_type": "stream",
     "text": [
      "/opt/conda/lib/python3.10/site-packages/sklearn/metrics/_classification.py:1344: UndefinedMetricWarning: Precision and F-score are ill-defined and being set to 0.0 in labels with no predicted samples. Use `zero_division` parameter to control this behavior.\n",
      "  _warn_prf(average, modifier, msg_start, len(result))\n",
      "/opt/conda/lib/python3.10/site-packages/sklearn/metrics/_classification.py:1344: UndefinedMetricWarning: Precision and F-score are ill-defined and being set to 0.0 in labels with no predicted samples. Use `zero_division` parameter to control this behavior.\n",
      "  _warn_prf(average, modifier, msg_start, len(result))\n",
      "/opt/conda/lib/python3.10/site-packages/sklearn/metrics/_classification.py:1344: UndefinedMetricWarning: Precision and F-score are ill-defined and being set to 0.0 in labels with no predicted samples. Use `zero_division` parameter to control this behavior.\n",
      "  _warn_prf(average, modifier, msg_start, len(result))\n"
     ]
    }
   ],
   "source": [
    "evaluate(y_true, y_pred)"
   ]
  },
  {
   "cell_type": "code",
   "execution_count": 57,
   "id": "ffcbf780",
   "metadata": {
    "execution": {
     "iopub.execute_input": "2024-10-05T19:33:18.142883Z",
     "iopub.status.busy": "2024-10-05T19:33:18.142410Z",
     "iopub.status.idle": "2024-10-05T19:33:18.672299Z",
     "shell.execute_reply": "2024-10-05T19:33:18.671330Z"
    },
    "papermill": {
     "duration": 0.637684,
     "end_time": "2024-10-05T19:33:18.674587",
     "exception": false,
     "start_time": "2024-10-05T19:33:18.036903",
     "status": "completed"
    },
    "tags": []
   },
   "outputs": [
    {
     "data": {
      "image/png": "[encoded data removed]",
      "text/plain": [
       "<Figure size 800x600 with 2 Axes>"
      ]
     },
     "metadata": {},
     "output_type": "display_data"
    }
   ],
   "source": [
    "from sklearn.metrics import classification_report, confusion_matrix\n",
    "import matplotlib.pyplot as plt\n",
    "import seaborn as sns\n",
    "\n",
    "cm = confusion_matrix(y_true, y_pred)\n",
    "\n",
    "# Plot confusion matrix\n",
    "plt.figure(figsize=(8, 6))\n",
    "sns.heatmap(cm, annot=True, fmt='d', cmap='Blues')\n",
    "plt.xlabel('Predicted')\n",
    "plt.ylabel('True')\n",
    "plt.title('Confusion Matrix')\n",
    "plt.show()"
   ]
  },
  {
   "cell_type": "code",
   "execution_count": null,
   "id": "bebff693",
   "metadata": {
    "papermill": {
     "duration": 0.105473,
     "end_time": "2024-10-05T19:33:18.886756",
     "exception": false,
     "start_time": "2024-10-05T19:33:18.781283",
     "status": "completed"
    },
    "tags": []
   },
   "outputs": [],
   "source": []
  }
 ],
 "metadata": {
  "kaggle": {
   "accelerator": "gpu",
   "dataSources": [
    {
     "datasetId": 258862,
     "sourceId": 1576225,
     "sourceType": "datasetVersion"
    },
    {
     "isSourceIdPinned": true,
     "modelId": 121027,
     "modelInstanceId": 100936,
     "sourceId": 120005,
     "sourceType": "modelInstanceVersion"
    }
   ],
   "dockerImageVersionId": 30787,
   "isGpuEnabled": true,
   "isInternetEnabled": true,
   "language": "python",
   "sourceType": "notebook"
  },
  "kernelspec": {
   "display_name": "Python 3",
   "language": "python",
   "name": "python3"
  },
  "language_info": {
   "codemirror_mode": {
    "name": "ipython",
    "version": 3
   },
   "file_extension": ".py",
   "mimetype": "text/x-python",
   "name": "python",
   "nbconvert_exporter": "python",
   "pygments_lexer": "ipython3",
   "version": "3.10.14"
  },
  "papermill": {
   "default_parameters": {},
   "duration": 8105.737837,
   "end_time": "2024-10-05T19:33:22.012090",
   "environment_variables": {},
   "exception": null,
   "input_path": "__notebook__.ipynb",
   "output_path": "__notebook__.ipynb",
   "parameters": {},
   "start_time": "2024-10-05T17:18:16.274253",
   "version": "2.6.0"
  },
  "widgets": {
   "application/vnd.jupyter.widget-state+json": {
    "state": {
     "002f1c69e68944418197d1ba31bba51b": {
      "model_module": "@jupyter-widgets/controls",
      "model_module_version": "1.5.0",
      "model_name": "FloatProgressModel",
      "state": {
       "_dom_classes": [],
       "_model_module": "@jupyter-widgets/controls",
       "_model_module_version": "1.5.0",
       "_model_name": "FloatProgressModel",
       "_view_count": null,
       "_view_module": "@jupyter-widgets/controls",
       "_view_module_version": "1.5.0",
       "_view_name": "ProgressView",
       "bar_style": "success",
       "description": "",
       "description_tooltip": null,
       "layout": "IPY_MODEL_efaf6705cced43f598f0379a5f13a1ad",
       "max": 500.0,
       "min": 0.0,
       "orientation": "horizontal",
       "style": "IPY_MODEL_19e1ab1e716549949c49d97d778bebb1",
       "value": 500.0
      }
     },
     "1687aeb1cf0345cbae113bc03f163ad5": {
      "model_module": "@jupyter-widgets/controls",
      "model_module_version": "1.5.0",
      "model_name": "HTMLModel",
      "state": {
       "_dom_classes": [],
       "_model_module": "@jupyter-widgets/controls",
       "_model_module_version": "1.5.0",
       "_model_name": "HTMLModel",
       "_view_count": null,
       "_view_module": "@jupyter-widgets/controls",
       "_view_module_version": "1.5.0",
       "_view_name": "HTMLView",
       "description": "",
       "description_tooltip": null,
       "layout": "IPY_MODEL_c3bf0e813c594fd19b87ab049e857935",
       "placeholder": "​",
       "style": "IPY_MODEL_8126bf769e304343b147f699c8ff68cd",
       "value": "Map: 100%"
      }
     },
     "19e1ab1e716549949c49d97d778bebb1": {
      "model_module": "@jupyter-widgets/controls",
      "model_module_version": "1.5.0",
      "model_name": "ProgressStyleModel",
      "state": {
       "_model_module": "@jupyter-widgets/controls",
       "_model_module_version": "1.5.0",
       "_model_name": "ProgressStyleModel",
       "_view_count": null,
       "_view_module": "@jupyter-widgets/base",
       "_view_module_version": "1.2.0",
       "_view_name": "StyleView",
       "bar_color": null,
       "description_width": ""
      }
     },
     "1f78da645e2d41d7a7a5843845a37d4f": {
      "model_module": "@jupyter-widgets/base",
      "model_module_version": "1.2.0",
      "model_name": "LayoutModel",
      "state": {
       "_model_module": "@jupyter-widgets/base",
       "_model_module_version": "1.2.0",
       "_model_name": "LayoutModel",
       "_view_count": null,
       "_view_module": "@jupyter-widgets/base",
       "_view_module_version": "1.2.0",
       "_view_name": "LayoutView",
       "align_content": null,
       "align_items": null,
       "align_self": null,
       "border": null,
       "bottom": null,
       "display": null,
       "flex": null,
       "flex_flow": null,
       "grid_area": null,
       "grid_auto_columns": null,
       "grid_auto_flow": null,
       "grid_auto_rows": null,
       "grid_column": null,
       "grid_gap": null,
       "grid_row": null,
       "grid_template_areas": null,
       "grid_template_columns": null,
       "grid_template_rows": null,
       "height": null,
       "justify_content": null,
       "justify_items": null,
       "left": null,
       "margin": null,
       "max_height": null,
       "max_width": null,
       "min_height": null,
       "min_width": null,
       "object_fit": null,
       "object_position": null,
       "order": null,
       "overflow": null,
       "overflow_x": null,
       "overflow_y": null,
       "padding": null,
       "right": null,
       "top": null,
       "visibility": null,
       "width": null
      }
     },
     "286975b87eae4c24b3270c72065e69f2": {
      "model_module": "@jupyter-widgets/base",
      "model_module_version": "1.2.0",
      "model_name": "LayoutModel",
      "state": {
       "_model_module": "@jupyter-widgets/base",
       "_model_module_version": "1.2.0",
       "_model_name": "LayoutModel",
       "_view_count": null,
       "_view_module": "@jupyter-widgets/base",
       "_view_module_version": "1.2.0",
       "_view_name": "LayoutView",
       "align_content": null,
       "align_items": null,
       "align_self": null,
       "border": null,
       "bottom": null,
       "display": null,
       "flex": null,
       "flex_flow": null,
       "grid_area": null,
       "grid_auto_columns": null,
       "grid_auto_flow": null,
       "grid_auto_rows": null,
       "grid_column": null,
       "grid_gap": null,
       "grid_row": null,
       "grid_template_areas": null,
       "grid_template_columns": null,
       "grid_template_rows": null,
       "height": null,
       "justify_content": null,
       "justify_items": null,
       "left": null,
       "margin": null,
       "max_height": null,
       "max_width": null,
       "min_height": null,
       "min_width": null,
       "object_fit": null,
       "object_position": null,
       "order": null,
       "overflow": null,
       "overflow_x": null,
       "overflow_y": null,
       "padding": null,
       "right": null,
       "top": null,
       "visibility": null,
       "width": null
      }
     },
     "35b99f27f40e46428925233256dbee56": {
      "model_module": "@jupyter-widgets/base",
      "model_module_version": "1.2.0",
      "model_name": "LayoutModel",
      "state": {
       "_model_module": "@jupyter-widgets/base",
       "_model_module_version": "1.2.0",
       "_model_name": "LayoutModel",
       "_view_count": null,
       "_view_module": "@jupyter-widgets/base",
       "_view_module_version": "1.2.0",
       "_view_name": "LayoutView",
       "align_content": null,
       "align_items": null,
       "align_self": null,
       "border": null,
       "bottom": null,
       "display": null,
       "flex": null,
       "flex_flow": null,
       "grid_area": null,
       "grid_auto_columns": null,
       "grid_auto_flow": null,
       "grid_auto_rows": null,
       "grid_column": null,
       "grid_gap": null,
       "grid_row": null,
       "grid_template_areas": null,
       "grid_template_columns": null,
       "grid_template_rows": null,
       "height": null,
       "justify_content": null,
       "justify_items": null,
       "left": null,
       "margin": null,
       "max_height": null,
       "max_width": null,
       "min_height": null,
       "min_width": null,
       "object_fit": null,
       "object_position": null,
       "order": null,
       "overflow": null,
       "overflow_x": null,
       "overflow_y": null,
       "padding": null,
       "right": null,
       "top": null,
       "visibility": null,
       "width": null
      }
     },
     "3f5cd9f0ea9c42f184d6d647de5d0143": {
      "model_module": "@jupyter-widgets/controls",
      "model_module_version": "1.5.0",
      "model_name": "HTMLModel",
      "state": {
       "_dom_classes": [],
       "_model_module": "@jupyter-widgets/controls",
       "_model_module_version": "1.5.0",
       "_model_name": "HTMLModel",
       "_view_count": null,
       "_view_module": "@jupyter-widgets/controls",
       "_view_module_version": "1.5.0",
       "_view_name": "HTMLView",
       "description": "",
       "description_tooltip": null,
       "layout": "IPY_MODEL_1f78da645e2d41d7a7a5843845a37d4f",
       "placeholder": "​",
       "style": "IPY_MODEL_6e5ac6397c2b471a9eca270e6263628d",
       "value": " 500/500 [00:00&lt;00:00, 535.76 examples/s]"
      }
     },
     "51e93abd6b7d4d3a93f4d642b973e04d": {
      "model_module": "@jupyter-widgets/base",
      "model_module_version": "1.2.0",
      "model_name": "LayoutModel",
      "state": {
       "_model_module": "@jupyter-widgets/base",
       "_model_module_version": "1.2.0",
       "_model_name": "LayoutModel",
       "_view_count": null,
       "_view_module": "@jupyter-widgets/base",
       "_view_module_version": "1.2.0",
       "_view_name": "LayoutView",
       "align_content": null,
       "align_items": null,
       "align_self": null,
       "border": null,
       "bottom": null,
       "display": null,
       "flex": null,
       "flex_flow": null,
       "grid_area": null,
       "grid_auto_columns": null,
       "grid_auto_flow": null,
       "grid_auto_rows": null,
       "grid_column": null,
       "grid_gap": null,
       "grid_row": null,
       "grid_template_areas": null,
       "grid_template_columns": null,
       "grid_template_rows": null,
       "height": null,
       "justify_content": null,
       "justify_items": null,
       "left": null,
       "margin": null,
       "max_height": null,
       "max_width": null,
       "min_height": null,
       "min_width": null,
       "object_fit": null,
       "object_position": null,
       "order": null,
       "overflow": null,
       "overflow_x": null,
       "overflow_y": null,
       "padding": null,
       "right": null,
       "top": null,
       "visibility": null,
       "width": null
      }
     },
     "6655564604a5465ba82ffe99b1932e53": {
      "model_module": "@jupyter-widgets/controls",
      "model_module_version": "1.5.0",
      "model_name": "HBoxModel",
      "state": {
       "_dom_classes": [],
       "_model_module": "@jupyter-widgets/controls",
       "_model_module_version": "1.5.0",
       "_model_name": "HBoxModel",
       "_view_count": null,
       "_view_module": "@jupyter-widgets/controls",
       "_view_module_version": "1.5.0",
       "_view_name": "HBoxView",
       "box_style": "",
       "children": [
        "IPY_MODEL_889d0d9f86e541749e35a316a4ce77a0",
        "IPY_MODEL_002f1c69e68944418197d1ba31bba51b",
        "IPY_MODEL_3f5cd9f0ea9c42f184d6d647de5d0143"
       ],
       "layout": "IPY_MODEL_35b99f27f40e46428925233256dbee56"
      }
     },
     "68115ba77e394452a1d93ef42b6854ea": {
      "model_module": "@jupyter-widgets/controls",
      "model_module_version": "1.5.0",
      "model_name": "DescriptionStyleModel",
      "state": {
       "_model_module": "@jupyter-widgets/controls",
       "_model_module_version": "1.5.0",
       "_model_name": "DescriptionStyleModel",
       "_view_count": null,
       "_view_module": "@jupyter-widgets/base",
       "_view_module_version": "1.2.0",
       "_view_name": "StyleView",
       "description_width": ""
      }
     },
     "6d8af756b7de4622a150f826301c075d": {
      "model_module": "@jupyter-widgets/controls",
      "model_module_version": "1.5.0",
      "model_name": "FloatProgressModel",
      "state": {
       "_dom_classes": [],
       "_model_module": "@jupyter-widgets/controls",
       "_model_module_version": "1.5.0",
       "_model_name": "FloatProgressModel",
       "_view_count": null,
       "_view_module": "@jupyter-widgets/controls",
       "_view_module_version": "1.5.0",
       "_view_name": "ProgressView",
       "bar_style": "success",
       "description": "",
       "description_tooltip": null,
       "layout": "IPY_MODEL_b02e02060c36448198000150636e28f1",
       "max": 2.0,
       "min": 0.0,
       "orientation": "horizontal",
       "style": "IPY_MODEL_dbbb987c285c4966844da58afc6b458a",
       "value": 2.0
      }
     },
     "6e5ac6397c2b471a9eca270e6263628d": {
      "model_module": "@jupyter-widgets/controls",
      "model_module_version": "1.5.0",
      "model_name": "DescriptionStyleModel",
      "state": {
       "_model_module": "@jupyter-widgets/controls",
       "_model_module_version": "1.5.0",
       "_model_name": "DescriptionStyleModel",
       "_view_count": null,
       "_view_module": "@jupyter-widgets/base",
       "_view_module_version": "1.2.0",
       "_view_name": "StyleView",
       "description_width": ""
      }
     },
     "751bf4d309b14c8aa60f61e1429e403c": {
      "model_module": "@jupyter-widgets/controls",
      "model_module_version": "1.5.0",
      "model_name": "HTMLModel",
      "state": {
       "_dom_classes": [],
       "_model_module": "@jupyter-widgets/controls",
       "_model_module_version": "1.5.0",
       "_model_name": "HTMLModel",
       "_view_count": null,
       "_view_module": "@jupyter-widgets/controls",
       "_view_module_version": "1.5.0",
       "_view_name": "HTMLView",
       "description": "",
       "description_tooltip": null,
       "layout": "IPY_MODEL_d2a4e75a505d48b196a960bd675130de",
       "placeholder": "​",
       "style": "IPY_MODEL_b857d4436d834743b4a494da9c1201f2",
       "value": "Loading checkpoint shards: 100%"
      }
     },
     "7562786725734090b375dd74f6700233": {
      "model_module": "@jupyter-widgets/base",
      "model_module_version": "1.2.0",
      "model_name": "LayoutModel",
      "state": {
       "_model_module": "@jupyter-widgets/base",
       "_model_module_version": "1.2.0",
       "_model_name": "LayoutModel",
       "_view_count": null,
       "_view_module": "@jupyter-widgets/base",
       "_view_module_version": "1.2.0",
       "_view_name": "LayoutView",
       "align_content": null,
       "align_items": null,
       "align_self": null,
       "border": null,
       "bottom": null,
       "display": null,
       "flex": null,
       "flex_flow": null,
       "grid_area": null,
       "grid_auto_columns": null,
       "grid_auto_flow": null,
       "grid_auto_rows": null,
       "grid_column": null,
       "grid_gap": null,
       "grid_row": null,
       "grid_template_areas": null,
       "grid_template_columns": null,
       "grid_template_rows": null,
       "height": null,
       "justify_content": null,
       "justify_items": null,
       "left": null,
       "margin": null,
       "max_height": null,
       "max_width": null,
       "min_height": null,
       "min_width": null,
       "object_fit": null,
       "object_position": null,
       "order": null,
       "overflow": null,
       "overflow_x": null,
       "overflow_y": null,
       "padding": null,
       "right": null,
       "top": null,
       "visibility": null,
       "width": null
      }
     },
     "8126bf769e304343b147f699c8ff68cd": {
      "model_module": "@jupyter-widgets/controls",
      "model_module_version": "1.5.0",
      "model_name": "DescriptionStyleModel",
      "state": {
       "_model_module": "@jupyter-widgets/controls",
       "_model_module_version": "1.5.0",
       "_model_name": "DescriptionStyleModel",
       "_view_count": null,
       "_view_module": "@jupyter-widgets/base",
       "_view_module_version": "1.2.0",
       "_view_name": "StyleView",
       "description_width": ""
      }
     },
     "889d0d9f86e541749e35a316a4ce77a0": {
      "model_module": "@jupyter-widgets/controls",
      "model_module_version": "1.5.0",
      "model_name": "HTMLModel",
      "state": {
       "_dom_classes": [],
       "_model_module": "@jupyter-widgets/controls",
       "_model_module_version": "1.5.0",
       "_model_name": "HTMLModel",
       "_view_count": null,
       "_view_module": "@jupyter-widgets/controls",
       "_view_module_version": "1.5.0",
       "_view_name": "HTMLView",
       "description": "",
       "description_tooltip": null,
       "layout": "IPY_MODEL_7562786725734090b375dd74f6700233",
       "placeholder": "​",
       "style": "IPY_MODEL_9d15d0e35d214f988387d19a7d80a00b",
       "value": "Map: 100%"
      }
     },
     "93adceaf79b34eac81e36cac749412a8": {
      "model_module": "@jupyter-widgets/controls",
      "model_module_version": "1.5.0",
      "model_name": "ProgressStyleModel",
      "state": {
       "_model_module": "@jupyter-widgets/controls",
       "_model_module_version": "1.5.0",
       "_model_name": "ProgressStyleModel",
       "_view_count": null,
       "_view_module": "@jupyter-widgets/base",
       "_view_module_version": "1.2.0",
       "_view_name": "StyleView",
       "bar_color": null,
       "description_width": ""
      }
     },
     "9d15d0e35d214f988387d19a7d80a00b": {
      "model_module": "@jupyter-widgets/controls",
      "model_module_version": "1.5.0",
      "model_name": "DescriptionStyleModel",
      "state": {
       "_model_module": "@jupyter-widgets/controls",
       "_model_module_version": "1.5.0",
       "_model_name": "DescriptionStyleModel",
       "_view_count": null,
       "_view_module": "@jupyter-widgets/base",
       "_view_module_version": "1.2.0",
       "_view_name": "StyleView",
       "description_width": ""
      }
     },
     "b02e02060c36448198000150636e28f1": {
      "model_module": "@jupyter-widgets/base",
      "model_module_version": "1.2.0",
      "model_name": "LayoutModel",
      "state": {
       "_model_module": "@jupyter-widgets/base",
       "_model_module_version": "1.2.0",
       "_model_name": "LayoutModel",
       "_view_count": null,
       "_view_module": "@jupyter-widgets/base",
       "_view_module_version": "1.2.0",
       "_view_name": "LayoutView",
       "align_content": null,
       "align_items": null,
       "align_self": null,
       "border": null,
       "bottom": null,
       "display": null,
       "flex": null,
       "flex_flow": null,
       "grid_area": null,
       "grid_auto_columns": null,
       "grid_auto_flow": null,
       "grid_auto_rows": null,
       "grid_column": null,
       "grid_gap": null,
       "grid_row": null,
       "grid_template_areas": null,
       "grid_template_columns": null,
       "grid_template_rows": null,
       "height": null,
       "justify_content": null,
       "justify_items": null,
       "left": null,
       "margin": null,
       "max_height": null,
       "max_width": null,
       "min_height": null,
       "min_width": null,
       "object_fit": null,
       "object_position": null,
       "order": null,
       "overflow": null,
       "overflow_x": null,
       "overflow_y": null,
       "padding": null,
       "right": null,
       "top": null,
       "visibility": null,
       "width": null
      }
     },
     "b0b5f88d7396438da66d90392c4b9c9e": {
      "model_module": "@jupyter-widgets/base",
      "model_module_version": "1.2.0",
      "model_name": "LayoutModel",
      "state": {
       "_model_module": "@jupyter-widgets/base",
       "_model_module_version": "1.2.0",
       "_model_name": "LayoutModel",
       "_view_count": null,
       "_view_module": "@jupyter-widgets/base",
       "_view_module_version": "1.2.0",
       "_view_name": "LayoutView",
       "align_content": null,
       "align_items": null,
       "align_self": null,
       "border": null,
       "bottom": null,
       "display": null,
       "flex": null,
       "flex_flow": null,
       "grid_area": null,
       "grid_auto_columns": null,
       "grid_auto_flow": null,
       "grid_auto_rows": null,
       "grid_column": null,
       "grid_gap": null,
       "grid_row": null,
       "grid_template_areas": null,
       "grid_template_columns": null,
       "grid_template_rows": null,
       "height": null,
       "justify_content": null,
       "justify_items": null,
       "left": null,
       "margin": null,
       "max_height": null,
       "max_width": null,
       "min_height": null,
       "min_width": null,
       "object_fit": null,
       "object_position": null,
       "order": null,
       "overflow": null,
       "overflow_x": null,
       "overflow_y": null,
       "padding": null,
       "right": null,
       "top": null,
       "visibility": null,
       "width": null
      }
     },
     "b857d4436d834743b4a494da9c1201f2": {
      "model_module": "@jupyter-widgets/controls",
      "model_module_version": "1.5.0",
      "model_name": "DescriptionStyleModel",
      "state": {
       "_model_module": "@jupyter-widgets/controls",
       "_model_module_version": "1.5.0",
       "_model_name": "DescriptionStyleModel",
       "_view_count": null,
       "_view_module": "@jupyter-widgets/base",
       "_view_module_version": "1.2.0",
       "_view_name": "StyleView",
       "description_width": ""
      }
     },
     "c05d4683823342178bb36995374e6094": {
      "model_module": "@jupyter-widgets/controls",
      "model_module_version": "1.5.0",
      "model_name": "HBoxModel",
      "state": {
       "_dom_classes": [],
       "_model_module": "@jupyter-widgets/controls",
       "_model_module_version": "1.5.0",
       "_model_name": "HBoxModel",
       "_view_count": null,
       "_view_module": "@jupyter-widgets/controls",
       "_view_module_version": "1.5.0",
       "_view_name": "HBoxView",
       "box_style": "",
       "children": [
        "IPY_MODEL_1687aeb1cf0345cbae113bc03f163ad5",
        "IPY_MODEL_e5397cf1e5e24dc8ba3ae8b969898c50",
        "IPY_MODEL_fdb885cd2caf4810924ba05c35144869"
       ],
       "layout": "IPY_MODEL_286975b87eae4c24b3270c72065e69f2"
      }
     },
     "c3bf0e813c594fd19b87ab049e857935": {
      "model_module": "@jupyter-widgets/base",
      "model_module_version": "1.2.0",
      "model_name": "LayoutModel",
      "state": {
       "_model_module": "@jupyter-widgets/base",
       "_model_module_version": "1.2.0",
       "_model_name": "LayoutModel",
       "_view_count": null,
       "_view_module": "@jupyter-widgets/base",
       "_view_module_version": "1.2.0",
       "_view_name": "LayoutView",
       "align_content": null,
       "align_items": null,
       "align_self": null,
       "border": null,
       "bottom": null,
       "display": null,
       "flex": null,
       "flex_flow": null,
       "grid_area": null,
       "grid_auto_columns": null,
       "grid_auto_flow": null,
       "grid_auto_rows": null,
       "grid_column": null,
       "grid_gap": null,
       "grid_row": null,
       "grid_template_areas": null,
       "grid_template_columns": null,
       "grid_template_rows": null,
       "height": null,
       "justify_content": null,
       "justify_items": null,
       "left": null,
       "margin": null,
       "max_height": null,
       "max_width": null,
       "min_height": null,
       "min_width": null,
       "object_fit": null,
       "object_position": null,
       "order": null,
       "overflow": null,
       "overflow_x": null,
       "overflow_y": null,
       "padding": null,
       "right": null,
       "top": null,
       "visibility": null,
       "width": null
      }
     },
     "c76b69992fa54238b7c79967bd76aac8": {
      "model_module": "@jupyter-widgets/controls",
      "model_module_version": "1.5.0",
      "model_name": "DescriptionStyleModel",
      "state": {
       "_model_module": "@jupyter-widgets/controls",
       "_model_module_version": "1.5.0",
       "_model_name": "DescriptionStyleModel",
       "_view_count": null,
       "_view_module": "@jupyter-widgets/base",
       "_view_module_version": "1.2.0",
       "_view_name": "StyleView",
       "description_width": ""
      }
     },
     "ce66252fb8e44ac083b2a9052855b9c5": {
      "model_module": "@jupyter-widgets/controls",
      "model_module_version": "1.5.0",
      "model_name": "HTMLModel",
      "state": {
       "_dom_classes": [],
       "_model_module": "@jupyter-widgets/controls",
       "_model_module_version": "1.5.0",
       "_model_name": "HTMLModel",
       "_view_count": null,
       "_view_module": "@jupyter-widgets/controls",
       "_view_module_version": "1.5.0",
       "_view_name": "HTMLView",
       "description": "",
       "description_tooltip": null,
       "layout": "IPY_MODEL_ff2a7f579cb04239b4d064f8695f3ec0",
       "placeholder": "​",
       "style": "IPY_MODEL_68115ba77e394452a1d93ef42b6854ea",
       "value": " 2/2 [00:31&lt;00:00, 14.29s/it]"
      }
     },
     "cfb057c5e8b540d9824826aef366bd84": {
      "model_module": "@jupyter-widgets/base",
      "model_module_version": "1.2.0",
      "model_name": "LayoutModel",
      "state": {
       "_model_module": "@jupyter-widgets/base",
       "_model_module_version": "1.2.0",
       "_model_name": "LayoutModel",
       "_view_count": null,
       "_view_module": "@jupyter-widgets/base",
       "_view_module_version": "1.2.0",
       "_view_name": "LayoutView",
       "align_content": null,
       "align_items": null,
       "align_self": null,
       "border": null,
       "bottom": null,
       "display": null,
       "flex": null,
       "flex_flow": null,
       "grid_area": null,
       "grid_auto_columns": null,
       "grid_auto_flow": null,
       "grid_auto_rows": null,
       "grid_column": null,
       "grid_gap": null,
       "grid_row": null,
       "grid_template_areas": null,
       "grid_template_columns": null,
       "grid_template_rows": null,
       "height": null,
       "justify_content": null,
       "justify_items": null,
       "left": null,
       "margin": null,
       "max_height": null,
       "max_width": null,
       "min_height": null,
       "min_width": null,
       "object_fit": null,
       "object_position": null,
       "order": null,
       "overflow": null,
       "overflow_x": null,
       "overflow_y": null,
       "padding": null,
       "right": null,
       "top": null,
       "visibility": null,
       "width": null
      }
     },
     "d2a4e75a505d48b196a960bd675130de": {
      "model_module": "@jupyter-widgets/base",
      "model_module_version": "1.2.0",
      "model_name": "LayoutModel",
      "state": {
       "_model_module": "@jupyter-widgets/base",
       "_model_module_version": "1.2.0",
       "_model_name": "LayoutModel",
       "_view_count": null,
       "_view_module": "@jupyter-widgets/base",
       "_view_module_version": "1.2.0",
       "_view_name": "LayoutView",
       "align_content": null,
       "align_items": null,
       "align_self": null,
       "border": null,
       "bottom": null,
       "display": null,
       "flex": null,
       "flex_flow": null,
       "grid_area": null,
       "grid_auto_columns": null,
       "grid_auto_flow": null,
       "grid_auto_rows": null,
       "grid_column": null,
       "grid_gap": null,
       "grid_row": null,
       "grid_template_areas": null,
       "grid_template_columns": null,
       "grid_template_rows": null,
       "height": null,
       "justify_content": null,
       "justify_items": null,
       "left": null,
       "margin": null,
       "max_height": null,
       "max_width": null,
       "min_height": null,
       "min_width": null,
       "object_fit": null,
       "object_position": null,
       "order": null,
       "overflow": null,
       "overflow_x": null,
       "overflow_y": null,
       "padding": null,
       "right": null,
       "top": null,
       "visibility": null,
       "width": null
      }
     },
     "dbbb987c285c4966844da58afc6b458a": {
      "model_module": "@jupyter-widgets/controls",
      "model_module_version": "1.5.0",
      "model_name": "ProgressStyleModel",
      "state": {
       "_model_module": "@jupyter-widgets/controls",
       "_model_module_version": "1.5.0",
       "_model_name": "ProgressStyleModel",
       "_view_count": null,
       "_view_module": "@jupyter-widgets/base",
       "_view_module_version": "1.2.0",
       "_view_name": "StyleView",
       "bar_color": null,
       "description_width": ""
      }
     },
     "dc417092630e47c9afced270663fa552": {
      "model_module": "@jupyter-widgets/controls",
      "model_module_version": "1.5.0",
      "model_name": "HBoxModel",
      "state": {
       "_dom_classes": [],
       "_model_module": "@jupyter-widgets/controls",
       "_model_module_version": "1.5.0",
       "_model_name": "HBoxModel",
       "_view_count": null,
       "_view_module": "@jupyter-widgets/controls",
       "_view_module_version": "1.5.0",
       "_view_name": "HBoxView",
       "box_style": "",
       "children": [
        "IPY_MODEL_751bf4d309b14c8aa60f61e1429e403c",
        "IPY_MODEL_6d8af756b7de4622a150f826301c075d",
        "IPY_MODEL_ce66252fb8e44ac083b2a9052855b9c5"
       ],
       "layout": "IPY_MODEL_51e93abd6b7d4d3a93f4d642b973e04d"
      }
     },
     "e5397cf1e5e24dc8ba3ae8b969898c50": {
      "model_module": "@jupyter-widgets/controls",
      "model_module_version": "1.5.0",
      "model_name": "FloatProgressModel",
      "state": {
       "_dom_classes": [],
       "_model_module": "@jupyter-widgets/controls",
       "_model_module_version": "1.5.0",
       "_model_name": "FloatProgressModel",
       "_view_count": null,
       "_view_module": "@jupyter-widgets/controls",
       "_view_module_version": "1.5.0",
       "_view_name": "ProgressView",
       "bar_style": "success",
       "description": "",
       "description_tooltip": null,
       "layout": "IPY_MODEL_b0b5f88d7396438da66d90392c4b9c9e",
       "max": 4000.0,
       "min": 0.0,
       "orientation": "horizontal",
       "style": "IPY_MODEL_93adceaf79b34eac81e36cac749412a8",
       "value": 4000.0
      }
     },
     "efaf6705cced43f598f0379a5f13a1ad": {
      "model_module": "@jupyter-widgets/base",
      "model_module_version": "1.2.0",
      "model_name": "LayoutModel",
      "state": {
       "_model_module": "@jupyter-widgets/base",
       "_model_module_version": "1.2.0",
       "_model_name": "LayoutModel",
       "_view_count": null,
       "_view_module": "@jupyter-widgets/base",
       "_view_module_version": "1.2.0",
       "_view_name": "LayoutView",
       "align_content": null,
       "align_items": null,
       "align_self": null,
       "border": null,
       "bottom": null,
       "display": null,
       "flex": null,
       "flex_flow": null,
       "grid_area": null,
       "grid_auto_columns": null,
       "grid_auto_flow": null,
       "grid_auto_rows": null,
       "grid_column": null,
       "grid_gap": null,
       "grid_row": null,
       "grid_template_areas": null,
       "grid_template_columns": null,
       "grid_template_rows": null,
       "height": null,
       "justify_content": null,
       "justify_items": null,
       "left": null,
       "margin": null,
       "max_height": null,
       "max_width": null,
       "min_height": null,
       "min_width": null,
       "object_fit": null,
       "object_position": null,
       "order": null,
       "overflow": null,
       "overflow_x": null,
       "overflow_y": null,
       "padding": null,
       "right": null,
       "top": null,
       "visibility": null,
       "width": null
      }
     },
     "fdb885cd2caf4810924ba05c35144869": {
      "model_module": "@jupyter-widgets/controls",
      "model_module_version": "1.5.0",
      "model_name": "HTMLModel",
      "state": {
       "_dom_classes": [],
       "_model_module": "@jupyter-widgets/controls",
       "_model_module_version": "1.5.0",
       "_model_name": "HTMLModel",
       "_view_count": null,
       "_view_module": "@jupyter-widgets/controls",
       "_view_module_version": "1.5.0",
       "_view_name": "HTMLView",
       "description": "",
       "description_tooltip": null,
       "layout": "IPY_MODEL_cfb057c5e8b540d9824826aef366bd84",
       "placeholder": "​",
       "style": "IPY_MODEL_c76b69992fa54238b7c79967bd76aac8",
       "value": " 4000/4000 [00:07&lt;00:00, 513.34 examples/s]"
      }
     },
     "ff2a7f579cb04239b4d064f8695f3ec0": {
      "model_module": "@jupyter-widgets/base",
      "model_module_version": "1.2.0",
      "model_name": "LayoutModel",
      "state": {
       "_model_module": "@jupyter-widgets/base",
       "_model_module_version": "1.2.0",
       "_model_name": "LayoutModel",
       "_view_count": null,
       "_view_module": "@jupyter-widgets/base",
       "_view_module_version": "1.2.0",
       "_view_name": "LayoutView",
       "align_content": null,
       "align_items": null,
       "align_self": null,
       "border": null,
       "bottom": null,
       "display": null,
       "flex": null,
       "flex_flow": null,
       "grid_area": null,
       "grid_auto_columns": null,
       "grid_auto_flow": null,
       "grid_auto_rows": null,
       "grid_column": null,
       "grid_gap": null,
       "grid_row": null,
       "grid_template_areas": null,
       "grid_template_columns": null,
       "grid_template_rows": null,
       "height": null,
       "justify_content": null,
       "justify_items": null,
       "left": null,
       "margin": null,
       "max_height": null,
       "max_width": null,
       "min_height": null,
       "min_width": null,
       "object_fit": null,
       "object_position": null,
       "order": null,
       "overflow": null,
       "overflow_x": null,
       "overflow_y": null,
       "padding": null,
       "right": null,
       "top": null,
       "visibility": null,
       "width": null
      }
     }
    },
    "version_major": 2,
    "version_minor": 0
   }
  }
 },
 "nbformat": 4,
 "nbformat_minor": 5
}
