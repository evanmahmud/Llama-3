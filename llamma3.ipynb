{
 "cells": [
  {
   "cell_type": "code",
   "execution_count": 1,
   "id": "fa33b645",
   "metadata": {
    "_cell_guid": "b1076dfc-b9ad-4769-8c92-a6c4dae69d19",
    "_uuid": "8f2839f25d086af736a60e9eeb907d3b93b6e0e5",
    "execution": {
     "iopub.execute_input": "2024-09-22T12:13:37.415800Z",
     "iopub.status.busy": "2024-09-22T12:13:37.415212Z",
     "iopub.status.idle": "2024-09-22T12:13:38.179568Z",
     "shell.execute_reply": "2024-09-22T12:13:38.178638Z"
    },
    "papermill": {
     "duration": 0.783883,
     "end_time": "2024-09-22T12:13:38.182180",
     "exception": false,
     "start_time": "2024-09-22T12:13:37.398297",
     "status": "completed"
    },
    "tags": []
   },
   "outputs": [
    {
     "name": "stdout",
     "output_type": "stream",
     "text": [
      "/kaggle/input/llama-3.1/transformers/8b-instruct/1/model.safetensors.index.json\n",
      "/kaggle/input/llama-3.1/transformers/8b-instruct/1/model-00003-of-00004.safetensors\n",
      "/kaggle/input/llama-3.1/transformers/8b-instruct/1/config.json\n",
      "/kaggle/input/llama-3.1/transformers/8b-instruct/1/model-00001-of-00004.safetensors\n",
      "/kaggle/input/llama-3.1/transformers/8b-instruct/1/README.md\n",
      "/kaggle/input/llama-3.1/transformers/8b-instruct/1/USE_POLICY.md\n",
      "/kaggle/input/llama-3.1/transformers/8b-instruct/1/tokenizer.json\n",
      "/kaggle/input/llama-3.1/transformers/8b-instruct/1/tokenizer_config.json\n",
      "/kaggle/input/llama-3.1/transformers/8b-instruct/1/model-00004-of-00004.safetensors\n",
      "/kaggle/input/llama-3.1/transformers/8b-instruct/1/special_tokens_map.json\n",
      "/kaggle/input/llama-3.1/transformers/8b-instruct/1/model-00002-of-00004.safetensors\n",
      "/kaggle/input/llama-3.1/transformers/8b-instruct/1/generation_config.json\n",
      "/kaggle/input/llama-3.1/transformers/8b-instruct/2/model.safetensors.index.json\n",
      "/kaggle/input/llama-3.1/transformers/8b-instruct/2/model-00003-of-00004.safetensors\n",
      "/kaggle/input/llama-3.1/transformers/8b-instruct/2/config.json\n",
      "/kaggle/input/llama-3.1/transformers/8b-instruct/2/LICENSE\n",
      "/kaggle/input/llama-3.1/transformers/8b-instruct/2/model-00001-of-00004.safetensors\n",
      "/kaggle/input/llama-3.1/transformers/8b-instruct/2/README.md\n",
      "/kaggle/input/llama-3.1/transformers/8b-instruct/2/USE_POLICY.md\n",
      "/kaggle/input/llama-3.1/transformers/8b-instruct/2/tokenizer.json\n",
      "/kaggle/input/llama-3.1/transformers/8b-instruct/2/tokenizer_config.json\n",
      "/kaggle/input/llama-3.1/transformers/8b-instruct/2/model-00004-of-00004.safetensors\n",
      "/kaggle/input/llama-3.1/transformers/8b-instruct/2/special_tokens_map.json\n",
      "/kaggle/input/llama-3.1/transformers/8b-instruct/2/.gitattributes\n",
      "/kaggle/input/llama-3.1/transformers/8b-instruct/2/model-00002-of-00004.safetensors\n",
      "/kaggle/input/llama-3.1/transformers/8b-instruct/2/generation_config.json\n",
      "/kaggle/input/llama-3.1/transformers/8b-instruct/2/original/consolidated.00.pth\n",
      "/kaggle/input/llama-3.1/transformers/8b-instruct/2/original/params.json\n",
      "/kaggle/input/llama-3.1/transformers/8b-instruct/2/original/tokenizer.model\n",
      "/kaggle/input/bangla-newspaper-dataset/data_v2/data_v2.json\n",
      "/kaggle/input/bangla-newspaper-dataset/data/data.json\n"
     ]
    }
   ],
   "source": [
    "# This Python 3 environment comes with many helpful analytics libraries installed\n",
    "# It is defined by the kaggle/python Docker image: https://github.com/kaggle/docker-python\n",
    "# For example, here's several helpful packages to load\n",
    "\n",
    "import numpy as np # linear algebra\n",
    "import pandas as pd # data processing, CSV file I/O (e.g. pd.read_csv)\n",
    "\n",
    "# Input data files are available in the read-only \"../input/\" directory\n",
    "# For example, running this (by clicking run or pressing Shift+Enter) will list all files under the input directory\n",
    "\n",
    "import os\n",
    "for dirname, _, filenames in os.walk('/kaggle/input'):\n",
    "    for filename in filenames:\n",
    "        print(os.path.join(dirname, filename))\n",
    "\n",
    "# You can write up to 20GB to the current directory (/kaggle/working/) that gets preserved as output when you create a version using \"Save & Run All\" \n",
    "# You can also write temporary files to /kaggle/temp/, but they won't be saved outside of the current session"
   ]
  },
  {
   "cell_type": "code",
   "execution_count": 2,
   "id": "5f4e9118",
   "metadata": {
    "execution": {
     "iopub.execute_input": "2024-09-22T12:13:38.213842Z",
     "iopub.status.busy": "2024-09-22T12:13:38.213426Z",
     "iopub.status.idle": "2024-09-22T12:15:02.937353Z",
     "shell.execute_reply": "2024-09-22T12:15:02.936073Z"
    },
    "papermill": {
     "duration": 84.74222,
     "end_time": "2024-09-22T12:15:02.939874",
     "exception": false,
     "start_time": "2024-09-22T12:13:38.197654",
     "status": "completed"
    },
    "tags": []
   },
   "outputs": [],
   "source": [
    "%%capture\n",
    "%pip install -U bitsandbytes\n",
    "%pip install -U transformers\n",
    "%pip install -U accelerate\n",
    "%pip install -U peft\n",
    "%pip install -U trl"
   ]
  },
  {
   "cell_type": "code",
   "execution_count": 3,
   "id": "71e46600",
   "metadata": {
    "execution": {
     "iopub.execute_input": "2024-09-22T12:15:02.971229Z",
     "iopub.status.busy": "2024-09-22T12:15:02.970896Z",
     "iopub.status.idle": "2024-09-22T12:15:15.630865Z",
     "shell.execute_reply": "2024-09-22T12:15:15.629731Z"
    },
    "papermill": {
     "duration": 12.678226,
     "end_time": "2024-09-22T12:15:15.633270",
     "exception": false,
     "start_time": "2024-09-22T12:15:02.955044",
     "status": "completed"
    },
    "tags": []
   },
   "outputs": [
    {
     "name": "stdout",
     "output_type": "stream",
     "text": [
      "Requirement already satisfied: wandb in /opt/conda/lib/python3.10/site-packages (0.17.7)\r\n",
      "Requirement already satisfied: click!=8.0.0,>=7.1 in /opt/conda/lib/python3.10/site-packages (from wandb) (8.1.7)\r\n",
      "Requirement already satisfied: docker-pycreds>=0.4.0 in /opt/conda/lib/python3.10/site-packages (from wandb) (0.4.0)\r\n",
      "Requirement already satisfied: gitpython!=3.1.29,>=1.0.0 in /opt/conda/lib/python3.10/site-packages (from wandb) (3.1.43)\r\n",
      "Requirement already satisfied: platformdirs in /opt/conda/lib/python3.10/site-packages (from wandb) (3.11.0)\r\n",
      "Requirement already satisfied: protobuf!=4.21.0,<6,>=3.19.0 in /opt/conda/lib/python3.10/site-packages (from wandb) (3.20.3)\r\n",
      "Requirement already satisfied: psutil>=5.0.0 in /opt/conda/lib/python3.10/site-packages (from wandb) (5.9.3)\r\n",
      "Requirement already satisfied: pyyaml in /opt/conda/lib/python3.10/site-packages (from wandb) (6.0.2)\r\n",
      "Requirement already satisfied: requests<3,>=2.0.0 in /opt/conda/lib/python3.10/site-packages (from wandb) (2.32.3)\r\n",
      "Requirement already satisfied: sentry-sdk>=1.0.0 in /opt/conda/lib/python3.10/site-packages (from wandb) (2.13.0)\r\n",
      "Requirement already satisfied: setproctitle in /opt/conda/lib/python3.10/site-packages (from wandb) (1.3.3)\r\n",
      "Requirement already satisfied: setuptools in /opt/conda/lib/python3.10/site-packages (from wandb) (70.0.0)\r\n",
      "Requirement already satisfied: six>=1.4.0 in /opt/conda/lib/python3.10/site-packages (from docker-pycreds>=0.4.0->wandb) (1.16.0)\r\n",
      "Requirement already satisfied: gitdb<5,>=4.0.1 in /opt/conda/lib/python3.10/site-packages (from gitpython!=3.1.29,>=1.0.0->wandb) (4.0.11)\r\n",
      "Requirement already satisfied: charset-normalizer<4,>=2 in /opt/conda/lib/python3.10/site-packages (from requests<3,>=2.0.0->wandb) (3.3.2)\r\n",
      "Requirement already satisfied: idna<4,>=2.5 in /opt/conda/lib/python3.10/site-packages (from requests<3,>=2.0.0->wandb) (3.7)\r\n",
      "Requirement already satisfied: urllib3<3,>=1.21.1 in /opt/conda/lib/python3.10/site-packages (from requests<3,>=2.0.0->wandb) (1.26.18)\r\n",
      "Requirement already satisfied: certifi>=2017.4.17 in /opt/conda/lib/python3.10/site-packages (from requests<3,>=2.0.0->wandb) (2024.7.4)\r\n",
      "Requirement already satisfied: smmap<6,>=3.0.1 in /opt/conda/lib/python3.10/site-packages (from gitdb<5,>=4.0.1->gitpython!=3.1.29,>=1.0.0->wandb) (5.0.1)\r\n"
     ]
    }
   ],
   "source": [
    "!pip install wandb\n",
    "#!wandb login"
   ]
  },
  {
   "cell_type": "markdown",
   "id": "f1ee6b48",
   "metadata": {
    "papermill": {
     "duration": 0.014941,
     "end_time": "2024-09-22T12:15:15.663643",
     "exception": false,
     "start_time": "2024-09-22T12:15:15.648702",
     "status": "completed"
    },
    "tags": []
   },
   "source": [
    "417c27d3241951387db808a66a9d3316c434ec75"
   ]
  },
  {
   "cell_type": "code",
   "execution_count": 4,
   "id": "076d8c6a",
   "metadata": {
    "execution": {
     "iopub.execute_input": "2024-09-22T12:15:15.695471Z",
     "iopub.status.busy": "2024-09-22T12:15:15.695104Z",
     "iopub.status.idle": "2024-09-22T12:15:34.859149Z",
     "shell.execute_reply": "2024-09-22T12:15:34.858155Z"
    },
    "papermill": {
     "duration": 19.182897,
     "end_time": "2024-09-22T12:15:34.861486",
     "exception": false,
     "start_time": "2024-09-22T12:15:15.678589",
     "status": "completed"
    },
    "tags": []
   },
   "outputs": [
    {
     "name": "stderr",
     "output_type": "stream",
     "text": [
      "\u001b[34m\u001b[1mwandb\u001b[0m: W&B API key is configured. Use \u001b[1m`wandb login --relogin`\u001b[0m to force relogin\n",
      "\u001b[34m\u001b[1mwandb\u001b[0m: \u001b[33mWARNING\u001b[0m If you're specifying your api key in code, ensure this code is not shared publicly.\n",
      "\u001b[34m\u001b[1mwandb\u001b[0m: \u001b[33mWARNING\u001b[0m Consider setting the WANDB_API_KEY environment variable, or running `wandb login` from the command line.\n",
      "\u001b[34m\u001b[1mwandb\u001b[0m: Appending key for api.wandb.ai to your netrc file: /root/.netrc\n",
      "\u001b[34m\u001b[1mwandb\u001b[0m: Currently logged in as: \u001b[33mcse-mahmud-evan\u001b[0m (\u001b[33mcse-mahmud-evan-ccn-university-of-science-and-technology\u001b[0m). Use \u001b[1m`wandb login --relogin`\u001b[0m to force relogin\n",
      "\u001b[34m\u001b[1mwandb\u001b[0m: wandb version 0.18.1 is available!  To upgrade, please run:\n",
      "\u001b[34m\u001b[1mwandb\u001b[0m:  $ pip install wandb --upgrade\n",
      "\u001b[34m\u001b[1mwandb\u001b[0m: Tracking run with wandb version 0.17.7\n",
      "\u001b[34m\u001b[1mwandb\u001b[0m: Run data is saved locally in \u001b[35m\u001b[1m/kaggle/working/wandb/run-20240922_121518-2gh1i6cp\u001b[0m\n",
      "\u001b[34m\u001b[1mwandb\u001b[0m: Run \u001b[1m`wandb offline`\u001b[0m to turn off syncing.\n",
      "\u001b[34m\u001b[1mwandb\u001b[0m: Syncing run \u001b[33musual-puddle-23\u001b[0m\n",
      "\u001b[34m\u001b[1mwandb\u001b[0m: ⭐️ View project at \u001b[34m\u001b[4mhttps://wandb.ai/cse-mahmud-evan-ccn-university-of-science-and-technology/Fine-tune%20llama-3.1-8b-it%20on%20Sentiment%20Analysis%20Dataset\u001b[0m\n",
      "\u001b[34m\u001b[1mwandb\u001b[0m: 🚀 View run at \u001b[34m\u001b[4mhttps://wandb.ai/cse-mahmud-evan-ccn-university-of-science-and-technology/Fine-tune%20llama-3.1-8b-it%20on%20Sentiment%20Analysis%20Dataset/runs/2gh1i6cp\u001b[0m\n"
     ]
    }
   ],
   "source": [
    "import wandb\n",
    "\n",
    "from kaggle_secrets import UserSecretsClient\n",
    "user_secrets = UserSecretsClient()\n",
    "\n",
    "wb_token = \"417c27d3241951387db808a66a9d3316c434ec75\"\n",
    "\n",
    "wandb.login(key=wb_token)\n",
    "run = wandb.init(\n",
    "    project='Fine-tune llama-3.1-8b-it on Sentiment Analysis Dataset', \n",
    "    job_type=\"training\", \n",
    "    anonymous=\"allow\"\n",
    ")"
   ]
  },
  {
   "cell_type": "code",
   "execution_count": 5,
   "id": "1b5f4ad6",
   "metadata": {
    "execution": {
     "iopub.execute_input": "2024-09-22T12:15:34.896229Z",
     "iopub.status.busy": "2024-09-22T12:15:34.895872Z",
     "iopub.status.idle": "2024-09-22T12:15:55.023027Z",
     "shell.execute_reply": "2024-09-22T12:15:55.022091Z"
    },
    "papermill": {
     "duration": 20.147151,
     "end_time": "2024-09-22T12:15:55.025336",
     "exception": false,
     "start_time": "2024-09-22T12:15:34.878185",
     "status": "completed"
    },
    "tags": []
   },
   "outputs": [],
   "source": [
    "import numpy as np\n",
    "import pandas as pd\n",
    "import os\n",
    "from tqdm import tqdm\n",
    "import bitsandbytes as bnb\n",
    "import torch\n",
    "import torch.nn as nn\n",
    "import transformers\n",
    "from peft import LoraConfig, PeftConfig\n",
    "from trl import SFTTrainer\n",
    "from trl import setup_chat_format\n",
    "from transformers import (\n",
    "    AutoModelForCausalLM,\n",
    "    AutoTokenizer,\n",
    "    BitsAndBytesConfig,\n",
    "    TrainingArguments,\n",
    "    pipeline,\n",
    "    logging\n",
    ")\n",
    "from sklearn.metrics import (\n",
    "\n",
    "    accuracy_score,\n",
    "    classification_report,\n",
    "    confusion_matrix   \n",
    ")\n",
    "from sklearn.model_selection import train_test_split"
   ]
  },
  {
   "cell_type": "code",
   "execution_count": 6,
   "id": "4a44968a",
   "metadata": {
    "execution": {
     "iopub.execute_input": "2024-09-22T12:15:55.060177Z",
     "iopub.status.busy": "2024-09-22T12:15:55.058908Z",
     "iopub.status.idle": "2024-09-22T12:17:13.377978Z",
     "shell.execute_reply": "2024-09-22T12:17:13.377018Z"
    },
    "papermill": {
     "duration": 78.354848,
     "end_time": "2024-09-22T12:17:13.396706",
     "exception": false,
     "start_time": "2024-09-22T12:15:55.041858",
     "status": "completed"
    },
    "tags": []
   },
   "outputs": [
    {
     "data": {
      "text/html": [
       "<div>\n",
       "<style scoped>\n",
       "    .dataframe tbody tr th:only-of-type {\n",
       "        vertical-align: middle;\n",
       "    }\n",
       "\n",
       "    .dataframe tbody tr th {\n",
       "        vertical-align: top;\n",
       "    }\n",
       "\n",
       "    .dataframe thead th {\n",
       "        text-align: right;\n",
       "    }\n",
       "</style>\n",
       "<table border=\"1\" class=\"dataframe\">\n",
       "  <thead>\n",
       "    <tr style=\"text-align: right;\">\n",
       "      <th></th>\n",
       "      <th>author</th>\n",
       "      <th>category</th>\n",
       "      <th>category_bn</th>\n",
       "      <th>published_date</th>\n",
       "      <th>modification_date</th>\n",
       "      <th>tag</th>\n",
       "      <th>comment_count</th>\n",
       "      <th>title</th>\n",
       "      <th>url</th>\n",
       "      <th>content</th>\n",
       "    </tr>\n",
       "  </thead>\n",
       "  <tbody>\n",
       "    <tr>\n",
       "      <th>0</th>\n",
       "      <td>গাজীপুর প্রতিনিধি</td>\n",
       "      <td>bangladesh</td>\n",
       "      <td>বাংলাদেশ</td>\n",
       "      <td>০৪ জুলাই ২০১৩, ২৩:২৬</td>\n",
       "      <td>০৪ জুলাই ২০১৩, ২৩:২৭</td>\n",
       "      <td>[গাজীপুর]</td>\n",
       "      <td>0</td>\n",
       "      <td>কালিয়াকৈরে টিফিন খেয়ে ৫০০ শ্রমিক অসুস্থ, বিক...</td>\n",
       "      <td>http://www.prothom-alo.com/bangladesh/article/...</td>\n",
       "      <td>গাজীপুরের কালিয়াকৈর উপজেলার তেলিরচালা এলাকায়...</td>\n",
       "    </tr>\n",
       "    <tr>\n",
       "      <th>1</th>\n",
       "      <td>অনলাইন ডেস্ক</td>\n",
       "      <td>sports</td>\n",
       "      <td>খেলা</td>\n",
       "      <td>০৪ জুলাই ২০১৩, ২৩:০৯</td>\n",
       "      <td>০৪ জুলাই ২০১৩, ২৩:১১</td>\n",
       "      <td>[টেনিস]</td>\n",
       "      <td>0</td>\n",
       "      <td>সেমিফাইনাল বাধাও পেরিয়ে গেলেন লিসিকি</td>\n",
       "      <td>http://www.prothom-alo.com/sports/article/19028</td>\n",
       "      <td>এবারের উইম্বলডনটা স্মরণীয় করে রাখার মিশনেই যে...</td>\n",
       "    </tr>\n",
       "    <tr>\n",
       "      <th>2</th>\n",
       "      <td>নিজস্ব প্রতিবেদক</td>\n",
       "      <td>bangladesh</td>\n",
       "      <td>বাংলাদেশ</td>\n",
       "      <td>০৪ জুলাই ২০১৩, ২২:২৫</td>\n",
       "      <td>০৪ জুলাই ২০১৩, ২৩:১২</td>\n",
       "      <td>[রাজনীতি]</td>\n",
       "      <td>0</td>\n",
       "      <td>সংসদে খালেদার অভিযোগের জবাব দিয়েছে ভারত</td>\n",
       "      <td>http://www.prothom-alo.com/bangladesh/article/...</td>\n",
       "      <td>জাতীয় সংসদে বিএনপি চেয়ারপারসন ও বিরোধীদলীয় ...</td>\n",
       "    </tr>\n",
       "    <tr>\n",
       "      <th>3</th>\n",
       "      <td>অনলাইন ডেস্ক</td>\n",
       "      <td>technology</td>\n",
       "      <td>বিজ্ঞান ও প্রযুক্তি</td>\n",
       "      <td>০৪ জুলাই ২০১৩, ২১:৩৭</td>\n",
       "      <td>০৪ জুলাই ২০১৩, ২১:৪৫</td>\n",
       "      <td>[গবেষণা]</td>\n",
       "      <td>0</td>\n",
       "      <td>পাসওয়ার্ড ভুলে যান!</td>\n",
       "      <td>http://www.prothom-alo.com/technology/article/...</td>\n",
       "      <td>সহজ পাসওয়ার্ডের কারণে অনলাইন অ্যাকাউন্ট সহজেই...</td>\n",
       "    </tr>\n",
       "    <tr>\n",
       "      <th>4</th>\n",
       "      <td>অনলাইন ডেস্ক</td>\n",
       "      <td>technology</td>\n",
       "      <td>বিজ্ঞান ও প্রযুক্তি</td>\n",
       "      <td>০৪ জুলাই ২০১৩, ২১:৩৫</td>\n",
       "      <td>০৪ জুলাই ২০১৩, ২১:৩৭</td>\n",
       "      <td>[কম্পিউটার]</td>\n",
       "      <td>0</td>\n",
       "      <td>চলে গেলেন মাউস উদ্ভাবক</td>\n",
       "      <td>http://www.prothom-alo.com/technology/article/...</td>\n",
       "      <td>কম্পিউটার মাউসের উদ্ভাবক ডগলাস অ্যাঙ্গেলবার্ট ...</td>\n",
       "    </tr>\n",
       "  </tbody>\n",
       "</table>\n",
       "</div>"
      ],
      "text/plain": [
       "              author    category          category_bn        published_date  \\\n",
       "0  গাজীপুর প্রতিনিধি  bangladesh             বাংলাদেশ  ০৪ জুলাই ২০১৩, ২৩:২৬   \n",
       "1       অনলাইন ডেস্ক      sports                 খেলা  ০৪ জুলাই ২০১৩, ২৩:০৯   \n",
       "2   নিজস্ব প্রতিবেদক  bangladesh             বাংলাদেশ  ০৪ জুলাই ২০১৩, ২২:২৫   \n",
       "3       অনলাইন ডেস্ক  technology  বিজ্ঞান ও প্রযুক্তি  ০৪ জুলাই ২০১৩, ২১:৩৭   \n",
       "4       অনলাইন ডেস্ক  technology  বিজ্ঞান ও প্রযুক্তি  ০৪ জুলাই ২০১৩, ২১:৩৫   \n",
       "\n",
       "      modification_date          tag comment_count  \\\n",
       "0  ০৪ জুলাই ২০১৩, ২৩:২৭    [গাজীপুর]             0   \n",
       "1  ০৪ জুলাই ২০১৩, ২৩:১১      [টেনিস]             0   \n",
       "2  ০৪ জুলাই ২০১৩, ২৩:১২    [রাজনীতি]             0   \n",
       "3  ০৪ জুলাই ২০১৩, ২১:৪৫     [গবেষণা]             0   \n",
       "4  ০৪ জুলাই ২০১৩, ২১:৩৭  [কম্পিউটার]             0   \n",
       "\n",
       "                                               title  \\\n",
       "0  কালিয়াকৈরে টিফিন খেয়ে ৫০০ শ্রমিক অসুস্থ, বিক...   \n",
       "1              সেমিফাইনাল বাধাও পেরিয়ে গেলেন লিসিকি   \n",
       "2           সংসদে খালেদার অভিযোগের জবাব দিয়েছে ভারত   \n",
       "3                               পাসওয়ার্ড ভুলে যান!   \n",
       "4                             চলে গেলেন মাউস উদ্ভাবক   \n",
       "\n",
       "                                                 url  \\\n",
       "0  http://www.prothom-alo.com/bangladesh/article/...   \n",
       "1    http://www.prothom-alo.com/sports/article/19028   \n",
       "2  http://www.prothom-alo.com/bangladesh/article/...   \n",
       "3  http://www.prothom-alo.com/technology/article/...   \n",
       "4  http://www.prothom-alo.com/technology/article/...   \n",
       "\n",
       "                                             content  \n",
       "0  গাজীপুরের কালিয়াকৈর উপজেলার তেলিরচালা এলাকায়...  \n",
       "1  এবারের উইম্বলডনটা স্মরণীয় করে রাখার মিশনেই যে...  \n",
       "2  জাতীয় সংসদে বিএনপি চেয়ারপারসন ও বিরোধীদলীয় ...  \n",
       "3  সহজ পাসওয়ার্ডের কারণে অনলাইন অ্যাকাউন্ট সহজেই...  \n",
       "4  কম্পিউটার মাউসের উদ্ভাবক ডগলাস অ্যাঙ্গেলবার্ট ...  "
      ]
     },
     "execution_count": 6,
     "metadata": {},
     "output_type": "execute_result"
    }
   ],
   "source": [
    "data = pd.read_json('/kaggle/input/bangla-newspaper-dataset/data/data.json')\n",
    "data.head()"
   ]
  },
  {
   "cell_type": "code",
   "execution_count": 7,
   "id": "7ea5a5dd",
   "metadata": {
    "execution": {
     "iopub.execute_input": "2024-09-22T12:17:13.430474Z",
     "iopub.status.busy": "2024-09-22T12:17:13.430125Z",
     "iopub.status.idle": "2024-09-22T12:17:13.435854Z",
     "shell.execute_reply": "2024-09-22T12:17:13.434997Z"
    },
    "papermill": {
     "duration": 0.024838,
     "end_time": "2024-09-22T12:17:13.437828",
     "exception": false,
     "start_time": "2024-09-22T12:17:13.412990",
     "status": "completed"
    },
    "tags": []
   },
   "outputs": [
    {
     "data": {
      "text/plain": [
       "10"
      ]
     },
     "execution_count": 7,
     "metadata": {},
     "output_type": "execute_result"
    }
   ],
   "source": [
    "len(data.columns)"
   ]
  },
  {
   "cell_type": "code",
   "execution_count": 8,
   "id": "46032d36",
   "metadata": {
    "execution": {
     "iopub.execute_input": "2024-09-22T12:17:13.471751Z",
     "iopub.status.busy": "2024-09-22T12:17:13.471446Z",
     "iopub.status.idle": "2024-09-22T12:17:13.504943Z",
     "shell.execute_reply": "2024-09-22T12:17:13.504208Z"
    },
    "papermill": {
     "duration": 0.052629,
     "end_time": "2024-09-22T12:17:13.506882",
     "exception": false,
     "start_time": "2024-09-22T12:17:13.454253",
     "status": "completed"
    },
    "tags": []
   },
   "outputs": [],
   "source": [
    "ndf = data[['content','category']]"
   ]
  },
  {
   "cell_type": "code",
   "execution_count": 9,
   "id": "320c00f1",
   "metadata": {
    "execution": {
     "iopub.execute_input": "2024-09-22T12:17:13.542880Z",
     "iopub.status.busy": "2024-09-22T12:17:13.542492Z",
     "iopub.status.idle": "2024-09-22T12:17:13.548476Z",
     "shell.execute_reply": "2024-09-22T12:17:13.547653Z"
    },
    "papermill": {
     "duration": 0.026628,
     "end_time": "2024-09-22T12:17:13.550337",
     "exception": false,
     "start_time": "2024-09-22T12:17:13.523709",
     "status": "completed"
    },
    "tags": []
   },
   "outputs": [
    {
     "data": {
      "text/plain": [
       "(437948, 2)"
      ]
     },
     "execution_count": 9,
     "metadata": {},
     "output_type": "execute_result"
    }
   ],
   "source": [
    "ndf.shape"
   ]
  },
  {
   "cell_type": "code",
   "execution_count": 10,
   "id": "56dc711a",
   "metadata": {
    "execution": {
     "iopub.execute_input": "2024-09-22T12:17:13.584469Z",
     "iopub.status.busy": "2024-09-22T12:17:13.584166Z",
     "iopub.status.idle": "2024-09-22T12:17:22.686726Z",
     "shell.execute_reply": "2024-09-22T12:17:22.685672Z"
    },
    "papermill": {
     "duration": 9.121898,
     "end_time": "2024-09-22T12:17:22.688842",
     "exception": false,
     "start_time": "2024-09-22T12:17:13.566944",
     "status": "completed"
    },
    "tags": []
   },
   "outputs": [
    {
     "data": {
      "text/plain": [
       "1793"
      ]
     },
     "execution_count": 10,
     "metadata": {},
     "output_type": "execute_result"
    }
   ],
   "source": [
    "ndf.duplicated().sum()"
   ]
  },
  {
   "cell_type": "code",
   "execution_count": 11,
   "id": "29cffe9e",
   "metadata": {
    "execution": {
     "iopub.execute_input": "2024-09-22T12:17:22.727696Z",
     "iopub.status.busy": "2024-09-22T12:17:22.726918Z",
     "iopub.status.idle": "2024-09-22T12:17:27.326686Z",
     "shell.execute_reply": "2024-09-22T12:17:27.325434Z"
    },
    "papermill": {
     "duration": 4.623087,
     "end_time": "2024-09-22T12:17:27.328753",
     "exception": false,
     "start_time": "2024-09-22T12:17:22.705666",
     "status": "completed"
    },
    "tags": []
   },
   "outputs": [
    {
     "name": "stderr",
     "output_type": "stream",
     "text": [
      "/tmp/ipykernel_23/3272145479.py:1: SettingWithCopyWarning: \n",
      "A value is trying to be set on a copy of a slice from a DataFrame\n",
      "\n",
      "See the caveats in the documentation: https://pandas.pydata.org/pandas-docs/stable/user_guide/indexing.html#returning-a-view-versus-a-copy\n",
      "  ndf.drop_duplicates(inplace= True)\n"
     ]
    }
   ],
   "source": [
    "ndf.drop_duplicates(inplace= True)"
   ]
  },
  {
   "cell_type": "code",
   "execution_count": 12,
   "id": "5a219292",
   "metadata": {
    "execution": {
     "iopub.execute_input": "2024-09-22T12:17:27.363549Z",
     "iopub.status.busy": "2024-09-22T12:17:27.363216Z",
     "iopub.status.idle": "2024-09-22T12:17:27.369188Z",
     "shell.execute_reply": "2024-09-22T12:17:27.368248Z"
    },
    "papermill": {
     "duration": 0.025514,
     "end_time": "2024-09-22T12:17:27.371156",
     "exception": false,
     "start_time": "2024-09-22T12:17:27.345642",
     "status": "completed"
    },
    "tags": []
   },
   "outputs": [
    {
     "data": {
      "text/plain": [
       "(436155, 2)"
      ]
     },
     "execution_count": 12,
     "metadata": {},
     "output_type": "execute_result"
    }
   ],
   "source": [
    "ndf.shape"
   ]
  },
  {
   "cell_type": "code",
   "execution_count": 13,
   "id": "7d0bb09b",
   "metadata": {
    "execution": {
     "iopub.execute_input": "2024-09-22T12:17:27.405688Z",
     "iopub.status.busy": "2024-09-22T12:17:27.405392Z",
     "iopub.status.idle": "2024-09-22T12:17:27.491502Z",
     "shell.execute_reply": "2024-09-22T12:17:27.490594Z"
    },
    "papermill": {
     "duration": 0.105768,
     "end_time": "2024-09-22T12:17:27.493565",
     "exception": false,
     "start_time": "2024-09-22T12:17:27.387797",
     "status": "completed"
    },
    "tags": []
   },
   "outputs": [
    {
     "data": {
      "text/plain": [
       "array(['bangladesh', 'sports', 'technology', 'entertainment',\n",
       "       'international', 'economy', 'life-style', 'opinion', 'education',\n",
       "       'we-are', 'onnoalo', 'pachmisheli', 'AskEditor', 'roshalo', '-1',\n",
       "       'durporobash', 'facebook', 'events', 'kishoralo',\n",
       "       'special-supplement', '22221', 'demo-content', 'trust',\n",
       "       'northamerica', 'protichinta', 'bondhushava', 'bs-events',\n",
       "       'mpaward1', 'diverse', 'tarunno', 'chakri-bakri', 'nagorik-kantho'],\n",
       "      dtype=object)"
      ]
     },
     "execution_count": 13,
     "metadata": {},
     "output_type": "execute_result"
    }
   ],
   "source": [
    "ndf.category.unique()"
   ]
  },
  {
   "cell_type": "code",
   "execution_count": 14,
   "id": "3727dca1",
   "metadata": {
    "execution": {
     "iopub.execute_input": "2024-09-22T12:17:27.529528Z",
     "iopub.status.busy": "2024-09-22T12:17:27.529204Z",
     "iopub.status.idle": "2024-09-22T12:17:28.455438Z",
     "shell.execute_reply": "2024-09-22T12:17:28.454467Z"
    },
    "papermill": {
     "duration": 0.946394,
     "end_time": "2024-09-22T12:17:28.457587",
     "exception": false,
     "start_time": "2024-09-22T12:17:27.511193",
     "status": "completed"
    },
    "tags": []
   },
   "outputs": [
    {
     "data": {
      "image/png": "[encoded data removed]",
      "text/plain": [
       "<Figure size 640x480 with 1 Axes>"
      ]
     },
     "metadata": {},
     "output_type": "display_data"
    }
   ],
   "source": [
    "import matplotlib as mpl\n",
    "import seaborn as sns\n",
    "import matplotlib.pyplot as plt\n",
    "\n",
    "\n",
    "\n",
    "labels = ndf['category'].value_counts().index\n",
    "values = ndf['category'].value_counts().values\n",
    "\n",
    "plt.bar(labels,values)\n",
    "plt.title(\"Imbalance Categorical distribution\")\n",
    "plt.xticks(rotation=90)\n",
    "plt.xlabel('News Category')\n",
    "plt.ylabel('Number of Class')\n",
    "\n",
    "\n",
    "\n",
    "plt.show()"
   ]
  },
  {
   "cell_type": "code",
   "execution_count": 15,
   "id": "3f0e8280",
   "metadata": {
    "execution": {
     "iopub.execute_input": "2024-09-22T12:17:28.495346Z",
     "iopub.status.busy": "2024-09-22T12:17:28.494682Z",
     "iopub.status.idle": "2024-09-22T12:17:28.500963Z",
     "shell.execute_reply": "2024-09-22T12:17:28.500075Z"
    },
    "papermill": {
     "duration": 0.027334,
     "end_time": "2024-09-22T12:17:28.503272",
     "exception": false,
     "start_time": "2024-09-22T12:17:28.475938",
     "status": "completed"
    },
    "tags": []
   },
   "outputs": [
    {
     "data": {
      "text/plain": [
       "\"from sklearn.preprocessing import LabelEncoder\\nlbl = LabelEncoder()\\nndf['category'] = lbl.fit_transform(ndf['category'])\""
      ]
     },
     "execution_count": 15,
     "metadata": {},
     "output_type": "execute_result"
    }
   ],
   "source": [
    "'''from sklearn.preprocessing import LabelEncoder\n",
    "lbl = LabelEncoder()\n",
    "ndf['category'] = lbl.fit_transform(ndf['category'])'''"
   ]
  },
  {
   "cell_type": "code",
   "execution_count": 16,
   "id": "ad6c9207",
   "metadata": {
    "execution": {
     "iopub.execute_input": "2024-09-22T12:17:28.540406Z",
     "iopub.status.busy": "2024-09-22T12:17:28.540095Z",
     "iopub.status.idle": "2024-09-22T12:17:28.551699Z",
     "shell.execute_reply": "2024-09-22T12:17:28.550968Z"
    },
    "papermill": {
     "duration": 0.032161,
     "end_time": "2024-09-22T12:17:28.553560",
     "exception": false,
     "start_time": "2024-09-22T12:17:28.521399",
     "status": "completed"
    },
    "tags": []
   },
   "outputs": [
    {
     "data": {
      "text/html": [
       "<div>\n",
       "<style scoped>\n",
       "    .dataframe tbody tr th:only-of-type {\n",
       "        vertical-align: middle;\n",
       "    }\n",
       "\n",
       "    .dataframe tbody tr th {\n",
       "        vertical-align: top;\n",
       "    }\n",
       "\n",
       "    .dataframe thead th {\n",
       "        text-align: right;\n",
       "    }\n",
       "</style>\n",
       "<table border=\"1\" class=\"dataframe\">\n",
       "  <thead>\n",
       "    <tr style=\"text-align: right;\">\n",
       "      <th></th>\n",
       "      <th>content</th>\n",
       "      <th>category</th>\n",
       "    </tr>\n",
       "  </thead>\n",
       "  <tbody>\n",
       "    <tr>\n",
       "      <th>0</th>\n",
       "      <td>গাজীপুরের কালিয়াকৈর উপজেলার তেলিরচালা এলাকায়...</td>\n",
       "      <td>bangladesh</td>\n",
       "    </tr>\n",
       "    <tr>\n",
       "      <th>1</th>\n",
       "      <td>এবারের উইম্বলডনটা স্মরণীয় করে রাখার মিশনেই যে...</td>\n",
       "      <td>sports</td>\n",
       "    </tr>\n",
       "    <tr>\n",
       "      <th>2</th>\n",
       "      <td>জাতীয় সংসদে বিএনপি চেয়ারপারসন ও বিরোধীদলীয় ...</td>\n",
       "      <td>bangladesh</td>\n",
       "    </tr>\n",
       "    <tr>\n",
       "      <th>3</th>\n",
       "      <td>সহজ পাসওয়ার্ডের কারণে অনলাইন অ্যাকাউন্ট সহজেই...</td>\n",
       "      <td>technology</td>\n",
       "    </tr>\n",
       "    <tr>\n",
       "      <th>4</th>\n",
       "      <td>কম্পিউটার মাউসের উদ্ভাবক ডগলাস অ্যাঙ্গেলবার্ট ...</td>\n",
       "      <td>technology</td>\n",
       "    </tr>\n",
       "  </tbody>\n",
       "</table>\n",
       "</div>"
      ],
      "text/plain": [
       "                                             content    category\n",
       "0  গাজীপুরের কালিয়াকৈর উপজেলার তেলিরচালা এলাকায়...  bangladesh\n",
       "1  এবারের উইম্বলডনটা স্মরণীয় করে রাখার মিশনেই যে...      sports\n",
       "2  জাতীয় সংসদে বিএনপি চেয়ারপারসন ও বিরোধীদলীয় ...  bangladesh\n",
       "3  সহজ পাসওয়ার্ডের কারণে অনলাইন অ্যাকাউন্ট সহজেই...  technology\n",
       "4  কম্পিউটার মাউসের উদ্ভাবক ডগলাস অ্যাঙ্গেলবার্ট ...  technology"
      ]
     },
     "execution_count": 16,
     "metadata": {},
     "output_type": "execute_result"
    }
   ],
   "source": [
    "ndf.head()"
   ]
  },
  {
   "cell_type": "code",
   "execution_count": 17,
   "id": "0c3c24c4",
   "metadata": {
    "execution": {
     "iopub.execute_input": "2024-09-22T12:17:28.591097Z",
     "iopub.status.busy": "2024-09-22T12:17:28.590785Z",
     "iopub.status.idle": "2024-09-22T12:17:28.685994Z",
     "shell.execute_reply": "2024-09-22T12:17:28.684917Z"
    },
    "papermill": {
     "duration": 0.116527,
     "end_time": "2024-09-22T12:17:28.688387",
     "exception": false,
     "start_time": "2024-09-22T12:17:28.571860",
     "status": "completed"
    },
    "tags": []
   },
   "outputs": [],
   "source": [
    "train, test = train_test_split(ndf, test_size=0.3)\n",
    "val, test = train_test_split(test, test_size=0.5)"
   ]
  },
  {
   "cell_type": "code",
   "execution_count": 18,
   "id": "5d993514",
   "metadata": {
    "execution": {
     "iopub.execute_input": "2024-09-22T12:17:28.727868Z",
     "iopub.status.busy": "2024-09-22T12:17:28.727551Z",
     "iopub.status.idle": "2024-09-22T12:17:28.736784Z",
     "shell.execute_reply": "2024-09-22T12:17:28.735860Z"
    },
    "papermill": {
     "duration": 0.030311,
     "end_time": "2024-09-22T12:17:28.738747",
     "exception": false,
     "start_time": "2024-09-22T12:17:28.708436",
     "status": "completed"
    },
    "tags": []
   },
   "outputs": [
    {
     "data": {
      "text/html": [
       "<div>\n",
       "<style scoped>\n",
       "    .dataframe tbody tr th:only-of-type {\n",
       "        vertical-align: middle;\n",
       "    }\n",
       "\n",
       "    .dataframe tbody tr th {\n",
       "        vertical-align: top;\n",
       "    }\n",
       "\n",
       "    .dataframe thead th {\n",
       "        text-align: right;\n",
       "    }\n",
       "</style>\n",
       "<table border=\"1\" class=\"dataframe\">\n",
       "  <thead>\n",
       "    <tr style=\"text-align: right;\">\n",
       "      <th></th>\n",
       "      <th>content</th>\n",
       "      <th>category</th>\n",
       "    </tr>\n",
       "  </thead>\n",
       "  <tbody>\n",
       "    <tr>\n",
       "      <th>12454</th>\n",
       "      <td>চট্টগ্রাম নগরের চট্টগ্রাম রপ্তানি প্রক্রিয়াজা...</td>\n",
       "      <td>bangladesh</td>\n",
       "    </tr>\n",
       "    <tr>\n",
       "      <th>225028</th>\n",
       "      <td>চলতি ২০১৫-১৬ অর্থবছর শেষে বাংলাদেশের মোট দেশজ ...</td>\n",
       "      <td>economy</td>\n",
       "    </tr>\n",
       "    <tr>\n",
       "      <th>105437</th>\n",
       "      <td>মেঘনার তলদেশ থেকে অবৈধভাবে বালু তুলছেন নারায়ণ...</td>\n",
       "      <td>bangladesh</td>\n",
       "    </tr>\n",
       "    <tr>\n",
       "      <th>166878</th>\n",
       "      <td>কিশোরগঞ্জের ভৈরবে সবুজ মিয়া (২৬) নামের এক ব্যব...</td>\n",
       "      <td>bangladesh</td>\n",
       "    </tr>\n",
       "    <tr>\n",
       "      <th>399089</th>\n",
       "      <td>জার্মানির কেমনিজ শহরে ‘ইউ আর মোর’ শীর্ষক বর্ণব...</td>\n",
       "      <td>international</td>\n",
       "    </tr>\n",
       "  </tbody>\n",
       "</table>\n",
       "</div>"
      ],
      "text/plain": [
       "                                                  content       category\n",
       "12454   চট্টগ্রাম নগরের চট্টগ্রাম রপ্তানি প্রক্রিয়াজা...     bangladesh\n",
       "225028  চলতি ২০১৫-১৬ অর্থবছর শেষে বাংলাদেশের মোট দেশজ ...        economy\n",
       "105437  মেঘনার তলদেশ থেকে অবৈধভাবে বালু তুলছেন নারায়ণ...     bangladesh\n",
       "166878  কিশোরগঞ্জের ভৈরবে সবুজ মিয়া (২৬) নামের এক ব্যব...     bangladesh\n",
       "399089  জার্মানির কেমনিজ শহরে ‘ইউ আর মোর’ শীর্ষক বর্ণব...  international"
      ]
     },
     "execution_count": 18,
     "metadata": {},
     "output_type": "execute_result"
    }
   ],
   "source": [
    "train.head()"
   ]
  },
  {
   "cell_type": "code",
   "execution_count": 19,
   "id": "e417c0da",
   "metadata": {
    "execution": {
     "iopub.execute_input": "2024-09-22T12:17:28.776586Z",
     "iopub.status.busy": "2024-09-22T12:17:28.776274Z",
     "iopub.status.idle": "2024-09-22T12:17:28.914422Z",
     "shell.execute_reply": "2024-09-22T12:17:28.913476Z"
    },
    "papermill": {
     "duration": 0.159493,
     "end_time": "2024-09-22T12:17:28.916592",
     "exception": false,
     "start_time": "2024-09-22T12:17:28.757099",
     "status": "completed"
    },
    "tags": []
   },
   "outputs": [
    {
     "data": {
      "text/html": [
       "<div>\n",
       "<style scoped>\n",
       "    .dataframe tbody tr th:only-of-type {\n",
       "        vertical-align: middle;\n",
       "    }\n",
       "\n",
       "    .dataframe tbody tr th {\n",
       "        vertical-align: top;\n",
       "    }\n",
       "\n",
       "    .dataframe thead th {\n",
       "        text-align: right;\n",
       "    }\n",
       "</style>\n",
       "<table border=\"1\" class=\"dataframe\">\n",
       "  <thead>\n",
       "    <tr style=\"text-align: right;\">\n",
       "      <th></th>\n",
       "      <th>content</th>\n",
       "      <th>category</th>\n",
       "    </tr>\n",
       "  </thead>\n",
       "  <tbody>\n",
       "    <tr>\n",
       "      <th>0</th>\n",
       "      <td>চলতি অর্থবছরে বাংলাদেশের অর্থনীতি তুলনামূলকভাব...</td>\n",
       "      <td>economy</td>\n",
       "    </tr>\n",
       "    <tr>\n",
       "      <th>1</th>\n",
       "      <td>মুক্তিযুদ্ধে শহীদদের সংখ্যা নিয়ে বিতর্কিত মন্ত...</td>\n",
       "      <td>bangladesh</td>\n",
       "    </tr>\n",
       "    <tr>\n",
       "      <th>2</th>\n",
       "      <td>চট্টগ্রামের আনোয়ারা বিশ্ববিদ্যালয় কলেজ ছাত্রলী...</td>\n",
       "      <td>bangladesh</td>\n",
       "    </tr>\n",
       "    <tr>\n",
       "      <th>3</th>\n",
       "      <td>মনের মাধুরী দিয়ে অন্যকে সাজিয়ে তোলেন তাঁরা। ...</td>\n",
       "      <td>life-style</td>\n",
       "    </tr>\n",
       "    <tr>\n",
       "      <th>4</th>\n",
       "      <td>চট্টগ্রামের সীতাকুণ্ড উপজেলায় র‌্যাপিড অ্যাকশন...</td>\n",
       "      <td>bangladesh</td>\n",
       "    </tr>\n",
       "  </tbody>\n",
       "</table>\n",
       "</div>"
      ],
      "text/plain": [
       "                                             content    category\n",
       "0  চলতি অর্থবছরে বাংলাদেশের অর্থনীতি তুলনামূলকভাব...     economy\n",
       "1  মুক্তিযুদ্ধে শহীদদের সংখ্যা নিয়ে বিতর্কিত মন্ত...  bangladesh\n",
       "2  চট্টগ্রামের আনোয়ারা বিশ্ববিদ্যালয় কলেজ ছাত্রলী...  bangladesh\n",
       "3  মনের মাধুরী দিয়ে অন্যকে সাজিয়ে তোলেন তাঁরা। ...  life-style\n",
       "4  চট্টগ্রামের সীতাকুণ্ড উপজেলায় র‌্যাপিড অ্যাকশন...  bangladesh"
      ]
     },
     "execution_count": 19,
     "metadata": {},
     "output_type": "execute_result"
    }
   ],
   "source": [
    "ndf = ndf.sample(frac= 1, random_state = 48).reset_index(drop=True).head(1000)\n",
    "ndf.head()"
   ]
  },
  {
   "cell_type": "code",
   "execution_count": 20,
   "id": "940d021c",
   "metadata": {
    "execution": {
     "iopub.execute_input": "2024-09-22T12:17:28.955843Z",
     "iopub.status.busy": "2024-09-22T12:17:28.955512Z",
     "iopub.status.idle": "2024-09-22T12:17:28.960147Z",
     "shell.execute_reply": "2024-09-22T12:17:28.959294Z"
    },
    "papermill": {
     "duration": 0.026126,
     "end_time": "2024-09-22T12:17:28.962066",
     "exception": false,
     "start_time": "2024-09-22T12:17:28.935940",
     "status": "completed"
    },
    "tags": []
   },
   "outputs": [],
   "source": [
    "train_size = 0.8\n",
    "val_size = 0.1\n",
    "\n",
    "train_end = int(train_size * len(ndf)) \n",
    "val_end = train_end + int(val_size * len(ndf))\n"
   ]
  },
  {
   "cell_type": "code",
   "execution_count": 21,
   "id": "538164ad",
   "metadata": {
    "execution": {
     "iopub.execute_input": "2024-09-22T12:17:29.001142Z",
     "iopub.status.busy": "2024-09-22T12:17:29.000154Z",
     "iopub.status.idle": "2024-09-22T12:17:29.007768Z",
     "shell.execute_reply": "2024-09-22T12:17:29.006705Z"
    },
    "papermill": {
     "duration": 0.028916,
     "end_time": "2024-09-22T12:17:29.009678",
     "exception": false,
     "start_time": "2024-09-22T12:17:28.980762",
     "status": "completed"
    },
    "tags": []
   },
   "outputs": [
    {
     "name": "stdout",
     "output_type": "stream",
     "text": [
      "(800, 2)\n",
      "(100, 2)\n",
      "(100, 2)\n"
     ]
    }
   ],
   "source": [
    "X_train = ndf[:train_end]\n",
    "X_val = ndf[train_end:val_end]\n",
    "X_test = ndf[val_end:]\n",
    "\n",
    "print(X_train.shape)\n",
    "print(X_val.shape)\n",
    "print(X_test.shape)"
   ]
  },
  {
   "cell_type": "code",
   "execution_count": 22,
   "id": "71681c2c",
   "metadata": {
    "execution": {
     "iopub.execute_input": "2024-09-22T12:17:29.048169Z",
     "iopub.status.busy": "2024-09-22T12:17:29.047823Z",
     "iopub.status.idle": "2024-09-22T12:17:29.052861Z",
     "shell.execute_reply": "2024-09-22T12:17:29.051992Z"
    },
    "papermill": {
     "duration": 0.026607,
     "end_time": "2024-09-22T12:17:29.054866",
     "exception": false,
     "start_time": "2024-09-22T12:17:29.028259",
     "status": "completed"
    },
    "tags": []
   },
   "outputs": [],
   "source": [
    "# Define the prompt generation functions\n",
    "def generate_prompt(data_point):\n",
    "    return f\"\"\"\n",
    "            Classify the text into bangladesh, sports, technology, entertainment,international, economy, life-style, opinion, education and return the answer as the corresponding newpapers news category.\n",
    "text: {data_point[\"content\"]}\n",
    "label: {data_point[\"category\"]}\"\"\".strip()\n",
    "\n",
    "def generate_test_prompt(data_point):\n",
    "    return f\"\"\"\n",
    "            Classify the text into bangladesh, sports, technology, entertainment,international, economy, life-style, opinion, education and return the answer as the corresponding newpapers news category.\n",
    "text: {data_point[\"content\"]}\n",
    "label: \"\"\".strip()"
   ]
  },
  {
   "cell_type": "code",
   "execution_count": 23,
   "id": "8b4a1e6c",
   "metadata": {
    "execution": {
     "iopub.execute_input": "2024-09-22T12:17:29.093614Z",
     "iopub.status.busy": "2024-09-22T12:17:29.093343Z",
     "iopub.status.idle": "2024-09-22T12:17:29.121457Z",
     "shell.execute_reply": "2024-09-22T12:17:29.120365Z"
    },
    "papermill": {
     "duration": 0.050033,
     "end_time": "2024-09-22T12:17:29.123582",
     "exception": false,
     "start_time": "2024-09-22T12:17:29.073549",
     "status": "completed"
    },
    "tags": []
   },
   "outputs": [
    {
     "name": "stderr",
     "output_type": "stream",
     "text": [
      "/tmp/ipykernel_23/605730108.py:1: SettingWithCopyWarning: \n",
      "A value is trying to be set on a copy of a slice from a DataFrame.\n",
      "Try using .loc[row_indexer,col_indexer] = value instead\n",
      "\n",
      "See the caveats in the documentation: https://pandas.pydata.org/pandas-docs/stable/user_guide/indexing.html#returning-a-view-versus-a-copy\n",
      "  X_train.loc[:,'text'] = X_train.apply(generate_prompt,axis = 1)\n"
     ]
    },
    {
     "data": {
      "text/html": [
       "<div>\n",
       "<style scoped>\n",
       "    .dataframe tbody tr th:only-of-type {\n",
       "        vertical-align: middle;\n",
       "    }\n",
       "\n",
       "    .dataframe tbody tr th {\n",
       "        vertical-align: top;\n",
       "    }\n",
       "\n",
       "    .dataframe thead th {\n",
       "        text-align: right;\n",
       "    }\n",
       "</style>\n",
       "<table border=\"1\" class=\"dataframe\">\n",
       "  <thead>\n",
       "    <tr style=\"text-align: right;\">\n",
       "      <th></th>\n",
       "      <th>content</th>\n",
       "      <th>category</th>\n",
       "      <th>text</th>\n",
       "    </tr>\n",
       "  </thead>\n",
       "  <tbody>\n",
       "    <tr>\n",
       "      <th>0</th>\n",
       "      <td>চলতি অর্থবছরে বাংলাদেশের অর্থনীতি তুলনামূলকভাব...</td>\n",
       "      <td>economy</td>\n",
       "      <td>Classify the text into bangladesh, sports, tec...</td>\n",
       "    </tr>\n",
       "    <tr>\n",
       "      <th>1</th>\n",
       "      <td>মুক্তিযুদ্ধে শহীদদের সংখ্যা নিয়ে বিতর্কিত মন্ত...</td>\n",
       "      <td>bangladesh</td>\n",
       "      <td>Classify the text into bangladesh, sports, tec...</td>\n",
       "    </tr>\n",
       "    <tr>\n",
       "      <th>2</th>\n",
       "      <td>চট্টগ্রামের আনোয়ারা বিশ্ববিদ্যালয় কলেজ ছাত্রলী...</td>\n",
       "      <td>bangladesh</td>\n",
       "      <td>Classify the text into bangladesh, sports, tec...</td>\n",
       "    </tr>\n",
       "    <tr>\n",
       "      <th>3</th>\n",
       "      <td>মনের মাধুরী দিয়ে অন্যকে সাজিয়ে তোলেন তাঁরা। ...</td>\n",
       "      <td>life-style</td>\n",
       "      <td>Classify the text into bangladesh, sports, tec...</td>\n",
       "    </tr>\n",
       "    <tr>\n",
       "      <th>4</th>\n",
       "      <td>চট্টগ্রামের সীতাকুণ্ড উপজেলায় র‌্যাপিড অ্যাকশন...</td>\n",
       "      <td>bangladesh</td>\n",
       "      <td>Classify the text into bangladesh, sports, tec...</td>\n",
       "    </tr>\n",
       "  </tbody>\n",
       "</table>\n",
       "</div>"
      ],
      "text/plain": [
       "                                             content    category  \\\n",
       "0  চলতি অর্থবছরে বাংলাদেশের অর্থনীতি তুলনামূলকভাব...     economy   \n",
       "1  মুক্তিযুদ্ধে শহীদদের সংখ্যা নিয়ে বিতর্কিত মন্ত...  bangladesh   \n",
       "2  চট্টগ্রামের আনোয়ারা বিশ্ববিদ্যালয় কলেজ ছাত্রলী...  bangladesh   \n",
       "3  মনের মাধুরী দিয়ে অন্যকে সাজিয়ে তোলেন তাঁরা। ...  life-style   \n",
       "4  চট্টগ্রামের সীতাকুণ্ড উপজেলায় র‌্যাপিড অ্যাকশন...  bangladesh   \n",
       "\n",
       "                                                text  \n",
       "0  Classify the text into bangladesh, sports, tec...  \n",
       "1  Classify the text into bangladesh, sports, tec...  \n",
       "2  Classify the text into bangladesh, sports, tec...  \n",
       "3  Classify the text into bangladesh, sports, tec...  \n",
       "4  Classify the text into bangladesh, sports, tec...  "
      ]
     },
     "execution_count": 23,
     "metadata": {},
     "output_type": "execute_result"
    }
   ],
   "source": [
    "X_train.loc[:,'text'] = X_train.apply(generate_prompt,axis = 1)\n",
    "X_train.head()"
   ]
  },
  {
   "cell_type": "code",
   "execution_count": 24,
   "id": "7b31c4c1",
   "metadata": {
    "execution": {
     "iopub.execute_input": "2024-09-22T12:17:29.163082Z",
     "iopub.status.busy": "2024-09-22T12:17:29.162754Z",
     "iopub.status.idle": "2024-09-22T12:17:29.176331Z",
     "shell.execute_reply": "2024-09-22T12:17:29.175370Z"
    },
    "papermill": {
     "duration": 0.035395,
     "end_time": "2024-09-22T12:17:29.178394",
     "exception": false,
     "start_time": "2024-09-22T12:17:29.142999",
     "status": "completed"
    },
    "tags": []
   },
   "outputs": [
    {
     "name": "stderr",
     "output_type": "stream",
     "text": [
      "/tmp/ipykernel_23/1181508762.py:1: SettingWithCopyWarning: \n",
      "A value is trying to be set on a copy of a slice from a DataFrame.\n",
      "Try using .loc[row_indexer,col_indexer] = value instead\n",
      "\n",
      "See the caveats in the documentation: https://pandas.pydata.org/pandas-docs/stable/user_guide/indexing.html#returning-a-view-versus-a-copy\n",
      "  X_val.loc[:,'text'] = X_val.apply(generate_prompt, axis=1)\n"
     ]
    },
    {
     "data": {
      "text/html": [
       "<div>\n",
       "<style scoped>\n",
       "    .dataframe tbody tr th:only-of-type {\n",
       "        vertical-align: middle;\n",
       "    }\n",
       "\n",
       "    .dataframe tbody tr th {\n",
       "        vertical-align: top;\n",
       "    }\n",
       "\n",
       "    .dataframe thead th {\n",
       "        text-align: right;\n",
       "    }\n",
       "</style>\n",
       "<table border=\"1\" class=\"dataframe\">\n",
       "  <thead>\n",
       "    <tr style=\"text-align: right;\">\n",
       "      <th></th>\n",
       "      <th>content</th>\n",
       "      <th>category</th>\n",
       "      <th>text</th>\n",
       "    </tr>\n",
       "  </thead>\n",
       "  <tbody>\n",
       "    <tr>\n",
       "      <th>800</th>\n",
       "      <td>বিএনপির জাতীয় স্থায়ী কমিটির সদস্য মওদুদ আহমদ ব...</td>\n",
       "      <td>bangladesh</td>\n",
       "      <td>Classify the text into bangladesh, sports, tec...</td>\n",
       "    </tr>\n",
       "    <tr>\n",
       "      <th>801</th>\n",
       "      <td>রাজ্যসভার সদস্যপদ ছেড়ে দিয়ে সাবেক দল তৃণমূল কং...</td>\n",
       "      <td>international</td>\n",
       "      <td>Classify the text into bangladesh, sports, tec...</td>\n",
       "    </tr>\n",
       "    <tr>\n",
       "      <th>802</th>\n",
       "      <td>গে্যটে ইনস্টিটিউট মিলনায়তনে গতকাল অস্ট্রেলিয়ান...</td>\n",
       "      <td>entertainment</td>\n",
       "      <td>Classify the text into bangladesh, sports, tec...</td>\n",
       "    </tr>\n",
       "    <tr>\n",
       "      <th>803</th>\n",
       "      <td>আসন্ন পৌর নির্বাচনে ভোটের দিন মানুষ ‘জান লড়ি...</td>\n",
       "      <td>bangladesh</td>\n",
       "      <td>Classify the text into bangladesh, sports, tec...</td>\n",
       "    </tr>\n",
       "    <tr>\n",
       "      <th>804</th>\n",
       "      <td>প্রধানমন্ত্রী শেখ হাসিনা বিএনপি-জামায়াত জোটের ...</td>\n",
       "      <td>bangladesh</td>\n",
       "      <td>Classify the text into bangladesh, sports, tec...</td>\n",
       "    </tr>\n",
       "  </tbody>\n",
       "</table>\n",
       "</div>"
      ],
      "text/plain": [
       "                                               content       category  \\\n",
       "800  বিএনপির জাতীয় স্থায়ী কমিটির সদস্য মওদুদ আহমদ ব...     bangladesh   \n",
       "801  রাজ্যসভার সদস্যপদ ছেড়ে দিয়ে সাবেক দল তৃণমূল কং...  international   \n",
       "802  গে্যটে ইনস্টিটিউট মিলনায়তনে গতকাল অস্ট্রেলিয়ান...  entertainment   \n",
       "803  আসন্ন পৌর নির্বাচনে ভোটের দিন মানুষ ‘জান লড়ি...     bangladesh   \n",
       "804  প্রধানমন্ত্রী শেখ হাসিনা বিএনপি-জামায়াত জোটের ...     bangladesh   \n",
       "\n",
       "                                                  text  \n",
       "800  Classify the text into bangladesh, sports, tec...  \n",
       "801  Classify the text into bangladesh, sports, tec...  \n",
       "802  Classify the text into bangladesh, sports, tec...  \n",
       "803  Classify the text into bangladesh, sports, tec...  \n",
       "804  Classify the text into bangladesh, sports, tec...  "
      ]
     },
     "execution_count": 24,
     "metadata": {},
     "output_type": "execute_result"
    }
   ],
   "source": [
    "X_val.loc[:,'text'] = X_val.apply(generate_prompt, axis=1)\n",
    "X_val.head()"
   ]
  },
  {
   "cell_type": "code",
   "execution_count": 25,
   "id": "a0e3def2",
   "metadata": {
    "execution": {
     "iopub.execute_input": "2024-09-22T12:17:29.218858Z",
     "iopub.status.busy": "2024-09-22T12:17:29.218583Z",
     "iopub.status.idle": "2024-09-22T12:17:29.228468Z",
     "shell.execute_reply": "2024-09-22T12:17:29.227225Z"
    },
    "papermill": {
     "duration": 0.032416,
     "end_time": "2024-09-22T12:17:29.230463",
     "exception": false,
     "start_time": "2024-09-22T12:17:29.198047",
     "status": "completed"
    },
    "tags": []
   },
   "outputs": [
    {
     "data": {
      "text/html": [
       "<div>\n",
       "<style scoped>\n",
       "    .dataframe tbody tr th:only-of-type {\n",
       "        vertical-align: middle;\n",
       "    }\n",
       "\n",
       "    .dataframe tbody tr th {\n",
       "        vertical-align: top;\n",
       "    }\n",
       "\n",
       "    .dataframe thead th {\n",
       "        text-align: right;\n",
       "    }\n",
       "</style>\n",
       "<table border=\"1\" class=\"dataframe\">\n",
       "  <thead>\n",
       "    <tr style=\"text-align: right;\">\n",
       "      <th></th>\n",
       "      <th>content</th>\n",
       "      <th>category</th>\n",
       "    </tr>\n",
       "  </thead>\n",
       "  <tbody>\n",
       "    <tr>\n",
       "      <th>900</th>\n",
       "      <td>১৯৭১ সালের ২৫ মার্চ মধ্যরাতের পর পাকিস্তানি শা...</td>\n",
       "      <td>bangladesh</td>\n",
       "    </tr>\n",
       "    <tr>\n",
       "      <th>901</th>\n",
       "      <td>সুন্দরবন থেকে শিকার করে আনা হরিণের চারটি মাথাস...</td>\n",
       "      <td>bangladesh</td>\n",
       "    </tr>\n",
       "    <tr>\n",
       "      <th>902</th>\n",
       "      <td>বরিশাল-ভোলা-চট্টগ্রাম মহাসড়কে ভোলা সদর উপজেল...</td>\n",
       "      <td>bangladesh</td>\n",
       "    </tr>\n",
       "    <tr>\n",
       "      <th>903</th>\n",
       "      <td>আর তো কয়েক ঘণ্টা! এর পরই সেন্ট ভিনসেন্টের আর্...</td>\n",
       "      <td>sports</td>\n",
       "    </tr>\n",
       "    <tr>\n",
       "      <th>904</th>\n",
       "      <td>তথ্য ও বিনোদনমেনটস বাত্তি জ্বালাওআসিফ এন্তাজ ...</td>\n",
       "      <td>entertainment</td>\n",
       "    </tr>\n",
       "  </tbody>\n",
       "</table>\n",
       "</div>"
      ],
      "text/plain": [
       "                                               content       category\n",
       "900  ১৯৭১ সালের ২৫ মার্চ মধ্যরাতের পর পাকিস্তানি শা...     bangladesh\n",
       "901  সুন্দরবন থেকে শিকার করে আনা হরিণের চারটি মাথাস...     bangladesh\n",
       "902  বরিশাল-ভোলা-চট্টগ্রাম মহাসড়কে ভোলা সদর উপজেল...     bangladesh\n",
       "903  আর তো কয়েক ঘণ্টা! এর পরই সেন্ট ভিনসেন্টের আর্...         sports\n",
       "904  তথ্য ও বিনোদনমেনটস বাত্তি জ্বালাওআসিফ এন্তাজ ...  entertainment"
      ]
     },
     "execution_count": 25,
     "metadata": {},
     "output_type": "execute_result"
    }
   ],
   "source": [
    "X_test.head()"
   ]
  },
  {
   "cell_type": "code",
   "execution_count": 26,
   "id": "71a44ed5",
   "metadata": {
    "execution": {
     "iopub.execute_input": "2024-09-22T12:17:29.271424Z",
     "iopub.status.busy": "2024-09-22T12:17:29.271121Z",
     "iopub.status.idle": "2024-09-22T12:17:29.277445Z",
     "shell.execute_reply": "2024-09-22T12:17:29.276624Z"
    },
    "papermill": {
     "duration": 0.028506,
     "end_time": "2024-09-22T12:17:29.279238",
     "exception": false,
     "start_time": "2024-09-22T12:17:29.250732",
     "status": "completed"
    },
    "tags": []
   },
   "outputs": [],
   "source": [
    "y_true = X_test.loc[:,'category']\n",
    "X_test = pd.DataFrame(X_test.apply(generate_test_prompt, axis = 1), columns = ['text'])"
   ]
  },
  {
   "cell_type": "code",
   "execution_count": 27,
   "id": "28995011",
   "metadata": {
    "execution": {
     "iopub.execute_input": "2024-09-22T12:17:29.319870Z",
     "iopub.status.busy": "2024-09-22T12:17:29.319573Z",
     "iopub.status.idle": "2024-09-22T12:17:29.327848Z",
     "shell.execute_reply": "2024-09-22T12:17:29.326766Z"
    },
    "papermill": {
     "duration": 0.03148,
     "end_time": "2024-09-22T12:17:29.330132",
     "exception": false,
     "start_time": "2024-09-22T12:17:29.298652",
     "status": "completed"
    },
    "tags": []
   },
   "outputs": [
    {
     "data": {
      "text/html": [
       "<div>\n",
       "<style scoped>\n",
       "    .dataframe tbody tr th:only-of-type {\n",
       "        vertical-align: middle;\n",
       "    }\n",
       "\n",
       "    .dataframe tbody tr th {\n",
       "        vertical-align: top;\n",
       "    }\n",
       "\n",
       "    .dataframe thead th {\n",
       "        text-align: right;\n",
       "    }\n",
       "</style>\n",
       "<table border=\"1\" class=\"dataframe\">\n",
       "  <thead>\n",
       "    <tr style=\"text-align: right;\">\n",
       "      <th></th>\n",
       "      <th>text</th>\n",
       "    </tr>\n",
       "  </thead>\n",
       "  <tbody>\n",
       "    <tr>\n",
       "      <th>900</th>\n",
       "      <td>Classify the text into bangladesh, sports, tec...</td>\n",
       "    </tr>\n",
       "    <tr>\n",
       "      <th>901</th>\n",
       "      <td>Classify the text into bangladesh, sports, tec...</td>\n",
       "    </tr>\n",
       "    <tr>\n",
       "      <th>902</th>\n",
       "      <td>Classify the text into bangladesh, sports, tec...</td>\n",
       "    </tr>\n",
       "    <tr>\n",
       "      <th>903</th>\n",
       "      <td>Classify the text into bangladesh, sports, tec...</td>\n",
       "    </tr>\n",
       "    <tr>\n",
       "      <th>904</th>\n",
       "      <td>Classify the text into bangladesh, sports, tec...</td>\n",
       "    </tr>\n",
       "  </tbody>\n",
       "</table>\n",
       "</div>"
      ],
      "text/plain": [
       "                                                  text\n",
       "900  Classify the text into bangladesh, sports, tec...\n",
       "901  Classify the text into bangladesh, sports, tec...\n",
       "902  Classify the text into bangladesh, sports, tec...\n",
       "903  Classify the text into bangladesh, sports, tec...\n",
       "904  Classify the text into bangladesh, sports, tec..."
      ]
     },
     "execution_count": 27,
     "metadata": {},
     "output_type": "execute_result"
    }
   ],
   "source": [
    "X_test.head()"
   ]
  },
  {
   "cell_type": "code",
   "execution_count": 28,
   "id": "8b82f723",
   "metadata": {
    "execution": {
     "iopub.execute_input": "2024-09-22T12:17:29.370882Z",
     "iopub.status.busy": "2024-09-22T12:17:29.370587Z",
     "iopub.status.idle": "2024-09-22T12:17:29.375899Z",
     "shell.execute_reply": "2024-09-22T12:17:29.375030Z"
    },
    "papermill": {
     "duration": 0.027697,
     "end_time": "2024-09-22T12:17:29.377791",
     "exception": false,
     "start_time": "2024-09-22T12:17:29.350094",
     "status": "completed"
    },
    "tags": []
   },
   "outputs": [
    {
     "data": {
      "text/plain": [
       "(100, 3)"
      ]
     },
     "execution_count": 28,
     "metadata": {},
     "output_type": "execute_result"
    }
   ],
   "source": [
    "X_val.shape"
   ]
  },
  {
   "cell_type": "code",
   "execution_count": 29,
   "id": "ea0870cf",
   "metadata": {
    "execution": {
     "iopub.execute_input": "2024-09-22T12:17:29.418632Z",
     "iopub.status.busy": "2024-09-22T12:17:29.418326Z",
     "iopub.status.idle": "2024-09-22T12:17:29.424921Z",
     "shell.execute_reply": "2024-09-22T12:17:29.424017Z"
    },
    "papermill": {
     "duration": 0.029082,
     "end_time": "2024-09-22T12:17:29.426764",
     "exception": false,
     "start_time": "2024-09-22T12:17:29.397682",
     "status": "completed"
    },
    "tags": []
   },
   "outputs": [
    {
     "data": {
      "text/plain": [
       "900       bangladesh\n",
       "901       bangladesh\n",
       "902       bangladesh\n",
       "903           sports\n",
       "904    entertainment\n",
       "Name: category, dtype: object"
      ]
     },
     "execution_count": 29,
     "metadata": {},
     "output_type": "execute_result"
    }
   ],
   "source": [
    "y_true.head()"
   ]
  },
  {
   "cell_type": "code",
   "execution_count": 30,
   "id": "f535ccbc",
   "metadata": {
    "execution": {
     "iopub.execute_input": "2024-09-22T12:17:29.467971Z",
     "iopub.status.busy": "2024-09-22T12:17:29.467665Z",
     "iopub.status.idle": "2024-09-22T12:17:29.475815Z",
     "shell.execute_reply": "2024-09-22T12:17:29.474885Z"
    },
    "papermill": {
     "duration": 0.031341,
     "end_time": "2024-09-22T12:17:29.477936",
     "exception": false,
     "start_time": "2024-09-22T12:17:29.446595",
     "status": "completed"
    },
    "tags": []
   },
   "outputs": [
    {
     "data": {
      "text/html": [
       "<div>\n",
       "<style scoped>\n",
       "    .dataframe tbody tr th:only-of-type {\n",
       "        vertical-align: middle;\n",
       "    }\n",
       "\n",
       "    .dataframe tbody tr th {\n",
       "        vertical-align: top;\n",
       "    }\n",
       "\n",
       "    .dataframe thead th {\n",
       "        text-align: right;\n",
       "    }\n",
       "</style>\n",
       "<table border=\"1\" class=\"dataframe\">\n",
       "  <thead>\n",
       "    <tr style=\"text-align: right;\">\n",
       "      <th></th>\n",
       "      <th>text</th>\n",
       "    </tr>\n",
       "  </thead>\n",
       "  <tbody>\n",
       "    <tr>\n",
       "      <th>900</th>\n",
       "      <td>Classify the text into bangladesh, sports, tec...</td>\n",
       "    </tr>\n",
       "    <tr>\n",
       "      <th>901</th>\n",
       "      <td>Classify the text into bangladesh, sports, tec...</td>\n",
       "    </tr>\n",
       "    <tr>\n",
       "      <th>902</th>\n",
       "      <td>Classify the text into bangladesh, sports, tec...</td>\n",
       "    </tr>\n",
       "    <tr>\n",
       "      <th>903</th>\n",
       "      <td>Classify the text into bangladesh, sports, tec...</td>\n",
       "    </tr>\n",
       "    <tr>\n",
       "      <th>904</th>\n",
       "      <td>Classify the text into bangladesh, sports, tec...</td>\n",
       "    </tr>\n",
       "  </tbody>\n",
       "</table>\n",
       "</div>"
      ],
      "text/plain": [
       "                                                  text\n",
       "900  Classify the text into bangladesh, sports, tec...\n",
       "901  Classify the text into bangladesh, sports, tec...\n",
       "902  Classify the text into bangladesh, sports, tec...\n",
       "903  Classify the text into bangladesh, sports, tec...\n",
       "904  Classify the text into bangladesh, sports, tec..."
      ]
     },
     "execution_count": 30,
     "metadata": {},
     "output_type": "execute_result"
    }
   ],
   "source": [
    "X_test.head()"
   ]
  },
  {
   "cell_type": "code",
   "execution_count": 31,
   "id": "f0145fc0",
   "metadata": {
    "execution": {
     "iopub.execute_input": "2024-09-22T12:17:29.520713Z",
     "iopub.status.busy": "2024-09-22T12:17:29.520417Z",
     "iopub.status.idle": "2024-09-22T12:17:29.528365Z",
     "shell.execute_reply": "2024-09-22T12:17:29.527447Z"
    },
    "papermill": {
     "duration": 0.031193,
     "end_time": "2024-09-22T12:17:29.530426",
     "exception": false,
     "start_time": "2024-09-22T12:17:29.499233",
     "status": "completed"
    },
    "tags": []
   },
   "outputs": [
    {
     "data": {
      "text/plain": [
       "category\n",
       "bangladesh       404\n",
       "sports            91\n",
       "international     66\n",
       "entertainment     66\n",
       "economy           38\n",
       "technology        29\n",
       "opinion           24\n",
       "life-style        20\n",
       "education         17\n",
       "durporobash       12\n",
       "northamerica       8\n",
       "roshalo            8\n",
       "we-are             7\n",
       "onnoalo            4\n",
       "pachmisheli        3\n",
       "bondhushava        2\n",
       "trust              1\n",
       "Name: count, dtype: int64"
      ]
     },
     "execution_count": 31,
     "metadata": {},
     "output_type": "execute_result"
    }
   ],
   "source": [
    "X_train.category.value_counts()"
   ]
  },
  {
   "cell_type": "code",
   "execution_count": 32,
   "id": "d93fe0a2",
   "metadata": {
    "execution": {
     "iopub.execute_input": "2024-09-22T12:17:29.575213Z",
     "iopub.status.busy": "2024-09-22T12:17:29.574923Z",
     "iopub.status.idle": "2024-09-22T12:17:29.582117Z",
     "shell.execute_reply": "2024-09-22T12:17:29.581184Z"
    },
    "papermill": {
     "duration": 0.030416,
     "end_time": "2024-09-22T12:17:29.584270",
     "exception": false,
     "start_time": "2024-09-22T12:17:29.553854",
     "status": "completed"
    },
    "tags": []
   },
   "outputs": [
    {
     "data": {
      "text/plain": [
       "category\n",
       "bangladesh       43\n",
       "sports           21\n",
       "entertainment    11\n",
       "international     8\n",
       "economy           6\n",
       "life-style        4\n",
       "opinion           3\n",
       "northamerica      2\n",
       "technology        1\n",
       "roshalo           1\n",
       "Name: count, dtype: int64"
      ]
     },
     "execution_count": 32,
     "metadata": {},
     "output_type": "execute_result"
    }
   ],
   "source": [
    "y_true.value_counts()"
   ]
  },
  {
   "cell_type": "code",
   "execution_count": 33,
   "id": "6587fdb7",
   "metadata": {
    "execution": {
     "iopub.execute_input": "2024-09-22T12:17:29.627579Z",
     "iopub.status.busy": "2024-09-22T12:17:29.627276Z",
     "iopub.status.idle": "2024-09-22T12:17:29.684633Z",
     "shell.execute_reply": "2024-09-22T12:17:29.683807Z"
    },
    "papermill": {
     "duration": 0.081671,
     "end_time": "2024-09-22T12:17:29.687134",
     "exception": false,
     "start_time": "2024-09-22T12:17:29.605463",
     "status": "completed"
    },
    "tags": []
   },
   "outputs": [],
   "source": [
    "from datasets import Dataset\n",
    "# Convert to datasets\n",
    "train_data = Dataset.from_pandas(X_train[[\"text\"]])\n",
    "val_data = Dataset.from_pandas(X_val[[\"text\"]])"
   ]
  },
  {
   "cell_type": "code",
   "execution_count": 34,
   "id": "fedbc385",
   "metadata": {
    "execution": {
     "iopub.execute_input": "2024-09-22T12:17:29.771719Z",
     "iopub.status.busy": "2024-09-22T12:17:29.770820Z",
     "iopub.status.idle": "2024-09-22T12:17:29.776560Z",
     "shell.execute_reply": "2024-09-22T12:17:29.775620Z"
    },
    "papermill": {
     "duration": 0.068856,
     "end_time": "2024-09-22T12:17:29.778707",
     "exception": false,
     "start_time": "2024-09-22T12:17:29.709851",
     "status": "completed"
    },
    "tags": []
   },
   "outputs": [
    {
     "name": "stdout",
     "output_type": "stream",
     "text": [
      "Dataset({\n",
      "    features: ['text'],\n",
      "    num_rows: 800\n",
      "})\n",
      "Dataset({\n",
      "    features: ['text'],\n",
      "    num_rows: 100\n",
      "})\n"
     ]
    }
   ],
   "source": [
    "print(train_data)\n",
    "print(val_data)"
   ]
  },
  {
   "cell_type": "code",
   "execution_count": 35,
   "id": "0be4a6b2",
   "metadata": {
    "execution": {
     "iopub.execute_input": "2024-09-22T12:17:29.821244Z",
     "iopub.status.busy": "2024-09-22T12:17:29.820888Z",
     "iopub.status.idle": "2024-09-22T12:17:29.838663Z",
     "shell.execute_reply": "2024-09-22T12:17:29.837797Z"
    },
    "papermill": {
     "duration": 0.04127,
     "end_time": "2024-09-22T12:17:29.840742",
     "exception": false,
     "start_time": "2024-09-22T12:17:29.799472",
     "status": "completed"
    },
    "tags": []
   },
   "outputs": [
    {
     "data": {
      "text/plain": [
       "'Classify the text into bangladesh, sports, technology, entertainment,international, economy, life-style, opinion, education and return the answer as the corresponding newpapers news category.\\ntext: মনের মাধুরী দিয়ে অন্যকে সাজিয়ে তোলেন তাঁরা। তাঁদের হাতের সুনিপুণ ছোঁয়ায় আজকের বিয়ের কনে হয়ে ওঠেন অপরূপা। একদিন তাঁদের জীবনেও এসেছিল সেই দিন। সেদিন কেমন সেজেছিলেন তাঁরা? নিজেদের বিয়ের সাজের সেই অনুভূতি নিয়ে বলেছেন তিনজন রূপবিশেষজ্ঞ—গীতি’স বিউটি পারলার অ্যান্ড ট্রেনিং সেন্টারের গীতি বিল্লাহ, পারসোনার কানিজ আলমাস খান এবং ফেমিনা বিউটি পারলার অ্যান্ড হারবাল স্কিন কেয়ারের অঞ্জলী মোস্তফা সাতজন মিলে বেটেছিলেন মেহেদি পাতাগীতি বিল্লাহনতুন বউকে আলাদা করে চেনা যায় তার মেহেদিরাঙা হাতের চুড়ির রিনিঝিনিতে। কনের হাতে মেহেদির নকশা যেন চুপিচুপি কনের মনের কথাই জানান দেয়। আমাদের সময়ে টিউব মেহেদি না থাকাটাই বরং ভালো ছিল। সবাই মিলে দল বেঁধে মেহেদি পাতা তুলতে যাওয়ার মধ্যে একটা আনন্দ ছিল। নিজের বিয়ের সময় কনে পদাধিকার বলে সেই আনন্দ থেকে আমাকে বঞ্চিত করা হয়েছিল। আমার বিয়ের সে মেহেদি পাতা বেটেছিলেন সাতজন বিবাহিত নারী মিলে। মেহেদি বাটার পর আমার ডাক পড়ল। আমার হাতে মেহেদির নকশা করে দেন আমার মা, গাজী রাফিয়া খাতুন। রুপার কাঠিতে চুনের পানি দিয়ে নকশা এঁকে তার ওপর দেওয়া হয়েছিল মেহেদির প্রলেপ। চুনের নকশা কাটা অংশটা বাদে পুরো হাতে টকটকে সুন্দর রং ধরেছিল। মেহেদির এ রংটা অনেক দিন আমাকে নতুন বউ করে রেখেছিল।বিয়েতে আমাকে সাজিয়ে দিয়েছিলেন বড় বোন রূপবিশেষজ্ঞ জেরিনা আজগর। সোনালি সুতার বেনারসি কাতান শাড়ির সঙ্গে মিলিয়ে মেরুন আর সোনালি আভায় কাজল টেনে আপা আমার চোখ সাজিয়েছিলেন। চুলে করে দিয়েছিলেন রিং খোঁপা। সেখানে গুঁজে দেন লাল গোলাপ। কপালে আল্পনা ছাড়া তখন কেমন যেন অপূর্ণ থেকে যেত বিয়ের সাজ। এখন তো আমরা কনেকে আর আল্পনায় সাজাই না। কনেদের আমরা বিয়ের অনেক দিন আগে থেকেই সুন্দরভাবে উপস্থাপনের জন্য প্রস্তুতি নিয়ে থাকি। আমার বিয়ের সময় এ গুরুদায়িত্বটা ছিল আমার মায়ের ওপরই। তখন আমি বেশ পাতলা গড়নের ছিলাম। চিকন-পাতলা মেয়েটির ছিল মাথাভর্তি ঘন কালো চুল। মা আমার চুলে সব সময় সোন্দা ও মেথি বাটা লাগিয়ে দিতেন। এতে চুল মিষ্টি একটা ঘ্রাণ ছড়াত। আমার শাশুড়ি আমাকে না দেখলেও ওই গন্ধে নাকি টের পেতেন ‘গীতি আসছে’। বিয়ের পর এটা জেনে খুব মজা পেয়েছি!বেনারসি আর লাল টিপ যেন চিরায়ত বধূবেশকানিজ আলমাস খানপরনে লাল বেনারসি আর কপালে লাল টিপ। এ দুইয়ে মিলেই যেন বাঙালি নারীর চিরায়ত বধূবেশ। আজকের আধুনিক কনেও এ সাজে মানিয়ে যায় খুব সহজেই। আমার বিয়ের সাজও ছিল অনেকটা সে রকম। আমি সেজেছিলাম তখনকার বিউটি পারলার জেরিনা আজগরের লিভিং ডলে, সাজিয়ে ছিলেন গীতি বিল্লাহ। আমাদের সময়ের বিয়ের সাজে চল ছিল একটু চড়া মেকআপের। কনের চুলটা সামনের দিকে ফুলিয়ে পেছনে একটা সুন্দর খোঁপা করা হতো। কপালে করা হতো কুমকুমের আলপনা। সোনালি আর মেরুনে সাজানো হতো চোখ। নিরেট সোনার গয়নার এ সাজে খুব সহজেই চেনা যেত আমাদের সময়ের কনেদের। আমার বিয়ের সাজের কিছুটা কৃতিত্ব আমার বন্ধু মুনিয়া, ফারজানাদেরও দেওয়া উচিত। পারলার থেকে সেজে আসার পর আমার সাজ সুন্দর রাখার সার্বক্ষণিক দায়িত্বে ছিল মুনিয়া। আমার বৌভাতের অনুষ্ঠানে আমি সেজেছিলাম গুলশানের হংকং বিউটি পারলার থেকে।এই সময়ের কনের সাজ অনেক বেশি বৈচিত্র্যময়। বিয়ের শাড়ি ও সাজে এখন চিরায়ত লাল-মেরুনের সঙ্গে যোগ হয়েছে গোলাপি, আকাশি, সবুজ, নীল, কমলা, সাদা, সোনালি। বিয়ের গয়নার নকশা ও রঙে বৈচিত্র্য এসেছে। মেকআপটা এখন জমকালো হলেও চড়া নয়। চোখের সাজে যোগ হয়েছে স্মোকি ভাব। কনের চুলেরও এখন নানা সাজ। আমাদের সময়ের বিয়ের সাজটা নির্ভর করত যাঁরা সাজাতেন, তাঁদের ওপর। এখন আমরা কনের পছন্দ-অপছন্দকে বেশি গুরুত্ব দিই। সাজানোর আগে তাকে কোন সাজে ভালো দেখাবে, তা নিয়ে তার সঙ্গে আলোচনা করি। প্রয়োজনে তাকে রিহার্সালেরও সুযোগ দিই। বিয়ের দিন সুন্দর সাজে সাজিয়ে তোলা কনেটি যেন আয়নায় দাঁড়িয়ে নিজেকে পৃথিবীর সবচেয়ে সুন্দরী হিসেবে খুঁজে পায়।আজও আছে লাল বেনারসির সোনালি জরিঅঞ্জলী মোস্তফাবিয়ের সাজটি মানুষ সারা জীবন ধরে রাখে। মনের ফ্রেমে বন্দী সেই মুখখানি কখনোই যেন পুরোনো হয় না। যখনই আমি কনে সাজাই, তখন এ বিষয়টি খেয়াল রাখি। যতভাবে তাকে সুন্দর করে তোলা যায়! আমি শিল্পী মানুষ। গানের জগতে মজে থাকি বলেই হয়তো আমার মনটা শৈল্পিক। নিজে যেমন সাজতে ভালোবাসি, তেমনি অন্যকেও সাজাতে ভালোবাসি। আমার মনের সব মাধুরী ঢেলে আমি কনে সাজাই। সুন্দর একটা সাজ আমাকে অনেক বেশি ভালোলাগা দেয়।আমাদের সময়ে অর্থাৎ সত্তরের দশকের কনে সাজ ছিল কমনীয় ও ঘরোয়া। কনের চোখে-মুখে ফুটে উঠত লাবণ্য। এ সাজের আরেক নাম দেওয়া যায় শৌখিন সাজ। গায়ে হলুদের দিন আমাকে সাজিয়ে দিয়েছিলেন আমার জেনি খালা। হলুদের দিন আমি পরেছিলাম ফুলের গয়না। বিয়ের সাজ করেছিলাম সেই সময়ে ধানমন্ডি ৫ নম্বর সড়কের চীনা বিউটি পারলার মে ফেয়ার থেকে। লাল বেনারসি কাতান আর নিরেট সোনার গয়না আর লাল টিপে ছিল আমার কনে সাজ। বিয়ের কনের চুলের সাজে আমাদের সময় রিং খোঁপা খুব জনপ্রিয় ছিল। তখন সাজানোর উপাদান ছিল কম, তবে সাজটা ছিল ছিমছাম। সে তুলনায় অবশ্য এখনকার সাজ অনেক বেশি জমকালো। এখনকার সাজটাকে দক্ষ হাতের পরিচ্ছন্ন সাজ বলা চলে। মেকআপের মাধ্যমে এখন মুখাবয়ব তৈরি করে নেওয়া যায়। ঢেকে দেওয়া যায় ছোটখাটো খুঁত। এখনকার কনে সাজ হয় হাল ফ্যাশনের সঙ্গে মিলিয়ে। তবু আজও পুরোনো হয়ে যায়নি লাল বেনারসির সোনালি জরি!অনুলিখন: তাওহিদা জাহান\\nlabel: life-style'"
      ]
     },
     "execution_count": 35,
     "metadata": {},
     "output_type": "execute_result"
    }
   ],
   "source": [
    "train_data['text'][3]"
   ]
  },
  {
   "cell_type": "code",
   "execution_count": 36,
   "id": "3bcc26c9",
   "metadata": {
    "execution": {
     "iopub.execute_input": "2024-09-22T12:17:29.884767Z",
     "iopub.status.busy": "2024-09-22T12:17:29.883936Z",
     "iopub.status.idle": "2024-09-22T12:19:18.435628Z",
     "shell.execute_reply": "2024-09-22T12:19:18.434507Z"
    },
    "papermill": {
     "duration": 108.576111,
     "end_time": "2024-09-22T12:19:18.438055",
     "exception": false,
     "start_time": "2024-09-22T12:17:29.861944",
     "status": "completed"
    },
    "tags": []
   },
   "outputs": [
    {
     "data": {
      "application/vnd.jupyter.widget-view+json": {
       "model_id": "5a1e4bacb86149359de37402104014aa",
       "version_major": 2,
       "version_minor": 0
      },
      "text/plain": [
       "Loading checkpoint shards:   0%|          | 0/4 [00:00<?, ?it/s]"
      ]
     },
     "metadata": {},
     "output_type": "display_data"
    }
   ],
   "source": [
    "base_model_name = '/kaggle/input/llama-3.1/transformers/8b-instruct/1'\n",
    "\n",
    "bnb_config = BitsAndBytesConfig(\n",
    "    load_in_4bit = True,\n",
    "    bnb_4bit_use_double_quant = False,\n",
    "    bnb_4bit_quant_type = 'nf4',\n",
    "    llm_int8_enable_fp32_cpu_offload=True,\n",
    "    bnb_4bit_compute_dtype = 'float16')\n",
    "\n",
    "\n",
    "model = AutoModelForCausalLM.from_pretrained(\n",
    "    base_model_name,\n",
    "    device_map=\"auto\",\n",
    "    torch_dtype=torch.float16,\n",
    "    quantization_config=bnb_config, \n",
    ")\n",
    "\n",
    "model.config._use_cache = False\n",
    "model.config.pretaining_tp = 1"
   ]
  },
  {
   "cell_type": "code",
   "execution_count": 37,
   "id": "c64e4e13",
   "metadata": {
    "execution": {
     "iopub.execute_input": "2024-09-22T12:19:18.481792Z",
     "iopub.status.busy": "2024-09-22T12:19:18.481435Z",
     "iopub.status.idle": "2024-09-22T12:19:18.487248Z",
     "shell.execute_reply": "2024-09-22T12:19:18.486319Z"
    },
    "papermill": {
     "duration": 0.029628,
     "end_time": "2024-09-22T12:19:18.489115",
     "exception": false,
     "start_time": "2024-09-22T12:19:18.459487",
     "status": "completed"
    },
    "tags": []
   },
   "outputs": [
    {
     "data": {
      "text/plain": [
       "'input_ids = input_ids.to(torch.float16)\\nattention_mask = attention_mask.to(torch.float16)'"
      ]
     },
     "execution_count": 37,
     "metadata": {},
     "output_type": "execute_result"
    }
   ],
   "source": [
    "'''input_ids = input_ids.to(torch.float16)\n",
    "attention_mask = attention_mask.to(torch.float16)'''"
   ]
  },
  {
   "cell_type": "code",
   "execution_count": 38,
   "id": "97ebc707",
   "metadata": {
    "execution": {
     "iopub.execute_input": "2024-09-22T12:19:18.532164Z",
     "iopub.status.busy": "2024-09-22T12:19:18.531856Z",
     "iopub.status.idle": "2024-09-22T12:19:19.112163Z",
     "shell.execute_reply": "2024-09-22T12:19:19.110855Z"
    },
    "papermill": {
     "duration": 0.604535,
     "end_time": "2024-09-22T12:19:19.114456",
     "exception": false,
     "start_time": "2024-09-22T12:19:18.509921",
     "status": "completed"
    },
    "tags": []
   },
   "outputs": [],
   "source": [
    "tokenizer = AutoTokenizer.from_pretrained(base_model_name)\n",
    "tokenizer.pad_token_id  = tokenizer.eos_token_id"
   ]
  },
  {
   "cell_type": "code",
   "execution_count": 39,
   "id": "5f8599e6",
   "metadata": {
    "execution": {
     "iopub.execute_input": "2024-09-22T12:19:19.158680Z",
     "iopub.status.busy": "2024-09-22T12:19:19.158331Z",
     "iopub.status.idle": "2024-09-22T12:19:19.164035Z",
     "shell.execute_reply": "2024-09-22T12:19:19.163148Z"
    },
    "papermill": {
     "duration": 0.029895,
     "end_time": "2024-09-22T12:19:19.166001",
     "exception": false,
     "start_time": "2024-09-22T12:19:19.136106",
     "status": "completed"
    },
    "tags": []
   },
   "outputs": [
    {
     "data": {
      "text/plain": [
       "'model = model.to(torch.float16)'"
      ]
     },
     "execution_count": 39,
     "metadata": {},
     "output_type": "execute_result"
    }
   ],
   "source": [
    "'''model = model.to(torch.float16)'''"
   ]
  },
  {
   "cell_type": "code",
   "execution_count": 40,
   "id": "60d528df",
   "metadata": {
    "execution": {
     "iopub.execute_input": "2024-09-22T12:19:19.209557Z",
     "iopub.status.busy": "2024-09-22T12:19:19.209260Z",
     "iopub.status.idle": "2024-09-22T12:19:19.216593Z",
     "shell.execute_reply": "2024-09-22T12:19:19.215791Z"
    },
    "papermill": {
     "duration": 0.03135,
     "end_time": "2024-09-22T12:19:19.218414",
     "exception": false,
     "start_time": "2024-09-22T12:19:19.187064",
     "status": "completed"
    },
    "tags": []
   },
   "outputs": [],
   "source": [
    "def predict(test,model,tokenizer):\n",
    "    y_pred = []\n",
    "    categories = ['bangladesh', 'sports', 'technology', 'entertainment',\n",
    "       'international', 'economy', 'life-style', 'opinion', 'education']\n",
    "\n",
    "\n",
    "    \n",
    "    for i in tqdm(range(len(test))):\n",
    "        prompt = test.iloc[i][\"text\"]\n",
    "        pipe = pipeline(task=\"text-generation\", \n",
    "                        model=model, \n",
    "                        tokenizer=tokenizer, \n",
    "                        max_new_tokens=2, \n",
    "                        temperature=0.1,\n",
    "                        torch_dtype=torch.float16)\n",
    "        \n",
    "        result = pipe(prompt)\n",
    "        answer = result[0]['generated_text'].split(\"label:\")[-1].strip()\n",
    "        \n",
    "        # Determine the predicted category\n",
    "        for category in categories:\n",
    "            if category.lower() in answer.lower():\n",
    "                y_pred.append(category)\n",
    "                break\n",
    "        else:\n",
    "            y_pred.append(\"none\")\n",
    "    \n",
    "    return y_pred"
   ]
  },
  {
   "cell_type": "code",
   "execution_count": 41,
   "id": "6b52e8c5",
   "metadata": {
    "execution": {
     "iopub.execute_input": "2024-09-22T12:19:19.261734Z",
     "iopub.status.busy": "2024-09-22T12:19:19.261421Z",
     "iopub.status.idle": "2024-09-22T12:28:33.154511Z",
     "shell.execute_reply": "2024-09-22T12:28:33.153423Z"
    },
    "papermill": {
     "duration": 553.917254,
     "end_time": "2024-09-22T12:28:33.156836",
     "exception": false,
     "start_time": "2024-09-22T12:19:19.239582",
     "status": "completed"
    },
    "tags": []
   },
   "outputs": [
    {
     "name": "stderr",
     "output_type": "stream",
     "text": [
      "100%|██████████| 100/100 [09:13<00:00,  5.54s/it]\n"
     ]
    }
   ],
   "source": [
    "y_pred = predict(X_test, model, tokenizer)"
   ]
  },
  {
   "cell_type": "code",
   "execution_count": 42,
   "id": "089eed6d",
   "metadata": {
    "execution": {
     "iopub.execute_input": "2024-09-22T12:28:33.217793Z",
     "iopub.status.busy": "2024-09-22T12:28:33.217463Z",
     "iopub.status.idle": "2024-09-22T12:28:33.227386Z",
     "shell.execute_reply": "2024-09-22T12:28:33.226494Z"
    },
    "papermill": {
     "duration": 0.043194,
     "end_time": "2024-09-22T12:28:33.229325",
     "exception": false,
     "start_time": "2024-09-22T12:28:33.186131",
     "status": "completed"
    },
    "tags": []
   },
   "outputs": [],
   "source": [
    "def evaluate(y_true, y_pred):\n",
    "    labels = ['bangladesh', 'sports', 'technology', 'entertainment',\n",
    "       'international', 'economy', 'life-style', 'opinion', 'education']\n",
    "    mapping = {label: idx for idx, label in enumerate(labels)}\n",
    "    \n",
    "    def map_func(x):\n",
    "        return mapping.get(x, -1)  # Map to -1 if not found, but should not occur with correct data\n",
    "    \n",
    "    y_true_mapped = np.vectorize(map_func)(y_true)\n",
    "    y_pred_mapped = np.vectorize(map_func)(y_pred)\n",
    "    \n",
    "    # Calculate accuracy\n",
    "    accuracy = accuracy_score(y_true=y_true_mapped, y_pred=y_pred_mapped)\n",
    "    print(f'Accuracy: {accuracy:.3f}')\n",
    "    \n",
    "    # Generate accuracy report\n",
    "    unique_labels = set(y_true_mapped)  # Get unique labels\n",
    "    \n",
    "    for label in unique_labels:\n",
    "        label_indices = [i for i in range(len(y_true_mapped)) if y_true_mapped[i] == label]\n",
    "        label_y_true = [y_true_mapped[i] for i in label_indices]\n",
    "        label_y_pred = [y_pred_mapped[i] for i in label_indices]\n",
    "        label_accuracy = accuracy_score(label_y_true, label_y_pred)\n",
    "        print(f'Accuracy for label {labels[label]}: {label_accuracy:.3f}')\n",
    "        \n",
    "    # Generate classification report\n",
    "    class_report = classification_report(y_true=y_true_mapped, y_pred=y_pred_mapped, target_names=labels, labels=list(range(len(labels))))\n",
    "    print('\\nClassification Report:')\n",
    "    print(class_report)\n",
    "    \n",
    "    # Generate confusion matrix\n",
    "    conf_matrix = confusion_matrix(y_true=y_true_mapped, y_pred=y_pred_mapped, labels=list(range(len(labels))))\n",
    "    print('\\nConfusion Matrix:')\n",
    "    print(conf_matrix)"
   ]
  },
  {
   "cell_type": "code",
   "execution_count": 43,
   "id": "50c34517",
   "metadata": {
    "execution": {
     "iopub.execute_input": "2024-09-22T12:28:33.288190Z",
     "iopub.status.busy": "2024-09-22T12:28:33.287852Z",
     "iopub.status.idle": "2024-09-22T12:28:33.316341Z",
     "shell.execute_reply": "2024-09-22T12:28:33.315082Z"
    },
    "papermill": {
     "duration": 0.060549,
     "end_time": "2024-09-22T12:28:33.318431",
     "exception": false,
     "start_time": "2024-09-22T12:28:33.257882",
     "status": "completed"
    },
    "tags": []
   },
   "outputs": [
    {
     "name": "stdout",
     "output_type": "stream",
     "text": [
      "Accuracy: 0.490\n",
      "Accuracy for label bangladesh: 0.605\n",
      "Accuracy for label sports: 0.476\n",
      "Accuracy for label technology: 1.000\n",
      "Accuracy for label entertainment: 0.091\n",
      "Accuracy for label international: 0.500\n",
      "Accuracy for label economy: 0.500\n",
      "Accuracy for label life-style: 1.000\n",
      "Accuracy for label opinion: 0.000\n",
      "Accuracy for label education: 0.000\n",
      "\n",
      "Classification Report:\n",
      "               precision    recall  f1-score   support\n",
      "\n",
      "   bangladesh       0.59      0.60      0.60        43\n",
      "       sports       1.00      0.48      0.65        21\n",
      "   technology       1.00      1.00      1.00         1\n",
      "entertainment       1.00      0.09      0.17        11\n",
      "international       0.40      0.50      0.44         8\n",
      "      economy       0.75      0.50      0.60         6\n",
      "   life-style       0.29      1.00      0.44         4\n",
      "      opinion       0.00      0.00      0.00         3\n",
      "    education       0.00      0.00      0.00         0\n",
      "\n",
      "    micro avg       0.53      0.51      0.52        97\n",
      "    macro avg       0.56      0.46      0.43        97\n",
      " weighted avg       0.69      0.51      0.53        97\n",
      "\n",
      "\n",
      "Confusion Matrix:\n",
      "[[26  0  0  0  1  1  5  5  2]\n",
      " [ 7 10  0  0  4  0  0  0  0]\n",
      " [ 0  0  1  0  0  0  0  0  0]\n",
      " [ 2  0  0  1  0  0  3  1  0]\n",
      " [ 2  0  0  0  4  0  1  1  0]\n",
      " [ 3  0  0  0  0  3  0  0  0]\n",
      " [ 0  0  0  0  0  0  4  0  0]\n",
      " [ 2  0  0  0  1  0  0  0  0]\n",
      " [ 0  0  0  0  0  0  0  0  0]]\n"
     ]
    },
    {
     "name": "stderr",
     "output_type": "stream",
     "text": [
      "/opt/conda/lib/python3.10/site-packages/sklearn/metrics/_classification.py:1344: UndefinedMetricWarning: Recall and F-score are ill-defined and being set to 0.0 in labels with no true samples. Use `zero_division` parameter to control this behavior.\n",
      "  _warn_prf(average, modifier, msg_start, len(result))\n",
      "/opt/conda/lib/python3.10/site-packages/sklearn/metrics/_classification.py:1344: UndefinedMetricWarning: Recall and F-score are ill-defined and being set to 0.0 in labels with no true samples. Use `zero_division` parameter to control this behavior.\n",
      "  _warn_prf(average, modifier, msg_start, len(result))\n",
      "/opt/conda/lib/python3.10/site-packages/sklearn/metrics/_classification.py:1344: UndefinedMetricWarning: Recall and F-score are ill-defined and being set to 0.0 in labels with no true samples. Use `zero_division` parameter to control this behavior.\n",
      "  _warn_prf(average, modifier, msg_start, len(result))\n"
     ]
    }
   ],
   "source": [
    "evaluate(y_true, y_pred)"
   ]
  },
  {
   "cell_type": "code",
   "execution_count": 44,
   "id": "7df77079",
   "metadata": {
    "execution": {
     "iopub.execute_input": "2024-09-22T12:28:33.379669Z",
     "iopub.status.busy": "2024-09-22T12:28:33.379116Z",
     "iopub.status.idle": "2024-09-22T12:28:33.385065Z",
     "shell.execute_reply": "2024-09-22T12:28:33.384173Z"
    },
    "papermill": {
     "duration": 0.037964,
     "end_time": "2024-09-22T12:28:33.387017",
     "exception": false,
     "start_time": "2024-09-22T12:28:33.349053",
     "status": "completed"
    },
    "tags": []
   },
   "outputs": [],
   "source": [
    "import bitsandbytes as bnb\n",
    "\n",
    "def find_all_linear_names(model):\n",
    "    cls = bnb.nn.Linear4bit\n",
    "    lora_module_names = set()\n",
    "    for name, module in model.named_modules():\n",
    "        if isinstance(module, cls):\n",
    "            names = name.split('.')\n",
    "            lora_module_names.add(names[0] if len(names) == 1 else names[-1])\n",
    "    if 'lm_head' in lora_module_names:  # needed for 16 bit\n",
    "        lora_module_names.remove('lm_head')\n",
    "    return list(lora_module_names)"
   ]
  },
  {
   "cell_type": "code",
   "execution_count": 45,
   "id": "76e684bc",
   "metadata": {
    "execution": {
     "iopub.execute_input": "2024-09-22T12:28:33.447229Z",
     "iopub.status.busy": "2024-09-22T12:28:33.446900Z",
     "iopub.status.idle": "2024-09-22T12:28:33.454185Z",
     "shell.execute_reply": "2024-09-22T12:28:33.453371Z"
    },
    "papermill": {
     "duration": 0.039267,
     "end_time": "2024-09-22T12:28:33.456143",
     "exception": false,
     "start_time": "2024-09-22T12:28:33.416876",
     "status": "completed"
    },
    "tags": []
   },
   "outputs": [
    {
     "data": {
      "text/plain": [
       "['gate_proj', 'v_proj', 'up_proj', 'k_proj', 'down_proj', 'q_proj', 'o_proj']"
      ]
     },
     "execution_count": 45,
     "metadata": {},
     "output_type": "execute_result"
    }
   ],
   "source": [
    "modules = find_all_linear_names(model)\n",
    "modules"
   ]
  },
  {
   "cell_type": "code",
   "execution_count": 46,
   "id": "21ca2e67",
   "metadata": {
    "execution": {
     "iopub.execute_input": "2024-09-22T12:28:33.515522Z",
     "iopub.status.busy": "2024-09-22T12:28:33.515229Z",
     "iopub.status.idle": "2024-09-22T12:28:36.173056Z",
     "shell.execute_reply": "2024-09-22T12:28:36.171999Z"
    },
    "papermill": {
     "duration": 2.689937,
     "end_time": "2024-09-22T12:28:36.175055",
     "exception": false,
     "start_time": "2024-09-22T12:28:33.485118",
     "status": "completed"
    },
    "tags": []
   },
   "outputs": [
    {
     "name": "stderr",
     "output_type": "stream",
     "text": [
      "/opt/conda/lib/python3.10/site-packages/huggingface_hub/utils/_deprecation.py:100: FutureWarning: Deprecated argument(s) used in '__init__': dataset_text_field, max_seq_length, dataset_kwargs. Will not be supported from version '1.0.0'.\n",
      "\n",
      "Deprecated positional argument(s) used in SFTTrainer, please use the SFTConfig to set these arguments instead.\n",
      "  warnings.warn(message, FutureWarning)\n",
      "/opt/conda/lib/python3.10/site-packages/trl/trainer/sft_trainer.py:283: UserWarning: You passed a `max_seq_length` argument to the SFTTrainer, the value you passed will override the one in the `SFTConfig`.\n",
      "  warnings.warn(\n",
      "/opt/conda/lib/python3.10/site-packages/trl/trainer/sft_trainer.py:321: UserWarning: You passed a `dataset_text_field` argument to the SFTTrainer, the value you passed will override the one in the `SFTConfig`.\n",
      "  warnings.warn(\n",
      "/opt/conda/lib/python3.10/site-packages/trl/trainer/sft_trainer.py:327: UserWarning: You passed a `dataset_kwargs` argument to the SFTTrainer, the value you passed will override the one in the `SFTConfig`.\n",
      "  warnings.warn(\n"
     ]
    },
    {
     "data": {
      "application/vnd.jupyter.widget-view+json": {
       "model_id": "ddfe4269c41344b3a6014d3d333b2916",
       "version_major": 2,
       "version_minor": 0
      },
      "text/plain": [
       "Map:   0%|          | 0/800 [00:00<?, ? examples/s]"
      ]
     },
     "metadata": {},
     "output_type": "display_data"
    },
    {
     "data": {
      "application/vnd.jupyter.widget-view+json": {
       "model_id": "596b34534cf7415d920bd6087382d1e0",
       "version_major": 2,
       "version_minor": 0
      },
      "text/plain": [
       "Map:   0%|          | 0/100 [00:00<?, ? examples/s]"
      ]
     },
     "metadata": {},
     "output_type": "display_data"
    },
    {
     "name": "stderr",
     "output_type": "stream",
     "text": [
      "/opt/conda/lib/python3.10/site-packages/accelerate/accelerator.py:494: FutureWarning: `torch.cuda.amp.GradScaler(args...)` is deprecated. Please use `torch.amp.GradScaler('cuda', args...)` instead.\n",
      "  self.scaler = torch.cuda.amp.GradScaler(**kwargs)\n"
     ]
    }
   ],
   "source": [
    "output_dir=\"llama-3.1 8b model\"\n",
    "\n",
    "peft_config = LoraConfig(\n",
    "    lora_alpha=16,\n",
    "    lora_dropout=0,\n",
    "    r=16,\n",
    "    bias=\"none\",\n",
    "    task_type=\"CAUSAL_LM\",\n",
    "    target_modules=modules,\n",
    ")\n",
    "\n",
    "training_arguments = TrainingArguments(\n",
    "    output_dir=output_dir,                    # directory to save and repository id\n",
    "    num_train_epochs=1,                       # number of training epochs\n",
    "    per_device_train_batch_size=1,            # batch size per device during training\n",
    "    gradient_accumulation_steps=8,            # number of steps before performing a backward/update pass\n",
    "    gradient_checkpointing=True,              # use gradient checkpointing to save memory\n",
    "    optim=\"paged_adamw_32bit\",\n",
    "    logging_steps=1,                         \n",
    "    learning_rate=2e-4,                       # learning rate, based on QLoRA paper\n",
    "    weight_decay=0.001,\n",
    "    fp16=True,\n",
    "    bf16=False,\n",
    "    max_grad_norm=0.3,                        # max gradient norm based on QLoRA paper\n",
    "    max_steps=-1,\n",
    "    warmup_ratio=0.03,                        # warmup ratio based on QLoRA paper\n",
    "    group_by_length=False,\n",
    "    lr_scheduler_type=\"cosine\",               # use cosine learning rate scheduler\n",
    "    report_to=\"wandb\",                  # report metrics to w&b\n",
    "    eval_strategy=\"steps\",              # save checkpoint every epoch\n",
    "    eval_steps = 0.2\n",
    ")\n",
    "\n",
    "trainer = SFTTrainer(\n",
    "    model=model,\n",
    "    args=training_arguments,\n",
    "    train_dataset=train_data,\n",
    "    eval_dataset=val_data,\n",
    "    peft_config=peft_config,\n",
    "    dataset_text_field=\"text\",\n",
    "    tokenizer=tokenizer,\n",
    "    max_seq_length=256,\n",
    "    packing=False,\n",
    "    dataset_kwargs={\n",
    "    \"add_special_tokens\": False,\n",
    "    \"append_concat_token\": False,\n",
    "    }\n",
    ")"
   ]
  },
  {
   "cell_type": "code",
   "execution_count": 47,
   "id": "cbc323a4",
   "metadata": {
    "execution": {
     "iopub.execute_input": "2024-09-22T12:28:36.237286Z",
     "iopub.status.busy": "2024-09-22T12:28:36.236984Z",
     "iopub.status.idle": "2024-09-22T13:06:00.632816Z",
     "shell.execute_reply": "2024-09-22T13:06:00.631788Z"
    },
    "papermill": {
     "duration": 2244.430395,
     "end_time": "2024-09-22T13:06:00.636211",
     "exception": false,
     "start_time": "2024-09-22T12:28:36.205816",
     "status": "completed"
    },
    "tags": []
   },
   "outputs": [
    {
     "name": "stderr",
     "output_type": "stream",
     "text": [
      "\u001b[34m\u001b[1mwandb\u001b[0m: \u001b[33mWARNING\u001b[0m The `run_name` is currently set to the same value as `TrainingArguments.output_dir`. If this was not intended, please specify a different run name by setting the `TrainingArguments.run_name` parameter.\n",
      "`use_cache=True` is incompatible with gradient checkpointing. Setting `use_cache=False`.\n",
      "/opt/conda/lib/python3.10/site-packages/torch/_dynamo/eval_frame.py:600: UserWarning: torch.utils.checkpoint: the use_reentrant parameter should be passed explicitly. In version 2.4 we will raise an exception if use_reentrant is not passed. use_reentrant=False is recommended, but if you need to preserve the current default behavior, you can pass use_reentrant=True. Refer to docs for more details on the differences between the two variants.\n",
      "  return fn(*args, **kwargs)\n",
      "/opt/conda/lib/python3.10/site-packages/torch/utils/checkpoint.py:295: FutureWarning: `torch.cpu.amp.autocast(args...)` is deprecated. Please use `torch.amp.autocast('cpu', args...)` instead.\n",
      "  with torch.enable_grad(), device_autocast_ctx, torch.cpu.amp.autocast(**ctx.cpu_autocast_kwargs):  # type: ignore[attr-defined]\n"
     ]
    },
    {
     "data": {
      "text/html": [
       "\n",
       "    <div>\n",
       "      \n",
       "      <progress value='100' max='100' style='width:300px; height:20px; vertical-align: middle;'></progress>\n",
       "      [100/100 37:03, Epoch 1/1]\n",
       "    </div>\n",
       "    <table border=\"1\" class=\"dataframe\">\n",
       "  <thead>\n",
       " <tr style=\"text-align: left;\">\n",
       "      <th>Step</th>\n",
       "      <th>Training Loss</th>\n",
       "      <th>Validation Loss</th>\n",
       "    </tr>\n",
       "  </thead>\n",
       "  <tbody>\n",
       "    <tr>\n",
       "      <td>20</td>\n",
       "      <td>0.687700</td>\n",
       "      <td>0.677686</td>\n",
       "    </tr>\n",
       "    <tr>\n",
       "      <td>40</td>\n",
       "      <td>0.669100</td>\n",
       "      <td>0.657576</td>\n",
       "    </tr>\n",
       "    <tr>\n",
       "      <td>60</td>\n",
       "      <td>0.631100</td>\n",
       "      <td>0.649097</td>\n",
       "    </tr>\n",
       "    <tr>\n",
       "      <td>80</td>\n",
       "      <td>0.691800</td>\n",
       "      <td>0.643430</td>\n",
       "    </tr>\n",
       "    <tr>\n",
       "      <td>100</td>\n",
       "      <td>0.663400</td>\n",
       "      <td>0.642030</td>\n",
       "    </tr>\n",
       "  </tbody>\n",
       "</table><p>"
      ],
      "text/plain": [
       "<IPython.core.display.HTML object>"
      ]
     },
     "metadata": {},
     "output_type": "display_data"
    },
    {
     "name": "stderr",
     "output_type": "stream",
     "text": [
      "We detected that you are passing `past_key_values` as a tuple and this is deprecated and will be removed in v4.43. Please use an appropriate `Cache` class (https://huggingface.co/docs/transformers/v4.41.3/en/internal/generation_utils#transformers.Cache)\n"
     ]
    },
    {
     "data": {
      "text/plain": [
       "TrainOutput(global_step=100, training_loss=0.7255406033992767, metrics={'train_runtime': 2243.4507, 'train_samples_per_second': 0.357, 'train_steps_per_second': 0.045, 'total_flos': 9271372265398272.0, 'train_loss': 0.7255406033992767, 'epoch': 1.0})"
      ]
     },
     "execution_count": 47,
     "metadata": {},
     "output_type": "execute_result"
    }
   ],
   "source": [
    "# Train model\n",
    "trainer.train()"
   ]
  },
  {
   "cell_type": "code",
   "execution_count": 48,
   "id": "84d15523",
   "metadata": {
    "execution": {
     "iopub.execute_input": "2024-09-22T13:06:00.732409Z",
     "iopub.status.busy": "2024-09-22T13:06:00.731663Z",
     "iopub.status.idle": "2024-09-22T13:06:08.228612Z",
     "shell.execute_reply": "2024-09-22T13:06:08.227873Z"
    },
    "papermill": {
     "duration": 7.539118,
     "end_time": "2024-09-22T13:06:08.230672",
     "exception": false,
     "start_time": "2024-09-22T13:06:00.691554",
     "status": "completed"
    },
    "tags": []
   },
   "outputs": [
    {
     "name": "stderr",
     "output_type": "stream",
     "text": [
      "\u001b[34m\u001b[1mwandb\u001b[0m:                                                                                \n",
      "\u001b[34m\u001b[1mwandb\u001b[0m: \n",
      "\u001b[34m\u001b[1mwandb\u001b[0m: Run history:\n",
      "\u001b[34m\u001b[1mwandb\u001b[0m:               eval/loss █▄▂▁▁\n",
      "\u001b[34m\u001b[1mwandb\u001b[0m:            eval/runtime █▂▆▁▇\n",
      "\u001b[34m\u001b[1mwandb\u001b[0m: eval/samples_per_second ▁▁▁▁▁\n",
      "\u001b[34m\u001b[1mwandb\u001b[0m:   eval/steps_per_second ▁▁▁▁▁\n",
      "\u001b[34m\u001b[1mwandb\u001b[0m:             train/epoch ▁▁▁▂▂▂▂▂▂▃▃▃▃▃▄▄▄▄▄▄▅▅▅▅▅▆▆▆▆▆▆▇▇▇▇▇████\n",
      "\u001b[34m\u001b[1mwandb\u001b[0m:       train/global_step ▁▁▁▂▂▂▂▂▂▃▃▃▃▃▄▄▄▄▄▄▅▅▅▅▅▆▆▆▆▆▆▇▇▇▇▇████\n",
      "\u001b[34m\u001b[1mwandb\u001b[0m:         train/grad_norm ▂▁▂█▁▂▂▂▁▂▁▁▁▁▁▂▁▁▁▁▂▁▁▁▁▁▁▁▁▁▁▁▁▁▁▁▁▁▁▁\n",
      "\u001b[34m\u001b[1mwandb\u001b[0m:     train/learning_rate ▃███████▇▇▇▇▇▆▆▆▆▅▅▅▅▄▄▄▃▃▃▃▂▂▂▂▂▁▁▁▁▁▁▁\n",
      "\u001b[34m\u001b[1mwandb\u001b[0m:              train/loss █▇▅▃▃▃▂▂▂▂▃▂▂▁▁▃▁▂▃▂▂▂▁▁▂▁▂▂▁▃▁▂▁▂▂▁▂▂▂▂\n",
      "\u001b[34m\u001b[1mwandb\u001b[0m: \n",
      "\u001b[34m\u001b[1mwandb\u001b[0m: Run summary:\n",
      "\u001b[34m\u001b[1mwandb\u001b[0m:                eval/loss 0.64203\n",
      "\u001b[34m\u001b[1mwandb\u001b[0m:             eval/runtime 55.108\n",
      "\u001b[34m\u001b[1mwandb\u001b[0m:  eval/samples_per_second 1.815\n",
      "\u001b[34m\u001b[1mwandb\u001b[0m:    eval/steps_per_second 0.236\n",
      "\u001b[34m\u001b[1mwandb\u001b[0m:               total_flos 9271372265398272.0\n",
      "\u001b[34m\u001b[1mwandb\u001b[0m:              train/epoch 1.0\n",
      "\u001b[34m\u001b[1mwandb\u001b[0m:        train/global_step 100\n",
      "\u001b[34m\u001b[1mwandb\u001b[0m:          train/grad_norm 0.41933\n",
      "\u001b[34m\u001b[1mwandb\u001b[0m:      train/learning_rate 0.0\n",
      "\u001b[34m\u001b[1mwandb\u001b[0m:               train/loss 0.6634\n",
      "\u001b[34m\u001b[1mwandb\u001b[0m:               train_loss 0.72554\n",
      "\u001b[34m\u001b[1mwandb\u001b[0m:            train_runtime 2243.4507\n",
      "\u001b[34m\u001b[1mwandb\u001b[0m: train_samples_per_second 0.357\n",
      "\u001b[34m\u001b[1mwandb\u001b[0m:   train_steps_per_second 0.045\n",
      "\u001b[34m\u001b[1mwandb\u001b[0m: \n",
      "\u001b[34m\u001b[1mwandb\u001b[0m: 🚀 View run \u001b[33musual-puddle-23\u001b[0m at: \u001b[34m\u001b[4mhttps://wandb.ai/cse-mahmud-evan-ccn-university-of-science-and-technology/Fine-tune%20llama-3.1-8b-it%20on%20Sentiment%20Analysis%20Dataset/runs/2gh1i6cp\u001b[0m\n",
      "\u001b[34m\u001b[1mwandb\u001b[0m: ⭐️ View project at: \u001b[34m\u001b[4mhttps://wandb.ai/cse-mahmud-evan-ccn-university-of-science-and-technology/Fine-tune%20llama-3.1-8b-it%20on%20Sentiment%20Analysis%20Dataset\u001b[0m\n",
      "\u001b[34m\u001b[1mwandb\u001b[0m: Synced 5 W&B file(s), 0 media file(s), 0 artifact file(s) and 0 other file(s)\n",
      "\u001b[34m\u001b[1mwandb\u001b[0m: Find logs at: \u001b[35m\u001b[1m./wandb/run-20240922_121518-2gh1i6cp/logs\u001b[0m\n",
      "\u001b[34m\u001b[1mwandb\u001b[0m: \u001b[33mWARNING\u001b[0m The new W&B backend becomes opt-out in version 0.18.0; try it out with `wandb.require(\"core\")`! See https://wandb.me/wandb-core for more information.\n"
     ]
    }
   ],
   "source": [
    "wandb.finish()\n",
    "model.config.use_cache = True"
   ]
  },
  {
   "cell_type": "code",
   "execution_count": 49,
   "id": "584977ed",
   "metadata": {
    "execution": {
     "iopub.execute_input": "2024-09-22T13:06:08.295527Z",
     "iopub.status.busy": "2024-09-22T13:06:08.295221Z",
     "iopub.status.idle": "2024-09-22T13:06:09.154676Z",
     "shell.execute_reply": "2024-09-22T13:06:09.153621Z"
    },
    "papermill": {
     "duration": 0.894139,
     "end_time": "2024-09-22T13:06:09.156912",
     "exception": false,
     "start_time": "2024-09-22T13:06:08.262773",
     "status": "completed"
    },
    "tags": []
   },
   "outputs": [
    {
     "data": {
      "text/plain": [
       "('llama-3.1 8b model/tokenizer_config.json',\n",
       " 'llama-3.1 8b model/special_tokens_map.json',\n",
       " 'llama-3.1 8b model/tokenizer.json')"
      ]
     },
     "execution_count": 49,
     "metadata": {},
     "output_type": "execute_result"
    }
   ],
   "source": [
    "#Save Train Model and Tokenizer\n",
    "trainer.save_model(output_dir)\n",
    "tokenizer.save_pretrained(output_dir)"
   ]
  },
  {
   "cell_type": "code",
   "execution_count": 50,
   "id": "ba9f0364",
   "metadata": {
    "execution": {
     "iopub.execute_input": "2024-09-22T13:06:09.222422Z",
     "iopub.status.busy": "2024-09-22T13:06:09.221744Z",
     "iopub.status.idle": "2024-09-22T13:15:53.657292Z",
     "shell.execute_reply": "2024-09-22T13:15:53.656225Z"
    },
    "papermill": {
     "duration": 584.470109,
     "end_time": "2024-09-22T13:15:53.659404",
     "exception": false,
     "start_time": "2024-09-22T13:06:09.189295",
     "status": "completed"
    },
    "tags": []
   },
   "outputs": [
    {
     "name": "stderr",
     "output_type": "stream",
     "text": [
      "100%|██████████| 100/100 [09:44<00:00,  5.84s/it]\n"
     ]
    }
   ],
   "source": [
    "y_pred = predict(X_test, model, tokenizer)"
   ]
  },
  {
   "cell_type": "code",
   "execution_count": 51,
   "id": "8dbffd31",
   "metadata": {
    "execution": {
     "iopub.execute_input": "2024-09-22T13:15:53.740122Z",
     "iopub.status.busy": "2024-09-22T13:15:53.739787Z",
     "iopub.status.idle": "2024-09-22T13:15:53.762147Z",
     "shell.execute_reply": "2024-09-22T13:15:53.760798Z"
    },
    "papermill": {
     "duration": 0.064916,
     "end_time": "2024-09-22T13:15:53.764404",
     "exception": false,
     "start_time": "2024-09-22T13:15:53.699488",
     "status": "completed"
    },
    "tags": []
   },
   "outputs": [
    {
     "name": "stdout",
     "output_type": "stream",
     "text": [
      "Accuracy: 0.350\n",
      "Accuracy for label bangladesh: 0.070\n",
      "Accuracy for label sports: 0.762\n",
      "Accuracy for label technology: 1.000\n",
      "Accuracy for label entertainment: 0.818\n",
      "Accuracy for label international: 0.000\n",
      "Accuracy for label economy: 0.833\n",
      "Accuracy for label life-style: 0.250\n",
      "Accuracy for label opinion: 0.000\n",
      "Accuracy for label education: 0.000\n",
      "\n",
      "Classification Report:\n",
      "               precision    recall  f1-score   support\n",
      "\n",
      "   bangladesh       1.00      0.07      0.13        43\n",
      "       sports       0.76      0.76      0.76        21\n",
      "   technology       0.33      1.00      0.50         1\n",
      "entertainment       0.38      0.82      0.51        11\n",
      "international       0.00      0.00      0.00         8\n",
      "      economy       0.14      0.83      0.24         6\n",
      "   life-style       0.50      0.25      0.33         4\n",
      "      opinion       0.00      0.00      0.00         3\n",
      "    education       0.00      0.00      0.00         0\n",
      "\n",
      "    micro avg       0.36      0.36      0.36        97\n",
      "    macro avg       0.35      0.41      0.28        97\n",
      " weighted avg       0.68      0.36      0.31        97\n",
      "\n",
      "\n",
      "Confusion Matrix:\n",
      "[[ 3  4  1  4  0 21  1  9  0]\n",
      " [ 0 16  0  3  0  2  0  0  0]\n",
      " [ 0  0  1  0  0  0  0  0  0]\n",
      " [ 0  0  0  9  0  1  0  0  0]\n",
      " [ 0  1  0  2  0  4  0  0  0]\n",
      " [ 0  0  0  1  0  5  0  0  0]\n",
      " [ 0  0  0  3  0  0  1  0  0]\n",
      " [ 0  0  1  1  0  1  0  0  0]\n",
      " [ 0  0  0  0  0  0  0  0  0]]\n"
     ]
    },
    {
     "name": "stderr",
     "output_type": "stream",
     "text": [
      "/opt/conda/lib/python3.10/site-packages/sklearn/metrics/_classification.py:1344: UndefinedMetricWarning: Precision and F-score are ill-defined and being set to 0.0 in labels with no predicted samples. Use `zero_division` parameter to control this behavior.\n",
      "  _warn_prf(average, modifier, msg_start, len(result))\n",
      "/opt/conda/lib/python3.10/site-packages/sklearn/metrics/_classification.py:1344: UndefinedMetricWarning: Recall and F-score are ill-defined and being set to 0.0 in labels with no true samples. Use `zero_division` parameter to control this behavior.\n",
      "  _warn_prf(average, modifier, msg_start, len(result))\n",
      "/opt/conda/lib/python3.10/site-packages/sklearn/metrics/_classification.py:1344: UndefinedMetricWarning: Precision and F-score are ill-defined and being set to 0.0 in labels with no predicted samples. Use `zero_division` parameter to control this behavior.\n",
      "  _warn_prf(average, modifier, msg_start, len(result))\n",
      "/opt/conda/lib/python3.10/site-packages/sklearn/metrics/_classification.py:1344: UndefinedMetricWarning: Recall and F-score are ill-defined and being set to 0.0 in labels with no true samples. Use `zero_division` parameter to control this behavior.\n",
      "  _warn_prf(average, modifier, msg_start, len(result))\n",
      "/opt/conda/lib/python3.10/site-packages/sklearn/metrics/_classification.py:1344: UndefinedMetricWarning: Precision and F-score are ill-defined and being set to 0.0 in labels with no predicted samples. Use `zero_division` parameter to control this behavior.\n",
      "  _warn_prf(average, modifier, msg_start, len(result))\n",
      "/opt/conda/lib/python3.10/site-packages/sklearn/metrics/_classification.py:1344: UndefinedMetricWarning: Recall and F-score are ill-defined and being set to 0.0 in labels with no true samples. Use `zero_division` parameter to control this behavior.\n",
      "  _warn_prf(average, modifier, msg_start, len(result))\n"
     ]
    }
   ],
   "source": [
    "evaluate(y_true, y_pred)"
   ]
  },
  {
   "cell_type": "code",
   "execution_count": 52,
   "id": "f7a7a0f6",
   "metadata": {
    "execution": {
     "iopub.execute_input": "2024-09-22T13:15:53.845494Z",
     "iopub.status.busy": "2024-09-22T13:15:53.845181Z",
     "iopub.status.idle": "2024-09-22T13:15:53.849243Z",
     "shell.execute_reply": "2024-09-22T13:15:53.848297Z"
    },
    "papermill": {
     "duration": 0.046779,
     "end_time": "2024-09-22T13:15:53.851087",
     "exception": false,
     "start_time": "2024-09-22T13:15:53.804308",
     "status": "completed"
    },
    "tags": []
   },
   "outputs": [],
   "source": [
    "#X_val.head()"
   ]
  },
  {
   "cell_type": "code",
   "execution_count": 53,
   "id": "3699491e",
   "metadata": {
    "execution": {
     "iopub.execute_input": "2024-09-22T13:15:53.931462Z",
     "iopub.status.busy": "2024-09-22T13:15:53.931163Z",
     "iopub.status.idle": "2024-09-22T13:15:53.935210Z",
     "shell.execute_reply": "2024-09-22T13:15:53.934283Z"
    },
    "papermill": {
     "duration": 0.046424,
     "end_time": "2024-09-22T13:15:53.937017",
     "exception": false,
     "start_time": "2024-09-22T13:15:53.890593",
     "status": "completed"
    },
    "tags": []
   },
   "outputs": [],
   "source": [
    "#vali = X_val.drop('category',axis = 1)"
   ]
  },
  {
   "cell_type": "code",
   "execution_count": 54,
   "id": "2a6f1329",
   "metadata": {
    "execution": {
     "iopub.execute_input": "2024-09-22T13:15:54.016776Z",
     "iopub.status.busy": "2024-09-22T13:15:54.016425Z",
     "iopub.status.idle": "2024-09-22T13:15:54.020531Z",
     "shell.execute_reply": "2024-09-22T13:15:54.019626Z"
    },
    "papermill": {
     "duration": 0.046263,
     "end_time": "2024-09-22T13:15:54.022620",
     "exception": false,
     "start_time": "2024-09-22T13:15:53.976357",
     "status": "completed"
    },
    "tags": []
   },
   "outputs": [],
   "source": [
    "#vali.head(2)"
   ]
  },
  {
   "cell_type": "code",
   "execution_count": 55,
   "id": "c46e2b81",
   "metadata": {
    "execution": {
     "iopub.execute_input": "2024-09-22T13:15:54.103211Z",
     "iopub.status.busy": "2024-09-22T13:15:54.102876Z",
     "iopub.status.idle": "2024-09-22T13:15:54.109841Z",
     "shell.execute_reply": "2024-09-22T13:15:54.108927Z"
    },
    "papermill": {
     "duration": 0.0496,
     "end_time": "2024-09-22T13:15:54.111921",
     "exception": false,
     "start_time": "2024-09-22T13:15:54.062321",
     "status": "completed"
    },
    "tags": []
   },
   "outputs": [
    {
     "data": {
      "text/plain": [
       "\"import pandas as pd\\nimport torch\\nimport numpy as np\\n\\n\\n# Function to convert text to a byte representation\\ndef text_to_bytes(text):\\n    return [float(byte) for byte in text.encode('utf-8')]\\n\\n# Apply to each column\\nX_test['content_bytes'] = vali['content'].apply(text_to_bytes)\\nX_test['text_bytes'] = vali['text'].apply(text_to_bytes)\\n\\n# Find the maximum length of the sequences\\nmax_len_content = max(vali['content_bytes'].apply(len))\\nmax_len_text = max(vali['text_bytes'].apply(len))\\n\\n# Function to pad sequences\\ndef pad_sequence(seq, max_len):\\n    return seq + [0.0] * (max_len - len(seq))\\n\\n# Pad sequences\\nvali['content_bytes_padded'] = vali['content_bytes'].apply(lambda x: pad_sequence(x, max_len_content))\\nvali['text_bytes_padded'] = vali['text_bytes'].apply(lambda x: pad_sequence(x, max_len_text))\\n\\n# Convert the padded lists of bytes to PyTorch tensors\\ncontent_tensor = torch.tensor(vali['content_bytes_padded'].tolist(), dtype=torch.float32)\\ntext_tensor = torch.tensor(vali['text_bytes_padded'].tolist(), dtype=torch.float32)\\n\\n# Convert to bfloat16\\ncontent_bfloat16 = content_tensor.to(torch.bfloat16)\\ntext_bfloat16 = text_tensor.to(torch.bfloat16)\\n\\n\""
      ]
     },
     "execution_count": 55,
     "metadata": {},
     "output_type": "execute_result"
    }
   ],
   "source": [
    "'''import pandas as pd\n",
    "import torch\n",
    "import numpy as np\n",
    "\n",
    "\n",
    "# Function to convert text to a byte representation\n",
    "def text_to_bytes(text):\n",
    "    return [float(byte) for byte in text.encode('utf-8')]\n",
    "\n",
    "# Apply to each column\n",
    "X_test['content_bytes'] = vali['content'].apply(text_to_bytes)\n",
    "X_test['text_bytes'] = vali['text'].apply(text_to_bytes)\n",
    "\n",
    "# Find the maximum length of the sequences\n",
    "max_len_content = max(vali['content_bytes'].apply(len))\n",
    "max_len_text = max(vali['text_bytes'].apply(len))\n",
    "\n",
    "# Function to pad sequences\n",
    "def pad_sequence(seq, max_len):\n",
    "    return seq + [0.0] * (max_len - len(seq))\n",
    "\n",
    "# Pad sequences\n",
    "vali['content_bytes_padded'] = vali['content_bytes'].apply(lambda x: pad_sequence(x, max_len_content))\n",
    "vali['text_bytes_padded'] = vali['text_bytes'].apply(lambda x: pad_sequence(x, max_len_text))\n",
    "\n",
    "# Convert the padded lists of bytes to PyTorch tensors\n",
    "content_tensor = torch.tensor(vali['content_bytes_padded'].tolist(), dtype=torch.float32)\n",
    "text_tensor = torch.tensor(vali['text_bytes_padded'].tolist(), dtype=torch.float32)\n",
    "\n",
    "# Convert to bfloat16\n",
    "content_bfloat16 = content_tensor.to(torch.bfloat16)\n",
    "text_bfloat16 = text_tensor.to(torch.bfloat16)\n",
    "\n",
    "'''"
   ]
  },
  {
   "cell_type": "code",
   "execution_count": 56,
   "id": "3bd601b4",
   "metadata": {
    "execution": {
     "iopub.execute_input": "2024-09-22T13:15:54.200496Z",
     "iopub.status.busy": "2024-09-22T13:15:54.200178Z",
     "iopub.status.idle": "2024-09-22T13:15:54.204040Z",
     "shell.execute_reply": "2024-09-22T13:15:54.203195Z"
    },
    "papermill": {
     "duration": 0.046868,
     "end_time": "2024-09-22T13:15:54.205928",
     "exception": false,
     "start_time": "2024-09-22T13:15:54.159060",
     "status": "completed"
    },
    "tags": []
   },
   "outputs": [],
   "source": [
    "#vali.drop()"
   ]
  },
  {
   "cell_type": "code",
   "execution_count": 57,
   "id": "559cf5a9",
   "metadata": {
    "execution": {
     "iopub.execute_input": "2024-09-22T13:15:54.286503Z",
     "iopub.status.busy": "2024-09-22T13:15:54.286200Z",
     "iopub.status.idle": "2024-09-22T13:15:54.291555Z",
     "shell.execute_reply": "2024-09-22T13:15:54.290741Z"
    },
    "papermill": {
     "duration": 0.04778,
     "end_time": "2024-09-22T13:15:54.293449",
     "exception": false,
     "start_time": "2024-09-22T13:15:54.245669",
     "status": "completed"
    },
    "tags": []
   },
   "outputs": [
    {
     "data": {
      "text/plain": [
       "'print(content_bfloat16)\\nprint(text_bfloat16)'"
      ]
     },
     "execution_count": 57,
     "metadata": {},
     "output_type": "execute_result"
    }
   ],
   "source": [
    "'''print(content_bfloat16)\n",
    "print(text_bfloat16)'''"
   ]
  },
  {
   "cell_type": "code",
   "execution_count": null,
   "id": "ecdb5111",
   "metadata": {
    "papermill": {
     "duration": 0.039975,
     "end_time": "2024-09-22T13:15:54.372964",
     "exception": false,
     "start_time": "2024-09-22T13:15:54.332989",
     "status": "completed"
    },
    "tags": []
   },
   "outputs": [],
   "source": []
  }
 ],
 "metadata": {
  "kaggle": {
   "accelerator": "gpu",
   "dataSources": [
    {
     "datasetId": 258862,
     "sourceId": 1576225,
     "sourceType": "datasetVersion"
    },
    {
     "sourceId": 197003403,
     "sourceType": "kernelVersion"
    },
    {
     "modelId": 91102,
     "modelInstanceId": 68809,
     "sourceId": 81881,
     "sourceType": "modelInstanceVersion"
    },
    {
     "modelId": 91102,
     "modelInstanceId": 68809,
     "sourceId": 104449,
     "sourceType": "modelInstanceVersion"
    }
   ],
   "isGpuEnabled": true,
   "isInternetEnabled": true,
   "language": "python",
   "sourceType": "notebook"
  },
  "kernelspec": {
   "display_name": "Python 3",
   "language": "python",
   "name": "python3"
  },
  "language_info": {
   "codemirror_mode": {
    "name": "ipython",
    "version": 3
   },
   "file_extension": ".py",
   "mimetype": "text/x-python",
   "name": "python",
   "nbconvert_exporter": "python",
   "pygments_lexer": "ipython3",
   "version": "3.10.14"
  },
  "papermill": {
   "default_parameters": {},
   "duration": 3742.754031,
   "end_time": "2024-09-22T13:15:57.433259",
   "environment_variables": {},
   "exception": null,
   "input_path": "__notebook__.ipynb",
   "output_path": "__notebook__.ipynb",
   "parameters": {},
   "start_time": "2024-09-22T12:13:34.679228",
   "version": "2.6.0"
  },
  "widgets": {
   "application/vnd.jupyter.widget-state+json": {
    "state": {
     "02514783388040deb9ab8fe1439bd72c": {
      "model_module": "@jupyter-widgets/controls",
      "model_module_version": "1.5.0",
      "model_name": "DescriptionStyleModel",
      "state": {
       "_model_module": "@jupyter-widgets/controls",
       "_model_module_version": "1.5.0",
       "_model_name": "DescriptionStyleModel",
       "_view_count": null,
       "_view_module": "@jupyter-widgets/base",
       "_view_module_version": "1.2.0",
       "_view_name": "StyleView",
       "description_width": ""
      }
     },
     "10960c846bc9439ba393ab5ee82981e4": {
      "model_module": "@jupyter-widgets/controls",
      "model_module_version": "1.5.0",
      "model_name": "HTMLModel",
      "state": {
       "_dom_classes": [],
       "_model_module": "@jupyter-widgets/controls",
       "_model_module_version": "1.5.0",
       "_model_name": "HTMLModel",
       "_view_count": null,
       "_view_module": "@jupyter-widgets/controls",
       "_view_module_version": "1.5.0",
       "_view_name": "HTMLView",
       "description": "",
       "description_tooltip": null,
       "layout": "IPY_MODEL_5849c129226e46e99aa395780dca982c",
       "placeholder": "​",
       "style": "IPY_MODEL_e24c34050ac64edfbb9cfecbd547908d",
       "value": " 100/100 [00:00&lt;00:00, 577.94 examples/s]"
      }
     },
     "11633c423dd5440fbce86df80adb29d7": {
      "model_module": "@jupyter-widgets/base",
      "model_module_version": "1.2.0",
      "model_name": "LayoutModel",
      "state": {
       "_model_module": "@jupyter-widgets/base",
       "_model_module_version": "1.2.0",
       "_model_name": "LayoutModel",
       "_view_count": null,
       "_view_module": "@jupyter-widgets/base",
       "_view_module_version": "1.2.0",
       "_view_name": "LayoutView",
       "align_content": null,
       "align_items": null,
       "align_self": null,
       "border": null,
       "bottom": null,
       "display": null,
       "flex": null,
       "flex_flow": null,
       "grid_area": null,
       "grid_auto_columns": null,
       "grid_auto_flow": null,
       "grid_auto_rows": null,
       "grid_column": null,
       "grid_gap": null,
       "grid_row": null,
       "grid_template_areas": null,
       "grid_template_columns": null,
       "grid_template_rows": null,
       "height": null,
       "justify_content": null,
       "justify_items": null,
       "left": null,
       "margin": null,
       "max_height": null,
       "max_width": null,
       "min_height": null,
       "min_width": null,
       "object_fit": null,
       "object_position": null,
       "order": null,
       "overflow": null,
       "overflow_x": null,
       "overflow_y": null,
       "padding": null,
       "right": null,
       "top": null,
       "visibility": null,
       "width": null
      }
     },
     "1667411683084d2f9e90931e4f0b17b1": {
      "model_module": "@jupyter-widgets/controls",
      "model_module_version": "1.5.0",
      "model_name": "ProgressStyleModel",
      "state": {
       "_model_module": "@jupyter-widgets/controls",
       "_model_module_version": "1.5.0",
       "_model_name": "ProgressStyleModel",
       "_view_count": null,
       "_view_module": "@jupyter-widgets/base",
       "_view_module_version": "1.2.0",
       "_view_name": "StyleView",
       "bar_color": null,
       "description_width": ""
      }
     },
     "17b8abfd7ef54a668456d015f57c4145": {
      "model_module": "@jupyter-widgets/controls",
      "model_module_version": "1.5.0",
      "model_name": "FloatProgressModel",
      "state": {
       "_dom_classes": [],
       "_model_module": "@jupyter-widgets/controls",
       "_model_module_version": "1.5.0",
       "_model_name": "FloatProgressModel",
       "_view_count": null,
       "_view_module": "@jupyter-widgets/controls",
       "_view_module_version": "1.5.0",
       "_view_name": "ProgressView",
       "bar_style": "success",
       "description": "",
       "description_tooltip": null,
       "layout": "IPY_MODEL_11633c423dd5440fbce86df80adb29d7",
       "max": 100.0,
       "min": 0.0,
       "orientation": "horizontal",
       "style": "IPY_MODEL_60a3a10a913149bf9e470906ece1d4e5",
       "value": 100.0
      }
     },
     "212c445e20844e46b0f703384826650a": {
      "model_module": "@jupyter-widgets/controls",
      "model_module_version": "1.5.0",
      "model_name": "HTMLModel",
      "state": {
       "_dom_classes": [],
       "_model_module": "@jupyter-widgets/controls",
       "_model_module_version": "1.5.0",
       "_model_name": "HTMLModel",
       "_view_count": null,
       "_view_module": "@jupyter-widgets/controls",
       "_view_module_version": "1.5.0",
       "_view_name": "HTMLView",
       "description": "",
       "description_tooltip": null,
       "layout": "IPY_MODEL_ec3a61344ba241fdb7f4b9bcc2d20b59",
       "placeholder": "​",
       "style": "IPY_MODEL_d94cf083d1dc4c418366e921ca65c408",
       "value": " 800/800 [00:01&lt;00:00, 642.39 examples/s]"
      }
     },
     "2727849dc7f44d1a82d608881f9ef2b0": {
      "model_module": "@jupyter-widgets/base",
      "model_module_version": "1.2.0",
      "model_name": "LayoutModel",
      "state": {
       "_model_module": "@jupyter-widgets/base",
       "_model_module_version": "1.2.0",
       "_model_name": "LayoutModel",
       "_view_count": null,
       "_view_module": "@jupyter-widgets/base",
       "_view_module_version": "1.2.0",
       "_view_name": "LayoutView",
       "align_content": null,
       "align_items": null,
       "align_self": null,
       "border": null,
       "bottom": null,
       "display": null,
       "flex": null,
       "flex_flow": null,
       "grid_area": null,
       "grid_auto_columns": null,
       "grid_auto_flow": null,
       "grid_auto_rows": null,
       "grid_column": null,
       "grid_gap": null,
       "grid_row": null,
       "grid_template_areas": null,
       "grid_template_columns": null,
       "grid_template_rows": null,
       "height": null,
       "justify_content": null,
       "justify_items": null,
       "left": null,
       "margin": null,
       "max_height": null,
       "max_width": null,
       "min_height": null,
       "min_width": null,
       "object_fit": null,
       "object_position": null,
       "order": null,
       "overflow": null,
       "overflow_x": null,
       "overflow_y": null,
       "padding": null,
       "right": null,
       "top": null,
       "visibility": null,
       "width": null
      }
     },
     "28ff60ad2b37435b83b6d5c02aaaaddf": {
      "model_module": "@jupyter-widgets/controls",
      "model_module_version": "1.5.0",
      "model_name": "HTMLModel",
      "state": {
       "_dom_classes": [],
       "_model_module": "@jupyter-widgets/controls",
       "_model_module_version": "1.5.0",
       "_model_name": "HTMLModel",
       "_view_count": null,
       "_view_module": "@jupyter-widgets/controls",
       "_view_module_version": "1.5.0",
       "_view_name": "HTMLView",
       "description": "",
       "description_tooltip": null,
       "layout": "IPY_MODEL_f7b9395b358848369b029aeebc161438",
       "placeholder": "​",
       "style": "IPY_MODEL_378450a14a834d7196e0a7eb5bb39053",
       "value": "Map: 100%"
      }
     },
     "378450a14a834d7196e0a7eb5bb39053": {
      "model_module": "@jupyter-widgets/controls",
      "model_module_version": "1.5.0",
      "model_name": "DescriptionStyleModel",
      "state": {
       "_model_module": "@jupyter-widgets/controls",
       "_model_module_version": "1.5.0",
       "_model_name": "DescriptionStyleModel",
       "_view_count": null,
       "_view_module": "@jupyter-widgets/base",
       "_view_module_version": "1.2.0",
       "_view_name": "StyleView",
       "description_width": ""
      }
     },
     "4581239d6b3541b8a2c3c8ddf9f8ee21": {
      "model_module": "@jupyter-widgets/base",
      "model_module_version": "1.2.0",
      "model_name": "LayoutModel",
      "state": {
       "_model_module": "@jupyter-widgets/base",
       "_model_module_version": "1.2.0",
       "_model_name": "LayoutModel",
       "_view_count": null,
       "_view_module": "@jupyter-widgets/base",
       "_view_module_version": "1.2.0",
       "_view_name": "LayoutView",
       "align_content": null,
       "align_items": null,
       "align_self": null,
       "border": null,
       "bottom": null,
       "display": null,
       "flex": null,
       "flex_flow": null,
       "grid_area": null,
       "grid_auto_columns": null,
       "grid_auto_flow": null,
       "grid_auto_rows": null,
       "grid_column": null,
       "grid_gap": null,
       "grid_row": null,
       "grid_template_areas": null,
       "grid_template_columns": null,
       "grid_template_rows": null,
       "height": null,
       "justify_content": null,
       "justify_items": null,
       "left": null,
       "margin": null,
       "max_height": null,
       "max_width": null,
       "min_height": null,
       "min_width": null,
       "object_fit": null,
       "object_position": null,
       "order": null,
       "overflow": null,
       "overflow_x": null,
       "overflow_y": null,
       "padding": null,
       "right": null,
       "top": null,
       "visibility": null,
       "width": null
      }
     },
     "4d272d3880614433bba2dadc31140bc8": {
      "model_module": "@jupyter-widgets/controls",
      "model_module_version": "1.5.0",
      "model_name": "HTMLModel",
      "state": {
       "_dom_classes": [],
       "_model_module": "@jupyter-widgets/controls",
       "_model_module_version": "1.5.0",
       "_model_name": "HTMLModel",
       "_view_count": null,
       "_view_module": "@jupyter-widgets/controls",
       "_view_module_version": "1.5.0",
       "_view_name": "HTMLView",
       "description": "",
       "description_tooltip": null,
       "layout": "IPY_MODEL_fc4826d66b0b42409b60a93f59a56a1d",
       "placeholder": "​",
       "style": "IPY_MODEL_a1064016ee2443b19cb4bf5d896ec2bf",
       "value": "Loading checkpoint shards: 100%"
      }
     },
     "5849c129226e46e99aa395780dca982c": {
      "model_module": "@jupyter-widgets/base",
      "model_module_version": "1.2.0",
      "model_name": "LayoutModel",
      "state": {
       "_model_module": "@jupyter-widgets/base",
       "_model_module_version": "1.2.0",
       "_model_name": "LayoutModel",
       "_view_count": null,
       "_view_module": "@jupyter-widgets/base",
       "_view_module_version": "1.2.0",
       "_view_name": "LayoutView",
       "align_content": null,
       "align_items": null,
       "align_self": null,
       "border": null,
       "bottom": null,
       "display": null,
       "flex": null,
       "flex_flow": null,
       "grid_area": null,
       "grid_auto_columns": null,
       "grid_auto_flow": null,
       "grid_auto_rows": null,
       "grid_column": null,
       "grid_gap": null,
       "grid_row": null,
       "grid_template_areas": null,
       "grid_template_columns": null,
       "grid_template_rows": null,
       "height": null,
       "justify_content": null,
       "justify_items": null,
       "left": null,
       "margin": null,
       "max_height": null,
       "max_width": null,
       "min_height": null,
       "min_width": null,
       "object_fit": null,
       "object_position": null,
       "order": null,
       "overflow": null,
       "overflow_x": null,
       "overflow_y": null,
       "padding": null,
       "right": null,
       "top": null,
       "visibility": null,
       "width": null
      }
     },
     "596b34534cf7415d920bd6087382d1e0": {
      "model_module": "@jupyter-widgets/controls",
      "model_module_version": "1.5.0",
      "model_name": "HBoxModel",
      "state": {
       "_dom_classes": [],
       "_model_module": "@jupyter-widgets/controls",
       "_model_module_version": "1.5.0",
       "_model_name": "HBoxModel",
       "_view_count": null,
       "_view_module": "@jupyter-widgets/controls",
       "_view_module_version": "1.5.0",
       "_view_name": "HBoxView",
       "box_style": "",
       "children": [
        "IPY_MODEL_28ff60ad2b37435b83b6d5c02aaaaddf",
        "IPY_MODEL_17b8abfd7ef54a668456d015f57c4145",
        "IPY_MODEL_10960c846bc9439ba393ab5ee82981e4"
       ],
       "layout": "IPY_MODEL_7521233bd9514aff88af2662658359f1"
      }
     },
     "5a1e4bacb86149359de37402104014aa": {
      "model_module": "@jupyter-widgets/controls",
      "model_module_version": "1.5.0",
      "model_name": "HBoxModel",
      "state": {
       "_dom_classes": [],
       "_model_module": "@jupyter-widgets/controls",
       "_model_module_version": "1.5.0",
       "_model_name": "HBoxModel",
       "_view_count": null,
       "_view_module": "@jupyter-widgets/controls",
       "_view_module_version": "1.5.0",
       "_view_name": "HBoxView",
       "box_style": "",
       "children": [
        "IPY_MODEL_4d272d3880614433bba2dadc31140bc8",
        "IPY_MODEL_e596c65fbae34e7d89ba6f2959cddab6",
        "IPY_MODEL_d679030659be405a89eabd1474da9bc0"
       ],
       "layout": "IPY_MODEL_b63ea4743ddf45e2976d67fac5740527"
      }
     },
     "5f3b38dff3a54d94b94ad6cfc4c950cf": {
      "model_module": "@jupyter-widgets/base",
      "model_module_version": "1.2.0",
      "model_name": "LayoutModel",
      "state": {
       "_model_module": "@jupyter-widgets/base",
       "_model_module_version": "1.2.0",
       "_model_name": "LayoutModel",
       "_view_count": null,
       "_view_module": "@jupyter-widgets/base",
       "_view_module_version": "1.2.0",
       "_view_name": "LayoutView",
       "align_content": null,
       "align_items": null,
       "align_self": null,
       "border": null,
       "bottom": null,
       "display": null,
       "flex": null,
       "flex_flow": null,
       "grid_area": null,
       "grid_auto_columns": null,
       "grid_auto_flow": null,
       "grid_auto_rows": null,
       "grid_column": null,
       "grid_gap": null,
       "grid_row": null,
       "grid_template_areas": null,
       "grid_template_columns": null,
       "grid_template_rows": null,
       "height": null,
       "justify_content": null,
       "justify_items": null,
       "left": null,
       "margin": null,
       "max_height": null,
       "max_width": null,
       "min_height": null,
       "min_width": null,
       "object_fit": null,
       "object_position": null,
       "order": null,
       "overflow": null,
       "overflow_x": null,
       "overflow_y": null,
       "padding": null,
       "right": null,
       "top": null,
       "visibility": null,
       "width": null
      }
     },
     "60a3a10a913149bf9e470906ece1d4e5": {
      "model_module": "@jupyter-widgets/controls",
      "model_module_version": "1.5.0",
      "model_name": "ProgressStyleModel",
      "state": {
       "_model_module": "@jupyter-widgets/controls",
       "_model_module_version": "1.5.0",
       "_model_name": "ProgressStyleModel",
       "_view_count": null,
       "_view_module": "@jupyter-widgets/base",
       "_view_module_version": "1.2.0",
       "_view_name": "StyleView",
       "bar_color": null,
       "description_width": ""
      }
     },
     "61a235e726d940afb1d227a26964848f": {
      "model_module": "@jupyter-widgets/base",
      "model_module_version": "1.2.0",
      "model_name": "LayoutModel",
      "state": {
       "_model_module": "@jupyter-widgets/base",
       "_model_module_version": "1.2.0",
       "_model_name": "LayoutModel",
       "_view_count": null,
       "_view_module": "@jupyter-widgets/base",
       "_view_module_version": "1.2.0",
       "_view_name": "LayoutView",
       "align_content": null,
       "align_items": null,
       "align_self": null,
       "border": null,
       "bottom": null,
       "display": null,
       "flex": null,
       "flex_flow": null,
       "grid_area": null,
       "grid_auto_columns": null,
       "grid_auto_flow": null,
       "grid_auto_rows": null,
       "grid_column": null,
       "grid_gap": null,
       "grid_row": null,
       "grid_template_areas": null,
       "grid_template_columns": null,
       "grid_template_rows": null,
       "height": null,
       "justify_content": null,
       "justify_items": null,
       "left": null,
       "margin": null,
       "max_height": null,
       "max_width": null,
       "min_height": null,
       "min_width": null,
       "object_fit": null,
       "object_position": null,
       "order": null,
       "overflow": null,
       "overflow_x": null,
       "overflow_y": null,
       "padding": null,
       "right": null,
       "top": null,
       "visibility": null,
       "width": null
      }
     },
     "7521233bd9514aff88af2662658359f1": {
      "model_module": "@jupyter-widgets/base",
      "model_module_version": "1.2.0",
      "model_name": "LayoutModel",
      "state": {
       "_model_module": "@jupyter-widgets/base",
       "_model_module_version": "1.2.0",
       "_model_name": "LayoutModel",
       "_view_count": null,
       "_view_module": "@jupyter-widgets/base",
       "_view_module_version": "1.2.0",
       "_view_name": "LayoutView",
       "align_content": null,
       "align_items": null,
       "align_self": null,
       "border": null,
       "bottom": null,
       "display": null,
       "flex": null,
       "flex_flow": null,
       "grid_area": null,
       "grid_auto_columns": null,
       "grid_auto_flow": null,
       "grid_auto_rows": null,
       "grid_column": null,
       "grid_gap": null,
       "grid_row": null,
       "grid_template_areas": null,
       "grid_template_columns": null,
       "grid_template_rows": null,
       "height": null,
       "justify_content": null,
       "justify_items": null,
       "left": null,
       "margin": null,
       "max_height": null,
       "max_width": null,
       "min_height": null,
       "min_width": null,
       "object_fit": null,
       "object_position": null,
       "order": null,
       "overflow": null,
       "overflow_x": null,
       "overflow_y": null,
       "padding": null,
       "right": null,
       "top": null,
       "visibility": null,
       "width": null
      }
     },
     "a035e7ca05ee4cbca34619eeb0c7c174": {
      "model_module": "@jupyter-widgets/controls",
      "model_module_version": "1.5.0",
      "model_name": "FloatProgressModel",
      "state": {
       "_dom_classes": [],
       "_model_module": "@jupyter-widgets/controls",
       "_model_module_version": "1.5.0",
       "_model_name": "FloatProgressModel",
       "_view_count": null,
       "_view_module": "@jupyter-widgets/controls",
       "_view_module_version": "1.5.0",
       "_view_name": "ProgressView",
       "bar_style": "success",
       "description": "",
       "description_tooltip": null,
       "layout": "IPY_MODEL_61a235e726d940afb1d227a26964848f",
       "max": 800.0,
       "min": 0.0,
       "orientation": "horizontal",
       "style": "IPY_MODEL_1667411683084d2f9e90931e4f0b17b1",
       "value": 800.0
      }
     },
     "a1064016ee2443b19cb4bf5d896ec2bf": {
      "model_module": "@jupyter-widgets/controls",
      "model_module_version": "1.5.0",
      "model_name": "DescriptionStyleModel",
      "state": {
       "_model_module": "@jupyter-widgets/controls",
       "_model_module_version": "1.5.0",
       "_model_name": "DescriptionStyleModel",
       "_view_count": null,
       "_view_module": "@jupyter-widgets/base",
       "_view_module_version": "1.2.0",
       "_view_name": "StyleView",
       "description_width": ""
      }
     },
     "a198779e8e78481f915a3b66cf2b278c": {
      "model_module": "@jupyter-widgets/controls",
      "model_module_version": "1.5.0",
      "model_name": "DescriptionStyleModel",
      "state": {
       "_model_module": "@jupyter-widgets/controls",
       "_model_module_version": "1.5.0",
       "_model_name": "DescriptionStyleModel",
       "_view_count": null,
       "_view_module": "@jupyter-widgets/base",
       "_view_module_version": "1.2.0",
       "_view_name": "StyleView",
       "description_width": ""
      }
     },
     "a9f184f3e5a54a818cf7a2ec7e22f77b": {
      "model_module": "@jupyter-widgets/base",
      "model_module_version": "1.2.0",
      "model_name": "LayoutModel",
      "state": {
       "_model_module": "@jupyter-widgets/base",
       "_model_module_version": "1.2.0",
       "_model_name": "LayoutModel",
       "_view_count": null,
       "_view_module": "@jupyter-widgets/base",
       "_view_module_version": "1.2.0",
       "_view_name": "LayoutView",
       "align_content": null,
       "align_items": null,
       "align_self": null,
       "border": null,
       "bottom": null,
       "display": null,
       "flex": null,
       "flex_flow": null,
       "grid_area": null,
       "grid_auto_columns": null,
       "grid_auto_flow": null,
       "grid_auto_rows": null,
       "grid_column": null,
       "grid_gap": null,
       "grid_row": null,
       "grid_template_areas": null,
       "grid_template_columns": null,
       "grid_template_rows": null,
       "height": null,
       "justify_content": null,
       "justify_items": null,
       "left": null,
       "margin": null,
       "max_height": null,
       "max_width": null,
       "min_height": null,
       "min_width": null,
       "object_fit": null,
       "object_position": null,
       "order": null,
       "overflow": null,
       "overflow_x": null,
       "overflow_y": null,
       "padding": null,
       "right": null,
       "top": null,
       "visibility": null,
       "width": null
      }
     },
     "ae1110b514844495bde039211aac150c": {
      "model_module": "@jupyter-widgets/controls",
      "model_module_version": "1.5.0",
      "model_name": "ProgressStyleModel",
      "state": {
       "_model_module": "@jupyter-widgets/controls",
       "_model_module_version": "1.5.0",
       "_model_name": "ProgressStyleModel",
       "_view_count": null,
       "_view_module": "@jupyter-widgets/base",
       "_view_module_version": "1.2.0",
       "_view_name": "StyleView",
       "bar_color": null,
       "description_width": ""
      }
     },
     "b63ea4743ddf45e2976d67fac5740527": {
      "model_module": "@jupyter-widgets/base",
      "model_module_version": "1.2.0",
      "model_name": "LayoutModel",
      "state": {
       "_model_module": "@jupyter-widgets/base",
       "_model_module_version": "1.2.0",
       "_model_name": "LayoutModel",
       "_view_count": null,
       "_view_module": "@jupyter-widgets/base",
       "_view_module_version": "1.2.0",
       "_view_name": "LayoutView",
       "align_content": null,
       "align_items": null,
       "align_self": null,
       "border": null,
       "bottom": null,
       "display": null,
       "flex": null,
       "flex_flow": null,
       "grid_area": null,
       "grid_auto_columns": null,
       "grid_auto_flow": null,
       "grid_auto_rows": null,
       "grid_column": null,
       "grid_gap": null,
       "grid_row": null,
       "grid_template_areas": null,
       "grid_template_columns": null,
       "grid_template_rows": null,
       "height": null,
       "justify_content": null,
       "justify_items": null,
       "left": null,
       "margin": null,
       "max_height": null,
       "max_width": null,
       "min_height": null,
       "min_width": null,
       "object_fit": null,
       "object_position": null,
       "order": null,
       "overflow": null,
       "overflow_x": null,
       "overflow_y": null,
       "padding": null,
       "right": null,
       "top": null,
       "visibility": null,
       "width": null
      }
     },
     "c9e7bfb5bd4142fdab345d3b51d9fce4": {
      "model_module": "@jupyter-widgets/controls",
      "model_module_version": "1.5.0",
      "model_name": "HTMLModel",
      "state": {
       "_dom_classes": [],
       "_model_module": "@jupyter-widgets/controls",
       "_model_module_version": "1.5.0",
       "_model_name": "HTMLModel",
       "_view_count": null,
       "_view_module": "@jupyter-widgets/controls",
       "_view_module_version": "1.5.0",
       "_view_name": "HTMLView",
       "description": "",
       "description_tooltip": null,
       "layout": "IPY_MODEL_2727849dc7f44d1a82d608881f9ef2b0",
       "placeholder": "​",
       "style": "IPY_MODEL_a198779e8e78481f915a3b66cf2b278c",
       "value": "Map: 100%"
      }
     },
     "d679030659be405a89eabd1474da9bc0": {
      "model_module": "@jupyter-widgets/controls",
      "model_module_version": "1.5.0",
      "model_name": "HTMLModel",
      "state": {
       "_dom_classes": [],
       "_model_module": "@jupyter-widgets/controls",
       "_model_module_version": "1.5.0",
       "_model_name": "HTMLModel",
       "_view_count": null,
       "_view_module": "@jupyter-widgets/controls",
       "_view_module_version": "1.5.0",
       "_view_name": "HTMLView",
       "description": "",
       "description_tooltip": null,
       "layout": "IPY_MODEL_4581239d6b3541b8a2c3c8ddf9f8ee21",
       "placeholder": "​",
       "style": "IPY_MODEL_02514783388040deb9ab8fe1439bd72c",
       "value": " 4/4 [01:47&lt;00:00, 23.18s/it]"
      }
     },
     "d94cf083d1dc4c418366e921ca65c408": {
      "model_module": "@jupyter-widgets/controls",
      "model_module_version": "1.5.0",
      "model_name": "DescriptionStyleModel",
      "state": {
       "_model_module": "@jupyter-widgets/controls",
       "_model_module_version": "1.5.0",
       "_model_name": "DescriptionStyleModel",
       "_view_count": null,
       "_view_module": "@jupyter-widgets/base",
       "_view_module_version": "1.2.0",
       "_view_name": "StyleView",
       "description_width": ""
      }
     },
     "ddfe4269c41344b3a6014d3d333b2916": {
      "model_module": "@jupyter-widgets/controls",
      "model_module_version": "1.5.0",
      "model_name": "HBoxModel",
      "state": {
       "_dom_classes": [],
       "_model_module": "@jupyter-widgets/controls",
       "_model_module_version": "1.5.0",
       "_model_name": "HBoxModel",
       "_view_count": null,
       "_view_module": "@jupyter-widgets/controls",
       "_view_module_version": "1.5.0",
       "_view_name": "HBoxView",
       "box_style": "",
       "children": [
        "IPY_MODEL_c9e7bfb5bd4142fdab345d3b51d9fce4",
        "IPY_MODEL_a035e7ca05ee4cbca34619eeb0c7c174",
        "IPY_MODEL_212c445e20844e46b0f703384826650a"
       ],
       "layout": "IPY_MODEL_a9f184f3e5a54a818cf7a2ec7e22f77b"
      }
     },
     "e24c34050ac64edfbb9cfecbd547908d": {
      "model_module": "@jupyter-widgets/controls",
      "model_module_version": "1.5.0",
      "model_name": "DescriptionStyleModel",
      "state": {
       "_model_module": "@jupyter-widgets/controls",
       "_model_module_version": "1.5.0",
       "_model_name": "DescriptionStyleModel",
       "_view_count": null,
       "_view_module": "@jupyter-widgets/base",
       "_view_module_version": "1.2.0",
       "_view_name": "StyleView",
       "description_width": ""
      }
     },
     "e596c65fbae34e7d89ba6f2959cddab6": {
      "model_module": "@jupyter-widgets/controls",
      "model_module_version": "1.5.0",
      "model_name": "FloatProgressModel",
      "state": {
       "_dom_classes": [],
       "_model_module": "@jupyter-widgets/controls",
       "_model_module_version": "1.5.0",
       "_model_name": "FloatProgressModel",
       "_view_count": null,
       "_view_module": "@jupyter-widgets/controls",
       "_view_module_version": "1.5.0",
       "_view_name": "ProgressView",
       "bar_style": "success",
       "description": "",
       "description_tooltip": null,
       "layout": "IPY_MODEL_5f3b38dff3a54d94b94ad6cfc4c950cf",
       "max": 4.0,
       "min": 0.0,
       "orientation": "horizontal",
       "style": "IPY_MODEL_ae1110b514844495bde039211aac150c",
       "value": 4.0
      }
     },
     "ec3a61344ba241fdb7f4b9bcc2d20b59": {
      "model_module": "@jupyter-widgets/base",
      "model_module_version": "1.2.0",
      "model_name": "LayoutModel",
      "state": {
       "_model_module": "@jupyter-widgets/base",
       "_model_module_version": "1.2.0",
       "_model_name": "LayoutModel",
       "_view_count": null,
       "_view_module": "@jupyter-widgets/base",
       "_view_module_version": "1.2.0",
       "_view_name": "LayoutView",
       "align_content": null,
       "align_items": null,
       "align_self": null,
       "border": null,
       "bottom": null,
       "display": null,
       "flex": null,
       "flex_flow": null,
       "grid_area": null,
       "grid_auto_columns": null,
       "grid_auto_flow": null,
       "grid_auto_rows": null,
       "grid_column": null,
       "grid_gap": null,
       "grid_row": null,
       "grid_template_areas": null,
       "grid_template_columns": null,
       "grid_template_rows": null,
       "height": null,
       "justify_content": null,
       "justify_items": null,
       "left": null,
       "margin": null,
       "max_height": null,
       "max_width": null,
       "min_height": null,
       "min_width": null,
       "object_fit": null,
       "object_position": null,
       "order": null,
       "overflow": null,
       "overflow_x": null,
       "overflow_y": null,
       "padding": null,
       "right": null,
       "top": null,
       "visibility": null,
       "width": null
      }
     },
     "f7b9395b358848369b029aeebc161438": {
      "model_module": "@jupyter-widgets/base",
      "model_module_version": "1.2.0",
      "model_name": "LayoutModel",
      "state": {
       "_model_module": "@jupyter-widgets/base",
       "_model_module_version": "1.2.0",
       "_model_name": "LayoutModel",
       "_view_count": null,
       "_view_module": "@jupyter-widgets/base",
       "_view_module_version": "1.2.0",
       "_view_name": "LayoutView",
       "align_content": null,
       "align_items": null,
       "align_self": null,
       "border": null,
       "bottom": null,
       "display": null,
       "flex": null,
       "flex_flow": null,
       "grid_area": null,
       "grid_auto_columns": null,
       "grid_auto_flow": null,
       "grid_auto_rows": null,
       "grid_column": null,
       "grid_gap": null,
       "grid_row": null,
       "grid_template_areas": null,
       "grid_template_columns": null,
       "grid_template_rows": null,
       "height": null,
       "justify_content": null,
       "justify_items": null,
       "left": null,
       "margin": null,
       "max_height": null,
       "max_width": null,
       "min_height": null,
       "min_width": null,
       "object_fit": null,
       "object_position": null,
       "order": null,
       "overflow": null,
       "overflow_x": null,
       "overflow_y": null,
       "padding": null,
       "right": null,
       "top": null,
       "visibility": null,
       "width": null
      }
     },
     "fc4826d66b0b42409b60a93f59a56a1d": {
      "model_module": "@jupyter-widgets/base",
      "model_module_version": "1.2.0",
      "model_name": "LayoutModel",
      "state": {
       "_model_module": "@jupyter-widgets/base",
       "_model_module_version": "1.2.0",
       "_model_name": "LayoutModel",
       "_view_count": null,
       "_view_module": "@jupyter-widgets/base",
       "_view_module_version": "1.2.0",
       "_view_name": "LayoutView",
       "align_content": null,
       "align_items": null,
       "align_self": null,
       "border": null,
       "bottom": null,
       "display": null,
       "flex": null,
       "flex_flow": null,
       "grid_area": null,
       "grid_auto_columns": null,
       "grid_auto_flow": null,
       "grid_auto_rows": null,
       "grid_column": null,
       "grid_gap": null,
       "grid_row": null,
       "grid_template_areas": null,
       "grid_template_columns": null,
       "grid_template_rows": null,
       "height": null,
       "justify_content": null,
       "justify_items": null,
       "left": null,
       "margin": null,
       "max_height": null,
       "max_width": null,
       "min_height": null,
       "min_width": null,
       "object_fit": null,
       "object_position": null,
       "order": null,
       "overflow": null,
       "overflow_x": null,
       "overflow_y": null,
       "padding": null,
       "right": null,
       "top": null,
       "visibility": null,
       "width": null
      }
     }
    },
    "version_major": 2,
    "version_minor": 0
   }
  }
 },
 "nbformat": 4,
 "nbformat_minor": 5
}
