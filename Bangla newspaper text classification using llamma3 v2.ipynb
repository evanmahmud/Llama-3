{
 "cells": [
  {
   "cell_type": "code",
   "execution_count": 1,
   "id": "efd2afe3",
   "metadata": {
    "_cell_guid": "b1076dfc-b9ad-4769-8c92-a6c4dae69d19",
    "_uuid": "8f2839f25d086af736a60e9eeb907d3b93b6e0e5",
    "execution": {
     "iopub.execute_input": "2024-10-02T15:43:23.332610Z",
     "iopub.status.busy": "2024-10-02T15:43:23.332252Z",
     "iopub.status.idle": "2024-10-02T15:43:24.098756Z",
     "shell.execute_reply": "2024-10-02T15:43:24.097759Z"
    },
    "papermill": {
     "duration": 0.785585,
     "end_time": "2024-10-02T15:43:24.101110",
     "exception": false,
     "start_time": "2024-10-02T15:43:23.315525",
     "status": "completed"
    },
    "tags": []
   },
   "outputs": [
    {
     "name": "stdout",
     "output_type": "stream",
     "text": [
      "/kaggle/input/bangla-newspaper-dataset/data_v2/data_v2.json\n",
      "/kaggle/input/bangla-newspaper-dataset/data/data.json\n",
      "/kaggle/input/llamma3/__results__.html\n",
      "/kaggle/input/llamma3/__notebook__.ipynb\n",
      "/kaggle/input/llamma3/__output__.json\n",
      "/kaggle/input/llamma3/custom.css\n",
      "/kaggle/input/llamma3/__results___files/__results___20_0.png\n",
      "/kaggle/input/llamma3/__results___files/__results___53_0.png\n",
      "/kaggle/input/llamma3/__results___files/__results___13_0.png\n",
      "/kaggle/input/llama-3.1/transformers/8b-instruct/2/model.safetensors.index.json\n",
      "/kaggle/input/llama-3.1/transformers/8b-instruct/2/model-00003-of-00004.safetensors\n",
      "/kaggle/input/llama-3.1/transformers/8b-instruct/2/config.json\n",
      "/kaggle/input/llama-3.1/transformers/8b-instruct/2/LICENSE\n",
      "/kaggle/input/llama-3.1/transformers/8b-instruct/2/model-00001-of-00004.safetensors\n",
      "/kaggle/input/llama-3.1/transformers/8b-instruct/2/README.md\n",
      "/kaggle/input/llama-3.1/transformers/8b-instruct/2/USE_POLICY.md\n",
      "/kaggle/input/llama-3.1/transformers/8b-instruct/2/tokenizer.json\n",
      "/kaggle/input/llama-3.1/transformers/8b-instruct/2/tokenizer_config.json\n",
      "/kaggle/input/llama-3.1/transformers/8b-instruct/2/model-00004-of-00004.safetensors\n",
      "/kaggle/input/llama-3.1/transformers/8b-instruct/2/special_tokens_map.json\n",
      "/kaggle/input/llama-3.1/transformers/8b-instruct/2/.gitattributes\n",
      "/kaggle/input/llama-3.1/transformers/8b-instruct/2/model-00002-of-00004.safetensors\n",
      "/kaggle/input/llama-3.1/transformers/8b-instruct/2/generation_config.json\n",
      "/kaggle/input/llama-3.1/transformers/8b-instruct/2/original/consolidated.00.pth\n",
      "/kaggle/input/llama-3.1/transformers/8b-instruct/2/original/params.json\n",
      "/kaggle/input/llama-3.1/transformers/8b-instruct/2/original/tokenizer.model\n",
      "/kaggle/input/llama-3.1/transformers/8b-instruct/1/model.safetensors.index.json\n",
      "/kaggle/input/llama-3.1/transformers/8b-instruct/1/model-00003-of-00004.safetensors\n",
      "/kaggle/input/llama-3.1/transformers/8b-instruct/1/config.json\n",
      "/kaggle/input/llama-3.1/transformers/8b-instruct/1/model-00001-of-00004.safetensors\n",
      "/kaggle/input/llama-3.1/transformers/8b-instruct/1/README.md\n",
      "/kaggle/input/llama-3.1/transformers/8b-instruct/1/USE_POLICY.md\n",
      "/kaggle/input/llama-3.1/transformers/8b-instruct/1/tokenizer.json\n",
      "/kaggle/input/llama-3.1/transformers/8b-instruct/1/tokenizer_config.json\n",
      "/kaggle/input/llama-3.1/transformers/8b-instruct/1/model-00004-of-00004.safetensors\n",
      "/kaggle/input/llama-3.1/transformers/8b-instruct/1/special_tokens_map.json\n",
      "/kaggle/input/llama-3.1/transformers/8b-instruct/1/model-00002-of-00004.safetensors\n",
      "/kaggle/input/llama-3.1/transformers/8b-instruct/1/generation_config.json\n"
     ]
    }
   ],
   "source": [
    "# This Python 3 environment comes with many helpful analytics libraries installed\n",
    "# It is defined by the kaggle/python Docker image: https://github.com/kaggle/docker-python\n",
    "# For example, here's several helpful packages to load\n",
    "\n",
    "import numpy as np # linear algebra\n",
    "import pandas as pd # data processing, CSV file I/O (e.g. pd.read_csv)\n",
    "\n",
    "# Input data files are available in the read-only \"../input/\" directory\n",
    "# For example, running this (by clicking run or pressing Shift+Enter) will list all files under the input directory\n",
    "\n",
    "import os\n",
    "for dirname, _, filenames in os.walk('/kaggle/input'):\n",
    "    for filename in filenames:\n",
    "        print(os.path.join(dirname, filename))\n",
    "\n",
    "# You can write up to 20GB to the current directory (/kaggle/working/) that gets preserved as output when you create a version using \"Save & Run All\" \n",
    "# You can also write temporary files to /kaggle/temp/, but they won't be saved outside of the current session"
   ]
  },
  {
   "cell_type": "code",
   "execution_count": 2,
   "id": "32eaf5a8",
   "metadata": {
    "execution": {
     "iopub.execute_input": "2024-10-02T15:43:24.132281Z",
     "iopub.status.busy": "2024-10-02T15:43:24.131826Z",
     "iopub.status.idle": "2024-10-02T15:44:40.386386Z",
     "shell.execute_reply": "2024-10-02T15:44:40.385071Z"
    },
    "papermill": {
     "duration": 76.272396,
     "end_time": "2024-10-02T15:44:40.389155",
     "exception": false,
     "start_time": "2024-10-02T15:43:24.116759",
     "status": "completed"
    },
    "tags": []
   },
   "outputs": [],
   "source": [
    "%%capture\n",
    "%pip install -U bitsandbytes\n",
    "%pip install -U transformers\n",
    "%pip install -U accelerate\n",
    "%pip install -U peft\n",
    "%pip install -U trl"
   ]
  },
  {
   "cell_type": "code",
   "execution_count": 3,
   "id": "dac511fd",
   "metadata": {
    "execution": {
     "iopub.execute_input": "2024-10-02T15:44:40.419858Z",
     "iopub.status.busy": "2024-10-02T15:44:40.419506Z",
     "iopub.status.idle": "2024-10-02T15:44:51.830660Z",
     "shell.execute_reply": "2024-10-02T15:44:51.829709Z"
    },
    "papermill": {
     "duration": 11.429262,
     "end_time": "2024-10-02T15:44:51.833155",
     "exception": false,
     "start_time": "2024-10-02T15:44:40.403893",
     "status": "completed"
    },
    "tags": []
   },
   "outputs": [
    {
     "name": "stdout",
     "output_type": "stream",
     "text": [
      "Requirement already satisfied: wandb in /opt/conda/lib/python3.10/site-packages (0.18.1)\r\n",
      "Requirement already satisfied: click!=8.0.0,>=7.1 in /opt/conda/lib/python3.10/site-packages (from wandb) (8.1.7)\r\n",
      "Requirement already satisfied: docker-pycreds>=0.4.0 in /opt/conda/lib/python3.10/site-packages (from wandb) (0.4.0)\r\n",
      "Requirement already satisfied: gitpython!=3.1.29,>=1.0.0 in /opt/conda/lib/python3.10/site-packages (from wandb) (3.1.43)\r\n",
      "Requirement already satisfied: platformdirs in /opt/conda/lib/python3.10/site-packages (from wandb) (3.11.0)\r\n",
      "Requirement already satisfied: protobuf!=4.21.0,!=5.28.0,<6,>=3.19.0 in /opt/conda/lib/python3.10/site-packages (from wandb) (3.20.3)\r\n",
      "Requirement already satisfied: psutil>=5.0.0 in /opt/conda/lib/python3.10/site-packages (from wandb) (5.9.3)\r\n",
      "Requirement already satisfied: pyyaml in /opt/conda/lib/python3.10/site-packages (from wandb) (6.0.2)\r\n",
      "Requirement already satisfied: requests<3,>=2.0.0 in /opt/conda/lib/python3.10/site-packages (from wandb) (2.32.3)\r\n",
      "Requirement already satisfied: sentry-sdk>=1.0.0 in /opt/conda/lib/python3.10/site-packages (from wandb) (2.14.0)\r\n",
      "Requirement already satisfied: setproctitle in /opt/conda/lib/python3.10/site-packages (from wandb) (1.3.3)\r\n",
      "Requirement already satisfied: setuptools in /opt/conda/lib/python3.10/site-packages (from wandb) (70.0.0)\r\n",
      "Requirement already satisfied: six>=1.4.0 in /opt/conda/lib/python3.10/site-packages (from docker-pycreds>=0.4.0->wandb) (1.16.0)\r\n",
      "Requirement already satisfied: gitdb<5,>=4.0.1 in /opt/conda/lib/python3.10/site-packages (from gitpython!=3.1.29,>=1.0.0->wandb) (4.0.11)\r\n",
      "Requirement already satisfied: charset-normalizer<4,>=2 in /opt/conda/lib/python3.10/site-packages (from requests<3,>=2.0.0->wandb) (3.3.2)\r\n",
      "Requirement already satisfied: idna<4,>=2.5 in /opt/conda/lib/python3.10/site-packages (from requests<3,>=2.0.0->wandb) (3.7)\r\n",
      "Requirement already satisfied: urllib3<3,>=1.21.1 in /opt/conda/lib/python3.10/site-packages (from requests<3,>=2.0.0->wandb) (1.26.18)\r\n",
      "Requirement already satisfied: certifi>=2017.4.17 in /opt/conda/lib/python3.10/site-packages (from requests<3,>=2.0.0->wandb) (2024.8.30)\r\n",
      "Requirement already satisfied: smmap<6,>=3.0.1 in /opt/conda/lib/python3.10/site-packages (from gitdb<5,>=4.0.1->gitpython!=3.1.29,>=1.0.0->wandb) (5.0.1)\r\n"
     ]
    }
   ],
   "source": [
    "!pip install wandb\n",
    "#!wandb login"
   ]
  },
  {
   "cell_type": "code",
   "execution_count": 4,
   "id": "2601441e",
   "metadata": {
    "execution": {
     "iopub.execute_input": "2024-10-02T15:44:51.864397Z",
     "iopub.status.busy": "2024-10-02T15:44:51.864051Z",
     "iopub.status.idle": "2024-10-02T15:44:54.767221Z",
     "shell.execute_reply": "2024-10-02T15:44:54.766438Z"
    },
    "papermill": {
     "duration": 2.921351,
     "end_time": "2024-10-02T15:44:54.769603",
     "exception": false,
     "start_time": "2024-10-02T15:44:51.848252",
     "status": "completed"
    },
    "tags": []
   },
   "outputs": [
    {
     "name": "stderr",
     "output_type": "stream",
     "text": [
      "\u001b[34m\u001b[1mwandb\u001b[0m: Using wandb-core as the SDK backend. Please refer to https://wandb.me/wandb-core for more information.\n",
      "\u001b[34m\u001b[1mwandb\u001b[0m: W&B API key is configured. Use \u001b[1m`wandb login --relogin`\u001b[0m to force relogin\n",
      "\u001b[34m\u001b[1mwandb\u001b[0m: \u001b[33mWARNING\u001b[0m If you're specifying your api key in code, ensure this code is not shared publicly.\n",
      "\u001b[34m\u001b[1mwandb\u001b[0m: \u001b[33mWARNING\u001b[0m Consider setting the WANDB_API_KEY environment variable, or running `wandb login` from the command line.\n",
      "\u001b[34m\u001b[1mwandb\u001b[0m: Appending key for api.wandb.ai to your netrc file: /root/.netrc\n",
      "\u001b[34m\u001b[1mwandb\u001b[0m: Currently logged in as: \u001b[33mcse-mahmud-evan\u001b[0m (\u001b[33mcse-mahmud-evan-ccn-university-of-science-and-technology\u001b[0m). Use \u001b[1m`wandb login --relogin`\u001b[0m to force relogin\n",
      "\u001b[34m\u001b[1mwandb\u001b[0m: Tracking run with wandb version 0.18.1\n",
      "\u001b[34m\u001b[1mwandb\u001b[0m: Run data is saved locally in \u001b[35m\u001b[1m/kaggle/working/wandb/run-20241002_154453-81l3fzqb\u001b[0m\n",
      "\u001b[34m\u001b[1mwandb\u001b[0m: Run \u001b[1m`wandb offline`\u001b[0m to turn off syncing.\n",
      "\u001b[34m\u001b[1mwandb\u001b[0m: Syncing run \u001b[33mwhole-forest-16\u001b[0m\n",
      "\u001b[34m\u001b[1mwandb\u001b[0m: ⭐️ View project at \u001b[34m\u001b[4mhttps://wandb.ai/cse-mahmud-evan-ccn-university-of-science-and-technology/Fine-tune%20llama-3.1-8b-it%20on%20Newspaper%20Dataset\u001b[0m\n",
      "\u001b[34m\u001b[1mwandb\u001b[0m: 🚀 View run at \u001b[34m\u001b[4mhttps://wandb.ai/cse-mahmud-evan-ccn-university-of-science-and-technology/Fine-tune%20llama-3.1-8b-it%20on%20Newspaper%20Dataset/runs/81l3fzqb\u001b[0m\n"
     ]
    }
   ],
   "source": [
    "import wandb\n",
    "\n",
    "from kaggle_secrets import UserSecretsClient\n",
    "user_secrets = UserSecretsClient()\n",
    "wb_token = user_secrets.get_secret(\"wandb\")\n",
    "\n",
    "wandb.login(key=wb_token)\n",
    "run = wandb.init(\n",
    "    project='Fine-tune llama-3.1-8b-it on Newspaper Dataset', \n",
    "    job_type=\"training\", \n",
    "    anonymous=\"allow\"\n",
    ")"
   ]
  },
  {
   "cell_type": "code",
   "execution_count": 5,
   "id": "b3ac24d9",
   "metadata": {
    "execution": {
     "iopub.execute_input": "2024-10-02T15:44:54.802748Z",
     "iopub.status.busy": "2024-10-02T15:44:54.802438Z",
     "iopub.status.idle": "2024-10-02T15:45:15.439966Z",
     "shell.execute_reply": "2024-10-02T15:45:15.439174Z"
    },
    "papermill": {
     "duration": 20.656667,
     "end_time": "2024-10-02T15:45:15.442389",
     "exception": false,
     "start_time": "2024-10-02T15:44:54.785722",
     "status": "completed"
    },
    "tags": []
   },
   "outputs": [],
   "source": [
    "import numpy as np\n",
    "import pandas as pd\n",
    "import os\n",
    "from tqdm import tqdm\n",
    "import bitsandbytes as bnb\n",
    "import torch\n",
    "import torch.nn as nn\n",
    "import transformers\n",
    "from peft import LoraConfig, PeftConfig\n",
    "from trl import SFTTrainer\n",
    "from trl import setup_chat_format\n",
    "from transformers import (\n",
    "    AutoModelForCausalLM,\n",
    "    AutoTokenizer,\n",
    "    BitsAndBytesConfig,\n",
    "    TrainingArguments,\n",
    "    pipeline,\n",
    "    logging\n",
    ")\n",
    "from sklearn.metrics import (\n",
    "\n",
    "    accuracy_score,\n",
    "    classification_report,\n",
    "    confusion_matrix   \n",
    ")\n",
    "from sklearn.model_selection import train_test_split"
   ]
  },
  {
   "cell_type": "code",
   "execution_count": 6,
   "id": "7897d4f6",
   "metadata": {
    "execution": {
     "iopub.execute_input": "2024-10-02T15:45:15.475867Z",
     "iopub.status.busy": "2024-10-02T15:45:15.475219Z",
     "iopub.status.idle": "2024-10-02T15:46:00.891750Z",
     "shell.execute_reply": "2024-10-02T15:46:00.890813Z"
    },
    "papermill": {
     "duration": 45.451706,
     "end_time": "2024-10-02T15:46:00.910277",
     "exception": false,
     "start_time": "2024-10-02T15:45:15.458571",
     "status": "completed"
    },
    "tags": []
   },
   "outputs": [
    {
     "data": {
      "text/html": [
       "<div>\n",
       "<style scoped>\n",
       "    .dataframe tbody tr th:only-of-type {\n",
       "        vertical-align: middle;\n",
       "    }\n",
       "\n",
       "    .dataframe tbody tr th {\n",
       "        vertical-align: top;\n",
       "    }\n",
       "\n",
       "    .dataframe thead th {\n",
       "        text-align: right;\n",
       "    }\n",
       "</style>\n",
       "<table border=\"1\" class=\"dataframe\">\n",
       "  <thead>\n",
       "    <tr style=\"text-align: right;\">\n",
       "      <th></th>\n",
       "      <th>author</th>\n",
       "      <th>category</th>\n",
       "      <th>category_bn</th>\n",
       "      <th>published_date</th>\n",
       "      <th>modification_date</th>\n",
       "      <th>tag</th>\n",
       "      <th>comment_count</th>\n",
       "      <th>title</th>\n",
       "      <th>url</th>\n",
       "      <th>content</th>\n",
       "    </tr>\n",
       "  </thead>\n",
       "  <tbody>\n",
       "    <tr>\n",
       "      <th>0</th>\n",
       "      <td>গাজীপুর প্রতিনিধি</td>\n",
       "      <td>bangladesh</td>\n",
       "      <td>বাংলাদেশ</td>\n",
       "      <td>০৪ জুলাই ২০১৩, ২৩:২৬</td>\n",
       "      <td>০৪ জুলাই ২০১৩, ২৩:২৭</td>\n",
       "      <td>[গাজীপুর]</td>\n",
       "      <td>0</td>\n",
       "      <td>কালিয়াকৈরে টিফিন খেয়ে ৫০০ শ্রমিক অসুস্থ, বিক...</td>\n",
       "      <td>http://www.prothom-alo.com/bangladesh/article/...</td>\n",
       "      <td>গাজীপুরের কালিয়াকৈর উপজেলার তেলিরচালা এলাকায়...</td>\n",
       "    </tr>\n",
       "    <tr>\n",
       "      <th>1</th>\n",
       "      <td>অনলাইন ডেস্ক</td>\n",
       "      <td>sports</td>\n",
       "      <td>খেলা</td>\n",
       "      <td>০৪ জুলাই ২০১৩, ২৩:০৯</td>\n",
       "      <td>০৪ জুলাই ২০১৩, ২৩:১১</td>\n",
       "      <td>[টেনিস]</td>\n",
       "      <td>0</td>\n",
       "      <td>সেমিফাইনাল বাধাও পেরিয়ে গেলেন লিসিকি</td>\n",
       "      <td>http://www.prothom-alo.com/sports/article/19028</td>\n",
       "      <td>এবারের উইম্বলডনটা স্মরণীয় করে রাখার মিশনেই যে...</td>\n",
       "    </tr>\n",
       "    <tr>\n",
       "      <th>2</th>\n",
       "      <td>নিজস্ব প্রতিবেদক</td>\n",
       "      <td>bangladesh</td>\n",
       "      <td>বাংলাদেশ</td>\n",
       "      <td>০৪ জুলাই ২০১৩, ২২:২৫</td>\n",
       "      <td>০৪ জুলাই ২০১৩, ২৩:১২</td>\n",
       "      <td>[রাজনীতি]</td>\n",
       "      <td>0</td>\n",
       "      <td>সংসদে খালেদার অভিযোগের জবাব দিয়েছে ভারত</td>\n",
       "      <td>http://www.prothom-alo.com/bangladesh/article/...</td>\n",
       "      <td>জাতীয় সংসদে বিএনপি চেয়ারপারসন ও বিরোধীদলীয় ...</td>\n",
       "    </tr>\n",
       "    <tr>\n",
       "      <th>3</th>\n",
       "      <td>অনলাইন ডেস্ক</td>\n",
       "      <td>technology</td>\n",
       "      <td>বিজ্ঞান ও প্রযুক্তি</td>\n",
       "      <td>০৪ জুলাই ২০১৩, ২১:৩৭</td>\n",
       "      <td>০৪ জুলাই ২০১৩, ২১:৪৫</td>\n",
       "      <td>[গবেষণা]</td>\n",
       "      <td>0</td>\n",
       "      <td>পাসওয়ার্ড ভুলে যান!</td>\n",
       "      <td>http://www.prothom-alo.com/technology/article/...</td>\n",
       "      <td>সহজ পাসওয়ার্ডের কারণে অনলাইন অ্যাকাউন্ট সহজেই...</td>\n",
       "    </tr>\n",
       "    <tr>\n",
       "      <th>4</th>\n",
       "      <td>অনলাইন ডেস্ক</td>\n",
       "      <td>technology</td>\n",
       "      <td>বিজ্ঞান ও প্রযুক্তি</td>\n",
       "      <td>০৪ জুলাই ২০১৩, ২১:৩৫</td>\n",
       "      <td>০৪ জুলাই ২০১৩, ২১:৩৭</td>\n",
       "      <td>[কম্পিউটার]</td>\n",
       "      <td>0</td>\n",
       "      <td>চলে গেলেন মাউস উদ্ভাবক</td>\n",
       "      <td>http://www.prothom-alo.com/technology/article/...</td>\n",
       "      <td>কম্পিউটার মাউসের উদ্ভাবক ডগলাস অ্যাঙ্গেলবার্ট ...</td>\n",
       "    </tr>\n",
       "  </tbody>\n",
       "</table>\n",
       "</div>"
      ],
      "text/plain": [
       "              author    category          category_bn        published_date  \\\n",
       "0  গাজীপুর প্রতিনিধি  bangladesh             বাংলাদেশ  ০৪ জুলাই ২০১৩, ২৩:২৬   \n",
       "1       অনলাইন ডেস্ক      sports                 খেলা  ০৪ জুলাই ২০১৩, ২৩:০৯   \n",
       "2   নিজস্ব প্রতিবেদক  bangladesh             বাংলাদেশ  ০৪ জুলাই ২০১৩, ২২:২৫   \n",
       "3       অনলাইন ডেস্ক  technology  বিজ্ঞান ও প্রযুক্তি  ০৪ জুলাই ২০১৩, ২১:৩৭   \n",
       "4       অনলাইন ডেস্ক  technology  বিজ্ঞান ও প্রযুক্তি  ০৪ জুলাই ২০১৩, ২১:৩৫   \n",
       "\n",
       "      modification_date          tag comment_count  \\\n",
       "0  ০৪ জুলাই ২০১৩, ২৩:২৭    [গাজীপুর]             0   \n",
       "1  ০৪ জুলাই ২০১৩, ২৩:১১      [টেনিস]             0   \n",
       "2  ০৪ জুলাই ২০১৩, ২৩:১২    [রাজনীতি]             0   \n",
       "3  ০৪ জুলাই ২০১৩, ২১:৪৫     [গবেষণা]             0   \n",
       "4  ০৪ জুলাই ২০১৩, ২১:৩৭  [কম্পিউটার]             0   \n",
       "\n",
       "                                               title  \\\n",
       "0  কালিয়াকৈরে টিফিন খেয়ে ৫০০ শ্রমিক অসুস্থ, বিক...   \n",
       "1              সেমিফাইনাল বাধাও পেরিয়ে গেলেন লিসিকি   \n",
       "2           সংসদে খালেদার অভিযোগের জবাব দিয়েছে ভারত   \n",
       "3                               পাসওয়ার্ড ভুলে যান!   \n",
       "4                             চলে গেলেন মাউস উদ্ভাবক   \n",
       "\n",
       "                                                 url  \\\n",
       "0  http://www.prothom-alo.com/bangladesh/article/...   \n",
       "1    http://www.prothom-alo.com/sports/article/19028   \n",
       "2  http://www.prothom-alo.com/bangladesh/article/...   \n",
       "3  http://www.prothom-alo.com/technology/article/...   \n",
       "4  http://www.prothom-alo.com/technology/article/...   \n",
       "\n",
       "                                             content  \n",
       "0  গাজীপুরের কালিয়াকৈর উপজেলার তেলিরচালা এলাকায়...  \n",
       "1  এবারের উইম্বলডনটা স্মরণীয় করে রাখার মিশনেই যে...  \n",
       "2  জাতীয় সংসদে বিএনপি চেয়ারপারসন ও বিরোধীদলীয় ...  \n",
       "3  সহজ পাসওয়ার্ডের কারণে অনলাইন অ্যাকাউন্ট সহজেই...  \n",
       "4  কম্পিউটার মাউসের উদ্ভাবক ডগলাস অ্যাঙ্গেলবার্ট ...  "
      ]
     },
     "execution_count": 6,
     "metadata": {},
     "output_type": "execute_result"
    }
   ],
   "source": [
    "import numpy as np\n",
    "import pandas as pd\n",
    "\n",
    "data = pd.read_json('/kaggle/input/bangla-newspaper-dataset/data_v2/data_v2.json')\n",
    "data.head()"
   ]
  },
  {
   "cell_type": "code",
   "execution_count": 7,
   "id": "04a855c8",
   "metadata": {
    "execution": {
     "iopub.execute_input": "2024-10-02T15:46:00.943223Z",
     "iopub.status.busy": "2024-10-02T15:46:00.942880Z",
     "iopub.status.idle": "2024-10-02T15:46:00.948687Z",
     "shell.execute_reply": "2024-10-02T15:46:00.947789Z"
    },
    "papermill": {
     "duration": 0.024325,
     "end_time": "2024-10-02T15:46:00.950542",
     "exception": false,
     "start_time": "2024-10-02T15:46:00.926217",
     "status": "completed"
    },
    "tags": []
   },
   "outputs": [
    {
     "data": {
      "text/plain": [
       "10"
      ]
     },
     "execution_count": 7,
     "metadata": {},
     "output_type": "execute_result"
    }
   ],
   "source": [
    "len(data.columns)"
   ]
  },
  {
   "cell_type": "code",
   "execution_count": 8,
   "id": "bf41ddcf",
   "metadata": {
    "execution": {
     "iopub.execute_input": "2024-10-02T15:46:00.984302Z",
     "iopub.status.busy": "2024-10-02T15:46:00.983470Z",
     "iopub.status.idle": "2024-10-02T15:46:01.014200Z",
     "shell.execute_reply": "2024-10-02T15:46:01.013446Z"
    },
    "papermill": {
     "duration": 0.049724,
     "end_time": "2024-10-02T15:46:01.016250",
     "exception": false,
     "start_time": "2024-10-02T15:46:00.966526",
     "status": "completed"
    },
    "tags": []
   },
   "outputs": [],
   "source": [
    "ndf = data[['content','category']]"
   ]
  },
  {
   "cell_type": "code",
   "execution_count": 9,
   "id": "c275f04b",
   "metadata": {
    "execution": {
     "iopub.execute_input": "2024-10-02T15:46:01.051227Z",
     "iopub.status.busy": "2024-10-02T15:46:01.050326Z",
     "iopub.status.idle": "2024-10-02T15:46:01.056494Z",
     "shell.execute_reply": "2024-10-02T15:46:01.055578Z"
    },
    "papermill": {
     "duration": 0.02582,
     "end_time": "2024-10-02T15:46:01.058515",
     "exception": false,
     "start_time": "2024-10-02T15:46:01.032695",
     "status": "completed"
    },
    "tags": []
   },
   "outputs": [
    {
     "data": {
      "text/plain": [
       "(408471, 2)"
      ]
     },
     "execution_count": 9,
     "metadata": {},
     "output_type": "execute_result"
    }
   ],
   "source": [
    "ndf.shape"
   ]
  },
  {
   "cell_type": "code",
   "execution_count": 10,
   "id": "8be33838",
   "metadata": {
    "execution": {
     "iopub.execute_input": "2024-10-02T15:46:01.093270Z",
     "iopub.status.busy": "2024-10-02T15:46:01.092689Z",
     "iopub.status.idle": "2024-10-02T15:46:09.234099Z",
     "shell.execute_reply": "2024-10-02T15:46:09.232920Z"
    },
    "papermill": {
     "duration": 8.161925,
     "end_time": "2024-10-02T15:46:09.236728",
     "exception": false,
     "start_time": "2024-10-02T15:46:01.074803",
     "status": "completed"
    },
    "tags": []
   },
   "outputs": [
    {
     "data": {
      "text/plain": [
       "1567"
      ]
     },
     "execution_count": 10,
     "metadata": {},
     "output_type": "execute_result"
    }
   ],
   "source": [
    "ndf.duplicated().sum()"
   ]
  },
  {
   "cell_type": "code",
   "execution_count": 11,
   "id": "d88fca1c",
   "metadata": {
    "execution": {
     "iopub.execute_input": "2024-10-02T15:46:09.273891Z",
     "iopub.status.busy": "2024-10-02T15:46:09.273542Z",
     "iopub.status.idle": "2024-10-02T15:46:13.334479Z",
     "shell.execute_reply": "2024-10-02T15:46:13.333474Z"
    },
    "papermill": {
     "duration": 4.080485,
     "end_time": "2024-10-02T15:46:13.336729",
     "exception": false,
     "start_time": "2024-10-02T15:46:09.256244",
     "status": "completed"
    },
    "tags": []
   },
   "outputs": [
    {
     "name": "stderr",
     "output_type": "stream",
     "text": [
      "/tmp/ipykernel_22/3272145479.py:1: SettingWithCopyWarning: \n",
      "A value is trying to be set on a copy of a slice from a DataFrame\n",
      "\n",
      "See the caveats in the documentation: https://pandas.pydata.org/pandas-docs/stable/user_guide/indexing.html#returning-a-view-versus-a-copy\n",
      "  ndf.drop_duplicates(inplace= True)\n"
     ]
    }
   ],
   "source": [
    "ndf.drop_duplicates(inplace= True)"
   ]
  },
  {
   "cell_type": "code",
   "execution_count": 12,
   "id": "e17f6f43",
   "metadata": {
    "execution": {
     "iopub.execute_input": "2024-10-02T15:46:13.371209Z",
     "iopub.status.busy": "2024-10-02T15:46:13.370852Z",
     "iopub.status.idle": "2024-10-02T15:46:13.376565Z",
     "shell.execute_reply": "2024-10-02T15:46:13.375685Z"
    },
    "papermill": {
     "duration": 0.024976,
     "end_time": "2024-10-02T15:46:13.378453",
     "exception": false,
     "start_time": "2024-10-02T15:46:13.353477",
     "status": "completed"
    },
    "tags": []
   },
   "outputs": [
    {
     "data": {
      "text/plain": [
       "(406904, 2)"
      ]
     },
     "execution_count": 12,
     "metadata": {},
     "output_type": "execute_result"
    }
   ],
   "source": [
    "ndf.shape"
   ]
  },
  {
   "cell_type": "code",
   "execution_count": 13,
   "id": "8a871cbf",
   "metadata": {
    "execution": {
     "iopub.execute_input": "2024-10-02T15:46:13.412501Z",
     "iopub.status.busy": "2024-10-02T15:46:13.412205Z",
     "iopub.status.idle": "2024-10-02T15:46:13.490124Z",
     "shell.execute_reply": "2024-10-02T15:46:13.489235Z"
    },
    "papermill": {
     "duration": 0.096974,
     "end_time": "2024-10-02T15:46:13.491931",
     "exception": false,
     "start_time": "2024-10-02T15:46:13.394957",
     "status": "completed"
    },
    "tags": []
   },
   "outputs": [
    {
     "data": {
      "text/plain": [
       "array(['bangladesh', 'sports', 'technology', 'entertainment',\n",
       "       'international', 'economy', 'life-style', 'opinion', 'education'],\n",
       "      dtype=object)"
      ]
     },
     "execution_count": 13,
     "metadata": {},
     "output_type": "execute_result"
    }
   ],
   "source": [
    "ndf.category.unique()"
   ]
  },
  {
   "cell_type": "code",
   "execution_count": 14,
   "id": "e4920287",
   "metadata": {
    "execution": {
     "iopub.execute_input": "2024-10-02T15:46:13.526269Z",
     "iopub.status.busy": "2024-10-02T15:46:13.525930Z",
     "iopub.status.idle": "2024-10-02T15:46:14.291305Z",
     "shell.execute_reply": "2024-10-02T15:46:14.290279Z"
    },
    "papermill": {
     "duration": 0.785045,
     "end_time": "2024-10-02T15:46:14.293494",
     "exception": false,
     "start_time": "2024-10-02T15:46:13.508449",
     "status": "completed"
    },
    "tags": []
   },
   "outputs": [
    {
     "data": {
      "image/png": "[encoded data removed]",
      "text/plain": [
       "<Figure size 640x480 with 1 Axes>"
      ]
     },
     "metadata": {},
     "output_type": "display_data"
    }
   ],
   "source": [
    "import matplotlib as mpl\n",
    "import seaborn as sns\n",
    "import matplotlib.pyplot as plt\n",
    "\n",
    "\n",
    "color_palette = ['maroon', 'red', 'green', 'orange', 'purple', 'violet','teal','gray','magenta']\n",
    "\n",
    "labels = ndf['category'].value_counts().index\n",
    "values = ndf['category'].value_counts().values\n",
    "\n",
    "plt.bar(labels,values, color = color_palette)\n",
    "plt.title(\"Imbalance Categorical distribution\")\n",
    "plt.xticks(rotation=90)\n",
    "plt.xlabel('News Category')\n",
    "plt.ylabel('Number of Class')\n",
    "\n",
    "\n",
    "\n",
    "plt.show()"
   ]
  },
  {
   "cell_type": "code",
   "execution_count": 15,
   "id": "7c8985a3",
   "metadata": {
    "execution": {
     "iopub.execute_input": "2024-10-02T15:46:14.330924Z",
     "iopub.status.busy": "2024-10-02T15:46:14.329817Z",
     "iopub.status.idle": "2024-10-02T15:46:14.336104Z",
     "shell.execute_reply": "2024-10-02T15:46:14.335271Z"
    },
    "papermill": {
     "duration": 0.02668,
     "end_time": "2024-10-02T15:46:14.338010",
     "exception": false,
     "start_time": "2024-10-02T15:46:14.311330",
     "status": "completed"
    },
    "tags": []
   },
   "outputs": [
    {
     "data": {
      "text/plain": [
       "\"from sklearn.preprocessing import LabelEncoder\\nlbl = LabelEncoder()\\nndf['category'] = lbl.fit_transform(ndf['category'])\""
      ]
     },
     "execution_count": 15,
     "metadata": {},
     "output_type": "execute_result"
    }
   ],
   "source": [
    "'''from sklearn.preprocessing import LabelEncoder\n",
    "lbl = LabelEncoder()\n",
    "ndf['category'] = lbl.fit_transform(ndf['category'])'''"
   ]
  },
  {
   "cell_type": "code",
   "execution_count": 16,
   "id": "984f08c0",
   "metadata": {
    "execution": {
     "iopub.execute_input": "2024-10-02T15:46:14.373687Z",
     "iopub.status.busy": "2024-10-02T15:46:14.373409Z",
     "iopub.status.idle": "2024-10-02T15:46:14.382498Z",
     "shell.execute_reply": "2024-10-02T15:46:14.381537Z"
    },
    "papermill": {
     "duration": 0.029322,
     "end_time": "2024-10-02T15:46:14.384603",
     "exception": false,
     "start_time": "2024-10-02T15:46:14.355281",
     "status": "completed"
    },
    "tags": []
   },
   "outputs": [
    {
     "data": {
      "text/html": [
       "<div>\n",
       "<style scoped>\n",
       "    .dataframe tbody tr th:only-of-type {\n",
       "        vertical-align: middle;\n",
       "    }\n",
       "\n",
       "    .dataframe tbody tr th {\n",
       "        vertical-align: top;\n",
       "    }\n",
       "\n",
       "    .dataframe thead th {\n",
       "        text-align: right;\n",
       "    }\n",
       "</style>\n",
       "<table border=\"1\" class=\"dataframe\">\n",
       "  <thead>\n",
       "    <tr style=\"text-align: right;\">\n",
       "      <th></th>\n",
       "      <th>content</th>\n",
       "      <th>category</th>\n",
       "    </tr>\n",
       "  </thead>\n",
       "  <tbody>\n",
       "    <tr>\n",
       "      <th>0</th>\n",
       "      <td>গাজীপুরের কালিয়াকৈর উপজেলার তেলিরচালা এলাকায়...</td>\n",
       "      <td>bangladesh</td>\n",
       "    </tr>\n",
       "    <tr>\n",
       "      <th>1</th>\n",
       "      <td>এবারের উইম্বলডনটা স্মরণীয় করে রাখার মিশনেই যে...</td>\n",
       "      <td>sports</td>\n",
       "    </tr>\n",
       "    <tr>\n",
       "      <th>2</th>\n",
       "      <td>জাতীয় সংসদে বিএনপি চেয়ারপারসন ও বিরোধীদলীয় ...</td>\n",
       "      <td>bangladesh</td>\n",
       "    </tr>\n",
       "    <tr>\n",
       "      <th>3</th>\n",
       "      <td>সহজ পাসওয়ার্ডের কারণে অনলাইন অ্যাকাউন্ট সহজেই...</td>\n",
       "      <td>technology</td>\n",
       "    </tr>\n",
       "    <tr>\n",
       "      <th>4</th>\n",
       "      <td>কম্পিউটার মাউসের উদ্ভাবক ডগলাস অ্যাঙ্গেলবার্ট ...</td>\n",
       "      <td>technology</td>\n",
       "    </tr>\n",
       "  </tbody>\n",
       "</table>\n",
       "</div>"
      ],
      "text/plain": [
       "                                             content    category\n",
       "0  গাজীপুরের কালিয়াকৈর উপজেলার তেলিরচালা এলাকায়...  bangladesh\n",
       "1  এবারের উইম্বলডনটা স্মরণীয় করে রাখার মিশনেই যে...      sports\n",
       "2  জাতীয় সংসদে বিএনপি চেয়ারপারসন ও বিরোধীদলীয় ...  bangladesh\n",
       "3  সহজ পাসওয়ার্ডের কারণে অনলাইন অ্যাকাউন্ট সহজেই...  technology\n",
       "4  কম্পিউটার মাউসের উদ্ভাবক ডগলাস অ্যাঙ্গেলবার্ট ...  technology"
      ]
     },
     "execution_count": 16,
     "metadata": {},
     "output_type": "execute_result"
    }
   ],
   "source": [
    "ndf.head()"
   ]
  },
  {
   "cell_type": "code",
   "execution_count": 17,
   "id": "98d27d59",
   "metadata": {
    "execution": {
     "iopub.execute_input": "2024-10-02T15:46:14.420370Z",
     "iopub.status.busy": "2024-10-02T15:46:14.420096Z",
     "iopub.status.idle": "2024-10-02T15:46:26.326238Z",
     "shell.execute_reply": "2024-10-02T15:46:26.324982Z"
    },
    "papermill": {
     "duration": 11.926812,
     "end_time": "2024-10-02T15:46:26.328707",
     "exception": false,
     "start_time": "2024-10-02T15:46:14.401895",
     "status": "completed"
    },
    "tags": []
   },
   "outputs": [
    {
     "name": "stderr",
     "output_type": "stream",
     "text": [
      "/opt/conda/lib/python3.10/pty.py:89: RuntimeWarning: os.fork() was called. os.fork() is incompatible with multithreaded code, and JAX is multithreaded, so this will likely lead to a deadlock.\n",
      "  pid, fd = os.forkpty()\n"
     ]
    },
    {
     "name": "stdout",
     "output_type": "stream",
     "text": [
      "Collecting imblearn\r\n",
      "  Downloading imblearn-0.0-py2.py3-none-any.whl.metadata (355 bytes)\r\n",
      "Requirement already satisfied: imbalanced-learn in /opt/conda/lib/python3.10/site-packages (from imblearn) (0.12.3)\r\n",
      "Requirement already satisfied: numpy>=1.17.3 in /opt/conda/lib/python3.10/site-packages (from imbalanced-learn->imblearn) (1.26.4)\r\n",
      "Requirement already satisfied: scipy>=1.5.0 in /opt/conda/lib/python3.10/site-packages (from imbalanced-learn->imblearn) (1.14.1)\r\n",
      "Requirement already satisfied: scikit-learn>=1.0.2 in /opt/conda/lib/python3.10/site-packages (from imbalanced-learn->imblearn) (1.2.2)\r\n",
      "Requirement already satisfied: joblib>=1.1.1 in /opt/conda/lib/python3.10/site-packages (from imbalanced-learn->imblearn) (1.4.2)\r\n",
      "Requirement already satisfied: threadpoolctl>=2.0.0 in /opt/conda/lib/python3.10/site-packages (from imbalanced-learn->imblearn) (3.5.0)\r\n",
      "Downloading imblearn-0.0-py2.py3-none-any.whl (1.9 kB)\r\n",
      "Installing collected packages: imblearn\r\n",
      "Successfully installed imblearn-0.0\r\n"
     ]
    }
   ],
   "source": [
    "!pip install imblearn"
   ]
  },
  {
   "cell_type": "code",
   "execution_count": 18,
   "id": "95fb431b",
   "metadata": {
    "execution": {
     "iopub.execute_input": "2024-10-02T15:46:26.367205Z",
     "iopub.status.busy": "2024-10-02T15:46:26.366858Z",
     "iopub.status.idle": "2024-10-02T15:46:31.784741Z",
     "shell.execute_reply": "2024-10-02T15:46:31.783868Z"
    },
    "papermill": {
     "duration": 5.439561,
     "end_time": "2024-10-02T15:46:31.787060",
     "exception": false,
     "start_time": "2024-10-02T15:46:26.347499",
     "status": "completed"
    },
    "tags": []
   },
   "outputs": [],
   "source": [
    "\n",
    "from imblearn.under_sampling import RandomUnderSampler\n",
    "\n",
    "A = ndf.drop('category',axis = 1)\n",
    "b = ndf['category']\n",
    "\n",
    "rus = RandomUnderSampler()\n",
    "\n",
    "A_resampled, b_resampled = rus.fit_resample(A,b)\n",
    "\n",
    "resampled_df = pd.DataFrame(A_resampled,columns = A.columns)\n",
    "resampled_df['category'] = b_resampled\n",
    "\n",
    "resampled_df = resampled_df.sample(frac = 1, random_state = 85).reset_index (drop=True)"
   ]
  },
  {
   "cell_type": "code",
   "execution_count": 19,
   "id": "e94b6e8f",
   "metadata": {
    "execution": {
     "iopub.execute_input": "2024-10-02T15:46:31.826509Z",
     "iopub.status.busy": "2024-10-02T15:46:31.825422Z",
     "iopub.status.idle": "2024-10-02T15:46:31.835256Z",
     "shell.execute_reply": "2024-10-02T15:46:31.834436Z"
    },
    "papermill": {
     "duration": 0.031478,
     "end_time": "2024-10-02T15:46:31.837251",
     "exception": false,
     "start_time": "2024-10-02T15:46:31.805773",
     "status": "completed"
    },
    "tags": []
   },
   "outputs": [
    {
     "data": {
      "text/html": [
       "<div>\n",
       "<style scoped>\n",
       "    .dataframe tbody tr th:only-of-type {\n",
       "        vertical-align: middle;\n",
       "    }\n",
       "\n",
       "    .dataframe tbody tr th {\n",
       "        vertical-align: top;\n",
       "    }\n",
       "\n",
       "    .dataframe thead th {\n",
       "        text-align: right;\n",
       "    }\n",
       "</style>\n",
       "<table border=\"1\" class=\"dataframe\">\n",
       "  <thead>\n",
       "    <tr style=\"text-align: right;\">\n",
       "      <th></th>\n",
       "      <th>content</th>\n",
       "      <th>category</th>\n",
       "    </tr>\n",
       "  </thead>\n",
       "  <tbody>\n",
       "    <tr>\n",
       "      <th>0</th>\n",
       "      <td>অনলাইনে পণ্য কেনা-বেচার ওয়েবসাইট সেলবাজারের উদ...</td>\n",
       "      <td>technology</td>\n",
       "    </tr>\n",
       "    <tr>\n",
       "      <th>1</th>\n",
       "      <td>লালমনিরহাট জেলা শহরের পুরান বাজারে সম্প্রতি লা...</td>\n",
       "      <td>economy</td>\n",
       "    </tr>\n",
       "    <tr>\n",
       "      <th>2</th>\n",
       "      <td>রাস্তায় যেকে​ানো অবস্থায় বেপরোয়া গাড়ি চালালে ...</td>\n",
       "      <td>life-style</td>\n",
       "    </tr>\n",
       "    <tr>\n",
       "      <th>3</th>\n",
       "      <td>পোল্যান্ডের রাজধানী ওয়ারশতে জাতিসংঘ জলবায়ু স...</td>\n",
       "      <td>opinion</td>\n",
       "    </tr>\n",
       "    <tr>\n",
       "      <th>4</th>\n",
       "      <td>অধ্যায়-৩ প্রিয় শিক্ষার্থী, আজ প্রাথমিক বিজ্ঞা...</td>\n",
       "      <td>education</td>\n",
       "    </tr>\n",
       "  </tbody>\n",
       "</table>\n",
       "</div>"
      ],
      "text/plain": [
       "                                             content    category\n",
       "0  অনলাইনে পণ্য কেনা-বেচার ওয়েবসাইট সেলবাজারের উদ...  technology\n",
       "1  লালমনিরহাট জেলা শহরের পুরান বাজারে সম্প্রতি লা...     economy\n",
       "2  রাস্তায় যেকে​ানো অবস্থায় বেপরোয়া গাড়ি চালালে ...  life-style\n",
       "3  পোল্যান্ডের রাজধানী ওয়ারশতে জাতিসংঘ জলবায়ু স...     opinion\n",
       "4  অধ্যায়-৩ প্রিয় শিক্ষার্থী, আজ প্রাথমিক বিজ্ঞা...   education"
      ]
     },
     "execution_count": 19,
     "metadata": {},
     "output_type": "execute_result"
    }
   ],
   "source": [
    "resampled_df.head()"
   ]
  },
  {
   "cell_type": "code",
   "execution_count": 20,
   "id": "56f53263",
   "metadata": {
    "execution": {
     "iopub.execute_input": "2024-10-02T15:46:31.875029Z",
     "iopub.status.busy": "2024-10-02T15:46:31.874528Z",
     "iopub.status.idle": "2024-10-02T15:46:31.880422Z",
     "shell.execute_reply": "2024-10-02T15:46:31.879558Z"
    },
    "papermill": {
     "duration": 0.026829,
     "end_time": "2024-10-02T15:46:31.882301",
     "exception": false,
     "start_time": "2024-10-02T15:46:31.855472",
     "status": "completed"
    },
    "tags": []
   },
   "outputs": [
    {
     "data": {
      "text/plain": [
       "(86868, 2)"
      ]
     },
     "execution_count": 20,
     "metadata": {},
     "output_type": "execute_result"
    }
   ],
   "source": [
    "resampled_df.shape"
   ]
  },
  {
   "cell_type": "code",
   "execution_count": 21,
   "id": "3bfca052",
   "metadata": {
    "execution": {
     "iopub.execute_input": "2024-10-02T15:46:31.920192Z",
     "iopub.status.busy": "2024-10-02T15:46:31.919680Z",
     "iopub.status.idle": "2024-10-02T15:46:32.244942Z",
     "shell.execute_reply": "2024-10-02T15:46:32.244083Z"
    },
    "papermill": {
     "duration": 0.347468,
     "end_time": "2024-10-02T15:46:32.248084",
     "exception": false,
     "start_time": "2024-10-02T15:46:31.900616",
     "status": "completed"
    },
    "tags": []
   },
   "outputs": [
    {
     "data": {
      "image/png": "[encoded data removed]",
      "text/plain": [
       "<Figure size 640x480 with 1 Axes>"
      ]
     },
     "metadata": {},
     "output_type": "display_data"
    }
   ],
   "source": [
    "#category distribution\n",
    "labels = resampled_df['category'].value_counts().index\n",
    "values = resampled_df['category'].value_counts().values\n",
    "\n",
    "color_palette = ['maroon', 'red', 'green', 'orange', 'purple', 'violet','teal','gray','magenta']\n",
    "\n",
    "#plot bar chart\n",
    "plt.bar(labels,values, color = color_palette)\n",
    "plt.title('Imbalance Categorical distribution')\n",
    "plt.xticks(rotation=90)\n",
    "plt.xlabel('News Category')\n",
    "plt.ylabel('Number of class')\n",
    "plt.show()"
   ]
  },
  {
   "cell_type": "code",
   "execution_count": 22,
   "id": "0ca6183e",
   "metadata": {
    "execution": {
     "iopub.execute_input": "2024-10-02T15:46:32.288954Z",
     "iopub.status.busy": "2024-10-02T15:46:32.288334Z",
     "iopub.status.idle": "2024-10-02T15:46:32.319603Z",
     "shell.execute_reply": "2024-10-02T15:46:32.318501Z"
    },
    "papermill": {
     "duration": 0.053266,
     "end_time": "2024-10-02T15:46:32.321523",
     "exception": false,
     "start_time": "2024-10-02T15:46:32.268257",
     "status": "completed"
    },
    "tags": []
   },
   "outputs": [
    {
     "data": {
      "text/plain": [
       "category\n",
       "technology       9652\n",
       "economy          9652\n",
       "life-style       9652\n",
       "opinion          9652\n",
       "education        9652\n",
       "sports           9652\n",
       "international    9652\n",
       "entertainment    9652\n",
       "bangladesh       9652\n",
       "Name: count, dtype: int64"
      ]
     },
     "execution_count": 22,
     "metadata": {},
     "output_type": "execute_result"
    }
   ],
   "source": [
    "resampled_df['category'].value_counts()"
   ]
  },
  {
   "cell_type": "code",
   "execution_count": 23,
   "id": "cf71676d",
   "metadata": {
    "execution": {
     "iopub.execute_input": "2024-10-02T15:46:32.361279Z",
     "iopub.status.busy": "2024-10-02T15:46:32.360940Z",
     "iopub.status.idle": "2024-10-02T15:46:32.393935Z",
     "shell.execute_reply": "2024-10-02T15:46:32.393083Z"
    },
    "papermill": {
     "duration": 0.055316,
     "end_time": "2024-10-02T15:46:32.395919",
     "exception": false,
     "start_time": "2024-10-02T15:46:32.340603",
     "status": "completed"
    },
    "tags": []
   },
   "outputs": [
    {
     "data": {
      "text/html": [
       "<div>\n",
       "<style scoped>\n",
       "    .dataframe tbody tr th:only-of-type {\n",
       "        vertical-align: middle;\n",
       "    }\n",
       "\n",
       "    .dataframe tbody tr th {\n",
       "        vertical-align: top;\n",
       "    }\n",
       "\n",
       "    .dataframe thead th {\n",
       "        text-align: right;\n",
       "    }\n",
       "</style>\n",
       "<table border=\"1\" class=\"dataframe\">\n",
       "  <thead>\n",
       "    <tr style=\"text-align: right;\">\n",
       "      <th></th>\n",
       "      <th>content</th>\n",
       "      <th>category</th>\n",
       "    </tr>\n",
       "  </thead>\n",
       "  <tbody>\n",
       "    <tr>\n",
       "      <th>0</th>\n",
       "      <td>ইরানে কোটি কোটি ডলারের সমপরিমাণ রাজস্ব ফাঁকির ...</td>\n",
       "      <td>international</td>\n",
       "    </tr>\n",
       "    <tr>\n",
       "      <th>1</th>\n",
       "      <td>বিশ্বকাপে এ পর্যন্ত ১১ ম্যাচ হয়ে গেল। স্বীকৃত ...</td>\n",
       "      <td>sports</td>\n",
       "    </tr>\n",
       "    <tr>\n",
       "      <th>2</th>\n",
       "      <td>বাংলাদেশে সমন্বিত সফটওয়্যারের ক্ষেত্রে আরও উন্...</td>\n",
       "      <td>technology</td>\n",
       "    </tr>\n",
       "    <tr>\n",
       "      <th>3</th>\n",
       "      <td>ভেনেজুয়েলায় ২৪ ঘণ্টার ব্ল্যাকআউটে (বিদ্যুৎ বিপ...</td>\n",
       "      <td>international</td>\n",
       "    </tr>\n",
       "    <tr>\n",
       "      <th>4</th>\n",
       "      <td>☀ চারটি দল ২৫ জনের স্কোয়াড পূর্ণ করে ফেলেছে☀ ক...</td>\n",
       "      <td>sports</td>\n",
       "    </tr>\n",
       "  </tbody>\n",
       "</table>\n",
       "</div>"
      ],
      "text/plain": [
       "                                             content       category\n",
       "0  ইরানে কোটি কোটি ডলারের সমপরিমাণ রাজস্ব ফাঁকির ...  international\n",
       "1  বিশ্বকাপে এ পর্যন্ত ১১ ম্যাচ হয়ে গেল। স্বীকৃত ...         sports\n",
       "2  বাংলাদেশে সমন্বিত সফটওয়্যারের ক্ষেত্রে আরও উন্...     technology\n",
       "3  ভেনেজুয়েলায় ২৪ ঘণ্টার ব্ল্যাকআউটে (বিদ্যুৎ বিপ...  international\n",
       "4  ☀ চারটি দল ২৫ জনের স্কোয়াড পূর্ণ করে ফেলেছে☀ ক...         sports"
      ]
     },
     "execution_count": 23,
     "metadata": {},
     "output_type": "execute_result"
    }
   ],
   "source": [
    "ndf = resampled_df.sample(frac= 1, random_state = 48).reset_index(drop=True).head(1000)\n",
    "ndf.head()"
   ]
  },
  {
   "cell_type": "code",
   "execution_count": 24,
   "id": "56f17aa7",
   "metadata": {
    "execution": {
     "iopub.execute_input": "2024-10-02T15:46:32.435826Z",
     "iopub.status.busy": "2024-10-02T15:46:32.435521Z",
     "iopub.status.idle": "2024-10-02T15:46:32.439939Z",
     "shell.execute_reply": "2024-10-02T15:46:32.439106Z"
    },
    "papermill": {
     "duration": 0.026612,
     "end_time": "2024-10-02T15:46:32.441904",
     "exception": false,
     "start_time": "2024-10-02T15:46:32.415292",
     "status": "completed"
    },
    "tags": []
   },
   "outputs": [],
   "source": [
    "train_size = 0.8\n",
    "val_size = 0.1\n",
    "\n",
    "train_end = int(train_size * len(ndf)) \n",
    "val_end = train_end + int(val_size * len(ndf))\n"
   ]
  },
  {
   "cell_type": "code",
   "execution_count": 25,
   "id": "3bdde8cd",
   "metadata": {
    "execution": {
     "iopub.execute_input": "2024-10-02T15:46:32.481469Z",
     "iopub.status.busy": "2024-10-02T15:46:32.481176Z",
     "iopub.status.idle": "2024-10-02T15:46:32.488902Z",
     "shell.execute_reply": "2024-10-02T15:46:32.487765Z"
    },
    "papermill": {
     "duration": 0.029796,
     "end_time": "2024-10-02T15:46:32.490935",
     "exception": false,
     "start_time": "2024-10-02T15:46:32.461139",
     "status": "completed"
    },
    "tags": []
   },
   "outputs": [
    {
     "name": "stdout",
     "output_type": "stream",
     "text": [
      "(800, 2)\n",
      "(100, 2)\n",
      "(100, 2)\n"
     ]
    }
   ],
   "source": [
    "X_train = ndf[:train_end]\n",
    "X_val = ndf[train_end:val_end]\n",
    "X_test = ndf[val_end:]\n",
    "\n",
    "print(X_train.shape)\n",
    "print(X_val.shape)\n",
    "print(X_test.shape)"
   ]
  },
  {
   "cell_type": "code",
   "execution_count": 26,
   "id": "d929c576",
   "metadata": {
    "execution": {
     "iopub.execute_input": "2024-10-02T15:46:32.530922Z",
     "iopub.status.busy": "2024-10-02T15:46:32.530652Z",
     "iopub.status.idle": "2024-10-02T15:46:32.535606Z",
     "shell.execute_reply": "2024-10-02T15:46:32.534774Z"
    },
    "papermill": {
     "duration": 0.026872,
     "end_time": "2024-10-02T15:46:32.537451",
     "exception": false,
     "start_time": "2024-10-02T15:46:32.510579",
     "status": "completed"
    },
    "tags": []
   },
   "outputs": [],
   "source": [
    "# Define the prompt generation functions\n",
    "def generate_prompt(data_point):\n",
    "    return f\"\"\"\n",
    "            Classify the text into bangladesh, sports, technology, entertainment,international, economy, life-style, opinion, education and return the answer as the corresponding newpapers news category.\n",
    "text: {data_point[\"content\"]}\n",
    "label: {data_point[\"category\"]}\"\"\".strip()\n",
    "\n",
    "def generate_test_prompt(data_point):\n",
    "    return f\"\"\"\n",
    "            Classify the text into bangladesh, sports, technology, entertainment,international, economy, life-style, opinion, education and return the answer as the corresponding newpapers news category.\n",
    "text: {data_point[\"content\"]}\n",
    "label: \"\"\".strip()"
   ]
  },
  {
   "cell_type": "code",
   "execution_count": 27,
   "id": "51b996c7",
   "metadata": {
    "execution": {
     "iopub.execute_input": "2024-10-02T15:46:32.576994Z",
     "iopub.status.busy": "2024-10-02T15:46:32.576726Z",
     "iopub.status.idle": "2024-10-02T15:46:32.603260Z",
     "shell.execute_reply": "2024-10-02T15:46:32.602399Z"
    },
    "papermill": {
     "duration": 0.048723,
     "end_time": "2024-10-02T15:46:32.605311",
     "exception": false,
     "start_time": "2024-10-02T15:46:32.556588",
     "status": "completed"
    },
    "tags": []
   },
   "outputs": [
    {
     "name": "stderr",
     "output_type": "stream",
     "text": [
      "/tmp/ipykernel_22/605730108.py:1: SettingWithCopyWarning: \n",
      "A value is trying to be set on a copy of a slice from a DataFrame.\n",
      "Try using .loc[row_indexer,col_indexer] = value instead\n",
      "\n",
      "See the caveats in the documentation: https://pandas.pydata.org/pandas-docs/stable/user_guide/indexing.html#returning-a-view-versus-a-copy\n",
      "  X_train.loc[:,'text'] = X_train.apply(generate_prompt,axis = 1)\n"
     ]
    },
    {
     "data": {
      "text/html": [
       "<div>\n",
       "<style scoped>\n",
       "    .dataframe tbody tr th:only-of-type {\n",
       "        vertical-align: middle;\n",
       "    }\n",
       "\n",
       "    .dataframe tbody tr th {\n",
       "        vertical-align: top;\n",
       "    }\n",
       "\n",
       "    .dataframe thead th {\n",
       "        text-align: right;\n",
       "    }\n",
       "</style>\n",
       "<table border=\"1\" class=\"dataframe\">\n",
       "  <thead>\n",
       "    <tr style=\"text-align: right;\">\n",
       "      <th></th>\n",
       "      <th>content</th>\n",
       "      <th>category</th>\n",
       "      <th>text</th>\n",
       "    </tr>\n",
       "  </thead>\n",
       "  <tbody>\n",
       "    <tr>\n",
       "      <th>0</th>\n",
       "      <td>ইরানে কোটি কোটি ডলারের সমপরিমাণ রাজস্ব ফাঁকির ...</td>\n",
       "      <td>international</td>\n",
       "      <td>Classify the text into bangladesh, sports, tec...</td>\n",
       "    </tr>\n",
       "    <tr>\n",
       "      <th>1</th>\n",
       "      <td>বিশ্বকাপে এ পর্যন্ত ১১ ম্যাচ হয়ে গেল। স্বীকৃত ...</td>\n",
       "      <td>sports</td>\n",
       "      <td>Classify the text into bangladesh, sports, tec...</td>\n",
       "    </tr>\n",
       "    <tr>\n",
       "      <th>2</th>\n",
       "      <td>বাংলাদেশে সমন্বিত সফটওয়্যারের ক্ষেত্রে আরও উন্...</td>\n",
       "      <td>technology</td>\n",
       "      <td>Classify the text into bangladesh, sports, tec...</td>\n",
       "    </tr>\n",
       "    <tr>\n",
       "      <th>3</th>\n",
       "      <td>ভেনেজুয়েলায় ২৪ ঘণ্টার ব্ল্যাকআউটে (বিদ্যুৎ বিপ...</td>\n",
       "      <td>international</td>\n",
       "      <td>Classify the text into bangladesh, sports, tec...</td>\n",
       "    </tr>\n",
       "    <tr>\n",
       "      <th>4</th>\n",
       "      <td>☀ চারটি দল ২৫ জনের স্কোয়াড পূর্ণ করে ফেলেছে☀ ক...</td>\n",
       "      <td>sports</td>\n",
       "      <td>Classify the text into bangladesh, sports, tec...</td>\n",
       "    </tr>\n",
       "  </tbody>\n",
       "</table>\n",
       "</div>"
      ],
      "text/plain": [
       "                                             content       category  \\\n",
       "0  ইরানে কোটি কোটি ডলারের সমপরিমাণ রাজস্ব ফাঁকির ...  international   \n",
       "1  বিশ্বকাপে এ পর্যন্ত ১১ ম্যাচ হয়ে গেল। স্বীকৃত ...         sports   \n",
       "2  বাংলাদেশে সমন্বিত সফটওয়্যারের ক্ষেত্রে আরও উন্...     technology   \n",
       "3  ভেনেজুয়েলায় ২৪ ঘণ্টার ব্ল্যাকআউটে (বিদ্যুৎ বিপ...  international   \n",
       "4  ☀ চারটি দল ২৫ জনের স্কোয়াড পূর্ণ করে ফেলেছে☀ ক...         sports   \n",
       "\n",
       "                                                text  \n",
       "0  Classify the text into bangladesh, sports, tec...  \n",
       "1  Classify the text into bangladesh, sports, tec...  \n",
       "2  Classify the text into bangladesh, sports, tec...  \n",
       "3  Classify the text into bangladesh, sports, tec...  \n",
       "4  Classify the text into bangladesh, sports, tec...  "
      ]
     },
     "execution_count": 27,
     "metadata": {},
     "output_type": "execute_result"
    }
   ],
   "source": [
    "X_train.loc[:,'text'] = X_train.apply(generate_prompt,axis = 1)\n",
    "X_train.head()"
   ]
  },
  {
   "cell_type": "code",
   "execution_count": 28,
   "id": "392c0395",
   "metadata": {
    "execution": {
     "iopub.execute_input": "2024-10-02T15:46:32.646082Z",
     "iopub.status.busy": "2024-10-02T15:46:32.645765Z",
     "iopub.status.idle": "2024-10-02T15:46:32.659896Z",
     "shell.execute_reply": "2024-10-02T15:46:32.658869Z"
    },
    "papermill": {
     "duration": 0.036677,
     "end_time": "2024-10-02T15:46:32.661976",
     "exception": false,
     "start_time": "2024-10-02T15:46:32.625299",
     "status": "completed"
    },
    "tags": []
   },
   "outputs": [
    {
     "name": "stderr",
     "output_type": "stream",
     "text": [
      "/tmp/ipykernel_22/1181508762.py:1: SettingWithCopyWarning: \n",
      "A value is trying to be set on a copy of a slice from a DataFrame.\n",
      "Try using .loc[row_indexer,col_indexer] = value instead\n",
      "\n",
      "See the caveats in the documentation: https://pandas.pydata.org/pandas-docs/stable/user_guide/indexing.html#returning-a-view-versus-a-copy\n",
      "  X_val.loc[:,'text'] = X_val.apply(generate_prompt, axis=1)\n"
     ]
    },
    {
     "data": {
      "text/html": [
       "<div>\n",
       "<style scoped>\n",
       "    .dataframe tbody tr th:only-of-type {\n",
       "        vertical-align: middle;\n",
       "    }\n",
       "\n",
       "    .dataframe tbody tr th {\n",
       "        vertical-align: top;\n",
       "    }\n",
       "\n",
       "    .dataframe thead th {\n",
       "        text-align: right;\n",
       "    }\n",
       "</style>\n",
       "<table border=\"1\" class=\"dataframe\">\n",
       "  <thead>\n",
       "    <tr style=\"text-align: right;\">\n",
       "      <th></th>\n",
       "      <th>content</th>\n",
       "      <th>category</th>\n",
       "      <th>text</th>\n",
       "    </tr>\n",
       "  </thead>\n",
       "  <tbody>\n",
       "    <tr>\n",
       "      <th>800</th>\n",
       "      <td>ভারতের একজন নেতৃস্থানীয় যুক্তিবাদী ও কুসংস্কা...</td>\n",
       "      <td>international</td>\n",
       "      <td>Classify the text into bangladesh, sports, tec...</td>\n",
       "    </tr>\n",
       "    <tr>\n",
       "      <th>801</th>\n",
       "      <td>আজ ৮ মার্চ। আজকের এই তারিখে জন্মগ্রহণ করায় পাশ...</td>\n",
       "      <td>life-style</td>\n",
       "      <td>Classify the text into bangladesh, sports, tec...</td>\n",
       "    </tr>\n",
       "    <tr>\n",
       "      <th>802</th>\n",
       "      <td>ফ্রান্সের রাজধানী প্যারিসের রম্য ম্যাগাজিন শার...</td>\n",
       "      <td>international</td>\n",
       "      <td>Classify the text into bangladesh, sports, tec...</td>\n",
       "    </tr>\n",
       "    <tr>\n",
       "      <th>803</th>\n",
       "      <td>২৩ বছর পর বিশ্বকাপ ক্রিকেট ফিরছে অস্ট্রেলিয়া-...</td>\n",
       "      <td>sports</td>\n",
       "      <td>Classify the text into bangladesh, sports, tec...</td>\n",
       "    </tr>\n",
       "    <tr>\n",
       "      <th>804</th>\n",
       "      <td>মার্কিন প্রেসিডেন্ট নির্বাচনে রিপাবলিকান পার্ট...</td>\n",
       "      <td>international</td>\n",
       "      <td>Classify the text into bangladesh, sports, tec...</td>\n",
       "    </tr>\n",
       "  </tbody>\n",
       "</table>\n",
       "</div>"
      ],
      "text/plain": [
       "                                               content       category  \\\n",
       "800  ভারতের একজন নেতৃস্থানীয় যুক্তিবাদী ও কুসংস্কা...  international   \n",
       "801  আজ ৮ মার্চ। আজকের এই তারিখে জন্মগ্রহণ করায় পাশ...     life-style   \n",
       "802  ফ্রান্সের রাজধানী প্যারিসের রম্য ম্যাগাজিন শার...  international   \n",
       "803  ২৩ বছর পর বিশ্বকাপ ক্রিকেট ফিরছে অস্ট্রেলিয়া-...         sports   \n",
       "804  মার্কিন প্রেসিডেন্ট নির্বাচনে রিপাবলিকান পার্ট...  international   \n",
       "\n",
       "                                                  text  \n",
       "800  Classify the text into bangladesh, sports, tec...  \n",
       "801  Classify the text into bangladesh, sports, tec...  \n",
       "802  Classify the text into bangladesh, sports, tec...  \n",
       "803  Classify the text into bangladesh, sports, tec...  \n",
       "804  Classify the text into bangladesh, sports, tec...  "
      ]
     },
     "execution_count": 28,
     "metadata": {},
     "output_type": "execute_result"
    }
   ],
   "source": [
    "X_val.loc[:,'text'] = X_val.apply(generate_prompt, axis=1)\n",
    "X_val.head()"
   ]
  },
  {
   "cell_type": "code",
   "execution_count": 29,
   "id": "58add3cc",
   "metadata": {
    "execution": {
     "iopub.execute_input": "2024-10-02T15:46:32.703811Z",
     "iopub.status.busy": "2024-10-02T15:46:32.703085Z",
     "iopub.status.idle": "2024-10-02T15:46:32.711938Z",
     "shell.execute_reply": "2024-10-02T15:46:32.711144Z"
    },
    "papermill": {
     "duration": 0.031714,
     "end_time": "2024-10-02T15:46:32.713938",
     "exception": false,
     "start_time": "2024-10-02T15:46:32.682224",
     "status": "completed"
    },
    "tags": []
   },
   "outputs": [
    {
     "data": {
      "text/html": [
       "<div>\n",
       "<style scoped>\n",
       "    .dataframe tbody tr th:only-of-type {\n",
       "        vertical-align: middle;\n",
       "    }\n",
       "\n",
       "    .dataframe tbody tr th {\n",
       "        vertical-align: top;\n",
       "    }\n",
       "\n",
       "    .dataframe thead th {\n",
       "        text-align: right;\n",
       "    }\n",
       "</style>\n",
       "<table border=\"1\" class=\"dataframe\">\n",
       "  <thead>\n",
       "    <tr style=\"text-align: right;\">\n",
       "      <th></th>\n",
       "      <th>content</th>\n",
       "      <th>category</th>\n",
       "    </tr>\n",
       "  </thead>\n",
       "  <tbody>\n",
       "    <tr>\n",
       "      <th>900</th>\n",
       "      <td>আবারও ওয়েব সিরিজে অভিনয় করতে যাচ্ছেন অভিনেত্রী...</td>\n",
       "      <td>entertainment</td>\n",
       "    </tr>\n",
       "    <tr>\n",
       "      <th>901</th>\n",
       "      <td>বিয়েতে কনের বয়স একই সঙ্গে ১৮ ও ১৬ বছর থাকবে কি...</td>\n",
       "      <td>life-style</td>\n",
       "    </tr>\n",
       "    <tr>\n",
       "      <th>902</th>\n",
       "      <td>প্রেম, প্রণয়, পরিণয় শব্দগুলোতে কেমন যেন গোপন গ...</td>\n",
       "      <td>life-style</td>\n",
       "    </tr>\n",
       "    <tr>\n",
       "      <th>903</th>\n",
       "      <td>রাশিয়ার সশস্ত্র বাহিনী গত শনিবার ইউক্রেনের ক্র...</td>\n",
       "      <td>international</td>\n",
       "    </tr>\n",
       "    <tr>\n",
       "      <th>904</th>\n",
       "      <td>ইসরায়েলি দুই সেনার গালে চড় মেরে ফিলিস্তিনে প্র...</td>\n",
       "      <td>international</td>\n",
       "    </tr>\n",
       "  </tbody>\n",
       "</table>\n",
       "</div>"
      ],
      "text/plain": [
       "                                               content       category\n",
       "900  আবারও ওয়েব সিরিজে অভিনয় করতে যাচ্ছেন অভিনেত্রী...  entertainment\n",
       "901  বিয়েতে কনের বয়স একই সঙ্গে ১৮ ও ১৬ বছর থাকবে কি...     life-style\n",
       "902  প্রেম, প্রণয়, পরিণয় শব্দগুলোতে কেমন যেন গোপন গ...     life-style\n",
       "903  রাশিয়ার সশস্ত্র বাহিনী গত শনিবার ইউক্রেনের ক্র...  international\n",
       "904  ইসরায়েলি দুই সেনার গালে চড় মেরে ফিলিস্তিনে প্র...  international"
      ]
     },
     "execution_count": 29,
     "metadata": {},
     "output_type": "execute_result"
    }
   ],
   "source": [
    "X_test.head()"
   ]
  },
  {
   "cell_type": "code",
   "execution_count": 30,
   "id": "c55d27a0",
   "metadata": {
    "execution": {
     "iopub.execute_input": "2024-10-02T15:46:32.755922Z",
     "iopub.status.busy": "2024-10-02T15:46:32.755380Z",
     "iopub.status.idle": "2024-10-02T15:46:32.761941Z",
     "shell.execute_reply": "2024-10-02T15:46:32.761089Z"
    },
    "papermill": {
     "duration": 0.029379,
     "end_time": "2024-10-02T15:46:32.763770",
     "exception": false,
     "start_time": "2024-10-02T15:46:32.734391",
     "status": "completed"
    },
    "tags": []
   },
   "outputs": [],
   "source": [
    "y_true = X_test.loc[:,'category']\n",
    "X_test = pd.DataFrame(X_test.apply(generate_test_prompt, axis = 1), columns = ['text'])"
   ]
  },
  {
   "cell_type": "code",
   "execution_count": 31,
   "id": "3191a7e1",
   "metadata": {
    "execution": {
     "iopub.execute_input": "2024-10-02T15:46:32.805144Z",
     "iopub.status.busy": "2024-10-02T15:46:32.804596Z",
     "iopub.status.idle": "2024-10-02T15:46:32.812613Z",
     "shell.execute_reply": "2024-10-02T15:46:32.811779Z"
    },
    "papermill": {
     "duration": 0.030725,
     "end_time": "2024-10-02T15:46:32.814530",
     "exception": false,
     "start_time": "2024-10-02T15:46:32.783805",
     "status": "completed"
    },
    "tags": []
   },
   "outputs": [
    {
     "data": {
      "text/html": [
       "<div>\n",
       "<style scoped>\n",
       "    .dataframe tbody tr th:only-of-type {\n",
       "        vertical-align: middle;\n",
       "    }\n",
       "\n",
       "    .dataframe tbody tr th {\n",
       "        vertical-align: top;\n",
       "    }\n",
       "\n",
       "    .dataframe thead th {\n",
       "        text-align: right;\n",
       "    }\n",
       "</style>\n",
       "<table border=\"1\" class=\"dataframe\">\n",
       "  <thead>\n",
       "    <tr style=\"text-align: right;\">\n",
       "      <th></th>\n",
       "      <th>text</th>\n",
       "    </tr>\n",
       "  </thead>\n",
       "  <tbody>\n",
       "    <tr>\n",
       "      <th>900</th>\n",
       "      <td>Classify the text into bangladesh, sports, tec...</td>\n",
       "    </tr>\n",
       "    <tr>\n",
       "      <th>901</th>\n",
       "      <td>Classify the text into bangladesh, sports, tec...</td>\n",
       "    </tr>\n",
       "    <tr>\n",
       "      <th>902</th>\n",
       "      <td>Classify the text into bangladesh, sports, tec...</td>\n",
       "    </tr>\n",
       "    <tr>\n",
       "      <th>903</th>\n",
       "      <td>Classify the text into bangladesh, sports, tec...</td>\n",
       "    </tr>\n",
       "    <tr>\n",
       "      <th>904</th>\n",
       "      <td>Classify the text into bangladesh, sports, tec...</td>\n",
       "    </tr>\n",
       "  </tbody>\n",
       "</table>\n",
       "</div>"
      ],
      "text/plain": [
       "                                                  text\n",
       "900  Classify the text into bangladesh, sports, tec...\n",
       "901  Classify the text into bangladesh, sports, tec...\n",
       "902  Classify the text into bangladesh, sports, tec...\n",
       "903  Classify the text into bangladesh, sports, tec...\n",
       "904  Classify the text into bangladesh, sports, tec..."
      ]
     },
     "execution_count": 31,
     "metadata": {},
     "output_type": "execute_result"
    }
   ],
   "source": [
    "X_test.head()"
   ]
  },
  {
   "cell_type": "code",
   "execution_count": 32,
   "id": "f53702c7",
   "metadata": {
    "execution": {
     "iopub.execute_input": "2024-10-02T15:46:32.857319Z",
     "iopub.status.busy": "2024-10-02T15:46:32.857022Z",
     "iopub.status.idle": "2024-10-02T15:46:32.862424Z",
     "shell.execute_reply": "2024-10-02T15:46:32.861588Z"
    },
    "papermill": {
     "duration": 0.029007,
     "end_time": "2024-10-02T15:46:32.864420",
     "exception": false,
     "start_time": "2024-10-02T15:46:32.835413",
     "status": "completed"
    },
    "tags": []
   },
   "outputs": [
    {
     "data": {
      "text/plain": [
       "(100, 3)"
      ]
     },
     "execution_count": 32,
     "metadata": {},
     "output_type": "execute_result"
    }
   ],
   "source": [
    "X_val.shape"
   ]
  },
  {
   "cell_type": "code",
   "execution_count": 33,
   "id": "d474d047",
   "metadata": {
    "execution": {
     "iopub.execute_input": "2024-10-02T15:46:32.907015Z",
     "iopub.status.busy": "2024-10-02T15:46:32.906378Z",
     "iopub.status.idle": "2024-10-02T15:46:32.912558Z",
     "shell.execute_reply": "2024-10-02T15:46:32.911729Z"
    },
    "papermill": {
     "duration": 0.02968,
     "end_time": "2024-10-02T15:46:32.914430",
     "exception": false,
     "start_time": "2024-10-02T15:46:32.884750",
     "status": "completed"
    },
    "tags": []
   },
   "outputs": [
    {
     "data": {
      "text/plain": [
       "900    entertainment\n",
       "901       life-style\n",
       "902       life-style\n",
       "903    international\n",
       "904    international\n",
       "Name: category, dtype: object"
      ]
     },
     "execution_count": 33,
     "metadata": {},
     "output_type": "execute_result"
    }
   ],
   "source": [
    "y_true.head()"
   ]
  },
  {
   "cell_type": "code",
   "execution_count": 34,
   "id": "c42fe04f",
   "metadata": {
    "execution": {
     "iopub.execute_input": "2024-10-02T15:46:32.957375Z",
     "iopub.status.busy": "2024-10-02T15:46:32.956533Z",
     "iopub.status.idle": "2024-10-02T15:46:32.964583Z",
     "shell.execute_reply": "2024-10-02T15:46:32.963758Z"
    },
    "papermill": {
     "duration": 0.031227,
     "end_time": "2024-10-02T15:46:32.966471",
     "exception": false,
     "start_time": "2024-10-02T15:46:32.935244",
     "status": "completed"
    },
    "tags": []
   },
   "outputs": [
    {
     "data": {
      "text/html": [
       "<div>\n",
       "<style scoped>\n",
       "    .dataframe tbody tr th:only-of-type {\n",
       "        vertical-align: middle;\n",
       "    }\n",
       "\n",
       "    .dataframe tbody tr th {\n",
       "        vertical-align: top;\n",
       "    }\n",
       "\n",
       "    .dataframe thead th {\n",
       "        text-align: right;\n",
       "    }\n",
       "</style>\n",
       "<table border=\"1\" class=\"dataframe\">\n",
       "  <thead>\n",
       "    <tr style=\"text-align: right;\">\n",
       "      <th></th>\n",
       "      <th>text</th>\n",
       "    </tr>\n",
       "  </thead>\n",
       "  <tbody>\n",
       "    <tr>\n",
       "      <th>900</th>\n",
       "      <td>Classify the text into bangladesh, sports, tec...</td>\n",
       "    </tr>\n",
       "    <tr>\n",
       "      <th>901</th>\n",
       "      <td>Classify the text into bangladesh, sports, tec...</td>\n",
       "    </tr>\n",
       "    <tr>\n",
       "      <th>902</th>\n",
       "      <td>Classify the text into bangladesh, sports, tec...</td>\n",
       "    </tr>\n",
       "    <tr>\n",
       "      <th>903</th>\n",
       "      <td>Classify the text into bangladesh, sports, tec...</td>\n",
       "    </tr>\n",
       "    <tr>\n",
       "      <th>904</th>\n",
       "      <td>Classify the text into bangladesh, sports, tec...</td>\n",
       "    </tr>\n",
       "  </tbody>\n",
       "</table>\n",
       "</div>"
      ],
      "text/plain": [
       "                                                  text\n",
       "900  Classify the text into bangladesh, sports, tec...\n",
       "901  Classify the text into bangladesh, sports, tec...\n",
       "902  Classify the text into bangladesh, sports, tec...\n",
       "903  Classify the text into bangladesh, sports, tec...\n",
       "904  Classify the text into bangladesh, sports, tec..."
      ]
     },
     "execution_count": 34,
     "metadata": {},
     "output_type": "execute_result"
    }
   ],
   "source": [
    "X_test.head()"
   ]
  },
  {
   "cell_type": "code",
   "execution_count": 35,
   "id": "f031b0d0",
   "metadata": {
    "execution": {
     "iopub.execute_input": "2024-10-02T15:46:33.008742Z",
     "iopub.status.busy": "2024-10-02T15:46:33.008477Z",
     "iopub.status.idle": "2024-10-02T15:46:33.015679Z",
     "shell.execute_reply": "2024-10-02T15:46:33.014886Z"
    },
    "papermill": {
     "duration": 0.030486,
     "end_time": "2024-10-02T15:46:33.017580",
     "exception": false,
     "start_time": "2024-10-02T15:46:32.987094",
     "status": "completed"
    },
    "tags": []
   },
   "outputs": [
    {
     "data": {
      "text/plain": [
       "category\n",
       "life-style       102\n",
       "opinion           96\n",
       "education         95\n",
       "sports            91\n",
       "economy           88\n",
       "international     85\n",
       "technology        84\n",
       "bangladesh        82\n",
       "entertainment     77\n",
       "Name: count, dtype: int64"
      ]
     },
     "execution_count": 35,
     "metadata": {},
     "output_type": "execute_result"
    }
   ],
   "source": [
    "X_train.category.value_counts()"
   ]
  },
  {
   "cell_type": "code",
   "execution_count": 36,
   "id": "5cba5bdf",
   "metadata": {
    "execution": {
     "iopub.execute_input": "2024-10-02T15:46:33.060890Z",
     "iopub.status.busy": "2024-10-02T15:46:33.060599Z",
     "iopub.status.idle": "2024-10-02T15:46:33.067464Z",
     "shell.execute_reply": "2024-10-02T15:46:33.066592Z"
    },
    "papermill": {
     "duration": 0.030718,
     "end_time": "2024-10-02T15:46:33.069538",
     "exception": false,
     "start_time": "2024-10-02T15:46:33.038820",
     "status": "completed"
    },
    "tags": []
   },
   "outputs": [
    {
     "data": {
      "text/plain": [
       "category\n",
       "life-style       18\n",
       "bangladesh       15\n",
       "education        13\n",
       "opinion          12\n",
       "entertainment    10\n",
       "sports           10\n",
       "international    10\n",
       "economy           7\n",
       "technology        5\n",
       "Name: count, dtype: int64"
      ]
     },
     "execution_count": 36,
     "metadata": {},
     "output_type": "execute_result"
    }
   ],
   "source": [
    "y_true.value_counts()"
   ]
  },
  {
   "cell_type": "code",
   "execution_count": 37,
   "id": "acf0998e",
   "metadata": {
    "execution": {
     "iopub.execute_input": "2024-10-02T15:46:33.112722Z",
     "iopub.status.busy": "2024-10-02T15:46:33.112435Z",
     "iopub.status.idle": "2024-10-02T15:46:33.181011Z",
     "shell.execute_reply": "2024-10-02T15:46:33.180228Z"
    },
    "papermill": {
     "duration": 0.092885,
     "end_time": "2024-10-02T15:46:33.183413",
     "exception": false,
     "start_time": "2024-10-02T15:46:33.090528",
     "status": "completed"
    },
    "tags": []
   },
   "outputs": [],
   "source": [
    "from datasets import Dataset\n",
    "# Convert to datasets\n",
    "train_data = Dataset.from_pandas(X_train[[\"text\"]])\n",
    "val_data = Dataset.from_pandas(X_val[[\"text\"]])"
   ]
  },
  {
   "cell_type": "code",
   "execution_count": 38,
   "id": "a255b5a7",
   "metadata": {
    "execution": {
     "iopub.execute_input": "2024-10-02T15:46:33.228418Z",
     "iopub.status.busy": "2024-10-02T15:46:33.228104Z",
     "iopub.status.idle": "2024-10-02T15:46:33.233824Z",
     "shell.execute_reply": "2024-10-02T15:46:33.232899Z"
    },
    "papermill": {
     "duration": 0.030123,
     "end_time": "2024-10-02T15:46:33.235855",
     "exception": false,
     "start_time": "2024-10-02T15:46:33.205732",
     "status": "completed"
    },
    "tags": []
   },
   "outputs": [
    {
     "name": "stdout",
     "output_type": "stream",
     "text": [
      "Dataset({\n",
      "    features: ['text'],\n",
      "    num_rows: 800\n",
      "})\n",
      "Dataset({\n",
      "    features: ['text'],\n",
      "    num_rows: 100\n",
      "})\n"
     ]
    }
   ],
   "source": [
    "print(train_data)\n",
    "print(val_data)"
   ]
  },
  {
   "cell_type": "code",
   "execution_count": 39,
   "id": "e72f63f8",
   "metadata": {
    "execution": {
     "iopub.execute_input": "2024-10-02T15:46:33.281894Z",
     "iopub.status.busy": "2024-10-02T15:46:33.281239Z",
     "iopub.status.idle": "2024-10-02T15:46:33.300006Z",
     "shell.execute_reply": "2024-10-02T15:46:33.299120Z"
    },
    "papermill": {
     "duration": 0.04403,
     "end_time": "2024-10-02T15:46:33.302565",
     "exception": false,
     "start_time": "2024-10-02T15:46:33.258535",
     "status": "completed"
    },
    "tags": []
   },
   "outputs": [
    {
     "data": {
      "text/plain": [
       "'Classify the text into bangladesh, sports, technology, entertainment,international, economy, life-style, opinion, education and return the answer as the corresponding newpapers news category.\\ntext: ভেনেজুয়েলায় ২৪ ঘণ্টার ব্ল্যাকআউটে (বিদ্যুৎ বিপর্যয়) জনজীবন বিপর্যস্ত হয়ে পড়ে। গত বৃহস্পতিবার স্থানীয় সময় বিকেল ৪টা ৫০ মিনিট থেকে গতকাল শুক্রবার বিকেল পর্যন্ত ২৪ ঘণ্টা বিদ্যুৎ–সংযোগ বিচ্ছিন্ন থাকায় পুরো দেশ অচল হয়ে পড়ে। প্রেসিডেন্ট নিকোলা মাদুরো এই ব্ল্যাকআউটের ঘটনাকে যুক্তরাষ্ট্রের ‘স্যাবোটেজ’ বলছেন।আজ শনিবার বার্তা সংস্থা এএফপির প্রতিবেদনে জানানো হয়, ভেনেজুয়েলায় এত দীর্ঘ সময় ধরে বিদ্যুৎ–সংযোগ বিচ্ছিন্ন হওয়ার ঘটনা ঘটেনি। শিক্ষাপ্রতিষ্ঠানসহ সব কার্যালয় বন্ধ ঘোষণা করা হয়। বিদ্যুৎ বিচ্ছিন্নের ঘটনায় ভেনেজুয়েলায় চলমান রাজনৈতিক সংকটে আরও উত্তাপ সৃষ্টি হয়। দেশটির স্বঘোষিত প্রেসিডেন্ট বিরোধী দলের নেতা হুয়ান গুয়াইদোর প্রতি সমর্থন রয়েছে যুক্তরাষ্ট্রের। প্রেসিডেন্ট মাদুরোর দাবি, তাঁর প্রতিপক্ষের সমর্থনে যুক্তরাষ্ট্র এই ‘স্যাবোটেজ’ করেছে।দেশটির ভাইস প্রেসিডেন্ট দেলসি রদ্রিগেজ এই টুইট বার্তায় জানান, দেশব্যাপী বিদ্যুৎ–সংযোগ চালু করার কাজের জন্য প্রেসিডেন্ট মাদুরো সব কার্যালয় ও শিক্ষাপ্রতিষ্ঠান বন্ধ ঘোষণা করেছেন।গতকাল স্থানীয় সময় বিকেলের দিকে অল্প অল্প করে রাজধানী কারাকাসের বেশ কিছু এলাকায় বিদ্যুৎ–সংযোগ চালু হয়। পাশাপাশি মিরান্দা ও ভারগাসের কিছু এলাকায় বিদ্যুৎ–সংযোগ চালু হয়। তবে চালু হওয়ার কিছু সময়ের মধ্যে বিদ্যুৎ–সংযোগ আবারও বিচ্ছিন্ন হয়ে যায়। এ কারণে বিদ্যুৎ বিচ্ছিন্ন সময় ২৪ ঘণ্টা ছাপিয়ে যায়। রাত গভীর হলে রাজধানীজুড়ে লোকজন সসপ্যান পিটিয়ে শব্দ করা শুরু করে। এটা দক্ষিণ আমেরিকায় বিক্ষোভ প্রদর্শনের জনপ্রিয় একটি পন্থা।কিছু জ্বালানি তেলের স্টেশনে লোকজনের দীর্ঘ লাইন দেখা যায়। তাঁরা জেনারেটর বা গাড়ির জন্য জ্বালানি তেল নিতে আসেন। অ্যান্টনিও বেলিসারিও নামের এক ব্যক্তি জানান, তিনি ঘণ্টার পর ঘণ্টা ধরে পেট্রল নেওয়ার লাইনে দাঁড়িয়ে আছেন। বিদ্যুৎ–সংযোগ চালু হওয়া মাত্রই চলে যাচ্ছে।দীর্ঘ সময় ধরে বিদ্যুৎ বিচ্ছিন্নের ঘটনায় দেশটি জুড়ে বিশৃঙ্খলা লেগে যায়। অনেকে রাতের অন্ধকারে অসুস্থ রোগীকে হাসপাতাল থেকে জরুরি বিদ্যুৎ সরবরাহ রয়েছে—এমন ক্লিনিকগুলোয় স্থানান্তর করতে গিয়ে বিপাকে পড়েন। কৃত্রিম শ্বাসযন্ত্র বন্ধ হয়ে যাওয়ায় কারাকাসে ইউনিভার্সিটি হাসপাতালে মারিয়েলসি অ্যারে নামের এক রোগী মারা যান। তাঁর চাচা জোসে লুগো বলেন, চিকিৎসকেরা তাঁর ভাতিজাকে হাত দিয়ে পাম্প করাসহ যা করার সব রকম চেষ্টা করেছিলেন বাঁচানোর জন্য। কিন্তু বিদ্যুৎ–সংযোগ না থাকলে তাঁরা আর কতটুকুই কী করতে পারবেন?ইমিলসে আরেলানো নামের এক মা জানান, তাঁর সন্তানের জরুরি ডায়ালাইসিস বাতিল হয়ে যায়। হাসপাতালের কর্মীরা মোবাইল ফোনের আলোতে কাজ করছিলেন।কারাকাসের প্রধান মর্গ বেলো মন্টের রেফ্রিজারেটর বন্ধ হয়ে যাওয়ায় মৃত ব্যক্তিদের স্বজনদের উদ্বেগ নিয়ে মর্গের বাইরে অবস্থান করতে দেখা যায়। তাঁরা সৎকারের জন্য মরদেহ নেওয়ার অনুমতির অপেক্ষা করছিলেন।বিদ্যুৎ–সংযোগ বিচ্ছিন্ন থাকায় ট্রাফিক সংকেত অকার্যকর হয়ে পড়ে। সাবওয়ে সিস্টেম বন্ধ হয়ে যায়। ক্ষুব্ধ লোকজন অফিস থেকে দীর্ঘ পথ হেঁটে বাড়ির দিকে রওনা দেন। অপরাধপ্রবণ কারাকাস শহরে হাজার হাজার বাড়িঘরে বিদ্যুতের অভাবে পানি সরবরাহ বন্ধ হয়ে যায়। শহরটিতে ২০ লাখ লোকের বাস রয়েছে। টেলিফোন ও ইন্টারনেট সেবাও বন্ধ হয়ে যায়। রাজধানীর সিমোন বলিভার আন্তর্জাতিক বিমানবন্দরে বিদ্যুতের অভাবে কার্যক্রম ব্যাহত হয়। হুয়ান গুয়াইদোর পক্ষে সীমান্ত দিয়ে বিদেশি সাহায্য বন্ধে প্রেসিডেন্ট মাদুরো সীমান্ত বন্ধের ঘোষণার পর গতকাল বিদ্যুৎ বিচ্ছিন্ন হয়ে দেশটি পুরোপুরি বিচ্ছিন্ন হয়ে যায়।\\nlabel: international'"
      ]
     },
     "execution_count": 39,
     "metadata": {},
     "output_type": "execute_result"
    }
   ],
   "source": [
    "train_data['text'][3]"
   ]
  },
  {
   "cell_type": "code",
   "execution_count": 40,
   "id": "decda036",
   "metadata": {
    "execution": {
     "iopub.execute_input": "2024-10-02T15:46:33.348405Z",
     "iopub.status.busy": "2024-10-02T15:46:33.347629Z",
     "iopub.status.idle": "2024-10-02T15:47:53.910862Z",
     "shell.execute_reply": "2024-10-02T15:47:53.910088Z"
    },
    "papermill": {
     "duration": 80.588961,
     "end_time": "2024-10-02T15:47:53.913441",
     "exception": false,
     "start_time": "2024-10-02T15:46:33.324480",
     "status": "completed"
    },
    "tags": []
   },
   "outputs": [
    {
     "data": {
      "application/vnd.jupyter.widget-view+json": {
       "model_id": "a428ed73674a48209b04095fbfb2985c",
       "version_major": 2,
       "version_minor": 0
      },
      "text/plain": [
       "Loading checkpoint shards:   0%|          | 0/4 [00:00<?, ?it/s]"
      ]
     },
     "metadata": {},
     "output_type": "display_data"
    }
   ],
   "source": [
    "base_model_name = '/kaggle/input/llama-3.1/transformers/8b-instruct/2'\n",
    "\n",
    "bnb_config = BitsAndBytesConfig(\n",
    "    load_in_4bit = True,\n",
    "    bnb_4bit_use_double_quant = False,\n",
    "    bnb_4bit_quant_type = 'nf4',\n",
    "    llm_int8_enable_fp32_cpu_offload=True,\n",
    "    bnb_4bit_compute_dtype = 'float16')\n",
    "\n",
    "\n",
    "model = AutoModelForCausalLM.from_pretrained(\n",
    "    base_model_name,\n",
    "    device_map=\"auto\",\n",
    "    torch_dtype=torch.float16,\n",
    "    quantization_config=bnb_config, \n",
    ")\n",
    "\n",
    "model.config._use_cache = False\n",
    "model.config.pretaining_tp = 1"
   ]
  },
  {
   "cell_type": "code",
   "execution_count": 41,
   "id": "d097cd6f",
   "metadata": {
    "execution": {
     "iopub.execute_input": "2024-10-02T15:47:53.958680Z",
     "iopub.status.busy": "2024-10-02T15:47:53.958375Z",
     "iopub.status.idle": "2024-10-02T15:47:54.749979Z",
     "shell.execute_reply": "2024-10-02T15:47:54.749174Z"
    },
    "papermill": {
     "duration": 0.817094,
     "end_time": "2024-10-02T15:47:54.752499",
     "exception": false,
     "start_time": "2024-10-02T15:47:53.935405",
     "status": "completed"
    },
    "tags": []
   },
   "outputs": [],
   "source": [
    "tokenizer = AutoTokenizer.from_pretrained(base_model_name)\n",
    "tokenizer.pad_token_id  = tokenizer.eos_token_id"
   ]
  },
  {
   "cell_type": "code",
   "execution_count": 42,
   "id": "d0b29a42",
   "metadata": {
    "execution": {
     "iopub.execute_input": "2024-10-02T15:47:54.799471Z",
     "iopub.status.busy": "2024-10-02T15:47:54.799116Z",
     "iopub.status.idle": "2024-10-02T15:47:54.806961Z",
     "shell.execute_reply": "2024-10-02T15:47:54.806015Z"
    },
    "papermill": {
     "duration": 0.033377,
     "end_time": "2024-10-02T15:47:54.809015",
     "exception": false,
     "start_time": "2024-10-02T15:47:54.775638",
     "status": "completed"
    },
    "tags": []
   },
   "outputs": [],
   "source": [
    "def predict(test,model,tokenizer):\n",
    "    y_pred = []\n",
    "    categories = ['bangladesh', 'sports', 'technology', 'entertainment',\n",
    "       'international', 'economy', 'life-style', 'opinion', 'education']\n",
    "\n",
    "\n",
    "    \n",
    "    for i in tqdm(range(len(test))):\n",
    "        prompt = test.iloc[i][\"text\"]\n",
    "        pipe = pipeline(task=\"text-generation\", \n",
    "                        model=model, \n",
    "                        tokenizer=tokenizer, \n",
    "                        max_new_tokens=2, \n",
    "                        temperature=0.1,\n",
    "                        torch_dtype=torch.float16)\n",
    "        \n",
    "        result = pipe(prompt)\n",
    "        answer = result[0]['generated_text'].split(\"label:\")[-1].strip()\n",
    "        \n",
    "        # Determine the predicted category\n",
    "        for category in categories:\n",
    "            if category.lower() in answer.lower():\n",
    "                y_pred.append(category)\n",
    "                break\n",
    "        else:\n",
    "            y_pred.append(\"none\")\n",
    "    \n",
    "    return y_pred"
   ]
  },
  {
   "cell_type": "code",
   "execution_count": 43,
   "id": "1f0507af",
   "metadata": {
    "execution": {
     "iopub.execute_input": "2024-10-02T15:47:54.854352Z",
     "iopub.status.busy": "2024-10-02T15:47:54.853469Z",
     "iopub.status.idle": "2024-10-02T15:58:36.062100Z",
     "shell.execute_reply": "2024-10-02T15:58:36.060827Z"
    },
    "papermill": {
     "duration": 641.233314,
     "end_time": "2024-10-02T15:58:36.064301",
     "exception": false,
     "start_time": "2024-10-02T15:47:54.830987",
     "status": "completed"
    },
    "tags": []
   },
   "outputs": [
    {
     "name": "stderr",
     "output_type": "stream",
     "text": [
      "  0%|          | 0/100 [00:00<?, ?it/s]Starting from v4.46, the `logits` model output will have the same type as the model (except at train time, where it will always be FP32)\n",
      "100%|██████████| 100/100 [10:41<00:00,  6.41s/it]\n"
     ]
    }
   ],
   "source": [
    "y_pred = predict(X_test, model, tokenizer)"
   ]
  },
  {
   "cell_type": "code",
   "execution_count": 44,
   "id": "f7430bb6",
   "metadata": {
    "execution": {
     "iopub.execute_input": "2024-10-02T15:58:36.125006Z",
     "iopub.status.busy": "2024-10-02T15:58:36.124665Z",
     "iopub.status.idle": "2024-10-02T15:58:36.134812Z",
     "shell.execute_reply": "2024-10-02T15:58:36.134078Z"
    },
    "papermill": {
     "duration": 0.042581,
     "end_time": "2024-10-02T15:58:36.136600",
     "exception": false,
     "start_time": "2024-10-02T15:58:36.094019",
     "status": "completed"
    },
    "tags": []
   },
   "outputs": [],
   "source": [
    "def evaluate(y_true, y_pred):\n",
    "    labels = ['bangladesh', 'sports', 'technology', 'entertainment',\n",
    "       'international', 'economy', 'life-style', 'opinion', 'education']\n",
    "    mapping = {label: idx for idx, label in enumerate(labels)}\n",
    "    \n",
    "    def map_func(x):\n",
    "        return mapping.get(x, -1)  # Map to -1 if not found, but should not occur with correct data\n",
    "    \n",
    "    y_true_mapped = np.vectorize(map_func)(y_true)\n",
    "    y_pred_mapped = np.vectorize(map_func)(y_pred)\n",
    "    \n",
    "    # Calculate accuracy\n",
    "    accuracy = accuracy_score(y_true=y_true_mapped, y_pred=y_pred_mapped)\n",
    "    print(f'Accuracy: {accuracy:.3f}')\n",
    "    \n",
    "    # Generate accuracy report\n",
    "    unique_labels = set(y_true_mapped)  # Get unique labels\n",
    "    \n",
    "    for label in unique_labels:\n",
    "        label_indices = [i for i in range(len(y_true_mapped)) if y_true_mapped[i] == label]\n",
    "        label_y_true = [y_true_mapped[i] for i in label_indices]\n",
    "        label_y_pred = [y_pred_mapped[i] for i in label_indices]\n",
    "        label_accuracy = accuracy_score(label_y_true, label_y_pred)\n",
    "        print(f'Accuracy for label {labels[label]}: {label_accuracy:.3f}')\n",
    "        \n",
    "    # Generate classification report\n",
    "    class_report = classification_report(y_true=y_true_mapped, y_pred=y_pred_mapped, target_names=labels, labels=list(range(len(labels))))\n",
    "    print('\\nClassification Report:')\n",
    "    print(class_report)\n",
    "    \n",
    "    # Generate confusion matrix\n",
    "    conf_matrix = confusion_matrix(y_true=y_true_mapped, y_pred=y_pred_mapped, labels=list(range(len(labels))))\n",
    "    print('\\nConfusion Matrix:')\n",
    "    print(conf_matrix)"
   ]
  },
  {
   "cell_type": "code",
   "execution_count": 45,
   "id": "4f9b6775",
   "metadata": {
    "execution": {
     "iopub.execute_input": "2024-10-02T15:58:36.195790Z",
     "iopub.status.busy": "2024-10-02T15:58:36.195481Z",
     "iopub.status.idle": "2024-10-02T15:58:36.220499Z",
     "shell.execute_reply": "2024-10-02T15:58:36.218819Z"
    },
    "papermill": {
     "duration": 0.057061,
     "end_time": "2024-10-02T15:58:36.222639",
     "exception": false,
     "start_time": "2024-10-02T15:58:36.165578",
     "status": "completed"
    },
    "tags": []
   },
   "outputs": [
    {
     "name": "stdout",
     "output_type": "stream",
     "text": [
      "Accuracy: 0.470\n",
      "Accuracy for label bangladesh: 0.533\n",
      "Accuracy for label sports: 0.600\n",
      "Accuracy for label technology: 0.200\n",
      "Accuracy for label entertainment: 0.200\n",
      "Accuracy for label international: 0.700\n",
      "Accuracy for label economy: 0.143\n",
      "Accuracy for label life-style: 0.778\n",
      "Accuracy for label opinion: 0.083\n",
      "Accuracy for label education: 0.538\n",
      "\n",
      "Classification Report:\n",
      "               precision    recall  f1-score   support\n",
      "\n",
      "   bangladesh       0.22      0.53      0.31        15\n",
      "       sports       1.00      0.60      0.75        10\n",
      "   technology       1.00      0.20      0.33         5\n",
      "entertainment       0.67      0.20      0.31        10\n",
      "international       0.78      0.70      0.74        10\n",
      "      economy       0.25      0.14      0.18         7\n",
      "   life-style       0.61      0.78      0.68        18\n",
      "      opinion       0.33      0.08      0.13        12\n",
      "    education       0.70      0.54      0.61        13\n",
      "\n",
      "    micro avg       0.49      0.47      0.48       100\n",
      "    macro avg       0.62      0.42      0.45       100\n",
      " weighted avg       0.58      0.47      0.47       100\n",
      "\n",
      "\n",
      "Confusion Matrix:\n",
      "[[ 8  0  0  0  0  0  5  0  2]\n",
      " [ 4  6  0  0  0  0  0  0  0]\n",
      " [ 1  0  1  0  1  0  0  1  1]\n",
      " [ 6  0  0  2  0  0  1  0  0]\n",
      " [ 1  0  0  1  7  0  1  0  0]\n",
      " [ 4  0  0  0  0  1  1  0  0]\n",
      " [ 3  0  0  0  0  0 14  1  0]\n",
      " [ 5  0  0  0  1  3  1  1  0]\n",
      " [ 5  0  0  0  0  0  0  0  7]]\n"
     ]
    }
   ],
   "source": [
    "evaluate(y_true, y_pred)"
   ]
  },
  {
   "cell_type": "code",
   "execution_count": 46,
   "id": "1e44e9a3",
   "metadata": {
    "execution": {
     "iopub.execute_input": "2024-10-02T15:58:36.283462Z",
     "iopub.status.busy": "2024-10-02T15:58:36.282911Z",
     "iopub.status.idle": "2024-10-02T15:58:36.289070Z",
     "shell.execute_reply": "2024-10-02T15:58:36.288185Z"
    },
    "papermill": {
     "duration": 0.038388,
     "end_time": "2024-10-02T15:58:36.290960",
     "exception": false,
     "start_time": "2024-10-02T15:58:36.252572",
     "status": "completed"
    },
    "tags": []
   },
   "outputs": [],
   "source": [
    "import bitsandbytes as bnb\n",
    "\n",
    "def find_all_linear_names(model):\n",
    "    cls = bnb.nn.Linear4bit\n",
    "    lora_module_names = set()\n",
    "    for name, module in model.named_modules():\n",
    "        if isinstance(module, cls):\n",
    "            names = name.split('.')\n",
    "            lora_module_names.add(names[0] if len(names) == 1 else names[-1])\n",
    "    if 'lm_head' in lora_module_names:  # needed for 16 bit\n",
    "        lora_module_names.remove('lm_head')\n",
    "    return list(lora_module_names)"
   ]
  },
  {
   "cell_type": "code",
   "execution_count": 47,
   "id": "ce83ddb5",
   "metadata": {
    "execution": {
     "iopub.execute_input": "2024-10-02T15:58:36.351208Z",
     "iopub.status.busy": "2024-10-02T15:58:36.350892Z",
     "iopub.status.idle": "2024-10-02T15:58:36.358250Z",
     "shell.execute_reply": "2024-10-02T15:58:36.357358Z"
    },
    "papermill": {
     "duration": 0.039488,
     "end_time": "2024-10-02T15:58:36.360118",
     "exception": false,
     "start_time": "2024-10-02T15:58:36.320630",
     "status": "completed"
    },
    "tags": []
   },
   "outputs": [
    {
     "data": {
      "text/plain": [
       "['k_proj', 'v_proj', 'gate_proj', 'q_proj', 'o_proj', 'up_proj', 'down_proj']"
      ]
     },
     "execution_count": 47,
     "metadata": {},
     "output_type": "execute_result"
    }
   ],
   "source": [
    "modules = find_all_linear_names(model)\n",
    "modules"
   ]
  },
  {
   "cell_type": "code",
   "execution_count": 48,
   "id": "594c749a",
   "metadata": {
    "execution": {
     "iopub.execute_input": "2024-10-02T15:58:36.420023Z",
     "iopub.status.busy": "2024-10-02T15:58:36.419717Z",
     "iopub.status.idle": "2024-10-02T15:58:39.592567Z",
     "shell.execute_reply": "2024-10-02T15:58:39.591282Z"
    },
    "papermill": {
     "duration": 3.205226,
     "end_time": "2024-10-02T15:58:39.594653",
     "exception": false,
     "start_time": "2024-10-02T15:58:36.389427",
     "status": "completed"
    },
    "tags": []
   },
   "outputs": [
    {
     "name": "stderr",
     "output_type": "stream",
     "text": [
      "/opt/conda/lib/python3.10/site-packages/huggingface_hub/utils/_deprecation.py:100: FutureWarning: Deprecated argument(s) used in '__init__': dataset_text_field, max_seq_length, dataset_kwargs. Will not be supported from version '1.0.0'.\n",
      "\n",
      "Deprecated positional argument(s) used in SFTTrainer, please use the SFTConfig to set these arguments instead.\n",
      "  warnings.warn(message, FutureWarning)\n",
      "/opt/conda/lib/python3.10/site-packages/trl/trainer/sft_trainer.py:283: UserWarning: You passed a `max_seq_length` argument to the SFTTrainer, the value you passed will override the one in the `SFTConfig`.\n",
      "  warnings.warn(\n",
      "/opt/conda/lib/python3.10/site-packages/trl/trainer/sft_trainer.py:321: UserWarning: You passed a `dataset_text_field` argument to the SFTTrainer, the value you passed will override the one in the `SFTConfig`.\n",
      "  warnings.warn(\n",
      "/opt/conda/lib/python3.10/site-packages/trl/trainer/sft_trainer.py:327: UserWarning: You passed a `dataset_kwargs` argument to the SFTTrainer, the value you passed will override the one in the `SFTConfig`.\n",
      "  warnings.warn(\n"
     ]
    },
    {
     "data": {
      "application/vnd.jupyter.widget-view+json": {
       "model_id": "ef5ae5a1e9b64f17a35e1ff98d670c74",
       "version_major": 2,
       "version_minor": 0
      },
      "text/plain": [
       "Map:   0%|          | 0/800 [00:00<?, ? examples/s]"
      ]
     },
     "metadata": {},
     "output_type": "display_data"
    },
    {
     "data": {
      "application/vnd.jupyter.widget-view+json": {
       "model_id": "9161d2b118034cb599fafdae759b2b05",
       "version_major": 2,
       "version_minor": 0
      },
      "text/plain": [
       "Map:   0%|          | 0/100 [00:00<?, ? examples/s]"
      ]
     },
     "metadata": {},
     "output_type": "display_data"
    },
    {
     "name": "stderr",
     "output_type": "stream",
     "text": [
      "/opt/conda/lib/python3.10/site-packages/accelerate/accelerator.py:494: FutureWarning: `torch.cuda.amp.GradScaler(args...)` is deprecated. Please use `torch.amp.GradScaler('cuda', args...)` instead.\n",
      "  self.scaler = torch.cuda.amp.GradScaler(**kwargs)\n"
     ]
    }
   ],
   "source": [
    "output_dir=\"llama-3.1 8b model\"\n",
    "\n",
    "peft_config = LoraConfig(\n",
    "    lora_alpha=16,\n",
    "    lora_dropout=0,\n",
    "    r=16,\n",
    "    bias=\"none\",\n",
    "    task_type=\"CAUSAL_LM\",\n",
    "    target_modules=modules,\n",
    ")\n",
    "\n",
    "training_arguments = TrainingArguments(\n",
    "    output_dir=output_dir,                    # directory to save and repository id\n",
    "    num_train_epochs=1,                       # number of training epochs\n",
    "    per_device_train_batch_size=1,            # batch size per device during training\n",
    "    gradient_accumulation_steps=8,            # number of steps before performing a backward/update pass\n",
    "    gradient_checkpointing=True,              # use gradient checkpointing to save memory\n",
    "    optim=\"paged_adamw_32bit\",\n",
    "    logging_steps=1,                         \n",
    "    learning_rate=2e-4,                       # learning rate, based on QLoRA paper\n",
    "    weight_decay=0.001,\n",
    "    fp16=True,\n",
    "    bf16=False,\n",
    "    max_grad_norm=0.3,                        # max gradient norm based on QLoRA paper\n",
    "    max_steps=-1,\n",
    "    warmup_ratio=0.03,                        # warmup ratio based on QLoRA paper\n",
    "    group_by_length=False,\n",
    "    lr_scheduler_type=\"cosine\",               # use cosine learning rate scheduler\n",
    "    report_to=\"wandb\",                  # report metrics to w&b\n",
    "    eval_strategy=\"steps\",              # save checkpoint every epoch\n",
    "    eval_steps = 0.2\n",
    ")\n",
    "\n",
    "trainer = SFTTrainer(\n",
    "    model=model,\n",
    "    args=training_arguments,\n",
    "    train_dataset=train_data,\n",
    "    eval_dataset=val_data,\n",
    "    peft_config=peft_config,\n",
    "    dataset_text_field=\"text\",\n",
    "    tokenizer=tokenizer,\n",
    "    max_seq_length=256,\n",
    "    packing=False,\n",
    "    dataset_kwargs={\n",
    "    \"add_special_tokens\": False,\n",
    "    \"append_concat_token\": False,\n",
    "    }\n",
    ")"
   ]
  },
  {
   "cell_type": "code",
   "execution_count": 49,
   "id": "450c363a",
   "metadata": {
    "execution": {
     "iopub.execute_input": "2024-10-02T15:58:39.657119Z",
     "iopub.status.busy": "2024-10-02T15:58:39.656067Z",
     "iopub.status.idle": "2024-10-02T16:36:00.925711Z",
     "shell.execute_reply": "2024-10-02T16:36:00.924688Z"
    },
    "papermill": {
     "duration": 2241.30252,
     "end_time": "2024-10-02T16:36:00.927784",
     "exception": false,
     "start_time": "2024-10-02T15:58:39.625264",
     "status": "completed"
    },
    "tags": []
   },
   "outputs": [
    {
     "name": "stderr",
     "output_type": "stream",
     "text": [
      "\u001b[34m\u001b[1mwandb\u001b[0m: \u001b[33mWARNING\u001b[0m The `run_name` is currently set to the same value as `TrainingArguments.output_dir`. If this was not intended, please specify a different run name by setting the `TrainingArguments.run_name` parameter.\n",
      "`use_cache=True` is incompatible with gradient checkpointing. Setting `use_cache=False`.\n",
      "/opt/conda/lib/python3.10/site-packages/torch/_dynamo/eval_frame.py:600: UserWarning: torch.utils.checkpoint: the use_reentrant parameter should be passed explicitly. In version 2.4 we will raise an exception if use_reentrant is not passed. use_reentrant=False is recommended, but if you need to preserve the current default behavior, you can pass use_reentrant=True. Refer to docs for more details on the differences between the two variants.\n",
      "  return fn(*args, **kwargs)\n",
      "/opt/conda/lib/python3.10/site-packages/torch/utils/checkpoint.py:295: FutureWarning: `torch.cpu.amp.autocast(args...)` is deprecated. Please use `torch.amp.autocast('cpu', args...)` instead.\n",
      "  with torch.enable_grad(), device_autocast_ctx, torch.cpu.amp.autocast(**ctx.cpu_autocast_kwargs):  # type: ignore[attr-defined]\n"
     ]
    },
    {
     "data": {
      "text/html": [
       "\n",
       "    <div>\n",
       "      \n",
       "      <progress value='100' max='100' style='width:300px; height:20px; vertical-align: middle;'></progress>\n",
       "      [100/100 37:00, Epoch 1/1]\n",
       "    </div>\n",
       "    <table border=\"1\" class=\"dataframe\">\n",
       "  <thead>\n",
       " <tr style=\"text-align: left;\">\n",
       "      <th>Step</th>\n",
       "      <th>Training Loss</th>\n",
       "      <th>Validation Loss</th>\n",
       "    </tr>\n",
       "  </thead>\n",
       "  <tbody>\n",
       "    <tr>\n",
       "      <td>20</td>\n",
       "      <td>0.727100</td>\n",
       "      <td>0.710903</td>\n",
       "    </tr>\n",
       "    <tr>\n",
       "      <td>40</td>\n",
       "      <td>0.734500</td>\n",
       "      <td>0.685874</td>\n",
       "    </tr>\n",
       "    <tr>\n",
       "      <td>60</td>\n",
       "      <td>0.801200</td>\n",
       "      <td>0.675224</td>\n",
       "    </tr>\n",
       "    <tr>\n",
       "      <td>80</td>\n",
       "      <td>0.614100</td>\n",
       "      <td>0.668050</td>\n",
       "    </tr>\n",
       "    <tr>\n",
       "      <td>100</td>\n",
       "      <td>0.721600</td>\n",
       "      <td>0.666458</td>\n",
       "    </tr>\n",
       "  </tbody>\n",
       "</table><p>"
      ],
      "text/plain": [
       "<IPython.core.display.HTML object>"
      ]
     },
     "metadata": {},
     "output_type": "display_data"
    },
    {
     "data": {
      "text/plain": [
       "TrainOutput(global_step=100, training_loss=0.7332472288608551, metrics={'train_runtime': 2240.2731, 'train_samples_per_second': 0.357, 'train_steps_per_second': 0.045, 'total_flos': 9260595338305536.0, 'train_loss': 0.7332472288608551, 'epoch': 1.0})"
      ]
     },
     "execution_count": 49,
     "metadata": {},
     "output_type": "execute_result"
    }
   ],
   "source": [
    "# Train model\n",
    "trainer.train()"
   ]
  },
  {
   "cell_type": "code",
   "execution_count": 50,
   "id": "b462dfca",
   "metadata": {
    "execution": {
     "iopub.execute_input": "2024-10-02T16:36:00.993571Z",
     "iopub.status.busy": "2024-10-02T16:36:00.992701Z",
     "iopub.status.idle": "2024-10-02T16:36:02.570128Z",
     "shell.execute_reply": "2024-10-02T16:36:02.569169Z"
    },
    "papermill": {
     "duration": 1.612415,
     "end_time": "2024-10-02T16:36:02.572128",
     "exception": false,
     "start_time": "2024-10-02T16:36:00.959713",
     "status": "completed"
    },
    "tags": []
   },
   "outputs": [
    {
     "name": "stderr",
     "output_type": "stream",
     "text": [
      "\u001b[34m\u001b[1mwandb\u001b[0m:                                                                                \n",
      "\u001b[34m\u001b[1mwandb\u001b[0m: \n",
      "\u001b[34m\u001b[1mwandb\u001b[0m: Run history:\n",
      "\u001b[34m\u001b[1mwandb\u001b[0m:               eval/loss █▄▂▁▁\n",
      "\u001b[34m\u001b[1mwandb\u001b[0m:            eval/runtime ▇▇▆▁█\n",
      "\u001b[34m\u001b[1mwandb\u001b[0m: eval/samples_per_second ▁▁▁█▁\n",
      "\u001b[34m\u001b[1mwandb\u001b[0m:   eval/steps_per_second ▁▁▁▁▁\n",
      "\u001b[34m\u001b[1mwandb\u001b[0m:             train/epoch ▁▁▁▁▁▂▂▂▂▂▃▃▃▃▃▃▄▄▄▄▄▄▄▅▅▅▅▆▆▆▆▇▇▇▇▇▇███\n",
      "\u001b[34m\u001b[1mwandb\u001b[0m:       train/global_step ▁▁▁▁▂▂▂▂▂▃▃▃▃▄▄▄▄▄▅▅▅▅▅▆▆▆▆▆▆▆▆▇▇▇▇▇▇███\n",
      "\u001b[34m\u001b[1mwandb\u001b[0m:         train/grad_norm ▂▄▃▃█▃▅▃▂▂▃▂▂▄▂▁▂▂▂▁▁▂▂▂▁▃▂▂▁▁▂▁▂▃▂▃▂▁▂▂\n",
      "\u001b[34m\u001b[1mwandb\u001b[0m:     train/learning_rate ▃▆████████▇▇▇▆▆▅▅▅▄▄▄▃▃▃▂▂▂▂▂▂▂▁▁▁▁▁▁▁▁▁\n",
      "\u001b[34m\u001b[1mwandb\u001b[0m:              train/loss ██▇▄▃▃▂▃▂▂▂▃▁▁▂▂▁▁▃▂▂▂▁▃▁▃▂▂▁▂▁▁▂▂▁▁▁▂▁▁\n",
      "\u001b[34m\u001b[1mwandb\u001b[0m: \n",
      "\u001b[34m\u001b[1mwandb\u001b[0m: Run summary:\n",
      "\u001b[34m\u001b[1mwandb\u001b[0m:                eval/loss 0.66646\n",
      "\u001b[34m\u001b[1mwandb\u001b[0m:             eval/runtime 55.0994\n",
      "\u001b[34m\u001b[1mwandb\u001b[0m:  eval/samples_per_second 1.815\n",
      "\u001b[34m\u001b[1mwandb\u001b[0m:    eval/steps_per_second 0.236\n",
      "\u001b[34m\u001b[1mwandb\u001b[0m:               total_flos 9260595338305536.0\n",
      "\u001b[34m\u001b[1mwandb\u001b[0m:              train/epoch 1\n",
      "\u001b[34m\u001b[1mwandb\u001b[0m:        train/global_step 100\n",
      "\u001b[34m\u001b[1mwandb\u001b[0m:          train/grad_norm 0.46709\n",
      "\u001b[34m\u001b[1mwandb\u001b[0m:      train/learning_rate 0\n",
      "\u001b[34m\u001b[1mwandb\u001b[0m:               train/loss 0.7216\n",
      "\u001b[34m\u001b[1mwandb\u001b[0m:               train_loss 0.73325\n",
      "\u001b[34m\u001b[1mwandb\u001b[0m:            train_runtime 2240.2731\n",
      "\u001b[34m\u001b[1mwandb\u001b[0m: train_samples_per_second 0.357\n",
      "\u001b[34m\u001b[1mwandb\u001b[0m:   train_steps_per_second 0.045\n",
      "\u001b[34m\u001b[1mwandb\u001b[0m: \n",
      "\u001b[34m\u001b[1mwandb\u001b[0m: 🚀 View run \u001b[33mwhole-forest-16\u001b[0m at: \u001b[34m\u001b[4mhttps://wandb.ai/cse-mahmud-evan-ccn-university-of-science-and-technology/Fine-tune%20llama-3.1-8b-it%20on%20Newspaper%20Dataset/runs/81l3fzqb\u001b[0m\n",
      "\u001b[34m\u001b[1mwandb\u001b[0m: ⭐️ View project at: \u001b[34m\u001b[4mhttps://wandb.ai/cse-mahmud-evan-ccn-university-of-science-and-technology/Fine-tune%20llama-3.1-8b-it%20on%20Newspaper%20Dataset\u001b[0m\n",
      "\u001b[34m\u001b[1mwandb\u001b[0m: Synced 5 W&B file(s), 0 media file(s), 0 artifact file(s) and 0 other file(s)\n",
      "\u001b[34m\u001b[1mwandb\u001b[0m: Find logs at: \u001b[35m\u001b[1m./wandb/run-20241002_154453-81l3fzqb/logs\u001b[0m\n"
     ]
    }
   ],
   "source": [
    "wandb.finish()\n",
    "model.config.use_cache = True"
   ]
  },
  {
   "cell_type": "code",
   "execution_count": 51,
   "id": "f303d0a4",
   "metadata": {
    "execution": {
     "iopub.execute_input": "2024-10-02T16:36:02.637867Z",
     "iopub.status.busy": "2024-10-02T16:36:02.637209Z",
     "iopub.status.idle": "2024-10-02T16:36:03.569209Z",
     "shell.execute_reply": "2024-10-02T16:36:03.568064Z"
    },
    "papermill": {
     "duration": 0.967082,
     "end_time": "2024-10-02T16:36:03.571302",
     "exception": false,
     "start_time": "2024-10-02T16:36:02.604220",
     "status": "completed"
    },
    "tags": []
   },
   "outputs": [
    {
     "data": {
      "text/plain": [
       "('llama-3.1 8b model/tokenizer_config.json',\n",
       " 'llama-3.1 8b model/special_tokens_map.json',\n",
       " 'llama-3.1 8b model/tokenizer.json')"
      ]
     },
     "execution_count": 51,
     "metadata": {},
     "output_type": "execute_result"
    }
   ],
   "source": [
    "#Save Train Model and Tokenizer\n",
    "trainer.save_model(output_dir)\n",
    "tokenizer.save_pretrained(output_dir)"
   ]
  },
  {
   "cell_type": "code",
   "execution_count": 52,
   "id": "becf0694",
   "metadata": {
    "execution": {
     "iopub.execute_input": "2024-10-02T16:36:03.635790Z",
     "iopub.status.busy": "2024-10-02T16:36:03.635438Z",
     "iopub.status.idle": "2024-10-02T16:47:24.701745Z",
     "shell.execute_reply": "2024-10-02T16:47:24.700712Z"
    },
    "papermill": {
     "duration": 681.101012,
     "end_time": "2024-10-02T16:47:24.704119",
     "exception": false,
     "start_time": "2024-10-02T16:36:03.603107",
     "status": "completed"
    },
    "tags": []
   },
   "outputs": [
    {
     "name": "stderr",
     "output_type": "stream",
     "text": [
      "100%|██████████| 100/100 [11:21<00:00,  6.81s/it]\n"
     ]
    }
   ],
   "source": [
    "y_pred = predict(X_test, model, tokenizer)"
   ]
  },
  {
   "cell_type": "code",
   "execution_count": 53,
   "id": "45b723a0",
   "metadata": {
    "execution": {
     "iopub.execute_input": "2024-10-02T16:47:24.784841Z",
     "iopub.status.busy": "2024-10-02T16:47:24.784507Z",
     "iopub.status.idle": "2024-10-02T16:47:24.807742Z",
     "shell.execute_reply": "2024-10-02T16:47:24.806504Z"
    },
    "papermill": {
     "duration": 0.065856,
     "end_time": "2024-10-02T16:47:24.809850",
     "exception": false,
     "start_time": "2024-10-02T16:47:24.743994",
     "status": "completed"
    },
    "tags": []
   },
   "outputs": [
    {
     "name": "stdout",
     "output_type": "stream",
     "text": [
      "Accuracy: 0.410\n",
      "Accuracy for label bangladesh: 0.000\n",
      "Accuracy for label sports: 0.600\n",
      "Accuracy for label technology: 0.400\n",
      "Accuracy for label entertainment: 0.700\n",
      "Accuracy for label international: 0.000\n",
      "Accuracy for label economy: 1.000\n",
      "Accuracy for label life-style: 0.389\n",
      "Accuracy for label opinion: 0.917\n",
      "Accuracy for label education: 0.077\n",
      "\n",
      "Classification Report:\n",
      "               precision    recall  f1-score   support\n",
      "\n",
      "   bangladesh       0.00      0.00      0.00        15\n",
      "       sports       0.86      0.60      0.71        10\n",
      "   technology       0.40      0.40      0.40         5\n",
      "entertainment       0.88      0.70      0.78        10\n",
      "international       0.00      0.00      0.00        10\n",
      "      economy       0.70      1.00      0.82         7\n",
      "   life-style       0.88      0.39      0.54        18\n",
      "      opinion       0.20      0.92      0.33        12\n",
      "    education       1.00      0.08      0.14        13\n",
      "\n",
      "    micro avg       0.44      0.41      0.42       100\n",
      "    macro avg       0.55      0.45      0.41       100\n",
      " weighted avg       0.55      0.41      0.38       100\n",
      "\n",
      "\n",
      "Confusion Matrix:\n",
      "[[ 0  1  0  0  0  2  1 10  0]\n",
      " [ 0  6  0  1  0  0  0  3  0]\n",
      " [ 0  0  2  0  0  1  0  2  0]\n",
      " [ 0  0  0  7  0  0  0  3  0]\n",
      " [ 0  0  2  0  0  0  0  8  0]\n",
      " [ 0  0  0  0  0  7  0  0  0]\n",
      " [ 0  0  0  0  0  0  7 10  0]\n",
      " [ 0  0  0  0  0  0  0 11  0]\n",
      " [ 0  0  1  0  0  0  0  7  1]]\n"
     ]
    },
    {
     "name": "stderr",
     "output_type": "stream",
     "text": [
      "/opt/conda/lib/python3.10/site-packages/sklearn/metrics/_classification.py:1344: UndefinedMetricWarning: Precision and F-score are ill-defined and being set to 0.0 in labels with no predicted samples. Use `zero_division` parameter to control this behavior.\n",
      "  _warn_prf(average, modifier, msg_start, len(result))\n",
      "/opt/conda/lib/python3.10/site-packages/sklearn/metrics/_classification.py:1344: UndefinedMetricWarning: Precision and F-score are ill-defined and being set to 0.0 in labels with no predicted samples. Use `zero_division` parameter to control this behavior.\n",
      "  _warn_prf(average, modifier, msg_start, len(result))\n",
      "/opt/conda/lib/python3.10/site-packages/sklearn/metrics/_classification.py:1344: UndefinedMetricWarning: Precision and F-score are ill-defined and being set to 0.0 in labels with no predicted samples. Use `zero_division` parameter to control this behavior.\n",
      "  _warn_prf(average, modifier, msg_start, len(result))\n"
     ]
    }
   ],
   "source": [
    "evaluate(y_true, y_pred)"
   ]
  },
  {
   "cell_type": "code",
   "execution_count": 54,
   "id": "f5da7714",
   "metadata": {
    "execution": {
     "iopub.execute_input": "2024-10-02T16:47:24.890730Z",
     "iopub.status.busy": "2024-10-02T16:47:24.890418Z",
     "iopub.status.idle": "2024-10-02T16:47:25.413880Z",
     "shell.execute_reply": "2024-10-02T16:47:25.412970Z"
    },
    "papermill": {
     "duration": 0.566885,
     "end_time": "2024-10-02T16:47:25.416176",
     "exception": false,
     "start_time": "2024-10-02T16:47:24.849291",
     "status": "completed"
    },
    "tags": []
   },
   "outputs": [
    {
     "data": {
      "image/png": "[encoded data removed]",
      "text/plain": [
       "<Figure size 800x600 with 2 Axes>"
      ]
     },
     "metadata": {},
     "output_type": "display_data"
    }
   ],
   "source": [
    "from sklearn.metrics import classification_report, confusion_matrix\n",
    "import matplotlib.pyplot as plt\n",
    "import seaborn as sns\n",
    "\n",
    "cm = confusion_matrix(y_true, y_pred)\n",
    "\n",
    "# Plot confusion matrix\n",
    "plt.figure(figsize=(8, 6))\n",
    "sns.heatmap(cm, annot=True, fmt='d', cmap='Blues')\n",
    "plt.xlabel('Predicted')\n",
    "plt.ylabel('True')\n",
    "plt.title('Confusion Matrix')\n",
    "plt.show()"
   ]
  },
  {
   "cell_type": "code",
   "execution_count": 55,
   "id": "f46133cf",
   "metadata": {
    "execution": {
     "iopub.execute_input": "2024-10-02T16:47:25.497764Z",
     "iopub.status.busy": "2024-10-02T16:47:25.497434Z",
     "iopub.status.idle": "2024-10-02T16:47:25.501739Z",
     "shell.execute_reply": "2024-10-02T16:47:25.500839Z"
    },
    "papermill": {
     "duration": 0.047104,
     "end_time": "2024-10-02T16:47:25.503672",
     "exception": false,
     "start_time": "2024-10-02T16:47:25.456568",
     "status": "completed"
    },
    "tags": []
   },
   "outputs": [],
   "source": [
    "from sklearn.metrics import confusion_matrix, classification_report, accuracy_score, roc_curve, auc\n",
    "import matplotlib.pyplot as plt\n"
   ]
  },
  {
   "cell_type": "code",
   "execution_count": null,
   "id": "0ce7e1f1",
   "metadata": {
    "papermill": {
     "duration": 0.039763,
     "end_time": "2024-10-02T16:47:25.583350",
     "exception": false,
     "start_time": "2024-10-02T16:47:25.543587",
     "status": "completed"
    },
    "tags": []
   },
   "outputs": [],
   "source": []
  },
  {
   "cell_type": "code",
   "execution_count": null,
   "id": "bda3d3c4",
   "metadata": {
    "papermill": {
     "duration": 0.039754,
     "end_time": "2024-10-02T16:47:25.663005",
     "exception": false,
     "start_time": "2024-10-02T16:47:25.623251",
     "status": "completed"
    },
    "tags": []
   },
   "outputs": [],
   "source": []
  }
 ],
 "metadata": {
  "kaggle": {
   "accelerator": "gpu",
   "dataSources": [
    {
     "datasetId": 258862,
     "sourceId": 1576225,
     "sourceType": "datasetVersion"
    },
    {
     "sourceId": 199104058,
     "sourceType": "kernelVersion"
    },
    {
     "modelId": 91102,
     "modelInstanceId": 68809,
     "sourceId": 81881,
     "sourceType": "modelInstanceVersion"
    },
    {
     "modelId": 91102,
     "modelInstanceId": 68809,
     "sourceId": 104449,
     "sourceType": "modelInstanceVersion"
    }
   ],
   "isGpuEnabled": true,
   "isInternetEnabled": true,
   "language": "python",
   "sourceType": "notebook"
  },
  "kernelspec": {
   "display_name": "Python 3",
   "language": "python",
   "name": "python3"
  },
  "language_info": {
   "codemirror_mode": {
    "name": "ipython",
    "version": 3
   },
   "file_extension": ".py",
   "mimetype": "text/x-python",
   "name": "python",
   "nbconvert_exporter": "python",
   "pygments_lexer": "ipython3",
   "version": "3.10.14"
  },
  "papermill": {
   "default_parameters": {},
   "duration": 3848.144806,
   "end_time": "2024-10-02T16:47:28.724276",
   "environment_variables": {},
   "exception": null,
   "input_path": "__notebook__.ipynb",
   "output_path": "__notebook__.ipynb",
   "parameters": {},
   "start_time": "2024-10-02T15:43:20.579470",
   "version": "2.6.0"
  },
  "widgets": {
   "application/vnd.jupyter.widget-state+json": {
    "state": {
     "040c458b68f443358ea535bfd8741808": {
      "model_module": "@jupyter-widgets/controls",
      "model_module_version": "1.5.0",
      "model_name": "HTMLModel",
      "state": {
       "_dom_classes": [],
       "_model_module": "@jupyter-widgets/controls",
       "_model_module_version": "1.5.0",
       "_model_name": "HTMLModel",
       "_view_count": null,
       "_view_module": "@jupyter-widgets/controls",
       "_view_module_version": "1.5.0",
       "_view_name": "HTMLView",
       "description": "",
       "description_tooltip": null,
       "layout": "IPY_MODEL_918f449cf7bf4fa682704e1b20b19621",
       "placeholder": "​",
       "style": "IPY_MODEL_124d1cfd2a8b4b2191b5849aa86ab8ac",
       "value": "Loading checkpoint shards: 100%"
      }
     },
     "098c566f3b934331bd33789d76d7ce7d": {
      "model_module": "@jupyter-widgets/controls",
      "model_module_version": "1.5.0",
      "model_name": "DescriptionStyleModel",
      "state": {
       "_model_module": "@jupyter-widgets/controls",
       "_model_module_version": "1.5.0",
       "_model_name": "DescriptionStyleModel",
       "_view_count": null,
       "_view_module": "@jupyter-widgets/base",
       "_view_module_version": "1.2.0",
       "_view_name": "StyleView",
       "description_width": ""
      }
     },
     "124d1cfd2a8b4b2191b5849aa86ab8ac": {
      "model_module": "@jupyter-widgets/controls",
      "model_module_version": "1.5.0",
      "model_name": "DescriptionStyleModel",
      "state": {
       "_model_module": "@jupyter-widgets/controls",
       "_model_module_version": "1.5.0",
       "_model_name": "DescriptionStyleModel",
       "_view_count": null,
       "_view_module": "@jupyter-widgets/base",
       "_view_module_version": "1.2.0",
       "_view_name": "StyleView",
       "description_width": ""
      }
     },
     "17016783f43849b6ab36c44276982e1c": {
      "model_module": "@jupyter-widgets/base",
      "model_module_version": "1.2.0",
      "model_name": "LayoutModel",
      "state": {
       "_model_module": "@jupyter-widgets/base",
       "_model_module_version": "1.2.0",
       "_model_name": "LayoutModel",
       "_view_count": null,
       "_view_module": "@jupyter-widgets/base",
       "_view_module_version": "1.2.0",
       "_view_name": "LayoutView",
       "align_content": null,
       "align_items": null,
       "align_self": null,
       "border": null,
       "bottom": null,
       "display": null,
       "flex": null,
       "flex_flow": null,
       "grid_area": null,
       "grid_auto_columns": null,
       "grid_auto_flow": null,
       "grid_auto_rows": null,
       "grid_column": null,
       "grid_gap": null,
       "grid_row": null,
       "grid_template_areas": null,
       "grid_template_columns": null,
       "grid_template_rows": null,
       "height": null,
       "justify_content": null,
       "justify_items": null,
       "left": null,
       "margin": null,
       "max_height": null,
       "max_width": null,
       "min_height": null,
       "min_width": null,
       "object_fit": null,
       "object_position": null,
       "order": null,
       "overflow": null,
       "overflow_x": null,
       "overflow_y": null,
       "padding": null,
       "right": null,
       "top": null,
       "visibility": null,
       "width": null
      }
     },
     "34e165ad5f5b4fd3b4113e47c02285cd": {
      "model_module": "@jupyter-widgets/base",
      "model_module_version": "1.2.0",
      "model_name": "LayoutModel",
      "state": {
       "_model_module": "@jupyter-widgets/base",
       "_model_module_version": "1.2.0",
       "_model_name": "LayoutModel",
       "_view_count": null,
       "_view_module": "@jupyter-widgets/base",
       "_view_module_version": "1.2.0",
       "_view_name": "LayoutView",
       "align_content": null,
       "align_items": null,
       "align_self": null,
       "border": null,
       "bottom": null,
       "display": null,
       "flex": null,
       "flex_flow": null,
       "grid_area": null,
       "grid_auto_columns": null,
       "grid_auto_flow": null,
       "grid_auto_rows": null,
       "grid_column": null,
       "grid_gap": null,
       "grid_row": null,
       "grid_template_areas": null,
       "grid_template_columns": null,
       "grid_template_rows": null,
       "height": null,
       "justify_content": null,
       "justify_items": null,
       "left": null,
       "margin": null,
       "max_height": null,
       "max_width": null,
       "min_height": null,
       "min_width": null,
       "object_fit": null,
       "object_position": null,
       "order": null,
       "overflow": null,
       "overflow_x": null,
       "overflow_y": null,
       "padding": null,
       "right": null,
       "top": null,
       "visibility": null,
       "width": null
      }
     },
     "3940de7437054480bfebf3e706332a30": {
      "model_module": "@jupyter-widgets/base",
      "model_module_version": "1.2.0",
      "model_name": "LayoutModel",
      "state": {
       "_model_module": "@jupyter-widgets/base",
       "_model_module_version": "1.2.0",
       "_model_name": "LayoutModel",
       "_view_count": null,
       "_view_module": "@jupyter-widgets/base",
       "_view_module_version": "1.2.0",
       "_view_name": "LayoutView",
       "align_content": null,
       "align_items": null,
       "align_self": null,
       "border": null,
       "bottom": null,
       "display": null,
       "flex": null,
       "flex_flow": null,
       "grid_area": null,
       "grid_auto_columns": null,
       "grid_auto_flow": null,
       "grid_auto_rows": null,
       "grid_column": null,
       "grid_gap": null,
       "grid_row": null,
       "grid_template_areas": null,
       "grid_template_columns": null,
       "grid_template_rows": null,
       "height": null,
       "justify_content": null,
       "justify_items": null,
       "left": null,
       "margin": null,
       "max_height": null,
       "max_width": null,
       "min_height": null,
       "min_width": null,
       "object_fit": null,
       "object_position": null,
       "order": null,
       "overflow": null,
       "overflow_x": null,
       "overflow_y": null,
       "padding": null,
       "right": null,
       "top": null,
       "visibility": null,
       "width": null
      }
     },
     "3ce676eaa4c8436ca34abae85b6ae27d": {
      "model_module": "@jupyter-widgets/base",
      "model_module_version": "1.2.0",
      "model_name": "LayoutModel",
      "state": {
       "_model_module": "@jupyter-widgets/base",
       "_model_module_version": "1.2.0",
       "_model_name": "LayoutModel",
       "_view_count": null,
       "_view_module": "@jupyter-widgets/base",
       "_view_module_version": "1.2.0",
       "_view_name": "LayoutView",
       "align_content": null,
       "align_items": null,
       "align_self": null,
       "border": null,
       "bottom": null,
       "display": null,
       "flex": null,
       "flex_flow": null,
       "grid_area": null,
       "grid_auto_columns": null,
       "grid_auto_flow": null,
       "grid_auto_rows": null,
       "grid_column": null,
       "grid_gap": null,
       "grid_row": null,
       "grid_template_areas": null,
       "grid_template_columns": null,
       "grid_template_rows": null,
       "height": null,
       "justify_content": null,
       "justify_items": null,
       "left": null,
       "margin": null,
       "max_height": null,
       "max_width": null,
       "min_height": null,
       "min_width": null,
       "object_fit": null,
       "object_position": null,
       "order": null,
       "overflow": null,
       "overflow_x": null,
       "overflow_y": null,
       "padding": null,
       "right": null,
       "top": null,
       "visibility": null,
       "width": null
      }
     },
     "4662bdd4e36b400a967b2c9844133450": {
      "model_module": "@jupyter-widgets/controls",
      "model_module_version": "1.5.0",
      "model_name": "FloatProgressModel",
      "state": {
       "_dom_classes": [],
       "_model_module": "@jupyter-widgets/controls",
       "_model_module_version": "1.5.0",
       "_model_name": "FloatProgressModel",
       "_view_count": null,
       "_view_module": "@jupyter-widgets/controls",
       "_view_module_version": "1.5.0",
       "_view_name": "ProgressView",
       "bar_style": "success",
       "description": "",
       "description_tooltip": null,
       "layout": "IPY_MODEL_b5c425c216234cd3a6c261906425ff6c",
       "max": 100.0,
       "min": 0.0,
       "orientation": "horizontal",
       "style": "IPY_MODEL_8f89d3aa3807479aa5e1017f8759e33e",
       "value": 100.0
      }
     },
     "64ddb620a7ac4abf9b896c4523803ff6": {
      "model_module": "@jupyter-widgets/controls",
      "model_module_version": "1.5.0",
      "model_name": "HTMLModel",
      "state": {
       "_dom_classes": [],
       "_model_module": "@jupyter-widgets/controls",
       "_model_module_version": "1.5.0",
       "_model_name": "HTMLModel",
       "_view_count": null,
       "_view_module": "@jupyter-widgets/controls",
       "_view_module_version": "1.5.0",
       "_view_name": "HTMLView",
       "description": "",
       "description_tooltip": null,
       "layout": "IPY_MODEL_f8d7e7d520f24835b338c577d679e0a8",
       "placeholder": "​",
       "style": "IPY_MODEL_91bc9408041942d3b663a5f183a02624",
       "value": " 4/4 [01:19&lt;00:00, 17.12s/it]"
      }
     },
     "6831e3eb32ef4aac98ae80ff98a3065f": {
      "model_module": "@jupyter-widgets/base",
      "model_module_version": "1.2.0",
      "model_name": "LayoutModel",
      "state": {
       "_model_module": "@jupyter-widgets/base",
       "_model_module_version": "1.2.0",
       "_model_name": "LayoutModel",
       "_view_count": null,
       "_view_module": "@jupyter-widgets/base",
       "_view_module_version": "1.2.0",
       "_view_name": "LayoutView",
       "align_content": null,
       "align_items": null,
       "align_self": null,
       "border": null,
       "bottom": null,
       "display": null,
       "flex": null,
       "flex_flow": null,
       "grid_area": null,
       "grid_auto_columns": null,
       "grid_auto_flow": null,
       "grid_auto_rows": null,
       "grid_column": null,
       "grid_gap": null,
       "grid_row": null,
       "grid_template_areas": null,
       "grid_template_columns": null,
       "grid_template_rows": null,
       "height": null,
       "justify_content": null,
       "justify_items": null,
       "left": null,
       "margin": null,
       "max_height": null,
       "max_width": null,
       "min_height": null,
       "min_width": null,
       "object_fit": null,
       "object_position": null,
       "order": null,
       "overflow": null,
       "overflow_x": null,
       "overflow_y": null,
       "padding": null,
       "right": null,
       "top": null,
       "visibility": null,
       "width": null
      }
     },
     "6ef9ed7073ea4d34b46807844888701b": {
      "model_module": "@jupyter-widgets/controls",
      "model_module_version": "1.5.0",
      "model_name": "ProgressStyleModel",
      "state": {
       "_model_module": "@jupyter-widgets/controls",
       "_model_module_version": "1.5.0",
       "_model_name": "ProgressStyleModel",
       "_view_count": null,
       "_view_module": "@jupyter-widgets/base",
       "_view_module_version": "1.2.0",
       "_view_name": "StyleView",
       "bar_color": null,
       "description_width": ""
      }
     },
     "7184af5466524cd9b60686622bf988e9": {
      "model_module": "@jupyter-widgets/controls",
      "model_module_version": "1.5.0",
      "model_name": "FloatProgressModel",
      "state": {
       "_dom_classes": [],
       "_model_module": "@jupyter-widgets/controls",
       "_model_module_version": "1.5.0",
       "_model_name": "FloatProgressModel",
       "_view_count": null,
       "_view_module": "@jupyter-widgets/controls",
       "_view_module_version": "1.5.0",
       "_view_name": "ProgressView",
       "bar_style": "success",
       "description": "",
       "description_tooltip": null,
       "layout": "IPY_MODEL_17016783f43849b6ab36c44276982e1c",
       "max": 800.0,
       "min": 0.0,
       "orientation": "horizontal",
       "style": "IPY_MODEL_6ef9ed7073ea4d34b46807844888701b",
       "value": 800.0
      }
     },
     "7d7a88d34511423f903edd9d18aa11e9": {
      "model_module": "@jupyter-widgets/base",
      "model_module_version": "1.2.0",
      "model_name": "LayoutModel",
      "state": {
       "_model_module": "@jupyter-widgets/base",
       "_model_module_version": "1.2.0",
       "_model_name": "LayoutModel",
       "_view_count": null,
       "_view_module": "@jupyter-widgets/base",
       "_view_module_version": "1.2.0",
       "_view_name": "LayoutView",
       "align_content": null,
       "align_items": null,
       "align_self": null,
       "border": null,
       "bottom": null,
       "display": null,
       "flex": null,
       "flex_flow": null,
       "grid_area": null,
       "grid_auto_columns": null,
       "grid_auto_flow": null,
       "grid_auto_rows": null,
       "grid_column": null,
       "grid_gap": null,
       "grid_row": null,
       "grid_template_areas": null,
       "grid_template_columns": null,
       "grid_template_rows": null,
       "height": null,
       "justify_content": null,
       "justify_items": null,
       "left": null,
       "margin": null,
       "max_height": null,
       "max_width": null,
       "min_height": null,
       "min_width": null,
       "object_fit": null,
       "object_position": null,
       "order": null,
       "overflow": null,
       "overflow_x": null,
       "overflow_y": null,
       "padding": null,
       "right": null,
       "top": null,
       "visibility": null,
       "width": null
      }
     },
     "8cdf175f715c48e28748f94599f1110c": {
      "model_module": "@jupyter-widgets/controls",
      "model_module_version": "1.5.0",
      "model_name": "HTMLModel",
      "state": {
       "_dom_classes": [],
       "_model_module": "@jupyter-widgets/controls",
       "_model_module_version": "1.5.0",
       "_model_name": "HTMLModel",
       "_view_count": null,
       "_view_module": "@jupyter-widgets/controls",
       "_view_module_version": "1.5.0",
       "_view_name": "HTMLView",
       "description": "",
       "description_tooltip": null,
       "layout": "IPY_MODEL_d7c6ad5d2efe4351b306da50e1af4317",
       "placeholder": "​",
       "style": "IPY_MODEL_a945487c37ac4088b23217563d53091a",
       "value": "Map: 100%"
      }
     },
     "8f89d3aa3807479aa5e1017f8759e33e": {
      "model_module": "@jupyter-widgets/controls",
      "model_module_version": "1.5.0",
      "model_name": "ProgressStyleModel",
      "state": {
       "_model_module": "@jupyter-widgets/controls",
       "_model_module_version": "1.5.0",
       "_model_name": "ProgressStyleModel",
       "_view_count": null,
       "_view_module": "@jupyter-widgets/base",
       "_view_module_version": "1.2.0",
       "_view_name": "StyleView",
       "bar_color": null,
       "description_width": ""
      }
     },
     "9161d2b118034cb599fafdae759b2b05": {
      "model_module": "@jupyter-widgets/controls",
      "model_module_version": "1.5.0",
      "model_name": "HBoxModel",
      "state": {
       "_dom_classes": [],
       "_model_module": "@jupyter-widgets/controls",
       "_model_module_version": "1.5.0",
       "_model_name": "HBoxModel",
       "_view_count": null,
       "_view_module": "@jupyter-widgets/controls",
       "_view_module_version": "1.5.0",
       "_view_name": "HBoxView",
       "box_style": "",
       "children": [
        "IPY_MODEL_8cdf175f715c48e28748f94599f1110c",
        "IPY_MODEL_4662bdd4e36b400a967b2c9844133450",
        "IPY_MODEL_e862e44e6ff743c6ae62d9d6e95e4f19"
       ],
       "layout": "IPY_MODEL_97a4211c5b6d4edd9a69476aed652b9b"
      }
     },
     "918f449cf7bf4fa682704e1b20b19621": {
      "model_module": "@jupyter-widgets/base",
      "model_module_version": "1.2.0",
      "model_name": "LayoutModel",
      "state": {
       "_model_module": "@jupyter-widgets/base",
       "_model_module_version": "1.2.0",
       "_model_name": "LayoutModel",
       "_view_count": null,
       "_view_module": "@jupyter-widgets/base",
       "_view_module_version": "1.2.0",
       "_view_name": "LayoutView",
       "align_content": null,
       "align_items": null,
       "align_self": null,
       "border": null,
       "bottom": null,
       "display": null,
       "flex": null,
       "flex_flow": null,
       "grid_area": null,
       "grid_auto_columns": null,
       "grid_auto_flow": null,
       "grid_auto_rows": null,
       "grid_column": null,
       "grid_gap": null,
       "grid_row": null,
       "grid_template_areas": null,
       "grid_template_columns": null,
       "grid_template_rows": null,
       "height": null,
       "justify_content": null,
       "justify_items": null,
       "left": null,
       "margin": null,
       "max_height": null,
       "max_width": null,
       "min_height": null,
       "min_width": null,
       "object_fit": null,
       "object_position": null,
       "order": null,
       "overflow": null,
       "overflow_x": null,
       "overflow_y": null,
       "padding": null,
       "right": null,
       "top": null,
       "visibility": null,
       "width": null
      }
     },
     "91bc9408041942d3b663a5f183a02624": {
      "model_module": "@jupyter-widgets/controls",
      "model_module_version": "1.5.0",
      "model_name": "DescriptionStyleModel",
      "state": {
       "_model_module": "@jupyter-widgets/controls",
       "_model_module_version": "1.5.0",
       "_model_name": "DescriptionStyleModel",
       "_view_count": null,
       "_view_module": "@jupyter-widgets/base",
       "_view_module_version": "1.2.0",
       "_view_name": "StyleView",
       "description_width": ""
      }
     },
     "97a4211c5b6d4edd9a69476aed652b9b": {
      "model_module": "@jupyter-widgets/base",
      "model_module_version": "1.2.0",
      "model_name": "LayoutModel",
      "state": {
       "_model_module": "@jupyter-widgets/base",
       "_model_module_version": "1.2.0",
       "_model_name": "LayoutModel",
       "_view_count": null,
       "_view_module": "@jupyter-widgets/base",
       "_view_module_version": "1.2.0",
       "_view_name": "LayoutView",
       "align_content": null,
       "align_items": null,
       "align_self": null,
       "border": null,
       "bottom": null,
       "display": null,
       "flex": null,
       "flex_flow": null,
       "grid_area": null,
       "grid_auto_columns": null,
       "grid_auto_flow": null,
       "grid_auto_rows": null,
       "grid_column": null,
       "grid_gap": null,
       "grid_row": null,
       "grid_template_areas": null,
       "grid_template_columns": null,
       "grid_template_rows": null,
       "height": null,
       "justify_content": null,
       "justify_items": null,
       "left": null,
       "margin": null,
       "max_height": null,
       "max_width": null,
       "min_height": null,
       "min_width": null,
       "object_fit": null,
       "object_position": null,
       "order": null,
       "overflow": null,
       "overflow_x": null,
       "overflow_y": null,
       "padding": null,
       "right": null,
       "top": null,
       "visibility": null,
       "width": null
      }
     },
     "9d019393150240a0bad0191296f4705f": {
      "model_module": "@jupyter-widgets/controls",
      "model_module_version": "1.5.0",
      "model_name": "HTMLModel",
      "state": {
       "_dom_classes": [],
       "_model_module": "@jupyter-widgets/controls",
       "_model_module_version": "1.5.0",
       "_model_name": "HTMLModel",
       "_view_count": null,
       "_view_module": "@jupyter-widgets/controls",
       "_view_module_version": "1.5.0",
       "_view_name": "HTMLView",
       "description": "",
       "description_tooltip": null,
       "layout": "IPY_MODEL_3ce676eaa4c8436ca34abae85b6ae27d",
       "placeholder": "​",
       "style": "IPY_MODEL_a6b04c06534f4dabb0231d293911af4e",
       "value": "Map: 100%"
      }
     },
     "a428ed73674a48209b04095fbfb2985c": {
      "model_module": "@jupyter-widgets/controls",
      "model_module_version": "1.5.0",
      "model_name": "HBoxModel",
      "state": {
       "_dom_classes": [],
       "_model_module": "@jupyter-widgets/controls",
       "_model_module_version": "1.5.0",
       "_model_name": "HBoxModel",
       "_view_count": null,
       "_view_module": "@jupyter-widgets/controls",
       "_view_module_version": "1.5.0",
       "_view_name": "HBoxView",
       "box_style": "",
       "children": [
        "IPY_MODEL_040c458b68f443358ea535bfd8741808",
        "IPY_MODEL_b514e59e55e14aa193a3793dd6d08543",
        "IPY_MODEL_64ddb620a7ac4abf9b896c4523803ff6"
       ],
       "layout": "IPY_MODEL_34e165ad5f5b4fd3b4113e47c02285cd"
      }
     },
     "a6b04c06534f4dabb0231d293911af4e": {
      "model_module": "@jupyter-widgets/controls",
      "model_module_version": "1.5.0",
      "model_name": "DescriptionStyleModel",
      "state": {
       "_model_module": "@jupyter-widgets/controls",
       "_model_module_version": "1.5.0",
       "_model_name": "DescriptionStyleModel",
       "_view_count": null,
       "_view_module": "@jupyter-widgets/base",
       "_view_module_version": "1.2.0",
       "_view_name": "StyleView",
       "description_width": ""
      }
     },
     "a7e644abcc1c46e7b2eb7060cb3326dc": {
      "model_module": "@jupyter-widgets/controls",
      "model_module_version": "1.5.0",
      "model_name": "ProgressStyleModel",
      "state": {
       "_model_module": "@jupyter-widgets/controls",
       "_model_module_version": "1.5.0",
       "_model_name": "ProgressStyleModel",
       "_view_count": null,
       "_view_module": "@jupyter-widgets/base",
       "_view_module_version": "1.2.0",
       "_view_name": "StyleView",
       "bar_color": null,
       "description_width": ""
      }
     },
     "a8aff2558af2467b9036921204f8b0eb": {
      "model_module": "@jupyter-widgets/base",
      "model_module_version": "1.2.0",
      "model_name": "LayoutModel",
      "state": {
       "_model_module": "@jupyter-widgets/base",
       "_model_module_version": "1.2.0",
       "_model_name": "LayoutModel",
       "_view_count": null,
       "_view_module": "@jupyter-widgets/base",
       "_view_module_version": "1.2.0",
       "_view_name": "LayoutView",
       "align_content": null,
       "align_items": null,
       "align_self": null,
       "border": null,
       "bottom": null,
       "display": null,
       "flex": null,
       "flex_flow": null,
       "grid_area": null,
       "grid_auto_columns": null,
       "grid_auto_flow": null,
       "grid_auto_rows": null,
       "grid_column": null,
       "grid_gap": null,
       "grid_row": null,
       "grid_template_areas": null,
       "grid_template_columns": null,
       "grid_template_rows": null,
       "height": null,
       "justify_content": null,
       "justify_items": null,
       "left": null,
       "margin": null,
       "max_height": null,
       "max_width": null,
       "min_height": null,
       "min_width": null,
       "object_fit": null,
       "object_position": null,
       "order": null,
       "overflow": null,
       "overflow_x": null,
       "overflow_y": null,
       "padding": null,
       "right": null,
       "top": null,
       "visibility": null,
       "width": null
      }
     },
     "a945487c37ac4088b23217563d53091a": {
      "model_module": "@jupyter-widgets/controls",
      "model_module_version": "1.5.0",
      "model_name": "DescriptionStyleModel",
      "state": {
       "_model_module": "@jupyter-widgets/controls",
       "_model_module_version": "1.5.0",
       "_model_name": "DescriptionStyleModel",
       "_view_count": null,
       "_view_module": "@jupyter-widgets/base",
       "_view_module_version": "1.2.0",
       "_view_name": "StyleView",
       "description_width": ""
      }
     },
     "b514e59e55e14aa193a3793dd6d08543": {
      "model_module": "@jupyter-widgets/controls",
      "model_module_version": "1.5.0",
      "model_name": "FloatProgressModel",
      "state": {
       "_dom_classes": [],
       "_model_module": "@jupyter-widgets/controls",
       "_model_module_version": "1.5.0",
       "_model_name": "FloatProgressModel",
       "_view_count": null,
       "_view_module": "@jupyter-widgets/controls",
       "_view_module_version": "1.5.0",
       "_view_name": "ProgressView",
       "bar_style": "success",
       "description": "",
       "description_tooltip": null,
       "layout": "IPY_MODEL_7d7a88d34511423f903edd9d18aa11e9",
       "max": 4.0,
       "min": 0.0,
       "orientation": "horizontal",
       "style": "IPY_MODEL_a7e644abcc1c46e7b2eb7060cb3326dc",
       "value": 4.0
      }
     },
     "b5c425c216234cd3a6c261906425ff6c": {
      "model_module": "@jupyter-widgets/base",
      "model_module_version": "1.2.0",
      "model_name": "LayoutModel",
      "state": {
       "_model_module": "@jupyter-widgets/base",
       "_model_module_version": "1.2.0",
       "_model_name": "LayoutModel",
       "_view_count": null,
       "_view_module": "@jupyter-widgets/base",
       "_view_module_version": "1.2.0",
       "_view_name": "LayoutView",
       "align_content": null,
       "align_items": null,
       "align_self": null,
       "border": null,
       "bottom": null,
       "display": null,
       "flex": null,
       "flex_flow": null,
       "grid_area": null,
       "grid_auto_columns": null,
       "grid_auto_flow": null,
       "grid_auto_rows": null,
       "grid_column": null,
       "grid_gap": null,
       "grid_row": null,
       "grid_template_areas": null,
       "grid_template_columns": null,
       "grid_template_rows": null,
       "height": null,
       "justify_content": null,
       "justify_items": null,
       "left": null,
       "margin": null,
       "max_height": null,
       "max_width": null,
       "min_height": null,
       "min_width": null,
       "object_fit": null,
       "object_position": null,
       "order": null,
       "overflow": null,
       "overflow_x": null,
       "overflow_y": null,
       "padding": null,
       "right": null,
       "top": null,
       "visibility": null,
       "width": null
      }
     },
     "cf9a3206bd6e471b84e91040a9fb1645": {
      "model_module": "@jupyter-widgets/controls",
      "model_module_version": "1.5.0",
      "model_name": "DescriptionStyleModel",
      "state": {
       "_model_module": "@jupyter-widgets/controls",
       "_model_module_version": "1.5.0",
       "_model_name": "DescriptionStyleModel",
       "_view_count": null,
       "_view_module": "@jupyter-widgets/base",
       "_view_module_version": "1.2.0",
       "_view_name": "StyleView",
       "description_width": ""
      }
     },
     "d69ee041e5f5467b96a0ae7c83d125e4": {
      "model_module": "@jupyter-widgets/controls",
      "model_module_version": "1.5.0",
      "model_name": "HTMLModel",
      "state": {
       "_dom_classes": [],
       "_model_module": "@jupyter-widgets/controls",
       "_model_module_version": "1.5.0",
       "_model_name": "HTMLModel",
       "_view_count": null,
       "_view_module": "@jupyter-widgets/controls",
       "_view_module_version": "1.5.0",
       "_view_name": "HTMLView",
       "description": "",
       "description_tooltip": null,
       "layout": "IPY_MODEL_a8aff2558af2467b9036921204f8b0eb",
       "placeholder": "​",
       "style": "IPY_MODEL_cf9a3206bd6e471b84e91040a9fb1645",
       "value": " 800/800 [00:01&lt;00:00, 505.64 examples/s]"
      }
     },
     "d7c6ad5d2efe4351b306da50e1af4317": {
      "model_module": "@jupyter-widgets/base",
      "model_module_version": "1.2.0",
      "model_name": "LayoutModel",
      "state": {
       "_model_module": "@jupyter-widgets/base",
       "_model_module_version": "1.2.0",
       "_model_name": "LayoutModel",
       "_view_count": null,
       "_view_module": "@jupyter-widgets/base",
       "_view_module_version": "1.2.0",
       "_view_name": "LayoutView",
       "align_content": null,
       "align_items": null,
       "align_self": null,
       "border": null,
       "bottom": null,
       "display": null,
       "flex": null,
       "flex_flow": null,
       "grid_area": null,
       "grid_auto_columns": null,
       "grid_auto_flow": null,
       "grid_auto_rows": null,
       "grid_column": null,
       "grid_gap": null,
       "grid_row": null,
       "grid_template_areas": null,
       "grid_template_columns": null,
       "grid_template_rows": null,
       "height": null,
       "justify_content": null,
       "justify_items": null,
       "left": null,
       "margin": null,
       "max_height": null,
       "max_width": null,
       "min_height": null,
       "min_width": null,
       "object_fit": null,
       "object_position": null,
       "order": null,
       "overflow": null,
       "overflow_x": null,
       "overflow_y": null,
       "padding": null,
       "right": null,
       "top": null,
       "visibility": null,
       "width": null
      }
     },
     "e862e44e6ff743c6ae62d9d6e95e4f19": {
      "model_module": "@jupyter-widgets/controls",
      "model_module_version": "1.5.0",
      "model_name": "HTMLModel",
      "state": {
       "_dom_classes": [],
       "_model_module": "@jupyter-widgets/controls",
       "_model_module_version": "1.5.0",
       "_model_name": "HTMLModel",
       "_view_count": null,
       "_view_module": "@jupyter-widgets/controls",
       "_view_module_version": "1.5.0",
       "_view_name": "HTMLView",
       "description": "",
       "description_tooltip": null,
       "layout": "IPY_MODEL_6831e3eb32ef4aac98ae80ff98a3065f",
       "placeholder": "​",
       "style": "IPY_MODEL_098c566f3b934331bd33789d76d7ce7d",
       "value": " 100/100 [00:00&lt;00:00, 414.90 examples/s]"
      }
     },
     "ef5ae5a1e9b64f17a35e1ff98d670c74": {
      "model_module": "@jupyter-widgets/controls",
      "model_module_version": "1.5.0",
      "model_name": "HBoxModel",
      "state": {
       "_dom_classes": [],
       "_model_module": "@jupyter-widgets/controls",
       "_model_module_version": "1.5.0",
       "_model_name": "HBoxModel",
       "_view_count": null,
       "_view_module": "@jupyter-widgets/controls",
       "_view_module_version": "1.5.0",
       "_view_name": "HBoxView",
       "box_style": "",
       "children": [
        "IPY_MODEL_9d019393150240a0bad0191296f4705f",
        "IPY_MODEL_7184af5466524cd9b60686622bf988e9",
        "IPY_MODEL_d69ee041e5f5467b96a0ae7c83d125e4"
       ],
       "layout": "IPY_MODEL_3940de7437054480bfebf3e706332a30"
      }
     },
     "f8d7e7d520f24835b338c577d679e0a8": {
      "model_module": "@jupyter-widgets/base",
      "model_module_version": "1.2.0",
      "model_name": "LayoutModel",
      "state": {
       "_model_module": "@jupyter-widgets/base",
       "_model_module_version": "1.2.0",
       "_model_name": "LayoutModel",
       "_view_count": null,
       "_view_module": "@jupyter-widgets/base",
       "_view_module_version": "1.2.0",
       "_view_name": "LayoutView",
       "align_content": null,
       "align_items": null,
       "align_self": null,
       "border": null,
       "bottom": null,
       "display": null,
       "flex": null,
       "flex_flow": null,
       "grid_area": null,
       "grid_auto_columns": null,
       "grid_auto_flow": null,
       "grid_auto_rows": null,
       "grid_column": null,
       "grid_gap": null,
       "grid_row": null,
       "grid_template_areas": null,
       "grid_template_columns": null,
       "grid_template_rows": null,
       "height": null,
       "justify_content": null,
       "justify_items": null,
       "left": null,
       "margin": null,
       "max_height": null,
       "max_width": null,
       "min_height": null,
       "min_width": null,
       "object_fit": null,
       "object_position": null,
       "order": null,
       "overflow": null,
       "overflow_x": null,
       "overflow_y": null,
       "padding": null,
       "right": null,
       "top": null,
       "visibility": null,
       "width": null
      }
     }
    },
    "version_major": 2,
    "version_minor": 0
   }
  }
 },
 "nbformat": 4,
 "nbformat_minor": 5
}
